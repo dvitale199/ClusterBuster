{
 "cells": [
  {
   "cell_type": "code",
   "execution_count": 1,
   "metadata": {},
   "outputs": [],
   "source": [
    "import pandas as pd\n",
    "import numpy as np\n",
    "import seaborn as sns\n",
    "import streamlit as st\n",
    "from clusterbuster import parse_report, calculate_maf\n",
    "\n",
    "import matplotlib.pyplot as plt\n",
    "import seaborn as sns; sns.set()\n",
    "import numpy as np\n",
    "import plotly.graph_objects as go"
   ]
  },
  {
   "cell_type": "markdown",
   "metadata": {},
   "source": [
    "Some info on the values:\n",
    "\n",
    "R values are the intensities. R for a sample is the sum of normalized X and Y (R= X+ Y)\n",
    "Theta is the B allele frequency and is calculated by: (2/pi)*arctan(normalized Y/ normalized X)\n",
    "\n",
    "BAF = Y / (X + Y)\n",
    "LRR = log2( (X + Y)sampleOfInterest / (X+Y)baselineSample)"
   ]
  },
  {
   "cell_type": "code",
   "execution_count": 2,
   "metadata": {},
   "outputs": [],
   "source": [
    "# first, need to subset the huge report to just snps of interest\n",
    "# report = pd.read_csv('F4SEttehadieh_P1_Genotyping_Report.txt', engine='c', sep='\\t', dtype={'Chr':str, 'position':int})\n",
    "# split by chromosome\n",
    "# for chrom in report.Chr.unique():\n",
    "#     report[report.Chr==chrom].to_csv(f'data/chr{chrom}_report.csv', header=True, index=False)\n",
    "\n",
    "# report[report['GenTrain Score']<0.15]\n",
    "# snps_df = pd.read_csv('prototyping/snps_of_interest_first_data.txt', engine='c')\n",
    "# report[report.Name.isin(snps_df.Name)].to_csv('data/cb_test_snps.txt', sep='\\t', index=False)"
   ]
  },
  {
   "cell_type": "code",
   "execution_count": 10,
   "metadata": {},
   "outputs": [],
   "source": [
    "report_in = pd.read_csv('../data/chr22_report.csv', engine='c', dtype={'Chr':str, 'position':int})\n",
    "\n",
    "report = parse_report(report_in, flag_maf=0.01, flag_gentrain=0.5)\n",
    "# test_report.keys()\n",
    "cb_df = report['clusterbuster_df']\n",
    "snps_df = report['flagged_snps']\n",
    "flagged = snps_df[snps_df.maf_flag & snps_df.gentrain_flag]\n",
    "\n"
   ]
  },
  {
   "cell_type": "code",
   "execution_count": 14,
   "metadata": {},
   "outputs": [
    {
     "data": {
      "text/html": [
       "<div>\n",
       "<style scoped>\n",
       "    .dataframe tbody tr th:only-of-type {\n",
       "        vertical-align: middle;\n",
       "    }\n",
       "\n",
       "    .dataframe tbody tr th {\n",
       "        vertical-align: top;\n",
       "    }\n",
       "\n",
       "    .dataframe thead th {\n",
       "        text-align: right;\n",
       "    }\n",
       "</style>\n",
       "<table border=\"1\" class=\"dataframe\">\n",
       "  <thead>\n",
       "    <tr style=\"text-align: right;\">\n",
       "      <th></th>\n",
       "      <th>index</th>\n",
       "      <th>snpid</th>\n",
       "      <th>maf</th>\n",
       "      <th>gentrain_score</th>\n",
       "      <th>maf_flag</th>\n",
       "      <th>gentrain_flag</th>\n",
       "    </tr>\n",
       "  </thead>\n",
       "  <tbody>\n",
       "    <tr>\n",
       "      <th>0</th>\n",
       "      <td>0</td>\n",
       "      <td>1KG_22_19435270</td>\n",
       "      <td>0.000000</td>\n",
       "      <td>0.867919</td>\n",
       "      <td>True</td>\n",
       "      <td>False</td>\n",
       "    </tr>\n",
       "    <tr>\n",
       "      <th>1</th>\n",
       "      <td>1</td>\n",
       "      <td>1KG_22_19766749</td>\n",
       "      <td>0.000000</td>\n",
       "      <td>0.909582</td>\n",
       "      <td>True</td>\n",
       "      <td>False</td>\n",
       "    </tr>\n",
       "    <tr>\n",
       "      <th>2</th>\n",
       "      <td>2</td>\n",
       "      <td>1KG_22_24530438</td>\n",
       "      <td>0.000000</td>\n",
       "      <td>0.868893</td>\n",
       "      <td>True</td>\n",
       "      <td>False</td>\n",
       "    </tr>\n",
       "    <tr>\n",
       "      <th>3</th>\n",
       "      <td>3</td>\n",
       "      <td>1KG_22_24909316</td>\n",
       "      <td>0.000000</td>\n",
       "      <td>0.828910</td>\n",
       "      <td>True</td>\n",
       "      <td>False</td>\n",
       "    </tr>\n",
       "    <tr>\n",
       "      <th>4</th>\n",
       "      <td>4</td>\n",
       "      <td>1KG_22_26286764</td>\n",
       "      <td>0.000000</td>\n",
       "      <td>0.909582</td>\n",
       "      <td>True</td>\n",
       "      <td>False</td>\n",
       "    </tr>\n",
       "    <tr>\n",
       "      <th>...</th>\n",
       "      <td>...</td>\n",
       "      <td>...</td>\n",
       "      <td>...</td>\n",
       "      <td>...</td>\n",
       "      <td>...</td>\n",
       "      <td>...</td>\n",
       "    </tr>\n",
       "    <tr>\n",
       "      <th>22022</th>\n",
       "      <td>25990</td>\n",
       "      <td>Variant61244</td>\n",
       "      <td>0.000000</td>\n",
       "      <td>0.884393</td>\n",
       "      <td>True</td>\n",
       "      <td>False</td>\n",
       "    </tr>\n",
       "    <tr>\n",
       "      <th>22023</th>\n",
       "      <td>25991</td>\n",
       "      <td>Variant61245</td>\n",
       "      <td>0.000000</td>\n",
       "      <td>0.902295</td>\n",
       "      <td>True</td>\n",
       "      <td>False</td>\n",
       "    </tr>\n",
       "    <tr>\n",
       "      <th>22024</th>\n",
       "      <td>25992</td>\n",
       "      <td>Variant61246</td>\n",
       "      <td>0.000000</td>\n",
       "      <td>0.892761</td>\n",
       "      <td>True</td>\n",
       "      <td>False</td>\n",
       "    </tr>\n",
       "    <tr>\n",
       "      <th>22025</th>\n",
       "      <td>25993</td>\n",
       "      <td>Variant61252</td>\n",
       "      <td>0.000000</td>\n",
       "      <td>0.829425</td>\n",
       "      <td>True</td>\n",
       "      <td>False</td>\n",
       "    </tr>\n",
       "    <tr>\n",
       "      <th>22026</th>\n",
       "      <td>25994</td>\n",
       "      <td>Variant61253</td>\n",
       "      <td>0.005208</td>\n",
       "      <td>0.898437</td>\n",
       "      <td>True</td>\n",
       "      <td>False</td>\n",
       "    </tr>\n",
       "  </tbody>\n",
       "</table>\n",
       "<p>22027 rows × 6 columns</p>\n",
       "</div>"
      ],
      "text/plain": [
       "       index            snpid       maf  gentrain_score  maf_flag  \\\n",
       "0          0  1KG_22_19435270  0.000000        0.867919      True   \n",
       "1          1  1KG_22_19766749  0.000000        0.909582      True   \n",
       "2          2  1KG_22_24530438  0.000000        0.868893      True   \n",
       "3          3  1KG_22_24909316  0.000000        0.828910      True   \n",
       "4          4  1KG_22_26286764  0.000000        0.909582      True   \n",
       "...      ...              ...       ...             ...       ...   \n",
       "22022  25990     Variant61244  0.000000        0.884393      True   \n",
       "22023  25991     Variant61245  0.000000        0.902295      True   \n",
       "22024  25992     Variant61246  0.000000        0.892761      True   \n",
       "22025  25993     Variant61252  0.000000        0.829425      True   \n",
       "22026  25994     Variant61253  0.005208        0.898437      True   \n",
       "\n",
       "       gentrain_flag  \n",
       "0              False  \n",
       "1              False  \n",
       "2              False  \n",
       "3              False  \n",
       "4              False  \n",
       "...              ...  \n",
       "22022          False  \n",
       "22023          False  \n",
       "22024          False  \n",
       "22025          False  \n",
       "22026          False  \n",
       "\n",
       "[22027 rows x 6 columns]"
      ]
     },
     "execution_count": 14,
     "metadata": {},
     "output_type": "execute_result"
    }
   ],
   "source": [
    "maf_flagged = snps_df[snps_df.maf_flag].reset_index()\n",
    "maf_flagged"
   ]
  },
  {
   "cell_type": "code",
   "execution_count": 15,
   "metadata": {},
   "outputs": [],
   "source": [
    "# check_header = pd.read_csv('../data/chr22_report.csv', nrows=0)\n",
    "# header_list = ['Index', 'Name', 'Address', 'Chr', 'Position', 'GenTrain Score','Frac A', 'Frac C', 'Frac G', 'Frac T']\n",
    "# all(elem in check_header.columns for elem in header_list)\n",
    "# check_header.columns\n",
    "total_flagged = snps_df[snps_df.maf_flag | snps_df.gentrain_flag].reset_index()\n",
    "both_flagged = snps_df[snps_df.maf_flag & snps_df.gentrain_flag].reset_index()\n",
    "maf_flagged = snps_df.loc[snps_df.maf_flag].reset_index()\n",
    "gentrain_flagged = snps_df.loc[snps_df.gentrain_flag].reset_index()"
   ]
  },
  {
   "cell_type": "code",
   "execution_count": 19,
   "metadata": {},
   "outputs": [
    {
     "name": "stdout",
     "output_type": "stream",
     "text": [
      "snp\n",
      "22:27657544-C-T\n",
      "22:51048400-AG\n",
      "exm1601793\n",
      "JHU_22.20753770\n",
      "JHU_22.26156400\n",
      "JHU_22.27408320\n",
      "JHU_22.31181570\n",
      "JHU_22.33775251\n",
      "JHU_22.33787750\n"
     ]
    }
   ],
   "source": [
    "!head ../data/testing_snps_of_interest.csv\n"
   ]
  },
  {
   "cell_type": "code",
   "execution_count": null,
   "metadata": {},
   "outputs": [],
   "source": []
  },
  {
   "cell_type": "code",
   "execution_count": 12,
   "metadata": {},
   "outputs": [
    {
     "data": {
      "text/html": [
       "<div>\n",
       "<style scoped>\n",
       "    .dataframe tbody tr th:only-of-type {\n",
       "        vertical-align: middle;\n",
       "    }\n",
       "\n",
       "    .dataframe tbody tr th {\n",
       "        vertical-align: top;\n",
       "    }\n",
       "\n",
       "    .dataframe thead th {\n",
       "        text-align: right;\n",
       "    }\n",
       "</style>\n",
       "<table border=\"1\" class=\"dataframe\">\n",
       "  <thead>\n",
       "    <tr style=\"text-align: right;\">\n",
       "      <th></th>\n",
       "      <th>Index</th>\n",
       "      <th>Name</th>\n",
       "      <th>Address</th>\n",
       "      <th>Chr</th>\n",
       "      <th>Position</th>\n",
       "      <th>GenTrain Score</th>\n",
       "      <th>Frac A</th>\n",
       "      <th>Frac C</th>\n",
       "      <th>Frac G</th>\n",
       "      <th>Frac T</th>\n",
       "      <th>...</th>\n",
       "      <th>FS04821406_FO0000173_APP_A673T_F06_17_C10.Theta</th>\n",
       "      <th>FS04821406_FO0000173_APP_A673T_F06_17_C10.R</th>\n",
       "      <th>FS04821407_FO0000174_APP_A673T_H08_17_C11.GType</th>\n",
       "      <th>FS04821407_FO0000174_APP_A673T_H08_17_C11.Score</th>\n",
       "      <th>FS04821407_FO0000174_APP_A673T_H08_17_C11.Theta</th>\n",
       "      <th>FS04821407_FO0000174_APP_A673T_H08_17_C11.R</th>\n",
       "      <th>PositiveControl_1_NA_NA.GType</th>\n",
       "      <th>PositiveControl_1_NA_NA.Score</th>\n",
       "      <th>PositiveControl_1_NA_NA.Theta</th>\n",
       "      <th>PositiveControl_1_NA_NA.R</th>\n",
       "    </tr>\n",
       "  </thead>\n",
       "  <tbody>\n",
       "    <tr>\n",
       "      <th>0</th>\n",
       "      <td>112977</td>\n",
       "      <td>1KG_22_19435270</td>\n",
       "      <td>92689296</td>\n",
       "      <td>22</td>\n",
       "      <td>19435270</td>\n",
       "      <td>0.867919</td>\n",
       "      <td>0.267327</td>\n",
       "      <td>0.376238</td>\n",
       "      <td>0.222772</td>\n",
       "      <td>0.133663</td>\n",
       "      <td>...</td>\n",
       "      <td>0.953285</td>\n",
       "      <td>0.942719</td>\n",
       "      <td>BB</td>\n",
       "      <td>0.851342</td>\n",
       "      <td>0.931741</td>\n",
       "      <td>0.900581</td>\n",
       "      <td>BB</td>\n",
       "      <td>0.807426</td>\n",
       "      <td>0.925320</td>\n",
       "      <td>0.446762</td>\n",
       "    </tr>\n",
       "    <tr>\n",
       "      <th>1</th>\n",
       "      <td>112978</td>\n",
       "      <td>1KG_22_19766749</td>\n",
       "      <td>61787105</td>\n",
       "      <td>22</td>\n",
       "      <td>19766749</td>\n",
       "      <td>0.909582</td>\n",
       "      <td>0.272277</td>\n",
       "      <td>0.198020</td>\n",
       "      <td>0.316832</td>\n",
       "      <td>0.212871</td>\n",
       "      <td>...</td>\n",
       "      <td>0.957424</td>\n",
       "      <td>0.931819</td>\n",
       "      <td>BB</td>\n",
       "      <td>0.519144</td>\n",
       "      <td>0.967373</td>\n",
       "      <td>0.811126</td>\n",
       "      <td>BB</td>\n",
       "      <td>0.519144</td>\n",
       "      <td>0.970041</td>\n",
       "      <td>0.686618</td>\n",
       "    </tr>\n",
       "    <tr>\n",
       "      <th>2</th>\n",
       "      <td>112979</td>\n",
       "      <td>1KG_22_24530438</td>\n",
       "      <td>7721239</td>\n",
       "      <td>22</td>\n",
       "      <td>24530438</td>\n",
       "      <td>0.868893</td>\n",
       "      <td>0.212871</td>\n",
       "      <td>0.237624</td>\n",
       "      <td>0.297030</td>\n",
       "      <td>0.252475</td>\n",
       "      <td>...</td>\n",
       "      <td>0.918618</td>\n",
       "      <td>0.824401</td>\n",
       "      <td>BB</td>\n",
       "      <td>0.447534</td>\n",
       "      <td>0.907242</td>\n",
       "      <td>0.845789</td>\n",
       "      <td>BB</td>\n",
       "      <td>0.444138</td>\n",
       "      <td>0.953646</td>\n",
       "      <td>0.404411</td>\n",
       "    </tr>\n",
       "    <tr>\n",
       "      <th>3</th>\n",
       "      <td>112980</td>\n",
       "      <td>1KG_22_24909316</td>\n",
       "      <td>20656834</td>\n",
       "      <td>22</td>\n",
       "      <td>24909316</td>\n",
       "      <td>0.828910</td>\n",
       "      <td>0.262376</td>\n",
       "      <td>0.202970</td>\n",
       "      <td>0.257426</td>\n",
       "      <td>0.277228</td>\n",
       "      <td>...</td>\n",
       "      <td>0.970715</td>\n",
       "      <td>1.322068</td>\n",
       "      <td>BB</td>\n",
       "      <td>0.419233</td>\n",
       "      <td>0.972820</td>\n",
       "      <td>1.372265</td>\n",
       "      <td>BB</td>\n",
       "      <td>0.419233</td>\n",
       "      <td>0.978037</td>\n",
       "      <td>1.480821</td>\n",
       "    </tr>\n",
       "    <tr>\n",
       "      <th>4</th>\n",
       "      <td>112981</td>\n",
       "      <td>1KG_22_26286764</td>\n",
       "      <td>16651149</td>\n",
       "      <td>22</td>\n",
       "      <td>26286764</td>\n",
       "      <td>0.909582</td>\n",
       "      <td>0.183168</td>\n",
       "      <td>0.257426</td>\n",
       "      <td>0.346535</td>\n",
       "      <td>0.212871</td>\n",
       "      <td>...</td>\n",
       "      <td>0.035331</td>\n",
       "      <td>1.124562</td>\n",
       "      <td>AA</td>\n",
       "      <td>0.519144</td>\n",
       "      <td>0.005580</td>\n",
       "      <td>1.031143</td>\n",
       "      <td>AA</td>\n",
       "      <td>0.519144</td>\n",
       "      <td>0.023618</td>\n",
       "      <td>0.869182</td>\n",
       "    </tr>\n",
       "    <tr>\n",
       "      <th>...</th>\n",
       "      <td>...</td>\n",
       "      <td>...</td>\n",
       "      <td>...</td>\n",
       "      <td>...</td>\n",
       "      <td>...</td>\n",
       "      <td>...</td>\n",
       "      <td>...</td>\n",
       "      <td>...</td>\n",
       "      <td>...</td>\n",
       "      <td>...</td>\n",
       "      <td>...</td>\n",
       "      <td>...</td>\n",
       "      <td>...</td>\n",
       "      <td>...</td>\n",
       "      <td>...</td>\n",
       "      <td>...</td>\n",
       "      <td>...</td>\n",
       "      <td>...</td>\n",
       "      <td>...</td>\n",
       "      <td>...</td>\n",
       "      <td>...</td>\n",
       "    </tr>\n",
       "    <tr>\n",
       "      <th>25990</th>\n",
       "      <td>1769400</td>\n",
       "      <td>Variant61244</td>\n",
       "      <td>72796174</td>\n",
       "      <td>22</td>\n",
       "      <td>51065646</td>\n",
       "      <td>0.884393</td>\n",
       "      <td>0.193548</td>\n",
       "      <td>0.290323</td>\n",
       "      <td>0.338710</td>\n",
       "      <td>0.177419</td>\n",
       "      <td>...</td>\n",
       "      <td>0.964052</td>\n",
       "      <td>0.711396</td>\n",
       "      <td>BB</td>\n",
       "      <td>0.486833</td>\n",
       "      <td>0.968252</td>\n",
       "      <td>0.712438</td>\n",
       "      <td>BB</td>\n",
       "      <td>0.289502</td>\n",
       "      <td>0.829358</td>\n",
       "      <td>0.271091</td>\n",
       "    </tr>\n",
       "    <tr>\n",
       "      <th>25991</th>\n",
       "      <td>1769401</td>\n",
       "      <td>Variant61245</td>\n",
       "      <td>71683268</td>\n",
       "      <td>22</td>\n",
       "      <td>51065647</td>\n",
       "      <td>0.902295</td>\n",
       "      <td>0.193548</td>\n",
       "      <td>0.290323</td>\n",
       "      <td>0.338710</td>\n",
       "      <td>0.177419</td>\n",
       "      <td>...</td>\n",
       "      <td>0.955761</td>\n",
       "      <td>0.780114</td>\n",
       "      <td>BB</td>\n",
       "      <td>0.509712</td>\n",
       "      <td>0.972587</td>\n",
       "      <td>0.747326</td>\n",
       "      <td>NC</td>\n",
       "      <td>0.040049</td>\n",
       "      <td>0.875520</td>\n",
       "      <td>0.502401</td>\n",
       "    </tr>\n",
       "    <tr>\n",
       "      <th>25992</th>\n",
       "      <td>1769402</td>\n",
       "      <td>Variant61246</td>\n",
       "      <td>90715239</td>\n",
       "      <td>22</td>\n",
       "      <td>51065647</td>\n",
       "      <td>0.892761</td>\n",
       "      <td>0.185484</td>\n",
       "      <td>0.338710</td>\n",
       "      <td>0.290323</td>\n",
       "      <td>0.185484</td>\n",
       "      <td>...</td>\n",
       "      <td>0.951538</td>\n",
       "      <td>0.710056</td>\n",
       "      <td>BB</td>\n",
       "      <td>0.497473</td>\n",
       "      <td>0.991615</td>\n",
       "      <td>0.663459</td>\n",
       "      <td>BB</td>\n",
       "      <td>0.497473</td>\n",
       "      <td>0.895762</td>\n",
       "      <td>0.301212</td>\n",
       "    </tr>\n",
       "    <tr>\n",
       "      <th>25993</th>\n",
       "      <td>1769403</td>\n",
       "      <td>Variant61252</td>\n",
       "      <td>41778959</td>\n",
       "      <td>22</td>\n",
       "      <td>51065808</td>\n",
       "      <td>0.829425</td>\n",
       "      <td>0.217742</td>\n",
       "      <td>0.338710</td>\n",
       "      <td>0.370968</td>\n",
       "      <td>0.072581</td>\n",
       "      <td>...</td>\n",
       "      <td>0.941936</td>\n",
       "      <td>0.407510</td>\n",
       "      <td>BB</td>\n",
       "      <td>0.419835</td>\n",
       "      <td>0.845523</td>\n",
       "      <td>0.403457</td>\n",
       "      <td>BB</td>\n",
       "      <td>0.419835</td>\n",
       "      <td>0.834805</td>\n",
       "      <td>0.207442</td>\n",
       "    </tr>\n",
       "    <tr>\n",
       "      <th>25994</th>\n",
       "      <td>1769404</td>\n",
       "      <td>Variant61253</td>\n",
       "      <td>29743249</td>\n",
       "      <td>22</td>\n",
       "      <td>51066073</td>\n",
       "      <td>0.898437</td>\n",
       "      <td>0.161290</td>\n",
       "      <td>0.330645</td>\n",
       "      <td>0.306452</td>\n",
       "      <td>0.201613</td>\n",
       "      <td>...</td>\n",
       "      <td>0.956009</td>\n",
       "      <td>0.513913</td>\n",
       "      <td>BB</td>\n",
       "      <td>0.504745</td>\n",
       "      <td>0.950560</td>\n",
       "      <td>0.479983</td>\n",
       "      <td>AB</td>\n",
       "      <td>0.170995</td>\n",
       "      <td>0.634096</td>\n",
       "      <td>0.140064</td>\n",
       "    </tr>\n",
       "  </tbody>\n",
       "</table>\n",
       "<p>25995 rows × 394 columns</p>\n",
       "</div>"
      ],
      "text/plain": [
       "         Index             Name   Address Chr  Position  GenTrain Score  \\\n",
       "0       112977  1KG_22_19435270  92689296  22  19435270        0.867919   \n",
       "1       112978  1KG_22_19766749  61787105  22  19766749        0.909582   \n",
       "2       112979  1KG_22_24530438   7721239  22  24530438        0.868893   \n",
       "3       112980  1KG_22_24909316  20656834  22  24909316        0.828910   \n",
       "4       112981  1KG_22_26286764  16651149  22  26286764        0.909582   \n",
       "...        ...              ...       ...  ..       ...             ...   \n",
       "25990  1769400     Variant61244  72796174  22  51065646        0.884393   \n",
       "25991  1769401     Variant61245  71683268  22  51065647        0.902295   \n",
       "25992  1769402     Variant61246  90715239  22  51065647        0.892761   \n",
       "25993  1769403     Variant61252  41778959  22  51065808        0.829425   \n",
       "25994  1769404     Variant61253  29743249  22  51066073        0.898437   \n",
       "\n",
       "         Frac A    Frac C    Frac G    Frac T  ...  \\\n",
       "0      0.267327  0.376238  0.222772  0.133663  ...   \n",
       "1      0.272277  0.198020  0.316832  0.212871  ...   \n",
       "2      0.212871  0.237624  0.297030  0.252475  ...   \n",
       "3      0.262376  0.202970  0.257426  0.277228  ...   \n",
       "4      0.183168  0.257426  0.346535  0.212871  ...   \n",
       "...         ...       ...       ...       ...  ...   \n",
       "25990  0.193548  0.290323  0.338710  0.177419  ...   \n",
       "25991  0.193548  0.290323  0.338710  0.177419  ...   \n",
       "25992  0.185484  0.338710  0.290323  0.185484  ...   \n",
       "25993  0.217742  0.338710  0.370968  0.072581  ...   \n",
       "25994  0.161290  0.330645  0.306452  0.201613  ...   \n",
       "\n",
       "      FS04821406_FO0000173_APP_A673T_F06_17_C10.Theta  \\\n",
       "0                                            0.953285   \n",
       "1                                            0.957424   \n",
       "2                                            0.918618   \n",
       "3                                            0.970715   \n",
       "4                                            0.035331   \n",
       "...                                               ...   \n",
       "25990                                        0.964052   \n",
       "25991                                        0.955761   \n",
       "25992                                        0.951538   \n",
       "25993                                        0.941936   \n",
       "25994                                        0.956009   \n",
       "\n",
       "       FS04821406_FO0000173_APP_A673T_F06_17_C10.R  \\\n",
       "0                                         0.942719   \n",
       "1                                         0.931819   \n",
       "2                                         0.824401   \n",
       "3                                         1.322068   \n",
       "4                                         1.124562   \n",
       "...                                            ...   \n",
       "25990                                     0.711396   \n",
       "25991                                     0.780114   \n",
       "25992                                     0.710056   \n",
       "25993                                     0.407510   \n",
       "25994                                     0.513913   \n",
       "\n",
       "       FS04821407_FO0000174_APP_A673T_H08_17_C11.GType  \\\n",
       "0                                                   BB   \n",
       "1                                                   BB   \n",
       "2                                                   BB   \n",
       "3                                                   BB   \n",
       "4                                                   AA   \n",
       "...                                                ...   \n",
       "25990                                               BB   \n",
       "25991                                               BB   \n",
       "25992                                               BB   \n",
       "25993                                               BB   \n",
       "25994                                               BB   \n",
       "\n",
       "       FS04821407_FO0000174_APP_A673T_H08_17_C11.Score  \\\n",
       "0                                             0.851342   \n",
       "1                                             0.519144   \n",
       "2                                             0.447534   \n",
       "3                                             0.419233   \n",
       "4                                             0.519144   \n",
       "...                                                ...   \n",
       "25990                                         0.486833   \n",
       "25991                                         0.509712   \n",
       "25992                                         0.497473   \n",
       "25993                                         0.419835   \n",
       "25994                                         0.504745   \n",
       "\n",
       "      FS04821407_FO0000174_APP_A673T_H08_17_C11.Theta  \\\n",
       "0                                            0.931741   \n",
       "1                                            0.967373   \n",
       "2                                            0.907242   \n",
       "3                                            0.972820   \n",
       "4                                            0.005580   \n",
       "...                                               ...   \n",
       "25990                                        0.968252   \n",
       "25991                                        0.972587   \n",
       "25992                                        0.991615   \n",
       "25993                                        0.845523   \n",
       "25994                                        0.950560   \n",
       "\n",
       "       FS04821407_FO0000174_APP_A673T_H08_17_C11.R  \\\n",
       "0                                         0.900581   \n",
       "1                                         0.811126   \n",
       "2                                         0.845789   \n",
       "3                                         1.372265   \n",
       "4                                         1.031143   \n",
       "...                                            ...   \n",
       "25990                                     0.712438   \n",
       "25991                                     0.747326   \n",
       "25992                                     0.663459   \n",
       "25993                                     0.403457   \n",
       "25994                                     0.479983   \n",
       "\n",
       "       PositiveControl_1_NA_NA.GType  PositiveControl_1_NA_NA.Score  \\\n",
       "0                                 BB                       0.807426   \n",
       "1                                 BB                       0.519144   \n",
       "2                                 BB                       0.444138   \n",
       "3                                 BB                       0.419233   \n",
       "4                                 AA                       0.519144   \n",
       "...                              ...                            ...   \n",
       "25990                             BB                       0.289502   \n",
       "25991                             NC                       0.040049   \n",
       "25992                             BB                       0.497473   \n",
       "25993                             BB                       0.419835   \n",
       "25994                             AB                       0.170995   \n",
       "\n",
       "      PositiveControl_1_NA_NA.Theta  PositiveControl_1_NA_NA.R  \n",
       "0                          0.925320                   0.446762  \n",
       "1                          0.970041                   0.686618  \n",
       "2                          0.953646                   0.404411  \n",
       "3                          0.978037                   1.480821  \n",
       "4                          0.023618                   0.869182  \n",
       "...                             ...                        ...  \n",
       "25990                      0.829358                   0.271091  \n",
       "25991                      0.875520                   0.502401  \n",
       "25992                      0.895762                   0.301212  \n",
       "25993                      0.834805                   0.207442  \n",
       "25994                      0.634096                   0.140064  \n",
       "\n",
       "[25995 rows x 394 columns]"
      ]
     },
     "execution_count": 12,
     "metadata": {},
     "output_type": "execute_result"
    }
   ],
   "source": [
    "report_in[['Name', 'Chr', 'Position','GenTrain Score','Frac A', 'Frac C', 'Frac G', 'Frac T']]"
   ]
  },
  {
   "cell_type": "code",
   "execution_count": 4,
   "metadata": {},
   "outputs": [],
   "source": [
    "# selected from user input\n",
    "SNP_of_interest = 'JHU_22.26156400'\n",
    "\n",
    "# this will be in the select_snp() method\n",
    "geno_col = SNP_of_interest + \".GType\"\n",
    "theta_col = SNP_of_interest + \".Theta\"\n",
    "r_col = SNP_of_interest + \".R\"\n",
    "\n",
    "# get genotypes and number for choosing number of components\n",
    "gtypes_for_gmm = list(cb_df[geno_col].unique())\n",
    "gtypes_for_gmm.remove('NC')\n",
    "n_components = len(gtypes_for_gmm)\n",
    "\n",
    "snp_for_gmm_df = cb_df[['IID', theta_col, r_col, geno_col]].copy()\n",
    "\n",
    "\n",
    "\n",
    "\n",
    "# gmm_out = gtype_gmm(snp_theta_r_df=snp_for_gmm_df, n_components=n_components)\n",
    "# gmm = gmm_out['gmm']\n"
   ]
  },
  {
   "cell_type": "code",
   "execution_count": null,
   "metadata": {},
   "outputs": [],
   "source": [
    "\n"
   ]
  },
  {
   "cell_type": "code",
   "execution_count": 6,
   "metadata": {},
   "outputs": [
    {
     "data": {
      "text/plain": [
       "array([1])"
      ]
     },
     "execution_count": 6,
     "metadata": {},
     "output_type": "execute_result"
    }
   ],
   "source": [
    "from sklearn.model_selection import train_test_split\n",
    "from sklearn.mixture import GaussianMixture\n",
    "\n",
    "# gtypes_map = {\n",
    "#     'AA':'0',\n",
    "#     'AB':'1',\n",
    "#     'BA':'1',\n",
    "#     'BB':'2',\n",
    "#     }\n",
    "\n",
    "# gtypes_map_rev = {\n",
    "#     '0':'AA',\n",
    "#     '1':'AB',\n",
    "#     '2':'BB'\n",
    "# }\n",
    "\n",
    "# samples to train and test on\n",
    "to_gmm_samples = snp_for_gmm_df.loc[snp_for_gmm_df[geno_col]!='NC']\n",
    "# to_gmm_samples.loc[:,'gtype'] = np.where(to_gmm_samples.loc[:, geno_col]=='BA', 'AB', to_gmm_samples.loc[:, geno_col])\n",
    "\n",
    "# samples to predict\n",
    "to_pred_samples = snp_for_gmm_df.loc[snp_for_gmm_df[geno_col]=='NC']\n",
    "\n",
    "X = to_gmm_samples.loc[:,[theta_col, r_col]]\n",
    "y = np.where(to_gmm_samples.loc[:, geno_col]=='BA', 'AB', to_gmm_samples.loc[:, geno_col])\n",
    "# y = to_gmm_samples.loc[:,geno_col].replace(gtypes_map)\n",
    "\n",
    "x_pred = to_pred_samples.loc[:,[theta_col, r_col]]\n",
    "# n_classes = len(np.unique(y))\n",
    "classes = np.unique(y)\n",
    "\n",
    "gmm = GaussianMixture(\n",
    "        n_components=n_components,\n",
    "        covariance_type=\"diag\",\n",
    "        random_state = 10).fit(X)\n",
    "\n",
    "gmm.means_ = np.array([X[y == i].mean(axis=0) for i in classes])\n",
    "\n",
    "gmm.fit(X)\n",
    "y_pred = gmm.predict(x_pred)\n",
    "y_pred\n",
    "\n",
    "\n",
    "\n",
    "# X_train, X_test, y_train, y_test = train_test_split(X, y, test_size=0.10, random_state=42)\n",
    "\n",
    "\n",
    "# classifiers = dict((covar_type, GaussianMixture(n_components=n_classes,\n",
    "#                     covariance_type=covar_type, n_iter=20))\n",
    "#                    for covar_type in ['spherical', 'diag', 'tied', 'full'])\n",
    "\n"
   ]
  },
  {
   "cell_type": "code",
   "execution_count": 51,
   "metadata": {},
   "outputs": [
    {
     "data": {
      "text/plain": [
       "array(['AA', 'AA', 'AA', 'AA', 'AA', 'AA', 'AA', 'AA', 'AA', 'AA', 'AA',\n",
       "       'AA', 'AA', 'AA', 'AA', 'AA', 'AA', 'AA', 'AA', 'AA', 'AA', 'AA',\n",
       "       'AA', 'AA', 'AA', 'AA', 'AA', 'AA', 'AA', 'AA', 'AA', 'AA', 'AA',\n",
       "       'AA', 'AA', 'AA', 'AA', 'AA', 'AA', 'AA', 'AA', 'AA', 'AA', 'AA',\n",
       "       'AA', 'AA', 'AA', 'AA', 'AA', 'AA', 'AA', 'AA', 'AA', 'AA', 'AA',\n",
       "       'AA', 'AA', 'AA', 'AA', 'AA', 'AA', 'AA', 'AA', 'AA', 'AA', 'AA',\n",
       "       'AA', 'AA', 'AA', 'AA', 'AA', 'AA', 'AA', 'AA', 'AA', 'AA', 'AA',\n",
       "       'AA', 'AA', 'AA', 'AA', 'AA', 'AA', 'AA', 'AA', 'AA', 'AA', 'AA',\n",
       "       'AA', 'AA', 'AA', 'AA', 'AA', 'AA', 'BB'], dtype=object)"
      ]
     },
     "execution_count": 51,
     "metadata": {},
     "output_type": "execute_result"
    }
   ],
   "source": [
    "\n"
   ]
  },
  {
   "cell_type": "code",
   "execution_count": 7,
   "metadata": {},
   "outputs": [],
   "source": [
    "# positions = gmm.means_\n",
    "# covariances = gmm.covariances_\n",
    "\n",
    "# pos = gmm.means_[1]\n",
    "# width, height = 2 * np.sqrt(covariances[1])\n"
   ]
  },
  {
   "cell_type": "code",
   "execution_count": null,
   "metadata": {},
   "outputs": [],
   "source": [
    "def plot_contour(pos, cov, fig, color, n_cont=5):\n",
    "\n",
    "    width, height = 2*np.sqrt(cov)\n",
    "\n",
    "    for n_cont in range(1, n_cont):\n",
    "\n",
    "        width_ = width*n_cont\n",
    "        height_ = height*n_cont\n",
    "        \n",
    "        e_x0 = pos[0] - width_\n",
    "        e_x1 = pos[0] + width_\n",
    "        e_y0 = pos[1] - height_\n",
    "        e_y1 = pos[1] + height_\n",
    "\n",
    "        fig.add_shape(type=\"circle\",\n",
    "            xref=\"x\", yref=\"y\",\n",
    "            x0=e_x0, y0=e_y0,\n",
    "            x1=e_x1, y1=e_y1,\n",
    "            opacity=0.2,\n",
    "            fillcolor=color,\n",
    "            line_color=color,\n",
    "        )\n",
    "\n",
    "# x0 = X.loc[X.predicted_label==0,'JHU_22.26156400.Theta']\n",
    "# y0 = X.loc[X.predicted_label==0,'JHU_22.26156400.R']\n",
    "\n",
    "# def plot_gmm(X, y, gmm, fig):\n",
    "    \n",
    "#     positions = gmm.means_\n",
    "#     covariances = gmm.covariances_\n",
    "\n",
    "#     fig = go.Figure()\n",
    "\n",
    "#     for label in X.predicted_label.unique():\n",
    "#         # Add scatter traces\n",
    "#         fig.add_trace(go.Scatter(x=x0, y=y0, mode=\"markers\"))\n",
    "\n",
    "#     for position, covariance in zip(positions,covariances):\n",
    "#         plot_contour(pos=position, cov=covariance, fig=fig, color=color, n_cont=5)\n"
   ]
  },
  {
   "cell_type": "code",
   "execution_count": 22,
   "metadata": {},
   "outputs": [
    {
     "data": {
      "text/plain": [
       "array(['setosa', 'versicolor', 'virginica'], dtype='<U10')"
      ]
     },
     "execution_count": 22,
     "metadata": {},
     "output_type": "execute_result"
    }
   ],
   "source": [
    "X = gmm_out['X']\n",
    "y = gmm_out['y_pred']\n",
    "\n",
    "for pred_label in set(y):\n",
    "    print(pred_label)\n",
    "    \n"
   ]
  },
  {
   "cell_type": "code",
   "execution_count": 23,
   "metadata": {},
   "outputs": [
    {
     "data": {
      "application/vnd.plotly.v1+json": {
       "config": {
        "plotlyServerURL": "https://plot.ly"
       },
       "data": [
        {
         "mode": "markers",
         "type": "scatter",
         "x": [
          0.8967379
         ],
         "y": [
          0.2544492
         ]
        },
        {
         "mode": "markers",
         "type": "scatter",
         "x": [
          0.06202682,
          0.08105016,
          0.08624811,
          0.1000735,
          0.07308064,
          0.07674696,
          0.1384096,
          0.1252608,
          0.09162942,
          0.07834452,
          0.02970151,
          0.09790328,
          0.07175669,
          0.02148219,
          0.07715034,
          0.09576933,
          0.06176031,
          0.07881515,
          0.0713281,
          0.05913555,
          0.05168162,
          0.05146887,
          0.05163393,
          0.08878431,
          0.06534209,
          0.07265339,
          0.0725714,
          0.08878233,
          0.0578867,
          0.05351254,
          0.08821775,
          0.0745277,
          0.07637627,
          0.06706313,
          0.02127613,
          0.05466559,
          0.07707202,
          0.0669373,
          0.08391216,
          0.1248878,
          0.07635459,
          0.08085699,
          0.08588584,
          0.05343647,
          0.08742985,
          0.06737825,
          0.077067,
          0.09293761,
          0.08325268,
          0.08223518,
          0.01751203,
          0.1060145,
          0.08318687,
          0.07320237,
          0.08930579,
          0.08369686,
          0.05392546,
          0.08304014,
          0.06062574,
          0.09006003,
          0.06425383,
          0.1092433,
          0.1121125,
          0.08682597,
          0.0766034,
          0.08095519,
          0.0706208,
          0.07203035,
          0.08167869,
          0.06262203,
          0.1032554,
          0.1684243,
          0.06723226,
          0.09039993,
          0.1505905,
          0.07426216,
          0.05996991,
          0.07759603,
          0.1409446,
          0.08589491,
          0.07090234,
          0.1159248,
          0.0523226,
          0.08585976,
          0.09451908,
          0.07917071,
          0.03733713,
          0.1146955,
          0.08131532,
          0.09309799,
          0.05558833,
          0.1101909,
          0.08208975,
          0.08040822,
          0.1352424
         ],
         "y": [
          0.6007725,
          0.7287353,
          0.668563,
          0.6871228,
          0.6242787,
          0.6445258,
          0.7120274,
          0.6788281,
          0.4481112,
          0.5216095,
          0.5046059,
          0.6152014,
          0.573772,
          0.5677488,
          0.636775,
          0.6236204,
          0.6430874,
          0.6120201,
          0.6025927,
          0.6372343,
          0.6173859,
          0.6015058,
          0.6409342,
          0.5520342,
          0.5617645,
          0.5545021,
          0.5741349,
          0.5499603,
          0.6115189,
          0.5710969,
          0.6516078,
          0.5646827,
          0.5743464,
          0.6154696,
          0.5179594,
          0.5876938,
          0.6454192,
          0.7213406,
          0.679656,
          0.4869533,
          0.5792836,
          0.640419,
          0.6772199,
          0.6105421,
          0.5949408,
          0.633253,
          0.7069285,
          0.5918097,
          0.5322454,
          0.5913474,
          0.5887455,
          0.5841242,
          0.5781792,
          0.6384492,
          0.6681368,
          0.5689915,
          0.6211348,
          0.6054342,
          0.5624673,
          0.6305824,
          0.6188532,
          0.7371599,
          0.6275098,
          0.5725278,
          0.559761,
          0.6298165,
          0.641371,
          0.662399,
          0.647893,
          0.6274392,
          0.6255495,
          0.559869,
          0.4707904,
          0.5900825,
          0.6043509,
          0.5803787,
          0.681887,
          0.6199144,
          0.6236321,
          0.5841423,
          0.5745078,
          0.6492187,
          0.6381714,
          0.6225994,
          0.6451844,
          0.6491919,
          0.6107746,
          0.6055309,
          0.5500557,
          0.6521577,
          0.536934,
          0.6434094,
          0.6504782,
          0.6738404,
          0.6522729
         ]
        }
       ],
       "layout": {
        "shapes": [
         {
          "fillcolor": "orange",
          "line": {
           "color": "orange"
          },
          "opacity": 0.2,
          "type": "circle",
          "x0": 0.02898291575150988,
          "x1": 0.13140679266954278,
          "xref": "x",
          "y0": 0.5040728012864975,
          "y1": 0.7177185229240288,
          "yref": "y"
         },
         {
          "fillcolor": "orange",
          "line": {
           "color": "orange"
          },
          "opacity": 0.2,
          "type": "circle",
          "x0": -0.02222902270750657,
          "x1": 0.18261873112855923,
          "xref": "x",
          "y0": 0.3972499404677319,
          "y1": 0.8245413837427944,
          "yref": "y"
         },
         {
          "fillcolor": "orange",
          "line": {
           "color": "orange"
          },
          "opacity": 0.2,
          "type": "circle",
          "x0": -0.07344096116652302,
          "x1": 0.23383066958757567,
          "xref": "x",
          "y0": 0.2904270796489662,
          "y1": 0.9313642445615601,
          "yref": "y"
         }
        ],
        "template": {
         "data": {
          "bar": [
           {
            "error_x": {
             "color": "#2a3f5f"
            },
            "error_y": {
             "color": "#2a3f5f"
            },
            "marker": {
             "line": {
              "color": "#E5ECF6",
              "width": 0.5
             },
             "pattern": {
              "fillmode": "overlay",
              "size": 10,
              "solidity": 0.2
             }
            },
            "type": "bar"
           }
          ],
          "barpolar": [
           {
            "marker": {
             "line": {
              "color": "#E5ECF6",
              "width": 0.5
             },
             "pattern": {
              "fillmode": "overlay",
              "size": 10,
              "solidity": 0.2
             }
            },
            "type": "barpolar"
           }
          ],
          "carpet": [
           {
            "aaxis": {
             "endlinecolor": "#2a3f5f",
             "gridcolor": "white",
             "linecolor": "white",
             "minorgridcolor": "white",
             "startlinecolor": "#2a3f5f"
            },
            "baxis": {
             "endlinecolor": "#2a3f5f",
             "gridcolor": "white",
             "linecolor": "white",
             "minorgridcolor": "white",
             "startlinecolor": "#2a3f5f"
            },
            "type": "carpet"
           }
          ],
          "choropleth": [
           {
            "colorbar": {
             "outlinewidth": 0,
             "ticks": ""
            },
            "type": "choropleth"
           }
          ],
          "contour": [
           {
            "colorbar": {
             "outlinewidth": 0,
             "ticks": ""
            },
            "colorscale": [
             [
              0,
              "#0d0887"
             ],
             [
              0.1111111111111111,
              "#46039f"
             ],
             [
              0.2222222222222222,
              "#7201a8"
             ],
             [
              0.3333333333333333,
              "#9c179e"
             ],
             [
              0.4444444444444444,
              "#bd3786"
             ],
             [
              0.5555555555555556,
              "#d8576b"
             ],
             [
              0.6666666666666666,
              "#ed7953"
             ],
             [
              0.7777777777777778,
              "#fb9f3a"
             ],
             [
              0.8888888888888888,
              "#fdca26"
             ],
             [
              1,
              "#f0f921"
             ]
            ],
            "type": "contour"
           }
          ],
          "contourcarpet": [
           {
            "colorbar": {
             "outlinewidth": 0,
             "ticks": ""
            },
            "type": "contourcarpet"
           }
          ],
          "heatmap": [
           {
            "colorbar": {
             "outlinewidth": 0,
             "ticks": ""
            },
            "colorscale": [
             [
              0,
              "#0d0887"
             ],
             [
              0.1111111111111111,
              "#46039f"
             ],
             [
              0.2222222222222222,
              "#7201a8"
             ],
             [
              0.3333333333333333,
              "#9c179e"
             ],
             [
              0.4444444444444444,
              "#bd3786"
             ],
             [
              0.5555555555555556,
              "#d8576b"
             ],
             [
              0.6666666666666666,
              "#ed7953"
             ],
             [
              0.7777777777777778,
              "#fb9f3a"
             ],
             [
              0.8888888888888888,
              "#fdca26"
             ],
             [
              1,
              "#f0f921"
             ]
            ],
            "type": "heatmap"
           }
          ],
          "heatmapgl": [
           {
            "colorbar": {
             "outlinewidth": 0,
             "ticks": ""
            },
            "colorscale": [
             [
              0,
              "#0d0887"
             ],
             [
              0.1111111111111111,
              "#46039f"
             ],
             [
              0.2222222222222222,
              "#7201a8"
             ],
             [
              0.3333333333333333,
              "#9c179e"
             ],
             [
              0.4444444444444444,
              "#bd3786"
             ],
             [
              0.5555555555555556,
              "#d8576b"
             ],
             [
              0.6666666666666666,
              "#ed7953"
             ],
             [
              0.7777777777777778,
              "#fb9f3a"
             ],
             [
              0.8888888888888888,
              "#fdca26"
             ],
             [
              1,
              "#f0f921"
             ]
            ],
            "type": "heatmapgl"
           }
          ],
          "histogram": [
           {
            "marker": {
             "pattern": {
              "fillmode": "overlay",
              "size": 10,
              "solidity": 0.2
             }
            },
            "type": "histogram"
           }
          ],
          "histogram2d": [
           {
            "colorbar": {
             "outlinewidth": 0,
             "ticks": ""
            },
            "colorscale": [
             [
              0,
              "#0d0887"
             ],
             [
              0.1111111111111111,
              "#46039f"
             ],
             [
              0.2222222222222222,
              "#7201a8"
             ],
             [
              0.3333333333333333,
              "#9c179e"
             ],
             [
              0.4444444444444444,
              "#bd3786"
             ],
             [
              0.5555555555555556,
              "#d8576b"
             ],
             [
              0.6666666666666666,
              "#ed7953"
             ],
             [
              0.7777777777777778,
              "#fb9f3a"
             ],
             [
              0.8888888888888888,
              "#fdca26"
             ],
             [
              1,
              "#f0f921"
             ]
            ],
            "type": "histogram2d"
           }
          ],
          "histogram2dcontour": [
           {
            "colorbar": {
             "outlinewidth": 0,
             "ticks": ""
            },
            "colorscale": [
             [
              0,
              "#0d0887"
             ],
             [
              0.1111111111111111,
              "#46039f"
             ],
             [
              0.2222222222222222,
              "#7201a8"
             ],
             [
              0.3333333333333333,
              "#9c179e"
             ],
             [
              0.4444444444444444,
              "#bd3786"
             ],
             [
              0.5555555555555556,
              "#d8576b"
             ],
             [
              0.6666666666666666,
              "#ed7953"
             ],
             [
              0.7777777777777778,
              "#fb9f3a"
             ],
             [
              0.8888888888888888,
              "#fdca26"
             ],
             [
              1,
              "#f0f921"
             ]
            ],
            "type": "histogram2dcontour"
           }
          ],
          "mesh3d": [
           {
            "colorbar": {
             "outlinewidth": 0,
             "ticks": ""
            },
            "type": "mesh3d"
           }
          ],
          "parcoords": [
           {
            "line": {
             "colorbar": {
              "outlinewidth": 0,
              "ticks": ""
             }
            },
            "type": "parcoords"
           }
          ],
          "pie": [
           {
            "automargin": true,
            "type": "pie"
           }
          ],
          "scatter": [
           {
            "marker": {
             "colorbar": {
              "outlinewidth": 0,
              "ticks": ""
             }
            },
            "type": "scatter"
           }
          ],
          "scatter3d": [
           {
            "line": {
             "colorbar": {
              "outlinewidth": 0,
              "ticks": ""
             }
            },
            "marker": {
             "colorbar": {
              "outlinewidth": 0,
              "ticks": ""
             }
            },
            "type": "scatter3d"
           }
          ],
          "scattercarpet": [
           {
            "marker": {
             "colorbar": {
              "outlinewidth": 0,
              "ticks": ""
             }
            },
            "type": "scattercarpet"
           }
          ],
          "scattergeo": [
           {
            "marker": {
             "colorbar": {
              "outlinewidth": 0,
              "ticks": ""
             }
            },
            "type": "scattergeo"
           }
          ],
          "scattergl": [
           {
            "marker": {
             "colorbar": {
              "outlinewidth": 0,
              "ticks": ""
             }
            },
            "type": "scattergl"
           }
          ],
          "scattermapbox": [
           {
            "marker": {
             "colorbar": {
              "outlinewidth": 0,
              "ticks": ""
             }
            },
            "type": "scattermapbox"
           }
          ],
          "scatterpolar": [
           {
            "marker": {
             "colorbar": {
              "outlinewidth": 0,
              "ticks": ""
             }
            },
            "type": "scatterpolar"
           }
          ],
          "scatterpolargl": [
           {
            "marker": {
             "colorbar": {
              "outlinewidth": 0,
              "ticks": ""
             }
            },
            "type": "scatterpolargl"
           }
          ],
          "scatterternary": [
           {
            "marker": {
             "colorbar": {
              "outlinewidth": 0,
              "ticks": ""
             }
            },
            "type": "scatterternary"
           }
          ],
          "surface": [
           {
            "colorbar": {
             "outlinewidth": 0,
             "ticks": ""
            },
            "colorscale": [
             [
              0,
              "#0d0887"
             ],
             [
              0.1111111111111111,
              "#46039f"
             ],
             [
              0.2222222222222222,
              "#7201a8"
             ],
             [
              0.3333333333333333,
              "#9c179e"
             ],
             [
              0.4444444444444444,
              "#bd3786"
             ],
             [
              0.5555555555555556,
              "#d8576b"
             ],
             [
              0.6666666666666666,
              "#ed7953"
             ],
             [
              0.7777777777777778,
              "#fb9f3a"
             ],
             [
              0.8888888888888888,
              "#fdca26"
             ],
             [
              1,
              "#f0f921"
             ]
            ],
            "type": "surface"
           }
          ],
          "table": [
           {
            "cells": {
             "fill": {
              "color": "#EBF0F8"
             },
             "line": {
              "color": "white"
             }
            },
            "header": {
             "fill": {
              "color": "#C8D4E3"
             },
             "line": {
              "color": "white"
             }
            },
            "type": "table"
           }
          ]
         },
         "layout": {
          "annotationdefaults": {
           "arrowcolor": "#2a3f5f",
           "arrowhead": 0,
           "arrowwidth": 1
          },
          "autotypenumbers": "strict",
          "coloraxis": {
           "colorbar": {
            "outlinewidth": 0,
            "ticks": ""
           }
          },
          "colorscale": {
           "diverging": [
            [
             0,
             "#8e0152"
            ],
            [
             0.1,
             "#c51b7d"
            ],
            [
             0.2,
             "#de77ae"
            ],
            [
             0.3,
             "#f1b6da"
            ],
            [
             0.4,
             "#fde0ef"
            ],
            [
             0.5,
             "#f7f7f7"
            ],
            [
             0.6,
             "#e6f5d0"
            ],
            [
             0.7,
             "#b8e186"
            ],
            [
             0.8,
             "#7fbc41"
            ],
            [
             0.9,
             "#4d9221"
            ],
            [
             1,
             "#276419"
            ]
           ],
           "sequential": [
            [
             0,
             "#0d0887"
            ],
            [
             0.1111111111111111,
             "#46039f"
            ],
            [
             0.2222222222222222,
             "#7201a8"
            ],
            [
             0.3333333333333333,
             "#9c179e"
            ],
            [
             0.4444444444444444,
             "#bd3786"
            ],
            [
             0.5555555555555556,
             "#d8576b"
            ],
            [
             0.6666666666666666,
             "#ed7953"
            ],
            [
             0.7777777777777778,
             "#fb9f3a"
            ],
            [
             0.8888888888888888,
             "#fdca26"
            ],
            [
             1,
             "#f0f921"
            ]
           ],
           "sequentialminus": [
            [
             0,
             "#0d0887"
            ],
            [
             0.1111111111111111,
             "#46039f"
            ],
            [
             0.2222222222222222,
             "#7201a8"
            ],
            [
             0.3333333333333333,
             "#9c179e"
            ],
            [
             0.4444444444444444,
             "#bd3786"
            ],
            [
             0.5555555555555556,
             "#d8576b"
            ],
            [
             0.6666666666666666,
             "#ed7953"
            ],
            [
             0.7777777777777778,
             "#fb9f3a"
            ],
            [
             0.8888888888888888,
             "#fdca26"
            ],
            [
             1,
             "#f0f921"
            ]
           ]
          },
          "colorway": [
           "#636efa",
           "#EF553B",
           "#00cc96",
           "#ab63fa",
           "#FFA15A",
           "#19d3f3",
           "#FF6692",
           "#B6E880",
           "#FF97FF",
           "#FECB52"
          ],
          "font": {
           "color": "#2a3f5f"
          },
          "geo": {
           "bgcolor": "white",
           "lakecolor": "white",
           "landcolor": "#E5ECF6",
           "showlakes": true,
           "showland": true,
           "subunitcolor": "white"
          },
          "hoverlabel": {
           "align": "left"
          },
          "hovermode": "closest",
          "mapbox": {
           "style": "light"
          },
          "paper_bgcolor": "white",
          "plot_bgcolor": "#E5ECF6",
          "polar": {
           "angularaxis": {
            "gridcolor": "white",
            "linecolor": "white",
            "ticks": ""
           },
           "bgcolor": "#E5ECF6",
           "radialaxis": {
            "gridcolor": "white",
            "linecolor": "white",
            "ticks": ""
           }
          },
          "scene": {
           "xaxis": {
            "backgroundcolor": "#E5ECF6",
            "gridcolor": "white",
            "gridwidth": 2,
            "linecolor": "white",
            "showbackground": true,
            "ticks": "",
            "zerolinecolor": "white"
           },
           "yaxis": {
            "backgroundcolor": "#E5ECF6",
            "gridcolor": "white",
            "gridwidth": 2,
            "linecolor": "white",
            "showbackground": true,
            "ticks": "",
            "zerolinecolor": "white"
           },
           "zaxis": {
            "backgroundcolor": "#E5ECF6",
            "gridcolor": "white",
            "gridwidth": 2,
            "linecolor": "white",
            "showbackground": true,
            "ticks": "",
            "zerolinecolor": "white"
           }
          },
          "shapedefaults": {
           "line": {
            "color": "#2a3f5f"
           }
          },
          "ternary": {
           "aaxis": {
            "gridcolor": "white",
            "linecolor": "white",
            "ticks": ""
           },
           "baxis": {
            "gridcolor": "white",
            "linecolor": "white",
            "ticks": ""
           },
           "bgcolor": "#E5ECF6",
           "caxis": {
            "gridcolor": "white",
            "linecolor": "white",
            "ticks": ""
           }
          },
          "title": {
           "x": 0.05
          },
          "xaxis": {
           "automargin": true,
           "gridcolor": "white",
           "linecolor": "white",
           "ticks": "",
           "title": {
            "standoff": 15
           },
           "zerolinecolor": "white",
           "zerolinewidth": 2
          },
          "yaxis": {
           "automargin": true,
           "gridcolor": "white",
           "linecolor": "white",
           "ticks": "",
           "title": {
            "standoff": 15
           },
           "zerolinecolor": "white",
           "zerolinewidth": 2
          }
         }
        }
       }
      },
      "text/html": [
       "<div>                            <div id=\"18f30065-0580-4bc5-914b-8b8911cd9c64\" class=\"plotly-graph-div\" style=\"height:525px; width:100%;\"></div>            <script type=\"text/javascript\">                require([\"plotly\"], function(Plotly) {                    window.PLOTLYENV=window.PLOTLYENV || {};                                    if (document.getElementById(\"18f30065-0580-4bc5-914b-8b8911cd9c64\")) {                    Plotly.newPlot(                        \"18f30065-0580-4bc5-914b-8b8911cd9c64\",                        [{\"mode\":\"markers\",\"type\":\"scatter\",\"x\":[0.8967379],\"y\":[0.2544492]},{\"mode\":\"markers\",\"type\":\"scatter\",\"x\":[0.06202682,0.08105016,0.08624811,0.1000735,0.07308064,0.07674696,0.1384096,0.1252608,0.09162942,0.07834452,0.02970151,0.09790328,0.07175669,0.02148219,0.07715034,0.09576933,0.06176031,0.07881515,0.0713281,0.05913555,0.05168162,0.05146887,0.05163393,0.08878431,0.06534209,0.07265339,0.0725714,0.08878233,0.0578867,0.05351254,0.08821775,0.0745277,0.07637627,0.06706313,0.02127613,0.05466559,0.07707202,0.0669373,0.08391216,0.1248878,0.07635459,0.08085699,0.08588584,0.05343647,0.08742985,0.06737825,0.077067,0.09293761,0.08325268,0.08223518,0.01751203,0.1060145,0.08318687,0.07320237,0.08930579,0.08369686,0.05392546,0.08304014,0.06062574,0.09006003,0.06425383,0.1092433,0.1121125,0.08682597,0.0766034,0.08095519,0.0706208,0.07203035,0.08167869,0.06262203,0.1032554,0.1684243,0.06723226,0.09039993,0.1505905,0.07426216,0.05996991,0.07759603,0.1409446,0.08589491,0.07090234,0.1159248,0.0523226,0.08585976,0.09451908,0.07917071,0.03733713,0.1146955,0.08131532,0.09309799,0.05558833,0.1101909,0.08208975,0.08040822,0.1352424],\"y\":[0.6007725,0.7287353,0.668563,0.6871228,0.6242787,0.6445258,0.7120274,0.6788281,0.4481112,0.5216095,0.5046059,0.6152014,0.573772,0.5677488,0.636775,0.6236204,0.6430874,0.6120201,0.6025927,0.6372343,0.6173859,0.6015058,0.6409342,0.5520342,0.5617645,0.5545021,0.5741349,0.5499603,0.6115189,0.5710969,0.6516078,0.5646827,0.5743464,0.6154696,0.5179594,0.5876938,0.6454192,0.7213406,0.679656,0.4869533,0.5792836,0.640419,0.6772199,0.6105421,0.5949408,0.633253,0.7069285,0.5918097,0.5322454,0.5913474,0.5887455,0.5841242,0.5781792,0.6384492,0.6681368,0.5689915,0.6211348,0.6054342,0.5624673,0.6305824,0.6188532,0.7371599,0.6275098,0.5725278,0.559761,0.6298165,0.641371,0.662399,0.647893,0.6274392,0.6255495,0.559869,0.4707904,0.5900825,0.6043509,0.5803787,0.681887,0.6199144,0.6236321,0.5841423,0.5745078,0.6492187,0.6381714,0.6225994,0.6451844,0.6491919,0.6107746,0.6055309,0.5500557,0.6521577,0.536934,0.6434094,0.6504782,0.6738404,0.6522729]}],                        {\"shapes\":[{\"fillcolor\":\"orange\",\"line\":{\"color\":\"orange\"},\"opacity\":0.2,\"type\":\"circle\",\"x0\":0.02898291575150988,\"x1\":0.13140679266954278,\"xref\":\"x\",\"y0\":0.5040728012864975,\"y1\":0.7177185229240288,\"yref\":\"y\"},{\"fillcolor\":\"orange\",\"line\":{\"color\":\"orange\"},\"opacity\":0.2,\"type\":\"circle\",\"x0\":-0.02222902270750657,\"x1\":0.18261873112855923,\"xref\":\"x\",\"y0\":0.3972499404677319,\"y1\":0.8245413837427944,\"yref\":\"y\"},{\"fillcolor\":\"orange\",\"line\":{\"color\":\"orange\"},\"opacity\":0.2,\"type\":\"circle\",\"x0\":-0.07344096116652302,\"x1\":0.23383066958757567,\"xref\":\"x\",\"y0\":0.2904270796489662,\"y1\":0.9313642445615601,\"yref\":\"y\"}],\"template\":{\"data\":{\"bar\":[{\"error_x\":{\"color\":\"#2a3f5f\"},\"error_y\":{\"color\":\"#2a3f5f\"},\"marker\":{\"line\":{\"color\":\"#E5ECF6\",\"width\":0.5},\"pattern\":{\"fillmode\":\"overlay\",\"size\":10,\"solidity\":0.2}},\"type\":\"bar\"}],\"barpolar\":[{\"marker\":{\"line\":{\"color\":\"#E5ECF6\",\"width\":0.5},\"pattern\":{\"fillmode\":\"overlay\",\"size\":10,\"solidity\":0.2}},\"type\":\"barpolar\"}],\"carpet\":[{\"aaxis\":{\"endlinecolor\":\"#2a3f5f\",\"gridcolor\":\"white\",\"linecolor\":\"white\",\"minorgridcolor\":\"white\",\"startlinecolor\":\"#2a3f5f\"},\"baxis\":{\"endlinecolor\":\"#2a3f5f\",\"gridcolor\":\"white\",\"linecolor\":\"white\",\"minorgridcolor\":\"white\",\"startlinecolor\":\"#2a3f5f\"},\"type\":\"carpet\"}],\"choropleth\":[{\"colorbar\":{\"outlinewidth\":0,\"ticks\":\"\"},\"type\":\"choropleth\"}],\"contour\":[{\"colorbar\":{\"outlinewidth\":0,\"ticks\":\"\"},\"colorscale\":[[0.0,\"#0d0887\"],[0.1111111111111111,\"#46039f\"],[0.2222222222222222,\"#7201a8\"],[0.3333333333333333,\"#9c179e\"],[0.4444444444444444,\"#bd3786\"],[0.5555555555555556,\"#d8576b\"],[0.6666666666666666,\"#ed7953\"],[0.7777777777777778,\"#fb9f3a\"],[0.8888888888888888,\"#fdca26\"],[1.0,\"#f0f921\"]],\"type\":\"contour\"}],\"contourcarpet\":[{\"colorbar\":{\"outlinewidth\":0,\"ticks\":\"\"},\"type\":\"contourcarpet\"}],\"heatmap\":[{\"colorbar\":{\"outlinewidth\":0,\"ticks\":\"\"},\"colorscale\":[[0.0,\"#0d0887\"],[0.1111111111111111,\"#46039f\"],[0.2222222222222222,\"#7201a8\"],[0.3333333333333333,\"#9c179e\"],[0.4444444444444444,\"#bd3786\"],[0.5555555555555556,\"#d8576b\"],[0.6666666666666666,\"#ed7953\"],[0.7777777777777778,\"#fb9f3a\"],[0.8888888888888888,\"#fdca26\"],[1.0,\"#f0f921\"]],\"type\":\"heatmap\"}],\"heatmapgl\":[{\"colorbar\":{\"outlinewidth\":0,\"ticks\":\"\"},\"colorscale\":[[0.0,\"#0d0887\"],[0.1111111111111111,\"#46039f\"],[0.2222222222222222,\"#7201a8\"],[0.3333333333333333,\"#9c179e\"],[0.4444444444444444,\"#bd3786\"],[0.5555555555555556,\"#d8576b\"],[0.6666666666666666,\"#ed7953\"],[0.7777777777777778,\"#fb9f3a\"],[0.8888888888888888,\"#fdca26\"],[1.0,\"#f0f921\"]],\"type\":\"heatmapgl\"}],\"histogram\":[{\"marker\":{\"pattern\":{\"fillmode\":\"overlay\",\"size\":10,\"solidity\":0.2}},\"type\":\"histogram\"}],\"histogram2d\":[{\"colorbar\":{\"outlinewidth\":0,\"ticks\":\"\"},\"colorscale\":[[0.0,\"#0d0887\"],[0.1111111111111111,\"#46039f\"],[0.2222222222222222,\"#7201a8\"],[0.3333333333333333,\"#9c179e\"],[0.4444444444444444,\"#bd3786\"],[0.5555555555555556,\"#d8576b\"],[0.6666666666666666,\"#ed7953\"],[0.7777777777777778,\"#fb9f3a\"],[0.8888888888888888,\"#fdca26\"],[1.0,\"#f0f921\"]],\"type\":\"histogram2d\"}],\"histogram2dcontour\":[{\"colorbar\":{\"outlinewidth\":0,\"ticks\":\"\"},\"colorscale\":[[0.0,\"#0d0887\"],[0.1111111111111111,\"#46039f\"],[0.2222222222222222,\"#7201a8\"],[0.3333333333333333,\"#9c179e\"],[0.4444444444444444,\"#bd3786\"],[0.5555555555555556,\"#d8576b\"],[0.6666666666666666,\"#ed7953\"],[0.7777777777777778,\"#fb9f3a\"],[0.8888888888888888,\"#fdca26\"],[1.0,\"#f0f921\"]],\"type\":\"histogram2dcontour\"}],\"mesh3d\":[{\"colorbar\":{\"outlinewidth\":0,\"ticks\":\"\"},\"type\":\"mesh3d\"}],\"parcoords\":[{\"line\":{\"colorbar\":{\"outlinewidth\":0,\"ticks\":\"\"}},\"type\":\"parcoords\"}],\"pie\":[{\"automargin\":true,\"type\":\"pie\"}],\"scatter\":[{\"marker\":{\"colorbar\":{\"outlinewidth\":0,\"ticks\":\"\"}},\"type\":\"scatter\"}],\"scatter3d\":[{\"line\":{\"colorbar\":{\"outlinewidth\":0,\"ticks\":\"\"}},\"marker\":{\"colorbar\":{\"outlinewidth\":0,\"ticks\":\"\"}},\"type\":\"scatter3d\"}],\"scattercarpet\":[{\"marker\":{\"colorbar\":{\"outlinewidth\":0,\"ticks\":\"\"}},\"type\":\"scattercarpet\"}],\"scattergeo\":[{\"marker\":{\"colorbar\":{\"outlinewidth\":0,\"ticks\":\"\"}},\"type\":\"scattergeo\"}],\"scattergl\":[{\"marker\":{\"colorbar\":{\"outlinewidth\":0,\"ticks\":\"\"}},\"type\":\"scattergl\"}],\"scattermapbox\":[{\"marker\":{\"colorbar\":{\"outlinewidth\":0,\"ticks\":\"\"}},\"type\":\"scattermapbox\"}],\"scatterpolar\":[{\"marker\":{\"colorbar\":{\"outlinewidth\":0,\"ticks\":\"\"}},\"type\":\"scatterpolar\"}],\"scatterpolargl\":[{\"marker\":{\"colorbar\":{\"outlinewidth\":0,\"ticks\":\"\"}},\"type\":\"scatterpolargl\"}],\"scatterternary\":[{\"marker\":{\"colorbar\":{\"outlinewidth\":0,\"ticks\":\"\"}},\"type\":\"scatterternary\"}],\"surface\":[{\"colorbar\":{\"outlinewidth\":0,\"ticks\":\"\"},\"colorscale\":[[0.0,\"#0d0887\"],[0.1111111111111111,\"#46039f\"],[0.2222222222222222,\"#7201a8\"],[0.3333333333333333,\"#9c179e\"],[0.4444444444444444,\"#bd3786\"],[0.5555555555555556,\"#d8576b\"],[0.6666666666666666,\"#ed7953\"],[0.7777777777777778,\"#fb9f3a\"],[0.8888888888888888,\"#fdca26\"],[1.0,\"#f0f921\"]],\"type\":\"surface\"}],\"table\":[{\"cells\":{\"fill\":{\"color\":\"#EBF0F8\"},\"line\":{\"color\":\"white\"}},\"header\":{\"fill\":{\"color\":\"#C8D4E3\"},\"line\":{\"color\":\"white\"}},\"type\":\"table\"}]},\"layout\":{\"annotationdefaults\":{\"arrowcolor\":\"#2a3f5f\",\"arrowhead\":0,\"arrowwidth\":1},\"autotypenumbers\":\"strict\",\"coloraxis\":{\"colorbar\":{\"outlinewidth\":0,\"ticks\":\"\"}},\"colorscale\":{\"diverging\":[[0,\"#8e0152\"],[0.1,\"#c51b7d\"],[0.2,\"#de77ae\"],[0.3,\"#f1b6da\"],[0.4,\"#fde0ef\"],[0.5,\"#f7f7f7\"],[0.6,\"#e6f5d0\"],[0.7,\"#b8e186\"],[0.8,\"#7fbc41\"],[0.9,\"#4d9221\"],[1,\"#276419\"]],\"sequential\":[[0.0,\"#0d0887\"],[0.1111111111111111,\"#46039f\"],[0.2222222222222222,\"#7201a8\"],[0.3333333333333333,\"#9c179e\"],[0.4444444444444444,\"#bd3786\"],[0.5555555555555556,\"#d8576b\"],[0.6666666666666666,\"#ed7953\"],[0.7777777777777778,\"#fb9f3a\"],[0.8888888888888888,\"#fdca26\"],[1.0,\"#f0f921\"]],\"sequentialminus\":[[0.0,\"#0d0887\"],[0.1111111111111111,\"#46039f\"],[0.2222222222222222,\"#7201a8\"],[0.3333333333333333,\"#9c179e\"],[0.4444444444444444,\"#bd3786\"],[0.5555555555555556,\"#d8576b\"],[0.6666666666666666,\"#ed7953\"],[0.7777777777777778,\"#fb9f3a\"],[0.8888888888888888,\"#fdca26\"],[1.0,\"#f0f921\"]]},\"colorway\":[\"#636efa\",\"#EF553B\",\"#00cc96\",\"#ab63fa\",\"#FFA15A\",\"#19d3f3\",\"#FF6692\",\"#B6E880\",\"#FF97FF\",\"#FECB52\"],\"font\":{\"color\":\"#2a3f5f\"},\"geo\":{\"bgcolor\":\"white\",\"lakecolor\":\"white\",\"landcolor\":\"#E5ECF6\",\"showlakes\":true,\"showland\":true,\"subunitcolor\":\"white\"},\"hoverlabel\":{\"align\":\"left\"},\"hovermode\":\"closest\",\"mapbox\":{\"style\":\"light\"},\"paper_bgcolor\":\"white\",\"plot_bgcolor\":\"#E5ECF6\",\"polar\":{\"angularaxis\":{\"gridcolor\":\"white\",\"linecolor\":\"white\",\"ticks\":\"\"},\"bgcolor\":\"#E5ECF6\",\"radialaxis\":{\"gridcolor\":\"white\",\"linecolor\":\"white\",\"ticks\":\"\"}},\"scene\":{\"xaxis\":{\"backgroundcolor\":\"#E5ECF6\",\"gridcolor\":\"white\",\"gridwidth\":2,\"linecolor\":\"white\",\"showbackground\":true,\"ticks\":\"\",\"zerolinecolor\":\"white\"},\"yaxis\":{\"backgroundcolor\":\"#E5ECF6\",\"gridcolor\":\"white\",\"gridwidth\":2,\"linecolor\":\"white\",\"showbackground\":true,\"ticks\":\"\",\"zerolinecolor\":\"white\"},\"zaxis\":{\"backgroundcolor\":\"#E5ECF6\",\"gridcolor\":\"white\",\"gridwidth\":2,\"linecolor\":\"white\",\"showbackground\":true,\"ticks\":\"\",\"zerolinecolor\":\"white\"}},\"shapedefaults\":{\"line\":{\"color\":\"#2a3f5f\"}},\"ternary\":{\"aaxis\":{\"gridcolor\":\"white\",\"linecolor\":\"white\",\"ticks\":\"\"},\"baxis\":{\"gridcolor\":\"white\",\"linecolor\":\"white\",\"ticks\":\"\"},\"bgcolor\":\"#E5ECF6\",\"caxis\":{\"gridcolor\":\"white\",\"linecolor\":\"white\",\"ticks\":\"\"}},\"title\":{\"x\":0.05},\"xaxis\":{\"automargin\":true,\"gridcolor\":\"white\",\"linecolor\":\"white\",\"ticks\":\"\",\"title\":{\"standoff\":15},\"zerolinecolor\":\"white\",\"zerolinewidth\":2},\"yaxis\":{\"automargin\":true,\"gridcolor\":\"white\",\"linecolor\":\"white\",\"ticks\":\"\",\"title\":{\"standoff\":15},\"zerolinecolor\":\"white\",\"zerolinewidth\":2}}}},                        {\"responsive\": true}                    ).then(function(){\n",
       "                            \n",
       "var gd = document.getElementById('18f30065-0580-4bc5-914b-8b8911cd9c64');\n",
       "var x = new MutationObserver(function (mutations, observer) {{\n",
       "        var display = window.getComputedStyle(gd).display;\n",
       "        if (!display || display === 'none') {{\n",
       "            console.log([gd, 'removed!']);\n",
       "            Plotly.purge(gd);\n",
       "            observer.disconnect();\n",
       "        }}\n",
       "}});\n",
       "\n",
       "// Listen for the removal of the full notebook cells\n",
       "var notebookContainer = gd.closest('#notebook-container');\n",
       "if (notebookContainer) {{\n",
       "    x.observe(notebookContainer, {childList: true});\n",
       "}}\n",
       "\n",
       "// Listen for the clearing of the current output cell\n",
       "var outputEl = gd.closest('.output');\n",
       "if (outputEl) {{\n",
       "    x.observe(outputEl, {childList: true});\n",
       "}}\n",
       "\n",
       "                        })                };                });            </script>        </div>"
      ]
     },
     "metadata": {},
     "output_type": "display_data"
    }
   ],
   "source": [
    "# for n, color in enumerate('rgb'):\n",
    "#     print(color)\n",
    "\n",
    "\n",
    "\n",
    "\n",
    "\n",
    "\n",
    "\n",
    "\n",
    "\n",
    "fig = go.Figure()\n",
    "x0 = X.loc[y==0,'JHU_22.26156400.Theta']\n",
    "y0 = X.loc[y==0,'JHU_22.26156400.R']\n",
    "\n",
    "x1 = X.loc[y==1,'JHU_22.26156400.Theta']\n",
    "y1 = X.loc[y==1,'JHU_22.26156400.R']\n",
    "\n",
    "# Add scatter traces\n",
    "fig.add_trace(go.Scatter(x=x0, y=y0, mode=\"markers\"))\n",
    "fig.add_trace(go.Scatter(x=x1, y=y1, mode=\"markers\"))\n",
    "\n",
    "\n",
    "# Add shapes\n",
    "# fig.add_shape(type=\"circle\",\n",
    "#     xref=\"x\", yref=\"y\",\n",
    "#     x0=min(x0), y0=min(y0),\n",
    "#     x1=max(x0), y1=max(y0),\n",
    "#     opacity=0.2,\n",
    "#     fillcolor=\"blue\",\n",
    "#     line_color=\"blue\",\n",
    "# )\n",
    "\n",
    "\n",
    "for nsig in range(1,4):\n",
    "\n",
    "    width_ = width*nsig\n",
    "    height_ = height*nsig\n",
    "    \n",
    "    e_x0 = pos[0] - width_\n",
    "    e_x1 = pos[0] + width_\n",
    "    e_y0 = pos[1] - height_\n",
    "    e_y1 = pos[1] + height_\n",
    "\n",
    "    fig.add_shape(type=\"circle\",\n",
    "        xref=\"x\", yref=\"y\",\n",
    "        x0=e_x0, y0=e_y0,\n",
    "        x1=e_x1, y1=e_y1,\n",
    "        opacity=0.2,\n",
    "        fillcolor=\"orange\",\n",
    "        line_color=\"orange\",\n",
    "    )\n",
    "fig.show()\n"
   ]
  },
  {
   "cell_type": "code",
   "execution_count": 14,
   "metadata": {},
   "outputs": [
    {
     "data": {
      "text/plain": [
       "<seaborn.axisgrid.FacetGrid at 0x7fbc53be5730>"
      ]
     },
     "execution_count": 14,
     "metadata": {},
     "output_type": "execute_result"
    },
    {
     "data": {
      "image/png": "[encoded data removed]",
      "text/plain": [
       "<Figure size 515.8x360 with 1 Axes>"
      ]
     },
     "metadata": {},
     "output_type": "display_data"
    }
   ],
   "source": [
    "SNP_of_interest = 'JHU_22.26156400'\n",
    "geno_col = SNP_of_interest + \".GType\"\n",
    "theta_col = SNP_of_interest + \".Theta\"\n",
    "r_col = SNP_of_interest + \".R\"\n",
    "# image_out = out_file + SNP_of_interest + \".png\"\n",
    "sns_plot = sns.relplot(data=to_plot_df, x=theta_col, y=r_col, hue=geno_col)\n",
    "sns_plot.set(xlim=(-0.1, 1.1))\n",
    "sns_plot.set(ylim=(-0.1, 3.1))\n",
    "# plt.savefig(image_out)\n",
    "# plt.show()\n",
    "# st.pyplot(sns_plot)\n"
   ]
  },
  {
   "cell_type": "code",
   "execution_count": 15,
   "metadata": {},
   "outputs": [
    {
     "data": {
      "text/plain": [
       "<seaborn.axisgrid.FacetGrid at 0x7fbc51a4c4f0>"
      ]
     },
     "execution_count": 15,
     "metadata": {},
     "output_type": "execute_result"
    },
    {
     "data": {
      "image/png": "[encoded data removed]",
      "text/plain": [
       "<Figure size 461.05x360 with 1 Axes>"
      ]
     },
     "metadata": {},
     "output_type": "display_data"
    }
   ],
   "source": [
    "from sklearn.mixture import GaussianMixture\n",
    "\n",
    "X = to_plot_df[[theta_col,r_col]].copy()\n",
    "gmm = GaussianMixture(n_components=2, covariance_type= \"full\", random_state = 123).fit(X)\n",
    "labels = gmm.predict(X)\n",
    "X.loc[:,'predicted_label']=labels\n",
    "\n",
    "sns_plot = sns.relplot(data=X, x=theta_col, y=r_col, hue=\"predicted_label\")\n",
    "sns_plot.set(xlim=(-0.1, 1.1))\n",
    "sns_plot.set(ylim=(-0.1, 3.1))"
   ]
  },
  {
   "cell_type": "code",
   "execution_count": 17,
   "metadata": {},
   "outputs": [
    {
     "data": {
      "text/plain": [
       "<seaborn.axisgrid.FacetGrid at 0x7fbc499de760>"
      ]
     },
     "execution_count": 17,
     "metadata": {},
     "output_type": "execute_result"
    },
    {
     "data": {
      "image/png": "[encoded data removed]",
      "text/plain": [
       "<Figure size 461.05x360 with 1 Axes>"
      ]
     },
     "metadata": {},
     "output_type": "display_data"
    }
   ],
   "source": [
    "from sklearn.mixture import GaussianMixture\n",
    "gtypes_for_gmm = list(to_plot_df[geno_col].unique())\n",
    "gtypes_for_gmm.remove('NC')\n",
    "n_components = len(gtypes_for_gmm)\n",
    "\n",
    "X = to_plot_df[[theta_col,r_col]].copy()\n",
    "gmm = GaussianMixture(n_components=n_components, covariance_type= \"diag\", random_state = 10).fit(X)\n",
    "labels = gmm.predict(X)\n",
    "X.loc[:,'predicted_label'] = labels\n",
    "# plt.figure(figsize=(9,7))\n",
    "sns.relplot(data=X, \n",
    "                x=theta_col,\n",
    "                y=r_col, \n",
    "                hue=\"predicted_label\")"
   ]
  },
  {
   "cell_type": "code",
   "execution_count": null,
   "metadata": {},
   "outputs": [],
   "source": []
  },
  {
   "cell_type": "code",
   "execution_count": null,
   "metadata": {},
   "outputs": [],
   "source": []
  },
  {
   "cell_type": "code",
   "execution_count": null,
   "metadata": {},
   "outputs": [],
   "source": []
  },
  {
   "cell_type": "code",
   "execution_count": null,
   "metadata": {},
   "outputs": [],
   "source": []
  },
  {
   "cell_type": "markdown",
   "metadata": {},
   "source": [
    "# code to be removed\n"
   ]
  },
  {
   "cell_type": "code",
   "execution_count": 21,
   "metadata": {},
   "outputs": [
    {
     "data": {
      "text/html": [
       "<div>\n",
       "<style scoped>\n",
       "    .dataframe tbody tr th:only-of-type {\n",
       "        vertical-align: middle;\n",
       "    }\n",
       "\n",
       "    .dataframe tbody tr th {\n",
       "        vertical-align: top;\n",
       "    }\n",
       "\n",
       "    .dataframe thead th {\n",
       "        text-align: right;\n",
       "    }\n",
       "</style>\n",
       "<table border=\"1\" class=\"dataframe\">\n",
       "  <thead>\n",
       "    <tr style=\"text-align: right;\">\n",
       "      <th>idx</th>\n",
       "      <th>JHU_22.26156400.Theta</th>\n",
       "      <th>JHU_22.26156400.R</th>\n",
       "      <th>predicted_label</th>\n",
       "    </tr>\n",
       "  </thead>\n",
       "  <tbody>\n",
       "    <tr>\n",
       "      <th>FS04821313_FO0000275_FUS_R495*_A01_17_A01</th>\n",
       "      <td>0.062027</td>\n",
       "      <td>0.600773</td>\n",
       "      <td>1</td>\n",
       "    </tr>\n",
       "    <tr>\n",
       "      <th>FS04821314_FO0000152_MAPT_R317W_A08_17_B01</th>\n",
       "      <td>0.081050</td>\n",
       "      <td>0.728735</td>\n",
       "      <td>1</td>\n",
       "    </tr>\n",
       "    <tr>\n",
       "      <th>FS04821315_FO0000163_MAPT_R317W_G09_17_B12</th>\n",
       "      <td>0.086248</td>\n",
       "      <td>0.668563</td>\n",
       "      <td>1</td>\n",
       "    </tr>\n",
       "    <tr>\n",
       "      <th>FS04821316_FO0000176_ANG_K41I_A04_17_D01</th>\n",
       "      <td>0.100073</td>\n",
       "      <td>0.687123</td>\n",
       "      <td>1</td>\n",
       "    </tr>\n",
       "    <tr>\n",
       "      <th>FS04821317_FO0000188_SNCB_P123H_B08_17_E01</th>\n",
       "      <td>0.073081</td>\n",
       "      <td>0.624279</td>\n",
       "      <td>1</td>\n",
       "    </tr>\n",
       "    <tr>\n",
       "      <th>...</th>\n",
       "      <td>...</td>\n",
       "      <td>...</td>\n",
       "      <td>...</td>\n",
       "    </tr>\n",
       "    <tr>\n",
       "      <th>FS04821404_FO0000171_APP_A673T_D09_17_C08</th>\n",
       "      <td>0.110191</td>\n",
       "      <td>0.643409</td>\n",
       "      <td>1</td>\n",
       "    </tr>\n",
       "    <tr>\n",
       "      <th>FS04821405_FO0000172_APP_A673T_D12_17_C09</th>\n",
       "      <td>0.082090</td>\n",
       "      <td>0.650478</td>\n",
       "      <td>1</td>\n",
       "    </tr>\n",
       "    <tr>\n",
       "      <th>FS04821406_FO0000173_APP_A673T_F06_17_C10</th>\n",
       "      <td>0.080408</td>\n",
       "      <td>0.673840</td>\n",
       "      <td>1</td>\n",
       "    </tr>\n",
       "    <tr>\n",
       "      <th>FS04821407_FO0000174_APP_A673T_H08_17_C11</th>\n",
       "      <td>0.135242</td>\n",
       "      <td>0.652273</td>\n",
       "      <td>1</td>\n",
       "    </tr>\n",
       "    <tr>\n",
       "      <th>PositiveControl_1_NA_NA</th>\n",
       "      <td>0.896738</td>\n",
       "      <td>0.254449</td>\n",
       "      <td>0</td>\n",
       "    </tr>\n",
       "  </tbody>\n",
       "</table>\n",
       "<p>96 rows × 3 columns</p>\n",
       "</div>"
      ],
      "text/plain": [
       "idx                                         JHU_22.26156400.Theta  \\\n",
       "FS04821313_FO0000275_FUS_R495*_A01_17_A01                0.062027   \n",
       "FS04821314_FO0000152_MAPT_R317W_A08_17_B01               0.081050   \n",
       "FS04821315_FO0000163_MAPT_R317W_G09_17_B12               0.086248   \n",
       "FS04821316_FO0000176_ANG_K41I_A04_17_D01                 0.100073   \n",
       "FS04821317_FO0000188_SNCB_P123H_B08_17_E01               0.073081   \n",
       "...                                                           ...   \n",
       "FS04821404_FO0000171_APP_A673T_D09_17_C08                0.110191   \n",
       "FS04821405_FO0000172_APP_A673T_D12_17_C09                0.082090   \n",
       "FS04821406_FO0000173_APP_A673T_F06_17_C10                0.080408   \n",
       "FS04821407_FO0000174_APP_A673T_H08_17_C11                0.135242   \n",
       "PositiveControl_1_NA_NA                                  0.896738   \n",
       "\n",
       "idx                                         JHU_22.26156400.R  predicted_label  \n",
       "FS04821313_FO0000275_FUS_R495*_A01_17_A01            0.600773                1  \n",
       "FS04821314_FO0000152_MAPT_R317W_A08_17_B01           0.728735                1  \n",
       "FS04821315_FO0000163_MAPT_R317W_G09_17_B12           0.668563                1  \n",
       "FS04821316_FO0000176_ANG_K41I_A04_17_D01             0.687123                1  \n",
       "FS04821317_FO0000188_SNCB_P123H_B08_17_E01           0.624279                1  \n",
       "...                                                       ...              ...  \n",
       "FS04821404_FO0000171_APP_A673T_D09_17_C08            0.643409                1  \n",
       "FS04821405_FO0000172_APP_A673T_D12_17_C09            0.650478                1  \n",
       "FS04821406_FO0000173_APP_A673T_F06_17_C10            0.673840                1  \n",
       "FS04821407_FO0000174_APP_A673T_H08_17_C11            0.652273                1  \n",
       "PositiveControl_1_NA_NA                              0.254449                0  \n",
       "\n",
       "[96 rows x 3 columns]"
      ]
     },
     "execution_count": 21,
     "metadata": {},
     "output_type": "execute_result"
    }
   ],
   "source": [
    "position = gmm.means_\n",
    "covariance = gmm.covariances_\n",
    "\n",
    "\n",
    "# Convert covariance to principal axes\n",
    "if covariance.shape == (2, 2):\n",
    "    U, s, Vt = np.linalg.svd(covariance)\n",
    "    angle = np.degrees(np.arctan2(U[1, 0], U[0, 0]))\n",
    "    width, height = 2 * np.sqrt(s)\n",
    "else:\n",
    "    angle = 0\n",
    "    width, height = 2 * np.sqrt(covariance)\n",
    "\n",
    "# Draw the Ellipse\n",
    "for nsig in range(1, 4):\n",
    "    ax.add_patch(Ellipse(position, nsig * width, nsig * height,\n",
    "                            angle, **kwargs))\n",
    "        "
   ]
  },
  {
   "cell_type": "code",
   "execution_count": null,
   "metadata": {},
   "outputs": [],
   "source": []
  },
  {
   "cell_type": "code",
   "execution_count": 36,
   "metadata": {},
   "outputs": [
    {
     "data": {
      "text/plain": [
       "0.896737899999998"
      ]
     },
     "execution_count": 36,
     "metadata": {},
     "output_type": "execute_result"
    }
   ],
   "source": [
    "# import math\n",
    "# position = gmm.means_\n",
    "# covariances = gmm.covariances_\n",
    "# w = gmm.weights_\n",
    "\n",
    "# position[0][0]\n",
    "\n",
    "# def ellipse(x_center=0, y_center=0, ax1 = [1, 0],  ax2 = [0,1], a=1, b =1,  N=100):\n",
    "#    # x_center, y_center the coordinates of ellipse center\n",
    "#    # ax1 ax2 two orthonormal vectors representing the ellipse axis directions\n",
    "#    # a, b the ellipse parameters\n",
    "#    if np.linalg.norm(ax1) != 1 or np.linalg.norm(ax2) != 1:\n",
    "#        raise ValueError('ax1, ax2 must be unit vectors')\n",
    "#    if  abs(np.dot(ax1, ax2)) > 1e-06:\n",
    "#        raise ValueError('ax1, ax2 must be orthogonal vectors')\n",
    "#    #rotation matrix   \n",
    "#    R = np.array([ax1, ax2]).T\n",
    "#    if np.linalg.det(R) <0: \n",
    "#        raise ValueError(\"the det(R) must be positive to get a  positively oriented ellipse reference frame\")\n",
    "#    t = np.linspace(0, 2*math.pi, N)\n",
    "#    #ellipse parameterization with respect to a system of axes of directions a1, a2\n",
    "#    xs = a * math.cos(t)\n",
    "#    ys = b * math.sin(t)\n",
    "   \n",
    "#    # coordinate of the  ellipse points with respect to the system of axes [1, 0], [0,1] with origin (0,0)\n",
    "#    xp, yp = np.dot(R, [xs, ys])\n",
    "#    x = xp + x_center \n",
    "#    y = yp + y_center\n",
    "#    return x, y\n",
    "\n",
    "\n",
    "# ellipse(x_center=position[0], y_center=position[1])"
   ]
  },
  {
   "cell_type": "code",
   "execution_count": 31,
   "metadata": {},
   "outputs": [
    {
     "data": {
      "text/plain": [
       "array([[0.8967379 , 0.2544492 ],\n",
       "       [0.08019485, 0.61089566]])"
      ]
     },
     "execution_count": 31,
     "metadata": {},
     "output_type": "execute_result"
    }
   ],
   "source": [
    "position"
   ]
  },
  {
   "cell_type": "code",
   "execution_count": 15,
   "metadata": {},
   "outputs": [],
   "source": [
    "from matplotlib.patches import Ellipse\n",
    "\n",
    "def draw_ellipse(position, covariance, ax=None, **kwargs):\n",
    "    \"\"\"Draw an ellipse with a given position and covariance\"\"\"\n",
    "    ax = ax or plt.gca()\n",
    "    \n",
    "    # Convert covariance to principal axes\n",
    "    if covariance.shape == (2, 2):\n",
    "        U, s, Vt = np.linalg.svd(covariance)\n",
    "        angle = np.degrees(np.arctan2(U[1, 0], U[0, 0]))\n",
    "        width, height = 2 * np.sqrt(s)\n",
    "    else:\n",
    "        angle = 0\n",
    "        width, height = 2 * np.sqrt(covariance)\n",
    "    \n",
    "    # Draw the Ellipse\n",
    "    for nsig in range(1, 4):\n",
    "        ax.add_patch(Ellipse(position, nsig * width, nsig * height,\n",
    "                             angle, **kwargs))\n",
    "        \n",
    "\n",
    "def plot_gmm(gmm, X, label=True, ax=None):\n",
    "    ax = ax or plt.gca()\n",
    "    labels = gmm.fit(X).predict(X)\n",
    "    if label:\n",
    "        ax.scatter(X[:, 0], X[:, 1], c=labels, s=40, cmap='viridis', zorder=2)\n",
    "    else:\n",
    "        ax.scatter(X[:, 0], X[:, 1], s=40, zorder=2)\n",
    "    ax.axis('equal')\n",
    "    \n",
    "    w_factor = 0.2 / gmm.weights_.max()\n",
    "    for pos, covar, w in zip(gmm.means_, gmm.covariances_, gmm.weights_):\n",
    "        draw_ellipse(pos, covar, alpha=w * w_factor)\n",
    "\n",
    " "
   ]
  },
  {
   "cell_type": "code",
   "execution_count": 16,
   "metadata": {},
   "outputs": [
    {
     "ename": "TypeError",
     "evalue": "'(slice(None, None, None), 0)' is an invalid key",
     "output_type": "error",
     "traceback": [
      "\u001b[0;31m---------------------------------------------------------------------------\u001b[0m",
      "\u001b[0;31mTypeError\u001b[0m                                 Traceback (most recent call last)",
      "\u001b[0;32m/tmp/ipykernel_11805/1501894963.py\u001b[0m in \u001b[0;36m<module>\u001b[0;34m\u001b[0m\n\u001b[0;32m----> 1\u001b[0;31m \u001b[0mplot_gmm\u001b[0m\u001b[0;34m(\u001b[0m\u001b[0mgmm\u001b[0m\u001b[0;34m,\u001b[0m \u001b[0mto_plot_df\u001b[0m\u001b[0;34m[\u001b[0m\u001b[0;34m[\u001b[0m\u001b[0mtheta_col\u001b[0m\u001b[0;34m,\u001b[0m\u001b[0mr_col\u001b[0m\u001b[0;34m]\u001b[0m\u001b[0;34m]\u001b[0m\u001b[0;34m)\u001b[0m\u001b[0;34m\u001b[0m\u001b[0;34m\u001b[0m\u001b[0m\n\u001b[0m",
      "\u001b[0;32m/tmp/ipykernel_11805/3654798090.py\u001b[0m in \u001b[0;36mplot_gmm\u001b[0;34m(gmm, X, label, ax)\u001b[0m\n\u001b[1;32m     24\u001b[0m     \u001b[0mlabels\u001b[0m \u001b[0;34m=\u001b[0m \u001b[0mgmm\u001b[0m\u001b[0;34m.\u001b[0m\u001b[0mfit\u001b[0m\u001b[0;34m(\u001b[0m\u001b[0mX\u001b[0m\u001b[0;34m)\u001b[0m\u001b[0;34m.\u001b[0m\u001b[0mpredict\u001b[0m\u001b[0;34m(\u001b[0m\u001b[0mX\u001b[0m\u001b[0;34m)\u001b[0m\u001b[0;34m\u001b[0m\u001b[0;34m\u001b[0m\u001b[0m\n\u001b[1;32m     25\u001b[0m     \u001b[0;32mif\u001b[0m \u001b[0mlabel\u001b[0m\u001b[0;34m:\u001b[0m\u001b[0;34m\u001b[0m\u001b[0;34m\u001b[0m\u001b[0m\n\u001b[0;32m---> 26\u001b[0;31m         \u001b[0max\u001b[0m\u001b[0;34m.\u001b[0m\u001b[0mscatter\u001b[0m\u001b[0;34m(\u001b[0m\u001b[0mX\u001b[0m\u001b[0;34m[\u001b[0m\u001b[0;34m:\u001b[0m\u001b[0;34m,\u001b[0m \u001b[0;36m0\u001b[0m\u001b[0;34m]\u001b[0m\u001b[0;34m,\u001b[0m \u001b[0mX\u001b[0m\u001b[0;34m[\u001b[0m\u001b[0;34m:\u001b[0m\u001b[0;34m,\u001b[0m \u001b[0;36m1\u001b[0m\u001b[0;34m]\u001b[0m\u001b[0;34m,\u001b[0m \u001b[0mc\u001b[0m\u001b[0;34m=\u001b[0m\u001b[0mlabels\u001b[0m\u001b[0;34m,\u001b[0m \u001b[0ms\u001b[0m\u001b[0;34m=\u001b[0m\u001b[0;36m40\u001b[0m\u001b[0;34m,\u001b[0m \u001b[0mcmap\u001b[0m\u001b[0;34m=\u001b[0m\u001b[0;34m'viridis'\u001b[0m\u001b[0;34m,\u001b[0m \u001b[0mzorder\u001b[0m\u001b[0;34m=\u001b[0m\u001b[0;36m2\u001b[0m\u001b[0;34m)\u001b[0m\u001b[0;34m\u001b[0m\u001b[0;34m\u001b[0m\u001b[0m\n\u001b[0m\u001b[1;32m     27\u001b[0m     \u001b[0;32melse\u001b[0m\u001b[0;34m:\u001b[0m\u001b[0;34m\u001b[0m\u001b[0;34m\u001b[0m\u001b[0m\n\u001b[1;32m     28\u001b[0m         \u001b[0max\u001b[0m\u001b[0;34m.\u001b[0m\u001b[0mscatter\u001b[0m\u001b[0;34m(\u001b[0m\u001b[0mX\u001b[0m\u001b[0;34m[\u001b[0m\u001b[0;34m:\u001b[0m\u001b[0;34m,\u001b[0m \u001b[0;36m0\u001b[0m\u001b[0;34m]\u001b[0m\u001b[0;34m,\u001b[0m \u001b[0mX\u001b[0m\u001b[0;34m[\u001b[0m\u001b[0;34m:\u001b[0m\u001b[0;34m,\u001b[0m \u001b[0;36m1\u001b[0m\u001b[0;34m]\u001b[0m\u001b[0;34m,\u001b[0m \u001b[0ms\u001b[0m\u001b[0;34m=\u001b[0m\u001b[0;36m40\u001b[0m\u001b[0;34m,\u001b[0m \u001b[0mzorder\u001b[0m\u001b[0;34m=\u001b[0m\u001b[0;36m2\u001b[0m\u001b[0;34m)\u001b[0m\u001b[0;34m\u001b[0m\u001b[0;34m\u001b[0m\u001b[0m\n",
      "\u001b[0;32m~/.local/lib/python3.8/site-packages/pandas/core/frame.py\u001b[0m in \u001b[0;36m__getitem__\u001b[0;34m(self, key)\u001b[0m\n\u001b[1;32m   3453\u001b[0m             \u001b[0;32mif\u001b[0m \u001b[0mself\u001b[0m\u001b[0;34m.\u001b[0m\u001b[0mcolumns\u001b[0m\u001b[0;34m.\u001b[0m\u001b[0mnlevels\u001b[0m \u001b[0;34m>\u001b[0m \u001b[0;36m1\u001b[0m\u001b[0;34m:\u001b[0m\u001b[0;34m\u001b[0m\u001b[0;34m\u001b[0m\u001b[0m\n\u001b[1;32m   3454\u001b[0m                 \u001b[0;32mreturn\u001b[0m \u001b[0mself\u001b[0m\u001b[0;34m.\u001b[0m\u001b[0m_getitem_multilevel\u001b[0m\u001b[0;34m(\u001b[0m\u001b[0mkey\u001b[0m\u001b[0;34m)\u001b[0m\u001b[0;34m\u001b[0m\u001b[0;34m\u001b[0m\u001b[0m\n\u001b[0;32m-> 3455\u001b[0;31m             \u001b[0mindexer\u001b[0m \u001b[0;34m=\u001b[0m \u001b[0mself\u001b[0m\u001b[0;34m.\u001b[0m\u001b[0mcolumns\u001b[0m\u001b[0;34m.\u001b[0m\u001b[0mget_loc\u001b[0m\u001b[0;34m(\u001b[0m\u001b[0mkey\u001b[0m\u001b[0;34m)\u001b[0m\u001b[0;34m\u001b[0m\u001b[0;34m\u001b[0m\u001b[0m\n\u001b[0m\u001b[1;32m   3456\u001b[0m             \u001b[0;32mif\u001b[0m \u001b[0mis_integer\u001b[0m\u001b[0;34m(\u001b[0m\u001b[0mindexer\u001b[0m\u001b[0;34m)\u001b[0m\u001b[0;34m:\u001b[0m\u001b[0;34m\u001b[0m\u001b[0;34m\u001b[0m\u001b[0m\n\u001b[1;32m   3457\u001b[0m                 \u001b[0mindexer\u001b[0m \u001b[0;34m=\u001b[0m \u001b[0;34m[\u001b[0m\u001b[0mindexer\u001b[0m\u001b[0;34m]\u001b[0m\u001b[0;34m\u001b[0m\u001b[0;34m\u001b[0m\u001b[0m\n",
      "\u001b[0;32m~/.local/lib/python3.8/site-packages/pandas/core/indexes/base.py\u001b[0m in \u001b[0;36mget_loc\u001b[0;34m(self, key, method, tolerance)\u001b[0m\n\u001b[1;32m   3359\u001b[0m             \u001b[0mcasted_key\u001b[0m \u001b[0;34m=\u001b[0m \u001b[0mself\u001b[0m\u001b[0;34m.\u001b[0m\u001b[0m_maybe_cast_indexer\u001b[0m\u001b[0;34m(\u001b[0m\u001b[0mkey\u001b[0m\u001b[0;34m)\u001b[0m\u001b[0;34m\u001b[0m\u001b[0;34m\u001b[0m\u001b[0m\n\u001b[1;32m   3360\u001b[0m             \u001b[0;32mtry\u001b[0m\u001b[0;34m:\u001b[0m\u001b[0;34m\u001b[0m\u001b[0;34m\u001b[0m\u001b[0m\n\u001b[0;32m-> 3361\u001b[0;31m                 \u001b[0;32mreturn\u001b[0m \u001b[0mself\u001b[0m\u001b[0;34m.\u001b[0m\u001b[0m_engine\u001b[0m\u001b[0;34m.\u001b[0m\u001b[0mget_loc\u001b[0m\u001b[0;34m(\u001b[0m\u001b[0mcasted_key\u001b[0m\u001b[0;34m)\u001b[0m\u001b[0;34m\u001b[0m\u001b[0;34m\u001b[0m\u001b[0m\n\u001b[0m\u001b[1;32m   3362\u001b[0m             \u001b[0;32mexcept\u001b[0m \u001b[0mKeyError\u001b[0m \u001b[0;32mas\u001b[0m \u001b[0merr\u001b[0m\u001b[0;34m:\u001b[0m\u001b[0;34m\u001b[0m\u001b[0;34m\u001b[0m\u001b[0m\n\u001b[1;32m   3363\u001b[0m                 \u001b[0;32mraise\u001b[0m \u001b[0mKeyError\u001b[0m\u001b[0;34m(\u001b[0m\u001b[0mkey\u001b[0m\u001b[0;34m)\u001b[0m \u001b[0;32mfrom\u001b[0m \u001b[0merr\u001b[0m\u001b[0;34m\u001b[0m\u001b[0;34m\u001b[0m\u001b[0m\n",
      "\u001b[0;32m~/.local/lib/python3.8/site-packages/pandas/_libs/index.pyx\u001b[0m in \u001b[0;36mpandas._libs.index.IndexEngine.get_loc\u001b[0;34m()\u001b[0m\n",
      "\u001b[0;32m~/.local/lib/python3.8/site-packages/pandas/_libs/index.pyx\u001b[0m in \u001b[0;36mpandas._libs.index.IndexEngine.get_loc\u001b[0;34m()\u001b[0m\n",
      "\u001b[0;31mTypeError\u001b[0m: '(slice(None, None, None), 0)' is an invalid key"
     ]
    },
    {
     "data": {
      "image/png": "[encoded data removed]",
      "text/plain": [
       "<Figure size 432x288 with 1 Axes>"
      ]
     },
     "metadata": {},
     "output_type": "display_data"
    }
   ],
   "source": [
    "\n",
    "plot_gmm(gmm, to_plot_df[[theta_col,r_col]])   "
   ]
  },
  {
   "cell_type": "code",
   "execution_count": null,
   "metadata": {},
   "outputs": [],
   "source": []
  },
  {
   "cell_type": "code",
   "execution_count": null,
   "metadata": {},
   "outputs": [],
   "source": [
    "# # let's work with chr 22 for testing\n",
    "# report_in = pd.read_csv('../data/chr22_report.csv', engine='c', dtype={'Chr':str, 'position':int})\n",
    "\n",
    "# report = report_in.drop(columns=['Index', 'Address', 'Chr', 'Position', 'GenTrain Score', 'Frac A', 'Frac C', 'Frac G', 'Frac T'])\n",
    "\n",
    "# flag_maf=0.01\n",
    "# flag_gencall=0.5\n",
    "\n",
    "# # Chop out to GType, Score and Theta dataframes.\n",
    "# Name_df = report[['Name']].copy()\n",
    "# GType_df = report.loc[:, report.columns.str.endswith(\".GType\")]\n",
    "# Theta_df = report.loc[:, report.columns.str.endswith(\".Theta\")]\n",
    "# R_df = report.loc[:, report.columns.str.endswith(\".R\")]\n",
    "\n",
    "# Name_df['Name.GType'] = Name_df.loc[:,'Name'] + \".GType\"\n",
    "# Name_df['Name.Theta'] = Name_df.loc[:,'Name'] + \".Theta\"\n",
    "# Name_df['Name.R'] = Name_df.loc[:,'Name'] + \".R\"\n",
    "\n",
    "# # Merge names plus data types.\n",
    "# Name_GType_df = pd.concat([Name_df, GType_df], axis=1).rename(columns={\"Name.GType\":\"idx\"}).drop(columns=['Name', 'Name.Theta', 'Name.R'])\n",
    "# Name_GType_df.columns = Name_GType_df.columns.str.replace(\".GType\", \"\", regex=False)\n",
    "# Name_GType_df_final = Name_GType_df.set_index('idx')\n",
    "\n",
    "# Name_Theta_df = pd.concat([Name_df, Theta_df], axis=1).rename(columns={\"Name.Theta\": \"idx\"}).set_index('idx').drop(columns=['Name', 'Name.GType', 'Name.R'])\n",
    "# Name_Theta_df.columns = Name_Theta_df.columns.str.replace(\".Theta\", \"\", regex=False)\n",
    "\n",
    "# Name_R_df = pd.concat([Name_df, R_df], axis=1).rename(columns={\"Name.R\":\"idx\"}).set_index('idx').drop(columns=['Name', 'Name.Theta', 'Name.GType'])\n",
    "# Name_R_df.columns = Name_R_df.columns.str.replace(\".R\", \"\", regex=False)\n",
    "\n",
    "# #  Transpose the data frames and make the names of the variants plus the suffixes the columns.\n",
    "# GType_transposed_df = Name_GType_df_final.transpose()\n",
    "# Theta_transposed_df = Name_Theta_df.transpose()\n",
    "# R_transposed_df = Name_R_df.transpose()\n",
    "\n",
    "# # Smash everything together and get ready for plotting.\n",
    "# temp_df = GType_transposed_df.merge(Theta_transposed_df, left_index=True, right_index=True)\n",
    "# to_plot_df = temp_df.merge(R_transposed_df, left_index=True, right_index=True)\n",
    "\n",
    "# # get gentrain scores\n",
    "# gtrain_scores_df = report_in.loc[:,['Name','GenTrain Score']]\n",
    "# gtrain_scores_df.columns = ['snpid','gentrain_score']\n",
    "# # calculate maf\n",
    "# gtype_df = Name_GType_df.copy()\n",
    "# gtype_df.loc[:,'snpid'] = gtype_df.loc[:,'idx'].str.replace(\".GType\", \"\", regex=False)\n",
    "# gtype_to_maf = gtype_df.drop(columns=['idx'])\n",
    "# maf_scores_df = calculate_maf(gtype_to_maf)\n",
    "# flag_df = maf_scores_df.merge(gtrain_scores_df, how='inner', on='snpid')\n",
    "# flag_df.loc[:,'maf_flag'] = np.where(flag_df.maf<flag_maf, True, False)\n",
    "# flag_df.loc[:,'gencall_flag'] = np.where(flag_df.gentrain_score<flag_gencall, True, False)"
   ]
  },
  {
   "cell_type": "code",
   "execution_count": 11,
   "metadata": {},
   "outputs": [
    {
     "name": "stdout",
     "output_type": "stream",
     "text": [
      "39\n"
     ]
    }
   ],
   "source": [
    "snp_list = gtype_df.idx\n",
    "snps_of_interest = list()\n",
    "count=0\n",
    "for snp in snp_list:\n",
    "    if set(['NC','AA','BB']).issubset(list(GType_transposed_df[snp].unique())):\n",
    "        vc = GType_transposed_df[snp].value_counts()\n",
    "        # print(vc)\n",
    "        snps_of_interest.append(snp)\n",
    "        count+=1\n",
    "       \n",
    "print(count)"
   ]
  },
  {
   "cell_type": "code",
   "execution_count": 13,
   "metadata": {},
   "outputs": [],
   "source": [
    "# flag_df[(flag_df.maf>0.03) & (flag_df.maf<0.5)\n",
    "snps_of_interest_df = pd.DataFrame({'snp':snps_of_interest})\n",
    "snps_of_interest_df.loc[:,'snp'] = snps_of_interest_df.loc[:,'snp'].str.replace('.GType','',regex=False) \n",
    "snps_of_interest_df.to_csv('../data/testing_snps_of_interest.csv', index=False)"
   ]
  }
 ],
 "metadata": {
  "interpreter": {
   "hash": "916dbcbb3f70747c44a77c7bcd40155683ae19c65e1c03b4aa3499c5328201f1"
  },
  "kernelspec": {
   "display_name": "Python 3.8.5 64-bit",
   "language": "python",
   "name": "python3"
  },
  "language_info": {
   "codemirror_mode": {
    "name": "ipython",
    "version": 3
   },
   "file_extension": ".py",
   "mimetype": "text/x-python",
   "name": "python",
   "nbconvert_exporter": "python",
   "pygments_lexer": "ipython3",
   "version": "3.8.5"
  },
  "orig_nbformat": 4
 },
 "nbformat": 4,
 "nbformat_minor": 2
}
