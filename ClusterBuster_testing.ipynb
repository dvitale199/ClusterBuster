{
 "cells": [
  {
   "cell_type": "code",
   "execution_count": 1,
   "metadata": {},
   "outputs": [],
   "source": [
    "import pandas as pd\n",
    "import numpy as np\n",
    "import seaborn as sns\n",
    "import streamlit as st\n",
    "import matplotlib.pyplot as plt\n",
    "import seaborn as sns; sns.set()\n",
    "import numpy as np\n",
    "import plotly.graph_objects as go\n",
    "from sklearn.mixture import GaussianMixture\n",
    "import plotly.express as px\n",
    "\n",
    "from clusterbuster import parse_report, plot_clusters, gtype_gmm, calculate_maf, plot_hist_contour"
   ]
  },
  {
   "cell_type": "markdown",
   "metadata": {},
   "source": [
    "Some info on the values:\n",
    "\n",
    "R values are the intensities. R for a sample is the sum of normalized X and Y (R= X+ Y)\n",
    "Theta is the B allele frequency and is calculated by: (2/pi)*arctan(normalized Y/ normalized X)\n",
    "\n",
    "BAF = Y / (X + Y)\n",
    "LRR = log2( (X + Y)sampleOfInterest / (X+Y)baselineSample)"
   ]
  },
  {
   "cell_type": "code",
   "execution_count": 2,
   "metadata": {},
   "outputs": [],
   "source": [
    "# first, need to subset the huge report to just snps of interest\n",
    "# report = pd.read_csv('F4SEttehadieh_P1_Genotyping_Report.txt', engine='c', sep='\\t', dtype={'Chr':str, 'position':int})\n",
    "# split by chromosome\n",
    "# for chrom in report.Chr.unique():\n",
    "#     report[report.Chr==chrom].to_csv(f'data/chr{chrom}_report.csv', header=True, index=False)\n",
    "\n",
    "# report[report['GenTrain Score']<0.15]\n",
    "# snps_df = pd.read_csv('prototyping/snps_of_interest_first_data.txt', engine='c')\n",
    "# report[report.Name.isin(snps_df.Name)].to_csv('data/cb_test_snps.txt', sep='\\t', index=False)\n",
    "\n",
    "# check_header = pd.read_csv('../data/chr22_report.csv', nrows=0)\n",
    "# header_list = ['Index', 'Name', 'Address', 'Chr', 'Position', 'GenTrain Score','Frac A', 'Frac C', 'Frac G', 'Frac T']\n",
    "# all(elem in check_header.columns for elem in header_list)\n",
    "# check_header.columns\n"
   ]
  },
  {
   "cell_type": "code",
   "execution_count": 3,
   "metadata": {},
   "outputs": [],
   "source": [
    "report_in = pd.read_csv('../data/chr22_report.csv', engine='c', dtype={'Chr':str, 'position':int})\n",
    "\n",
    "report = parse_report(report_in, flag_maf=0.01, flag_gentrain=0.5)\n",
    "# test_report.keys()\n",
    "cb_df = report['clusterbuster_df']\n",
    "snps_df = report['flagged_snps']\n",
    "flagged = snps_df[snps_df.maf_flag & snps_df.gentrain_flag]\n",
    "\n",
    "total_flagged = snps_df[snps_df.maf_flag | snps_df.gentrain_flag].reset_index()\n",
    "both_flagged = snps_df[snps_df.maf_flag & snps_df.gentrain_flag].reset_index()\n",
    "maf_flagged = snps_df.loc[snps_df.maf_flag].reset_index()\n",
    "gentrain_flagged = snps_df.loc[snps_df.gentrain_flag].reset_index()"
   ]
  },
  {
   "cell_type": "code",
   "execution_count": 4,
   "metadata": {},
   "outputs": [],
   "source": [
    "# selected from user input\n",
    "selected_snp = 'exm1601793'\n",
    "# selected_snp = 'JHU_22.27408320'\n",
    "\n",
    "geno_col = selected_snp + \".GType\"\n",
    "theta_col = selected_snp + \".Theta\"\n",
    "r_col = selected_snp + \".R\"\n",
    "\n",
    "gtypes = list(cb_df[geno_col].unique())\n",
    "\n",
    "snp_for_plot_df = cb_df[['IID', theta_col, r_col, geno_col]].copy()\n",
    "snp_for_plot_df.columns = snp_for_plot_df.columns.str.replace(f'{selected_snp}.', '', regex=False)\n",
    "\n",
    "df = snp_for_plot_df.copy()\n",
    "x_col, y_col = 'Theta', 'R'\n",
    "gtypes_list = list(df.GType.unique())\n",
    "\n",
    "df = snp_for_plot_df.copy()\n",
    "x_col, y_col, gtype_col = 'Theta', 'R', 'GType'\n",
    "gtypes_list = (df.GType.unique())\n",
    "\n",
    "clusters_fig = plot_clusters(df=df, x_col=x_col, y_col=y_col, gtype_col=gtype_col, snpid=selected_snp)\n",
    "\n",
    "\n",
    "# clusters_fig.show()"
   ]
  },
  {
   "cell_type": "code",
   "execution_count": 5,
   "metadata": {},
   "outputs": [
    {
     "ename": "TypeError",
     "evalue": "plot_hist_contour() missing 2 required positional arguments: 'xlim' and 'ylim'",
     "output_type": "error",
     "traceback": [
      "\u001b[0;31m---------------------------------------------------------------------------\u001b[0m",
      "\u001b[0;31mTypeError\u001b[0m                                 Traceback (most recent call last)",
      "\u001b[0;32m/tmp/ipykernel_24892/2006200829.py\u001b[0m in \u001b[0;36m<module>\u001b[0;34m\u001b[0m\n\u001b[1;32m     24\u001b[0m \u001b[0mgmm_plot_df\u001b[0m\u001b[0;34m.\u001b[0m\u001b[0mloc\u001b[0m\u001b[0;34m[\u001b[0m\u001b[0;34m:\u001b[0m\u001b[0;34m,\u001b[0m\u001b[0;34m'original_gtype'\u001b[0m\u001b[0;34m]\u001b[0m \u001b[0;34m=\u001b[0m \u001b[0msnp_for_gmm_df\u001b[0m\u001b[0;34m.\u001b[0m\u001b[0mloc\u001b[0m\u001b[0;34m[\u001b[0m\u001b[0;34m:\u001b[0m\u001b[0;34m,\u001b[0m\u001b[0;34m'GType'\u001b[0m\u001b[0;34m]\u001b[0m\u001b[0;34m\u001b[0m\u001b[0;34m\u001b[0m\u001b[0m\n\u001b[1;32m     25\u001b[0m \u001b[0mgmm_plot_df\u001b[0m\u001b[0;34m\u001b[0m\u001b[0;34m\u001b[0m\u001b[0m\n\u001b[0;32m---> 26\u001b[0;31m \u001b[0mrecluster_fig\u001b[0m \u001b[0;34m=\u001b[0m \u001b[0mplot_hist_contour\u001b[0m\u001b[0;34m(\u001b[0m\u001b[0mgmm_plot_df\u001b[0m\u001b[0;34m,\u001b[0m \u001b[0mx_col\u001b[0m\u001b[0;34m=\u001b[0m\u001b[0;34m'Theta'\u001b[0m\u001b[0;34m,\u001b[0m \u001b[0my_col\u001b[0m\u001b[0;34m=\u001b[0m\u001b[0;34m'R'\u001b[0m\u001b[0;34m,\u001b[0m \u001b[0mgtype_col\u001b[0m\u001b[0;34m=\u001b[0m\u001b[0;34m'gtype_out'\u001b[0m\u001b[0;34m)\u001b[0m\u001b[0;34m\u001b[0m\u001b[0;34m\u001b[0m\u001b[0m\n\u001b[0m",
      "\u001b[0;31mTypeError\u001b[0m: plot_hist_contour() missing 2 required positional arguments: 'xlim' and 'ylim'"
     ]
    }
   ],
   "source": [
    "# now train a gmm and plot reclustered variants\n",
    "# get genotypes and number for choosing number of components\n",
    "gtypes_for_gmm = list(cb_df[geno_col].unique())\n",
    "gtypes_for_gmm.remove('NC')\n",
    "n_components = len(gtypes_for_gmm)\n",
    "\n",
    "snp_for_gmm_df = cb_df[['IID', theta_col, r_col, geno_col]].copy()\n",
    "snp_for_gmm_df.columns = snp_for_gmm_df.columns.str.replace(f'{selected_snp}.','', regex=False)\n",
    "gmm_out = gtype_gmm(snp_theta_r_df=snp_for_gmm_df, n_components=n_components)\n",
    "\n",
    "gmm_plot_df = gmm_out['X']\n",
    "gmm_plot_df.loc[:,'GType'] = gmm_out['y_pred']\n",
    "gmm_plot_df.loc[:,'IID'] = gmm_out['IID']\n",
    "gmm = gmm_out['gmm']\n",
    "\n",
    "cluster_means = {gtype:gmm_plot_df.loc[gmm_plot_df.GType==gtype,'Theta'].mean() for gtype in gmm_plot_df.GType.unique()}\n",
    "\n",
    "gtype_order = ['AA','AB','BB']\n",
    "gtypes_for_gmm_ordered = [gtype for gtype in gtype_order if gtype in gtypes_for_gmm]\n",
    "ordered_cluster_means = dict(sorted(cluster_means.items(), key=lambda item: item[1]))\n",
    "gmm_gtype_map = {list(ordered_cluster_means.keys())[i]:gtype for i, gtype in enumerate(gtypes_for_gmm_ordered)}\n",
    "\n",
    "gmm_plot_df.loc[:,'gtype_out'] = gmm_plot_df.loc[:,'GType'].replace(gmm_gtype_map)\n",
    "gmm_plot_df.loc[:,'original_gtype'] = snp_for_gmm_df.loc[:,'GType']\n",
    "gmm_plot_df\n",
    "# recluster_fig = plot_hist_contour(gmm_plot_df, x_col='Theta', y_col='R', gtype_col='gtype_out')"
   ]
  },
  {
   "cell_type": "code",
   "execution_count": 6,
   "metadata": {},
   "outputs": [],
   "source": [
    "# fig = go.make_subplots(\n",
    "#     rows=1, cols=2,shared_xaxes=True, specs=[[{'type': 'scatterplot'}, {'type': 'polar'}],\n",
    "#                            [{'type': 'scene'}, {'type': 'ternary'}]])"
   ]
  },
  {
   "cell_type": "code",
   "execution_count": 73,
   "metadata": {},
   "outputs": [
    {
     "data": {
      "application/vnd.plotly.v1+json": {
       "config": {
        "plotlyServerURL": "https://plot.ly"
       },
       "data": [
        {
         "hovertemplate": "GType=BB<br>Theta=%{x}<br>R=%{y}<extra></extra>",
         "legendgroup": "BB",
         "marker": {
          "color": "#2CA02C",
          "symbol": "circle"
         },
         "mode": "markers",
         "name": "BB",
         "orientation": "v",
         "showlegend": true,
         "type": "scatter",
         "x": [
          0.9783415,
          0.9504623,
          0.9741675,
          0.9593747,
          0.9544989,
          0.9494527,
          0.9554906,
          0.9632757,
          0.961739,
          0.97149,
          0.9681001,
          0.9717402,
          0.9579055,
          0.9733081,
          0.9618404,
          0.9758378,
          0.9630002,
          0.9573405,
          0.9550448,
          0.9673235,
          0.936164,
          0.9478692,
          0.9509611,
          0.9573662,
          0.9576157,
          0.9629935,
          0.9517125,
          0.9531431,
          0.947571,
          0.9553232,
          0.9494918,
          0.9538915,
          0.958737,
          0.9647852,
          0.9591101,
          0.9642828,
          0.958279,
          0.9521781,
          0.9593722,
          0.9658979,
          0.9572034,
          0.9519868,
          0.9630252,
          0.9533402,
          0.9655342,
          0.9574209,
          0.9643096,
          0.9534758,
          0.9594354,
          0.9531994,
          0.9329,
          0.9591395,
          0.9555489,
          0.9434448,
          0.9563623,
          0.9604501,
          0.9473326,
          0.9729456,
          0.9757709,
          0.9630159,
          0.9571338,
          0.9560378,
          0.934392,
          0.9602152,
          0.9701965,
          0.9553831,
          0.9556195,
          0.9671876,
          0.9583478,
          0.9522132,
          0.9644687,
          0.9426908
         ],
         "xaxis": "x",
         "y": [
          1.124041,
          1.28643,
          1.143932,
          1.239037,
          1.171495,
          1.132143,
          1.104728,
          1.117225,
          1.161996,
          1.143396,
          1.193882,
          1.145939,
          1.214612,
          1.195241,
          1.174356,
          1.191462,
          1.180584,
          1.214954,
          1.168255,
          1.186066,
          1.20844,
          1.230156,
          1.087062,
          1.123863,
          1.155385,
          1.192624,
          1.082331,
          1.156006,
          1.124266,
          1.167745,
          1.162335,
          1.146031,
          1.197268,
          1.150787,
          1.106112,
          1.143792,
          1.178022,
          1.233601,
          1.1828,
          1.171732,
          1.179432,
          1.153898,
          1.110721,
          1.136749,
          1.172696,
          1.100838,
          1.145391,
          1.197685,
          1.151607,
          1.223667,
          1.110455,
          1.133145,
          1.23889,
          1.120863,
          1.157234,
          1.186532,
          1.256602,
          1.1367,
          1.182563,
          1.220313,
          1.195901,
          1.197863,
          1.166847,
          1.168691,
          1.144719,
          1.131924,
          1.163753,
          1.177838,
          1.160252,
          1.151133,
          1.133834,
          0.8265839
         ],
         "yaxis": "y"
        },
        {
         "hovertemplate": "GType=AA<br>Theta=%{x}<br>R=%{y}<extra></extra>",
         "legendgroup": "AA",
         "marker": {
          "color": "#1F77B4",
          "symbol": "circle"
         },
         "mode": "markers",
         "name": "AA",
         "orientation": "v",
         "showlegend": true,
         "type": "scatter",
         "x": [
          0.03372161,
          0.01768242,
          0.01934427,
          0.02041522,
          0.00777587,
          0.01317158,
          0.02604505,
          0.02846322,
          0.05940904,
          0.07457311,
          0.1443147,
          0.01120784,
          0.01508966,
          0.02031893,
          0.01372548
         ],
         "xaxis": "x",
         "y": [
          1.453825,
          1.507179,
          1.54051,
          1.554099,
          1.536457,
          1.468724,
          1.524307,
          1.475467,
          1.515514,
          1.362646,
          1.396757,
          1.523173,
          1.59149,
          1.614841,
          1.494911
         ],
         "yaxis": "y"
        },
        {
         "hovertemplate": "GType=AB<br>Theta=%{x}<br>R=%{y}<extra></extra>",
         "legendgroup": "AB",
         "marker": {
          "color": "#FF7F0E",
          "symbol": "circle"
         },
         "mode": "markers",
         "name": "AB",
         "orientation": "v",
         "showlegend": true,
         "type": "scatter",
         "x": [
          0.3452697,
          0.3765664,
          0.385852,
          0.3814036,
          0.4036807,
          0.4202441,
          0.4191646
         ],
         "xaxis": "x",
         "y": [
          1.315046,
          1.362909,
          1.437546,
          1.358505,
          1.39309,
          1.32721,
          1.33464
         ],
         "yaxis": "y"
        },
        {
         "hovertemplate": "GType=NC<br>Theta=%{x}<br>R=%{y}<extra></extra>",
         "legendgroup": "NC",
         "marker": {
          "color": "#D62728",
          "symbol": "circle"
         },
         "mode": "markers",
         "name": "NC",
         "orientation": "v",
         "showlegend": true,
         "type": "scatter",
         "x": [
          0.2626661,
          0.2459879
         ],
         "xaxis": "x",
         "y": [
          1.400039,
          1.293814
         ],
         "yaxis": "y"
        }
       ],
       "layout": {
        "height": 400,
        "legend": {
         "title": {
          "text": "GType"
         },
         "tracegroupgap": 0
        },
        "margin": {
         "t": 60
        },
        "template": {
         "data": {
          "bar": [
           {
            "error_x": {
             "color": "#2a3f5f"
            },
            "error_y": {
             "color": "#2a3f5f"
            },
            "marker": {
             "line": {
              "color": "#E5ECF6",
              "width": 0.5
             },
             "pattern": {
              "fillmode": "overlay",
              "size": 10,
              "solidity": 0.2
             }
            },
            "type": "bar"
           }
          ],
          "barpolar": [
           {
            "marker": {
             "line": {
              "color": "#E5ECF6",
              "width": 0.5
             },
             "pattern": {
              "fillmode": "overlay",
              "size": 10,
              "solidity": 0.2
             }
            },
            "type": "barpolar"
           }
          ],
          "carpet": [
           {
            "aaxis": {
             "endlinecolor": "#2a3f5f",
             "gridcolor": "white",
             "linecolor": "white",
             "minorgridcolor": "white",
             "startlinecolor": "#2a3f5f"
            },
            "baxis": {
             "endlinecolor": "#2a3f5f",
             "gridcolor": "white",
             "linecolor": "white",
             "minorgridcolor": "white",
             "startlinecolor": "#2a3f5f"
            },
            "type": "carpet"
           }
          ],
          "choropleth": [
           {
            "colorbar": {
             "outlinewidth": 0,
             "ticks": ""
            },
            "type": "choropleth"
           }
          ],
          "contour": [
           {
            "colorbar": {
             "outlinewidth": 0,
             "ticks": ""
            },
            "colorscale": [
             [
              0,
              "#0d0887"
             ],
             [
              0.1111111111111111,
              "#46039f"
             ],
             [
              0.2222222222222222,
              "#7201a8"
             ],
             [
              0.3333333333333333,
              "#9c179e"
             ],
             [
              0.4444444444444444,
              "#bd3786"
             ],
             [
              0.5555555555555556,
              "#d8576b"
             ],
             [
              0.6666666666666666,
              "#ed7953"
             ],
             [
              0.7777777777777778,
              "#fb9f3a"
             ],
             [
              0.8888888888888888,
              "#fdca26"
             ],
             [
              1,
              "#f0f921"
             ]
            ],
            "type": "contour"
           }
          ],
          "contourcarpet": [
           {
            "colorbar": {
             "outlinewidth": 0,
             "ticks": ""
            },
            "type": "contourcarpet"
           }
          ],
          "heatmap": [
           {
            "colorbar": {
             "outlinewidth": 0,
             "ticks": ""
            },
            "colorscale": [
             [
              0,
              "#0d0887"
             ],
             [
              0.1111111111111111,
              "#46039f"
             ],
             [
              0.2222222222222222,
              "#7201a8"
             ],
             [
              0.3333333333333333,
              "#9c179e"
             ],
             [
              0.4444444444444444,
              "#bd3786"
             ],
             [
              0.5555555555555556,
              "#d8576b"
             ],
             [
              0.6666666666666666,
              "#ed7953"
             ],
             [
              0.7777777777777778,
              "#fb9f3a"
             ],
             [
              0.8888888888888888,
              "#fdca26"
             ],
             [
              1,
              "#f0f921"
             ]
            ],
            "type": "heatmap"
           }
          ],
          "heatmapgl": [
           {
            "colorbar": {
             "outlinewidth": 0,
             "ticks": ""
            },
            "colorscale": [
             [
              0,
              "#0d0887"
             ],
             [
              0.1111111111111111,
              "#46039f"
             ],
             [
              0.2222222222222222,
              "#7201a8"
             ],
             [
              0.3333333333333333,
              "#9c179e"
             ],
             [
              0.4444444444444444,
              "#bd3786"
             ],
             [
              0.5555555555555556,
              "#d8576b"
             ],
             [
              0.6666666666666666,
              "#ed7953"
             ],
             [
              0.7777777777777778,
              "#fb9f3a"
             ],
             [
              0.8888888888888888,
              "#fdca26"
             ],
             [
              1,
              "#f0f921"
             ]
            ],
            "type": "heatmapgl"
           }
          ],
          "histogram": [
           {
            "marker": {
             "pattern": {
              "fillmode": "overlay",
              "size": 10,
              "solidity": 0.2
             }
            },
            "type": "histogram"
           }
          ],
          "histogram2d": [
           {
            "colorbar": {
             "outlinewidth": 0,
             "ticks": ""
            },
            "colorscale": [
             [
              0,
              "#0d0887"
             ],
             [
              0.1111111111111111,
              "#46039f"
             ],
             [
              0.2222222222222222,
              "#7201a8"
             ],
             [
              0.3333333333333333,
              "#9c179e"
             ],
             [
              0.4444444444444444,
              "#bd3786"
             ],
             [
              0.5555555555555556,
              "#d8576b"
             ],
             [
              0.6666666666666666,
              "#ed7953"
             ],
             [
              0.7777777777777778,
              "#fb9f3a"
             ],
             [
              0.8888888888888888,
              "#fdca26"
             ],
             [
              1,
              "#f0f921"
             ]
            ],
            "type": "histogram2d"
           }
          ],
          "histogram2dcontour": [
           {
            "colorbar": {
             "outlinewidth": 0,
             "ticks": ""
            },
            "colorscale": [
             [
              0,
              "#0d0887"
             ],
             [
              0.1111111111111111,
              "#46039f"
             ],
             [
              0.2222222222222222,
              "#7201a8"
             ],
             [
              0.3333333333333333,
              "#9c179e"
             ],
             [
              0.4444444444444444,
              "#bd3786"
             ],
             [
              0.5555555555555556,
              "#d8576b"
             ],
             [
              0.6666666666666666,
              "#ed7953"
             ],
             [
              0.7777777777777778,
              "#fb9f3a"
             ],
             [
              0.8888888888888888,
              "#fdca26"
             ],
             [
              1,
              "#f0f921"
             ]
            ],
            "type": "histogram2dcontour"
           }
          ],
          "mesh3d": [
           {
            "colorbar": {
             "outlinewidth": 0,
             "ticks": ""
            },
            "type": "mesh3d"
           }
          ],
          "parcoords": [
           {
            "line": {
             "colorbar": {
              "outlinewidth": 0,
              "ticks": ""
             }
            },
            "type": "parcoords"
           }
          ],
          "pie": [
           {
            "automargin": true,
            "type": "pie"
           }
          ],
          "scatter": [
           {
            "marker": {
             "colorbar": {
              "outlinewidth": 0,
              "ticks": ""
             }
            },
            "type": "scatter"
           }
          ],
          "scatter3d": [
           {
            "line": {
             "colorbar": {
              "outlinewidth": 0,
              "ticks": ""
             }
            },
            "marker": {
             "colorbar": {
              "outlinewidth": 0,
              "ticks": ""
             }
            },
            "type": "scatter3d"
           }
          ],
          "scattercarpet": [
           {
            "marker": {
             "colorbar": {
              "outlinewidth": 0,
              "ticks": ""
             }
            },
            "type": "scattercarpet"
           }
          ],
          "scattergeo": [
           {
            "marker": {
             "colorbar": {
              "outlinewidth": 0,
              "ticks": ""
             }
            },
            "type": "scattergeo"
           }
          ],
          "scattergl": [
           {
            "marker": {
             "colorbar": {
              "outlinewidth": 0,
              "ticks": ""
             }
            },
            "type": "scattergl"
           }
          ],
          "scattermapbox": [
           {
            "marker": {
             "colorbar": {
              "outlinewidth": 0,
              "ticks": ""
             }
            },
            "type": "scattermapbox"
           }
          ],
          "scatterpolar": [
           {
            "marker": {
             "colorbar": {
              "outlinewidth": 0,
              "ticks": ""
             }
            },
            "type": "scatterpolar"
           }
          ],
          "scatterpolargl": [
           {
            "marker": {
             "colorbar": {
              "outlinewidth": 0,
              "ticks": ""
             }
            },
            "type": "scatterpolargl"
           }
          ],
          "scatterternary": [
           {
            "marker": {
             "colorbar": {
              "outlinewidth": 0,
              "ticks": ""
             }
            },
            "type": "scatterternary"
           }
          ],
          "surface": [
           {
            "colorbar": {
             "outlinewidth": 0,
             "ticks": ""
            },
            "colorscale": [
             [
              0,
              "#0d0887"
             ],
             [
              0.1111111111111111,
              "#46039f"
             ],
             [
              0.2222222222222222,
              "#7201a8"
             ],
             [
              0.3333333333333333,
              "#9c179e"
             ],
             [
              0.4444444444444444,
              "#bd3786"
             ],
             [
              0.5555555555555556,
              "#d8576b"
             ],
             [
              0.6666666666666666,
              "#ed7953"
             ],
             [
              0.7777777777777778,
              "#fb9f3a"
             ],
             [
              0.8888888888888888,
              "#fdca26"
             ],
             [
              1,
              "#f0f921"
             ]
            ],
            "type": "surface"
           }
          ],
          "table": [
           {
            "cells": {
             "fill": {
              "color": "#EBF0F8"
             },
             "line": {
              "color": "white"
             }
            },
            "header": {
             "fill": {
              "color": "#C8D4E3"
             },
             "line": {
              "color": "white"
             }
            },
            "type": "table"
           }
          ]
         },
         "layout": {
          "annotationdefaults": {
           "arrowcolor": "#2a3f5f",
           "arrowhead": 0,
           "arrowwidth": 1
          },
          "autotypenumbers": "strict",
          "coloraxis": {
           "colorbar": {
            "outlinewidth": 0,
            "ticks": ""
           }
          },
          "colorscale": {
           "diverging": [
            [
             0,
             "#8e0152"
            ],
            [
             0.1,
             "#c51b7d"
            ],
            [
             0.2,
             "#de77ae"
            ],
            [
             0.3,
             "#f1b6da"
            ],
            [
             0.4,
             "#fde0ef"
            ],
            [
             0.5,
             "#f7f7f7"
            ],
            [
             0.6,
             "#e6f5d0"
            ],
            [
             0.7,
             "#b8e186"
            ],
            [
             0.8,
             "#7fbc41"
            ],
            [
             0.9,
             "#4d9221"
            ],
            [
             1,
             "#276419"
            ]
           ],
           "sequential": [
            [
             0,
             "#0d0887"
            ],
            [
             0.1111111111111111,
             "#46039f"
            ],
            [
             0.2222222222222222,
             "#7201a8"
            ],
            [
             0.3333333333333333,
             "#9c179e"
            ],
            [
             0.4444444444444444,
             "#bd3786"
            ],
            [
             0.5555555555555556,
             "#d8576b"
            ],
            [
             0.6666666666666666,
             "#ed7953"
            ],
            [
             0.7777777777777778,
             "#fb9f3a"
            ],
            [
             0.8888888888888888,
             "#fdca26"
            ],
            [
             1,
             "#f0f921"
            ]
           ],
           "sequentialminus": [
            [
             0,
             "#0d0887"
            ],
            [
             0.1111111111111111,
             "#46039f"
            ],
            [
             0.2222222222222222,
             "#7201a8"
            ],
            [
             0.3333333333333333,
             "#9c179e"
            ],
            [
             0.4444444444444444,
             "#bd3786"
            ],
            [
             0.5555555555555556,
             "#d8576b"
            ],
            [
             0.6666666666666666,
             "#ed7953"
            ],
            [
             0.7777777777777778,
             "#fb9f3a"
            ],
            [
             0.8888888888888888,
             "#fdca26"
            ],
            [
             1,
             "#f0f921"
            ]
           ]
          },
          "colorway": [
           "#636efa",
           "#EF553B",
           "#00cc96",
           "#ab63fa",
           "#FFA15A",
           "#19d3f3",
           "#FF6692",
           "#B6E880",
           "#FF97FF",
           "#FECB52"
          ],
          "font": {
           "color": "#2a3f5f"
          },
          "geo": {
           "bgcolor": "white",
           "lakecolor": "white",
           "landcolor": "#E5ECF6",
           "showlakes": true,
           "showland": true,
           "subunitcolor": "white"
          },
          "hoverlabel": {
           "align": "left"
          },
          "hovermode": "closest",
          "mapbox": {
           "style": "light"
          },
          "paper_bgcolor": "white",
          "plot_bgcolor": "#E5ECF6",
          "polar": {
           "angularaxis": {
            "gridcolor": "white",
            "linecolor": "white",
            "ticks": ""
           },
           "bgcolor": "#E5ECF6",
           "radialaxis": {
            "gridcolor": "white",
            "linecolor": "white",
            "ticks": ""
           }
          },
          "scene": {
           "xaxis": {
            "backgroundcolor": "#E5ECF6",
            "gridcolor": "white",
            "gridwidth": 2,
            "linecolor": "white",
            "showbackground": true,
            "ticks": "",
            "zerolinecolor": "white"
           },
           "yaxis": {
            "backgroundcolor": "#E5ECF6",
            "gridcolor": "white",
            "gridwidth": 2,
            "linecolor": "white",
            "showbackground": true,
            "ticks": "",
            "zerolinecolor": "white"
           },
           "zaxis": {
            "backgroundcolor": "#E5ECF6",
            "gridcolor": "white",
            "gridwidth": 2,
            "linecolor": "white",
            "showbackground": true,
            "ticks": "",
            "zerolinecolor": "white"
           }
          },
          "shapedefaults": {
           "line": {
            "color": "#2a3f5f"
           }
          },
          "ternary": {
           "aaxis": {
            "gridcolor": "white",
            "linecolor": "white",
            "ticks": ""
           },
           "baxis": {
            "gridcolor": "white",
            "linecolor": "white",
            "ticks": ""
           },
           "bgcolor": "#E5ECF6",
           "caxis": {
            "gridcolor": "white",
            "linecolor": "white",
            "ticks": ""
           }
          },
          "title": {
           "x": 0.05
          },
          "xaxis": {
           "automargin": true,
           "gridcolor": "white",
           "linecolor": "white",
           "ticks": "",
           "title": {
            "standoff": 15
           },
           "zerolinecolor": "white",
           "zerolinewidth": 2
          },
          "yaxis": {
           "automargin": true,
           "gridcolor": "white",
           "linecolor": "white",
           "ticks": "",
           "title": {
            "standoff": 15
           },
           "zerolinecolor": "white",
           "zerolinewidth": 2
          }
         }
        },
        "width": 600,
        "xaxis": {
         "anchor": "y",
         "domain": [
          0,
          1
         ],
         "title": {
          "text": "Theta"
         }
        },
        "yaxis": {
         "anchor": "x",
         "domain": [
          0,
          1
         ],
         "title": {
          "text": "R"
         }
        }
       }
      },
      "text/html": [
       "<div>                            <div id=\"a24e0292-eda0-4ef2-ae43-dc9ade47efee\" class=\"plotly-graph-div\" style=\"height:400px; width:600px;\"></div>            <script type=\"text/javascript\">                require([\"plotly\"], function(Plotly) {                    window.PLOTLYENV=window.PLOTLYENV || {};                                    if (document.getElementById(\"a24e0292-eda0-4ef2-ae43-dc9ade47efee\")) {                    Plotly.newPlot(                        \"a24e0292-eda0-4ef2-ae43-dc9ade47efee\",                        [{\"hovertemplate\":\"GType=BB<br>Theta=%{x}<br>R=%{y}<extra></extra>\",\"legendgroup\":\"BB\",\"marker\":{\"color\":\"#2CA02C\",\"symbol\":\"circle\"},\"mode\":\"markers\",\"name\":\"BB\",\"orientation\":\"v\",\"showlegend\":true,\"type\":\"scatter\",\"x\":[0.9783415,0.9504623,0.9741675,0.9593747,0.9544989,0.9494527,0.9554906,0.9632757,0.961739,0.97149,0.9681001,0.9717402,0.9579055,0.9733081,0.9618404,0.9758378,0.9630002,0.9573405,0.9550448,0.9673235,0.936164,0.9478692,0.9509611,0.9573662,0.9576157,0.9629935,0.9517125,0.9531431,0.947571,0.9553232,0.9494918,0.9538915,0.958737,0.9647852,0.9591101,0.9642828,0.958279,0.9521781,0.9593722,0.9658979,0.9572034,0.9519868,0.9630252,0.9533402,0.9655342,0.9574209,0.9643096,0.9534758,0.9594354,0.9531994,0.9329,0.9591395,0.9555489,0.9434448,0.9563623,0.9604501,0.9473326,0.9729456,0.9757709,0.9630159,0.9571338,0.9560378,0.934392,0.9602152,0.9701965,0.9553831,0.9556195,0.9671876,0.9583478,0.9522132,0.9644687,0.9426908],\"xaxis\":\"x\",\"y\":[1.124041,1.28643,1.143932,1.239037,1.171495,1.132143,1.104728,1.117225,1.161996,1.143396,1.193882,1.145939,1.214612,1.195241,1.174356,1.191462,1.180584,1.214954,1.168255,1.186066,1.20844,1.230156,1.087062,1.123863,1.155385,1.192624,1.082331,1.156006,1.124266,1.167745,1.162335,1.146031,1.197268,1.150787,1.106112,1.143792,1.178022,1.233601,1.1828,1.171732,1.179432,1.153898,1.110721,1.136749,1.172696,1.100838,1.145391,1.197685,1.151607,1.223667,1.110455,1.133145,1.23889,1.120863,1.157234,1.186532,1.256602,1.1367,1.182563,1.220313,1.195901,1.197863,1.166847,1.168691,1.144719,1.131924,1.163753,1.177838,1.160252,1.151133,1.133834,0.8265839],\"yaxis\":\"y\"},{\"hovertemplate\":\"GType=AA<br>Theta=%{x}<br>R=%{y}<extra></extra>\",\"legendgroup\":\"AA\",\"marker\":{\"color\":\"#1F77B4\",\"symbol\":\"circle\"},\"mode\":\"markers\",\"name\":\"AA\",\"orientation\":\"v\",\"showlegend\":true,\"type\":\"scatter\",\"x\":[0.03372161,0.01768242,0.01934427,0.02041522,0.00777587,0.01317158,0.02604505,0.02846322,0.05940904,0.07457311,0.1443147,0.01120784,0.01508966,0.02031893,0.01372548],\"xaxis\":\"x\",\"y\":[1.453825,1.507179,1.54051,1.554099,1.536457,1.468724,1.524307,1.475467,1.515514,1.362646,1.396757,1.523173,1.59149,1.614841,1.494911],\"yaxis\":\"y\"},{\"hovertemplate\":\"GType=AB<br>Theta=%{x}<br>R=%{y}<extra></extra>\",\"legendgroup\":\"AB\",\"marker\":{\"color\":\"#FF7F0E\",\"symbol\":\"circle\"},\"mode\":\"markers\",\"name\":\"AB\",\"orientation\":\"v\",\"showlegend\":true,\"type\":\"scatter\",\"x\":[0.3452697,0.3765664,0.385852,0.3814036,0.4036807,0.4202441,0.4191646],\"xaxis\":\"x\",\"y\":[1.315046,1.362909,1.437546,1.358505,1.39309,1.32721,1.33464],\"yaxis\":\"y\"},{\"hovertemplate\":\"GType=NC<br>Theta=%{x}<br>R=%{y}<extra></extra>\",\"legendgroup\":\"NC\",\"marker\":{\"color\":\"#D62728\",\"symbol\":\"circle\"},\"mode\":\"markers\",\"name\":\"NC\",\"orientation\":\"v\",\"showlegend\":true,\"type\":\"scatter\",\"x\":[0.2626661,0.2459879],\"xaxis\":\"x\",\"y\":[1.400039,1.293814],\"yaxis\":\"y\"}],                        {\"height\":400,\"legend\":{\"title\":{\"text\":\"GType\"},\"tracegroupgap\":0},\"margin\":{\"t\":60},\"template\":{\"data\":{\"bar\":[{\"error_x\":{\"color\":\"#2a3f5f\"},\"error_y\":{\"color\":\"#2a3f5f\"},\"marker\":{\"line\":{\"color\":\"#E5ECF6\",\"width\":0.5},\"pattern\":{\"fillmode\":\"overlay\",\"size\":10,\"solidity\":0.2}},\"type\":\"bar\"}],\"barpolar\":[{\"marker\":{\"line\":{\"color\":\"#E5ECF6\",\"width\":0.5},\"pattern\":{\"fillmode\":\"overlay\",\"size\":10,\"solidity\":0.2}},\"type\":\"barpolar\"}],\"carpet\":[{\"aaxis\":{\"endlinecolor\":\"#2a3f5f\",\"gridcolor\":\"white\",\"linecolor\":\"white\",\"minorgridcolor\":\"white\",\"startlinecolor\":\"#2a3f5f\"},\"baxis\":{\"endlinecolor\":\"#2a3f5f\",\"gridcolor\":\"white\",\"linecolor\":\"white\",\"minorgridcolor\":\"white\",\"startlinecolor\":\"#2a3f5f\"},\"type\":\"carpet\"}],\"choropleth\":[{\"colorbar\":{\"outlinewidth\":0,\"ticks\":\"\"},\"type\":\"choropleth\"}],\"contour\":[{\"colorbar\":{\"outlinewidth\":0,\"ticks\":\"\"},\"colorscale\":[[0.0,\"#0d0887\"],[0.1111111111111111,\"#46039f\"],[0.2222222222222222,\"#7201a8\"],[0.3333333333333333,\"#9c179e\"],[0.4444444444444444,\"#bd3786\"],[0.5555555555555556,\"#d8576b\"],[0.6666666666666666,\"#ed7953\"],[0.7777777777777778,\"#fb9f3a\"],[0.8888888888888888,\"#fdca26\"],[1.0,\"#f0f921\"]],\"type\":\"contour\"}],\"contourcarpet\":[{\"colorbar\":{\"outlinewidth\":0,\"ticks\":\"\"},\"type\":\"contourcarpet\"}],\"heatmap\":[{\"colorbar\":{\"outlinewidth\":0,\"ticks\":\"\"},\"colorscale\":[[0.0,\"#0d0887\"],[0.1111111111111111,\"#46039f\"],[0.2222222222222222,\"#7201a8\"],[0.3333333333333333,\"#9c179e\"],[0.4444444444444444,\"#bd3786\"],[0.5555555555555556,\"#d8576b\"],[0.6666666666666666,\"#ed7953\"],[0.7777777777777778,\"#fb9f3a\"],[0.8888888888888888,\"#fdca26\"],[1.0,\"#f0f921\"]],\"type\":\"heatmap\"}],\"heatmapgl\":[{\"colorbar\":{\"outlinewidth\":0,\"ticks\":\"\"},\"colorscale\":[[0.0,\"#0d0887\"],[0.1111111111111111,\"#46039f\"],[0.2222222222222222,\"#7201a8\"],[0.3333333333333333,\"#9c179e\"],[0.4444444444444444,\"#bd3786\"],[0.5555555555555556,\"#d8576b\"],[0.6666666666666666,\"#ed7953\"],[0.7777777777777778,\"#fb9f3a\"],[0.8888888888888888,\"#fdca26\"],[1.0,\"#f0f921\"]],\"type\":\"heatmapgl\"}],\"histogram\":[{\"marker\":{\"pattern\":{\"fillmode\":\"overlay\",\"size\":10,\"solidity\":0.2}},\"type\":\"histogram\"}],\"histogram2d\":[{\"colorbar\":{\"outlinewidth\":0,\"ticks\":\"\"},\"colorscale\":[[0.0,\"#0d0887\"],[0.1111111111111111,\"#46039f\"],[0.2222222222222222,\"#7201a8\"],[0.3333333333333333,\"#9c179e\"],[0.4444444444444444,\"#bd3786\"],[0.5555555555555556,\"#d8576b\"],[0.6666666666666666,\"#ed7953\"],[0.7777777777777778,\"#fb9f3a\"],[0.8888888888888888,\"#fdca26\"],[1.0,\"#f0f921\"]],\"type\":\"histogram2d\"}],\"histogram2dcontour\":[{\"colorbar\":{\"outlinewidth\":0,\"ticks\":\"\"},\"colorscale\":[[0.0,\"#0d0887\"],[0.1111111111111111,\"#46039f\"],[0.2222222222222222,\"#7201a8\"],[0.3333333333333333,\"#9c179e\"],[0.4444444444444444,\"#bd3786\"],[0.5555555555555556,\"#d8576b\"],[0.6666666666666666,\"#ed7953\"],[0.7777777777777778,\"#fb9f3a\"],[0.8888888888888888,\"#fdca26\"],[1.0,\"#f0f921\"]],\"type\":\"histogram2dcontour\"}],\"mesh3d\":[{\"colorbar\":{\"outlinewidth\":0,\"ticks\":\"\"},\"type\":\"mesh3d\"}],\"parcoords\":[{\"line\":{\"colorbar\":{\"outlinewidth\":0,\"ticks\":\"\"}},\"type\":\"parcoords\"}],\"pie\":[{\"automargin\":true,\"type\":\"pie\"}],\"scatter\":[{\"marker\":{\"colorbar\":{\"outlinewidth\":0,\"ticks\":\"\"}},\"type\":\"scatter\"}],\"scatter3d\":[{\"line\":{\"colorbar\":{\"outlinewidth\":0,\"ticks\":\"\"}},\"marker\":{\"colorbar\":{\"outlinewidth\":0,\"ticks\":\"\"}},\"type\":\"scatter3d\"}],\"scattercarpet\":[{\"marker\":{\"colorbar\":{\"outlinewidth\":0,\"ticks\":\"\"}},\"type\":\"scattercarpet\"}],\"scattergeo\":[{\"marker\":{\"colorbar\":{\"outlinewidth\":0,\"ticks\":\"\"}},\"type\":\"scattergeo\"}],\"scattergl\":[{\"marker\":{\"colorbar\":{\"outlinewidth\":0,\"ticks\":\"\"}},\"type\":\"scattergl\"}],\"scattermapbox\":[{\"marker\":{\"colorbar\":{\"outlinewidth\":0,\"ticks\":\"\"}},\"type\":\"scattermapbox\"}],\"scatterpolar\":[{\"marker\":{\"colorbar\":{\"outlinewidth\":0,\"ticks\":\"\"}},\"type\":\"scatterpolar\"}],\"scatterpolargl\":[{\"marker\":{\"colorbar\":{\"outlinewidth\":0,\"ticks\":\"\"}},\"type\":\"scatterpolargl\"}],\"scatterternary\":[{\"marker\":{\"colorbar\":{\"outlinewidth\":0,\"ticks\":\"\"}},\"type\":\"scatterternary\"}],\"surface\":[{\"colorbar\":{\"outlinewidth\":0,\"ticks\":\"\"},\"colorscale\":[[0.0,\"#0d0887\"],[0.1111111111111111,\"#46039f\"],[0.2222222222222222,\"#7201a8\"],[0.3333333333333333,\"#9c179e\"],[0.4444444444444444,\"#bd3786\"],[0.5555555555555556,\"#d8576b\"],[0.6666666666666666,\"#ed7953\"],[0.7777777777777778,\"#fb9f3a\"],[0.8888888888888888,\"#fdca26\"],[1.0,\"#f0f921\"]],\"type\":\"surface\"}],\"table\":[{\"cells\":{\"fill\":{\"color\":\"#EBF0F8\"},\"line\":{\"color\":\"white\"}},\"header\":{\"fill\":{\"color\":\"#C8D4E3\"},\"line\":{\"color\":\"white\"}},\"type\":\"table\"}]},\"layout\":{\"annotationdefaults\":{\"arrowcolor\":\"#2a3f5f\",\"arrowhead\":0,\"arrowwidth\":1},\"autotypenumbers\":\"strict\",\"coloraxis\":{\"colorbar\":{\"outlinewidth\":0,\"ticks\":\"\"}},\"colorscale\":{\"diverging\":[[0,\"#8e0152\"],[0.1,\"#c51b7d\"],[0.2,\"#de77ae\"],[0.3,\"#f1b6da\"],[0.4,\"#fde0ef\"],[0.5,\"#f7f7f7\"],[0.6,\"#e6f5d0\"],[0.7,\"#b8e186\"],[0.8,\"#7fbc41\"],[0.9,\"#4d9221\"],[1,\"#276419\"]],\"sequential\":[[0.0,\"#0d0887\"],[0.1111111111111111,\"#46039f\"],[0.2222222222222222,\"#7201a8\"],[0.3333333333333333,\"#9c179e\"],[0.4444444444444444,\"#bd3786\"],[0.5555555555555556,\"#d8576b\"],[0.6666666666666666,\"#ed7953\"],[0.7777777777777778,\"#fb9f3a\"],[0.8888888888888888,\"#fdca26\"],[1.0,\"#f0f921\"]],\"sequentialminus\":[[0.0,\"#0d0887\"],[0.1111111111111111,\"#46039f\"],[0.2222222222222222,\"#7201a8\"],[0.3333333333333333,\"#9c179e\"],[0.4444444444444444,\"#bd3786\"],[0.5555555555555556,\"#d8576b\"],[0.6666666666666666,\"#ed7953\"],[0.7777777777777778,\"#fb9f3a\"],[0.8888888888888888,\"#fdca26\"],[1.0,\"#f0f921\"]]},\"colorway\":[\"#636efa\",\"#EF553B\",\"#00cc96\",\"#ab63fa\",\"#FFA15A\",\"#19d3f3\",\"#FF6692\",\"#B6E880\",\"#FF97FF\",\"#FECB52\"],\"font\":{\"color\":\"#2a3f5f\"},\"geo\":{\"bgcolor\":\"white\",\"lakecolor\":\"white\",\"landcolor\":\"#E5ECF6\",\"showlakes\":true,\"showland\":true,\"subunitcolor\":\"white\"},\"hoverlabel\":{\"align\":\"left\"},\"hovermode\":\"closest\",\"mapbox\":{\"style\":\"light\"},\"paper_bgcolor\":\"white\",\"plot_bgcolor\":\"#E5ECF6\",\"polar\":{\"angularaxis\":{\"gridcolor\":\"white\",\"linecolor\":\"white\",\"ticks\":\"\"},\"bgcolor\":\"#E5ECF6\",\"radialaxis\":{\"gridcolor\":\"white\",\"linecolor\":\"white\",\"ticks\":\"\"}},\"scene\":{\"xaxis\":{\"backgroundcolor\":\"#E5ECF6\",\"gridcolor\":\"white\",\"gridwidth\":2,\"linecolor\":\"white\",\"showbackground\":true,\"ticks\":\"\",\"zerolinecolor\":\"white\"},\"yaxis\":{\"backgroundcolor\":\"#E5ECF6\",\"gridcolor\":\"white\",\"gridwidth\":2,\"linecolor\":\"white\",\"showbackground\":true,\"ticks\":\"\",\"zerolinecolor\":\"white\"},\"zaxis\":{\"backgroundcolor\":\"#E5ECF6\",\"gridcolor\":\"white\",\"gridwidth\":2,\"linecolor\":\"white\",\"showbackground\":true,\"ticks\":\"\",\"zerolinecolor\":\"white\"}},\"shapedefaults\":{\"line\":{\"color\":\"#2a3f5f\"}},\"ternary\":{\"aaxis\":{\"gridcolor\":\"white\",\"linecolor\":\"white\",\"ticks\":\"\"},\"baxis\":{\"gridcolor\":\"white\",\"linecolor\":\"white\",\"ticks\":\"\"},\"bgcolor\":\"#E5ECF6\",\"caxis\":{\"gridcolor\":\"white\",\"linecolor\":\"white\",\"ticks\":\"\"}},\"title\":{\"x\":0.05},\"xaxis\":{\"automargin\":true,\"gridcolor\":\"white\",\"linecolor\":\"white\",\"ticks\":\"\",\"title\":{\"standoff\":15},\"zerolinecolor\":\"white\",\"zerolinewidth\":2},\"yaxis\":{\"automargin\":true,\"gridcolor\":\"white\",\"linecolor\":\"white\",\"ticks\":\"\",\"title\":{\"standoff\":15},\"zerolinecolor\":\"white\",\"zerolinewidth\":2}}},\"width\":600,\"xaxis\":{\"anchor\":\"y\",\"domain\":[0.0,1.0],\"title\":{\"text\":\"Theta\"}},\"yaxis\":{\"anchor\":\"x\",\"domain\":[0.0,1.0],\"title\":{\"text\":\"R\"}}},                        {\"responsive\": true}                    ).then(function(){\n",
       "                            \n",
       "var gd = document.getElementById('a24e0292-eda0-4ef2-ae43-dc9ade47efee');\n",
       "var x = new MutationObserver(function (mutations, observer) {{\n",
       "        var display = window.getComputedStyle(gd).display;\n",
       "        if (!display || display === 'none') {{\n",
       "            console.log([gd, 'removed!']);\n",
       "            Plotly.purge(gd);\n",
       "            observer.disconnect();\n",
       "        }}\n",
       "}});\n",
       "\n",
       "// Listen for the removal of the full notebook cells\n",
       "var notebookContainer = gd.closest('#notebook-container');\n",
       "if (notebookContainer) {{\n",
       "    x.observe(notebookContainer, {childList: true});\n",
       "}}\n",
       "\n",
       "// Listen for the clearing of the current output cell\n",
       "var outputEl = gd.closest('.output');\n",
       "if (outputEl) {{\n",
       "    x.observe(outputEl, {childList: true});\n",
       "}}\n",
       "\n",
       "                        })                };                });            </script>        </div>"
      ]
     },
     "metadata": {},
     "output_type": "display_data"
    }
   ],
   "source": [
    "d3 = px.colors.qualitative.D3\n",
    "\n",
    "cmap = {\n",
    "    'AA': d3[0],\n",
    "    'AB': d3[1],\n",
    "    'BA': d3[1],\n",
    "    'BB': d3[2],\n",
    "    'NC': d3[3]\n",
    "}\n",
    "\n",
    "cluster_fig = px.scatter(\n",
    "        df, \n",
    "        x=x_col, y=y_col, \n",
    "        color=gtype_col, \n",
    "        color_discrete_map=cmap, \n",
    "        width=600, height=400)\n",
    "cluster_fig.show()"
   ]
  },
  {
   "cell_type": "code",
   "execution_count": 74,
   "metadata": {},
   "outputs": [
    {
     "data": {
      "application/vnd.plotly.v1+json": {
       "config": {
        "plotlyServerURL": "https://plot.ly"
       },
       "data": [
        {
         "contours": {
          "coloring": "none"
         },
         "hovertemplate": "gtype_out=BB<br>Theta=%{x}<br>R=%{y}<br>count=%{z}<extra></extra>",
         "legendgroup": "BB",
         "line": {
          "color": "#2CA02C"
         },
         "name": "BB",
         "showlegend": true,
         "type": "histogram2dcontour",
         "x": [
          0.9783415,
          0.9504623,
          0.9741675,
          0.9593747,
          0.9544989,
          0.9494527,
          0.9554906,
          0.9632757,
          0.961739,
          0.97149,
          0.9681001,
          0.9717402,
          0.9579055,
          0.9733081,
          0.9618404,
          0.9758378,
          0.9630002,
          0.9573405,
          0.9550448,
          0.9673235,
          0.936164,
          0.9478692,
          0.9509611,
          0.9573662,
          0.9576157,
          0.9629935,
          0.9517125,
          0.9531431,
          0.947571,
          0.9553232,
          0.9494918,
          0.9538915,
          0.958737,
          0.9647852,
          0.9591101,
          0.9642828,
          0.958279,
          0.9521781,
          0.9593722,
          0.9658979,
          0.9572034,
          0.9519868,
          0.9630252,
          0.9533402,
          0.9655342,
          0.9574209,
          0.9643096,
          0.9534758,
          0.9594354,
          0.9531994,
          0.9329,
          0.9591395,
          0.9555489,
          0.9434448,
          0.9563623,
          0.9604501,
          0.9473326,
          0.9729456,
          0.9757709,
          0.9630159,
          0.9571338,
          0.9560378,
          0.934392,
          0.9602152,
          0.9701965,
          0.9553831,
          0.9556195,
          0.9671876,
          0.9583478,
          0.9522132,
          0.9644687,
          0.9426908
         ],
         "xaxis": "x",
         "xbingroup": "x",
         "y": [
          1.124041,
          1.28643,
          1.143932,
          1.239037,
          1.171495,
          1.132143,
          1.104728,
          1.117225,
          1.161996,
          1.143396,
          1.193882,
          1.145939,
          1.214612,
          1.195241,
          1.174356,
          1.191462,
          1.180584,
          1.214954,
          1.168255,
          1.186066,
          1.20844,
          1.230156,
          1.087062,
          1.123863,
          1.155385,
          1.192624,
          1.082331,
          1.156006,
          1.124266,
          1.167745,
          1.162335,
          1.146031,
          1.197268,
          1.150787,
          1.106112,
          1.143792,
          1.178022,
          1.233601,
          1.1828,
          1.171732,
          1.179432,
          1.153898,
          1.110721,
          1.136749,
          1.172696,
          1.100838,
          1.145391,
          1.197685,
          1.151607,
          1.223667,
          1.110455,
          1.133145,
          1.23889,
          1.120863,
          1.157234,
          1.186532,
          1.256602,
          1.1367,
          1.182563,
          1.220313,
          1.195901,
          1.197863,
          1.166847,
          1.168691,
          1.144719,
          1.131924,
          1.163753,
          1.177838,
          1.160252,
          1.151133,
          1.133834,
          0.8265839
         ],
         "yaxis": "y",
         "ybingroup": "y"
        },
        {
         "alignmentgroup": "True",
         "bingroup": "x",
         "hovertemplate": "gtype_out=BB<br>Theta=%{x}<br>count=%{y}<extra></extra>",
         "legendgroup": "BB",
         "marker": {
          "color": "#2CA02C"
         },
         "name": "BB",
         "offsetgroup": "BB",
         "opacity": 0.5,
         "showlegend": false,
         "type": "histogram",
         "x": [
          0.9783415,
          0.9504623,
          0.9741675,
          0.9593747,
          0.9544989,
          0.9494527,
          0.9554906,
          0.9632757,
          0.961739,
          0.97149,
          0.9681001,
          0.9717402,
          0.9579055,
          0.9733081,
          0.9618404,
          0.9758378,
          0.9630002,
          0.9573405,
          0.9550448,
          0.9673235,
          0.936164,
          0.9478692,
          0.9509611,
          0.9573662,
          0.9576157,
          0.9629935,
          0.9517125,
          0.9531431,
          0.947571,
          0.9553232,
          0.9494918,
          0.9538915,
          0.958737,
          0.9647852,
          0.9591101,
          0.9642828,
          0.958279,
          0.9521781,
          0.9593722,
          0.9658979,
          0.9572034,
          0.9519868,
          0.9630252,
          0.9533402,
          0.9655342,
          0.9574209,
          0.9643096,
          0.9534758,
          0.9594354,
          0.9531994,
          0.9329,
          0.9591395,
          0.9555489,
          0.9434448,
          0.9563623,
          0.9604501,
          0.9473326,
          0.9729456,
          0.9757709,
          0.9630159,
          0.9571338,
          0.9560378,
          0.934392,
          0.9602152,
          0.9701965,
          0.9553831,
          0.9556195,
          0.9671876,
          0.9583478,
          0.9522132,
          0.9644687,
          0.9426908
         ],
         "xaxis": "x3",
         "yaxis": "y3"
        },
        {
         "alignmentgroup": "True",
         "bingroup": "y",
         "hovertemplate": "gtype_out=BB<br>R=%{y}<br>count=%{x}<extra></extra>",
         "legendgroup": "BB",
         "marker": {
          "color": "#2CA02C"
         },
         "name": "BB",
         "offsetgroup": "BB",
         "opacity": 0.5,
         "showlegend": false,
         "type": "histogram",
         "xaxis": "x2",
         "y": [
          1.124041,
          1.28643,
          1.143932,
          1.239037,
          1.171495,
          1.132143,
          1.104728,
          1.117225,
          1.161996,
          1.143396,
          1.193882,
          1.145939,
          1.214612,
          1.195241,
          1.174356,
          1.191462,
          1.180584,
          1.214954,
          1.168255,
          1.186066,
          1.20844,
          1.230156,
          1.087062,
          1.123863,
          1.155385,
          1.192624,
          1.082331,
          1.156006,
          1.124266,
          1.167745,
          1.162335,
          1.146031,
          1.197268,
          1.150787,
          1.106112,
          1.143792,
          1.178022,
          1.233601,
          1.1828,
          1.171732,
          1.179432,
          1.153898,
          1.110721,
          1.136749,
          1.172696,
          1.100838,
          1.145391,
          1.197685,
          1.151607,
          1.223667,
          1.110455,
          1.133145,
          1.23889,
          1.120863,
          1.157234,
          1.186532,
          1.256602,
          1.1367,
          1.182563,
          1.220313,
          1.195901,
          1.197863,
          1.166847,
          1.168691,
          1.144719,
          1.131924,
          1.163753,
          1.177838,
          1.160252,
          1.151133,
          1.133834,
          0.8265839
         ],
         "yaxis": "y2"
        },
        {
         "contours": {
          "coloring": "none"
         },
         "hovertemplate": "gtype_out=AA<br>Theta=%{x}<br>R=%{y}<br>count=%{z}<extra></extra>",
         "legendgroup": "AA",
         "line": {
          "color": "#1F77B4"
         },
         "name": "AA",
         "showlegend": true,
         "type": "histogram2dcontour",
         "x": [
          0.03372161,
          0.01768242,
          0.01934427,
          0.02041522,
          0.00777587,
          0.01317158,
          0.02604505,
          0.02846322,
          0.05940904,
          0.07457311,
          0.1443147,
          0.01120784,
          0.01508966,
          0.02031893,
          0.01372548
         ],
         "xaxis": "x",
         "xbingroup": "x",
         "y": [
          1.453825,
          1.507179,
          1.54051,
          1.554099,
          1.536457,
          1.468724,
          1.524307,
          1.475467,
          1.515514,
          1.362646,
          1.396757,
          1.523173,
          1.59149,
          1.614841,
          1.494911
         ],
         "yaxis": "y",
         "ybingroup": "y"
        },
        {
         "alignmentgroup": "True",
         "bingroup": "x",
         "hovertemplate": "gtype_out=AA<br>Theta=%{x}<br>count=%{y}<extra></extra>",
         "legendgroup": "AA",
         "marker": {
          "color": "#1F77B4"
         },
         "name": "AA",
         "offsetgroup": "AA",
         "opacity": 0.5,
         "showlegend": false,
         "type": "histogram",
         "x": [
          0.03372161,
          0.01768242,
          0.01934427,
          0.02041522,
          0.00777587,
          0.01317158,
          0.02604505,
          0.02846322,
          0.05940904,
          0.07457311,
          0.1443147,
          0.01120784,
          0.01508966,
          0.02031893,
          0.01372548
         ],
         "xaxis": "x3",
         "yaxis": "y3"
        },
        {
         "alignmentgroup": "True",
         "bingroup": "y",
         "hovertemplate": "gtype_out=AA<br>R=%{y}<br>count=%{x}<extra></extra>",
         "legendgroup": "AA",
         "marker": {
          "color": "#1F77B4"
         },
         "name": "AA",
         "offsetgroup": "AA",
         "opacity": 0.5,
         "showlegend": false,
         "type": "histogram",
         "xaxis": "x2",
         "y": [
          1.453825,
          1.507179,
          1.54051,
          1.554099,
          1.536457,
          1.468724,
          1.524307,
          1.475467,
          1.515514,
          1.362646,
          1.396757,
          1.523173,
          1.59149,
          1.614841,
          1.494911
         ],
         "yaxis": "y2"
        },
        {
         "contours": {
          "coloring": "none"
         },
         "hovertemplate": "gtype_out=AB<br>Theta=%{x}<br>R=%{y}<br>count=%{z}<extra></extra>",
         "legendgroup": "AB",
         "line": {
          "color": "#FF7F0E"
         },
         "name": "AB",
         "showlegend": true,
         "type": "histogram2dcontour",
         "x": [
          0.3452697,
          0.3765664,
          0.385852,
          0.3814036,
          0.4036807,
          0.4202441,
          0.2626661,
          0.2459879,
          0.4191646
         ],
         "xaxis": "x",
         "xbingroup": "x",
         "y": [
          1.315046,
          1.362909,
          1.437546,
          1.358505,
          1.39309,
          1.32721,
          1.400039,
          1.293814,
          1.33464
         ],
         "yaxis": "y",
         "ybingroup": "y"
        },
        {
         "alignmentgroup": "True",
         "bingroup": "x",
         "hovertemplate": "gtype_out=AB<br>Theta=%{x}<br>count=%{y}<extra></extra>",
         "legendgroup": "AB",
         "marker": {
          "color": "#FF7F0E"
         },
         "name": "AB",
         "offsetgroup": "AB",
         "opacity": 0.5,
         "showlegend": false,
         "type": "histogram",
         "x": [
          0.3452697,
          0.3765664,
          0.385852,
          0.3814036,
          0.4036807,
          0.4202441,
          0.2626661,
          0.2459879,
          0.4191646
         ],
         "xaxis": "x3",
         "yaxis": "y3"
        },
        {
         "alignmentgroup": "True",
         "bingroup": "y",
         "hovertemplate": "gtype_out=AB<br>R=%{y}<br>count=%{x}<extra></extra>",
         "legendgroup": "AB",
         "marker": {
          "color": "#FF7F0E"
         },
         "name": "AB",
         "offsetgroup": "AB",
         "opacity": 0.5,
         "showlegend": false,
         "type": "histogram",
         "xaxis": "x2",
         "y": [
          1.315046,
          1.362909,
          1.437546,
          1.358505,
          1.39309,
          1.32721,
          1.400039,
          1.293814,
          1.33464
         ],
         "yaxis": "y2"
        },
        {
         "hovertemplate": "gtype_out=BB<br>Theta=%{x}<br>R=%{y}<extra></extra>",
         "legendgroup": "BB",
         "marker": {
          "color": "#2CA02C",
          "symbol": "circle"
         },
         "mode": "markers",
         "name": "BB",
         "orientation": "v",
         "showlegend": true,
         "type": "scatter",
         "x": [
          0.9783415,
          0.9504623,
          0.9741675,
          0.9593747,
          0.9544989,
          0.9494527,
          0.9554906,
          0.9632757,
          0.961739,
          0.97149,
          0.9681001,
          0.9717402,
          0.9579055,
          0.9733081,
          0.9618404,
          0.9758378,
          0.9630002,
          0.9573405,
          0.9550448,
          0.9673235,
          0.936164,
          0.9478692,
          0.9509611,
          0.9573662,
          0.9576157,
          0.9629935,
          0.9517125,
          0.9531431,
          0.947571,
          0.9553232,
          0.9494918,
          0.9538915,
          0.958737,
          0.9647852,
          0.9591101,
          0.9642828,
          0.958279,
          0.9521781,
          0.9593722,
          0.9658979,
          0.9572034,
          0.9519868,
          0.9630252,
          0.9533402,
          0.9655342,
          0.9574209,
          0.9643096,
          0.9534758,
          0.9594354,
          0.9531994,
          0.9329,
          0.9591395,
          0.9555489,
          0.9434448,
          0.9563623,
          0.9604501,
          0.9473326,
          0.9729456,
          0.9757709,
          0.9630159,
          0.9571338,
          0.9560378,
          0.934392,
          0.9602152,
          0.9701965,
          0.9553831,
          0.9556195,
          0.9671876,
          0.9583478,
          0.9522132,
          0.9644687,
          0.9426908
         ],
         "xaxis": "x",
         "y": [
          1.124041,
          1.28643,
          1.143932,
          1.239037,
          1.171495,
          1.132143,
          1.104728,
          1.117225,
          1.161996,
          1.143396,
          1.193882,
          1.145939,
          1.214612,
          1.195241,
          1.174356,
          1.191462,
          1.180584,
          1.214954,
          1.168255,
          1.186066,
          1.20844,
          1.230156,
          1.087062,
          1.123863,
          1.155385,
          1.192624,
          1.082331,
          1.156006,
          1.124266,
          1.167745,
          1.162335,
          1.146031,
          1.197268,
          1.150787,
          1.106112,
          1.143792,
          1.178022,
          1.233601,
          1.1828,
          1.171732,
          1.179432,
          1.153898,
          1.110721,
          1.136749,
          1.172696,
          1.100838,
          1.145391,
          1.197685,
          1.151607,
          1.223667,
          1.110455,
          1.133145,
          1.23889,
          1.120863,
          1.157234,
          1.186532,
          1.256602,
          1.1367,
          1.182563,
          1.220313,
          1.195901,
          1.197863,
          1.166847,
          1.168691,
          1.144719,
          1.131924,
          1.163753,
          1.177838,
          1.160252,
          1.151133,
          1.133834,
          0.8265839
         ],
         "yaxis": "y"
        },
        {
         "hovertemplate": "gtype_out=AA<br>Theta=%{x}<br>R=%{y}<extra></extra>",
         "legendgroup": "AA",
         "marker": {
          "color": "#1F77B4",
          "symbol": "circle"
         },
         "mode": "markers",
         "name": "AA",
         "orientation": "v",
         "showlegend": true,
         "type": "scatter",
         "x": [
          0.03372161,
          0.01768242,
          0.01934427,
          0.02041522,
          0.00777587,
          0.01317158,
          0.02604505,
          0.02846322,
          0.05940904,
          0.07457311,
          0.1443147,
          0.01120784,
          0.01508966,
          0.02031893,
          0.01372548
         ],
         "xaxis": "x",
         "y": [
          1.453825,
          1.507179,
          1.54051,
          1.554099,
          1.536457,
          1.468724,
          1.524307,
          1.475467,
          1.515514,
          1.362646,
          1.396757,
          1.523173,
          1.59149,
          1.614841,
          1.494911
         ],
         "yaxis": "y"
        },
        {
         "hovertemplate": "gtype_out=AB<br>Theta=%{x}<br>R=%{y}<extra></extra>",
         "legendgroup": "AB",
         "marker": {
          "color": "#FF7F0E",
          "symbol": "circle"
         },
         "mode": "markers",
         "name": "AB",
         "orientation": "v",
         "showlegend": true,
         "type": "scatter",
         "x": [
          0.3452697,
          0.3765664,
          0.385852,
          0.3814036,
          0.4036807,
          0.4202441,
          0.2626661,
          0.2459879,
          0.4191646
         ],
         "xaxis": "x",
         "y": [
          1.315046,
          1.362909,
          1.437546,
          1.358505,
          1.39309,
          1.32721,
          1.400039,
          1.293814,
          1.33464
         ],
         "yaxis": "y"
        }
       ],
       "layout": {
        "barmode": "overlay",
        "legend": {
         "title": {
          "text": "gtype_out"
         },
         "tracegroupgap": 0
        },
        "margin": {
         "t": 60
        },
        "template": {
         "data": {
          "bar": [
           {
            "error_x": {
             "color": "#2a3f5f"
            },
            "error_y": {
             "color": "#2a3f5f"
            },
            "marker": {
             "line": {
              "color": "#E5ECF6",
              "width": 0.5
             },
             "pattern": {
              "fillmode": "overlay",
              "size": 10,
              "solidity": 0.2
             }
            },
            "type": "bar"
           }
          ],
          "barpolar": [
           {
            "marker": {
             "line": {
              "color": "#E5ECF6",
              "width": 0.5
             },
             "pattern": {
              "fillmode": "overlay",
              "size": 10,
              "solidity": 0.2
             }
            },
            "type": "barpolar"
           }
          ],
          "carpet": [
           {
            "aaxis": {
             "endlinecolor": "#2a3f5f",
             "gridcolor": "white",
             "linecolor": "white",
             "minorgridcolor": "white",
             "startlinecolor": "#2a3f5f"
            },
            "baxis": {
             "endlinecolor": "#2a3f5f",
             "gridcolor": "white",
             "linecolor": "white",
             "minorgridcolor": "white",
             "startlinecolor": "#2a3f5f"
            },
            "type": "carpet"
           }
          ],
          "choropleth": [
           {
            "colorbar": {
             "outlinewidth": 0,
             "ticks": ""
            },
            "type": "choropleth"
           }
          ],
          "contour": [
           {
            "colorbar": {
             "outlinewidth": 0,
             "ticks": ""
            },
            "colorscale": [
             [
              0,
              "#0d0887"
             ],
             [
              0.1111111111111111,
              "#46039f"
             ],
             [
              0.2222222222222222,
              "#7201a8"
             ],
             [
              0.3333333333333333,
              "#9c179e"
             ],
             [
              0.4444444444444444,
              "#bd3786"
             ],
             [
              0.5555555555555556,
              "#d8576b"
             ],
             [
              0.6666666666666666,
              "#ed7953"
             ],
             [
              0.7777777777777778,
              "#fb9f3a"
             ],
             [
              0.8888888888888888,
              "#fdca26"
             ],
             [
              1,
              "#f0f921"
             ]
            ],
            "type": "contour"
           }
          ],
          "contourcarpet": [
           {
            "colorbar": {
             "outlinewidth": 0,
             "ticks": ""
            },
            "type": "contourcarpet"
           }
          ],
          "heatmap": [
           {
            "colorbar": {
             "outlinewidth": 0,
             "ticks": ""
            },
            "colorscale": [
             [
              0,
              "#0d0887"
             ],
             [
              0.1111111111111111,
              "#46039f"
             ],
             [
              0.2222222222222222,
              "#7201a8"
             ],
             [
              0.3333333333333333,
              "#9c179e"
             ],
             [
              0.4444444444444444,
              "#bd3786"
             ],
             [
              0.5555555555555556,
              "#d8576b"
             ],
             [
              0.6666666666666666,
              "#ed7953"
             ],
             [
              0.7777777777777778,
              "#fb9f3a"
             ],
             [
              0.8888888888888888,
              "#fdca26"
             ],
             [
              1,
              "#f0f921"
             ]
            ],
            "type": "heatmap"
           }
          ],
          "heatmapgl": [
           {
            "colorbar": {
             "outlinewidth": 0,
             "ticks": ""
            },
            "colorscale": [
             [
              0,
              "#0d0887"
             ],
             [
              0.1111111111111111,
              "#46039f"
             ],
             [
              0.2222222222222222,
              "#7201a8"
             ],
             [
              0.3333333333333333,
              "#9c179e"
             ],
             [
              0.4444444444444444,
              "#bd3786"
             ],
             [
              0.5555555555555556,
              "#d8576b"
             ],
             [
              0.6666666666666666,
              "#ed7953"
             ],
             [
              0.7777777777777778,
              "#fb9f3a"
             ],
             [
              0.8888888888888888,
              "#fdca26"
             ],
             [
              1,
              "#f0f921"
             ]
            ],
            "type": "heatmapgl"
           }
          ],
          "histogram": [
           {
            "marker": {
             "pattern": {
              "fillmode": "overlay",
              "size": 10,
              "solidity": 0.2
             }
            },
            "type": "histogram"
           }
          ],
          "histogram2d": [
           {
            "colorbar": {
             "outlinewidth": 0,
             "ticks": ""
            },
            "colorscale": [
             [
              0,
              "#0d0887"
             ],
             [
              0.1111111111111111,
              "#46039f"
             ],
             [
              0.2222222222222222,
              "#7201a8"
             ],
             [
              0.3333333333333333,
              "#9c179e"
             ],
             [
              0.4444444444444444,
              "#bd3786"
             ],
             [
              0.5555555555555556,
              "#d8576b"
             ],
             [
              0.6666666666666666,
              "#ed7953"
             ],
             [
              0.7777777777777778,
              "#fb9f3a"
             ],
             [
              0.8888888888888888,
              "#fdca26"
             ],
             [
              1,
              "#f0f921"
             ]
            ],
            "type": "histogram2d"
           }
          ],
          "histogram2dcontour": [
           {
            "colorbar": {
             "outlinewidth": 0,
             "ticks": ""
            },
            "colorscale": [
             [
              0,
              "#0d0887"
             ],
             [
              0.1111111111111111,
              "#46039f"
             ],
             [
              0.2222222222222222,
              "#7201a8"
             ],
             [
              0.3333333333333333,
              "#9c179e"
             ],
             [
              0.4444444444444444,
              "#bd3786"
             ],
             [
              0.5555555555555556,
              "#d8576b"
             ],
             [
              0.6666666666666666,
              "#ed7953"
             ],
             [
              0.7777777777777778,
              "#fb9f3a"
             ],
             [
              0.8888888888888888,
              "#fdca26"
             ],
             [
              1,
              "#f0f921"
             ]
            ],
            "type": "histogram2dcontour"
           }
          ],
          "mesh3d": [
           {
            "colorbar": {
             "outlinewidth": 0,
             "ticks": ""
            },
            "type": "mesh3d"
           }
          ],
          "parcoords": [
           {
            "line": {
             "colorbar": {
              "outlinewidth": 0,
              "ticks": ""
             }
            },
            "type": "parcoords"
           }
          ],
          "pie": [
           {
            "automargin": true,
            "type": "pie"
           }
          ],
          "scatter": [
           {
            "marker": {
             "colorbar": {
              "outlinewidth": 0,
              "ticks": ""
             }
            },
            "type": "scatter"
           }
          ],
          "scatter3d": [
           {
            "line": {
             "colorbar": {
              "outlinewidth": 0,
              "ticks": ""
             }
            },
            "marker": {
             "colorbar": {
              "outlinewidth": 0,
              "ticks": ""
             }
            },
            "type": "scatter3d"
           }
          ],
          "scattercarpet": [
           {
            "marker": {
             "colorbar": {
              "outlinewidth": 0,
              "ticks": ""
             }
            },
            "type": "scattercarpet"
           }
          ],
          "scattergeo": [
           {
            "marker": {
             "colorbar": {
              "outlinewidth": 0,
              "ticks": ""
             }
            },
            "type": "scattergeo"
           }
          ],
          "scattergl": [
           {
            "marker": {
             "colorbar": {
              "outlinewidth": 0,
              "ticks": ""
             }
            },
            "type": "scattergl"
           }
          ],
          "scattermapbox": [
           {
            "marker": {
             "colorbar": {
              "outlinewidth": 0,
              "ticks": ""
             }
            },
            "type": "scattermapbox"
           }
          ],
          "scatterpolar": [
           {
            "marker": {
             "colorbar": {
              "outlinewidth": 0,
              "ticks": ""
             }
            },
            "type": "scatterpolar"
           }
          ],
          "scatterpolargl": [
           {
            "marker": {
             "colorbar": {
              "outlinewidth": 0,
              "ticks": ""
             }
            },
            "type": "scatterpolargl"
           }
          ],
          "scatterternary": [
           {
            "marker": {
             "colorbar": {
              "outlinewidth": 0,
              "ticks": ""
             }
            },
            "type": "scatterternary"
           }
          ],
          "surface": [
           {
            "colorbar": {
             "outlinewidth": 0,
             "ticks": ""
            },
            "colorscale": [
             [
              0,
              "#0d0887"
             ],
             [
              0.1111111111111111,
              "#46039f"
             ],
             [
              0.2222222222222222,
              "#7201a8"
             ],
             [
              0.3333333333333333,
              "#9c179e"
             ],
             [
              0.4444444444444444,
              "#bd3786"
             ],
             [
              0.5555555555555556,
              "#d8576b"
             ],
             [
              0.6666666666666666,
              "#ed7953"
             ],
             [
              0.7777777777777778,
              "#fb9f3a"
             ],
             [
              0.8888888888888888,
              "#fdca26"
             ],
             [
              1,
              "#f0f921"
             ]
            ],
            "type": "surface"
           }
          ],
          "table": [
           {
            "cells": {
             "fill": {
              "color": "#EBF0F8"
             },
             "line": {
              "color": "white"
             }
            },
            "header": {
             "fill": {
              "color": "#C8D4E3"
             },
             "line": {
              "color": "white"
             }
            },
            "type": "table"
           }
          ]
         },
         "layout": {
          "annotationdefaults": {
           "arrowcolor": "#2a3f5f",
           "arrowhead": 0,
           "arrowwidth": 1
          },
          "autotypenumbers": "strict",
          "coloraxis": {
           "colorbar": {
            "outlinewidth": 0,
            "ticks": ""
           }
          },
          "colorscale": {
           "diverging": [
            [
             0,
             "#8e0152"
            ],
            [
             0.1,
             "#c51b7d"
            ],
            [
             0.2,
             "#de77ae"
            ],
            [
             0.3,
             "#f1b6da"
            ],
            [
             0.4,
             "#fde0ef"
            ],
            [
             0.5,
             "#f7f7f7"
            ],
            [
             0.6,
             "#e6f5d0"
            ],
            [
             0.7,
             "#b8e186"
            ],
            [
             0.8,
             "#7fbc41"
            ],
            [
             0.9,
             "#4d9221"
            ],
            [
             1,
             "#276419"
            ]
           ],
           "sequential": [
            [
             0,
             "#0d0887"
            ],
            [
             0.1111111111111111,
             "#46039f"
            ],
            [
             0.2222222222222222,
             "#7201a8"
            ],
            [
             0.3333333333333333,
             "#9c179e"
            ],
            [
             0.4444444444444444,
             "#bd3786"
            ],
            [
             0.5555555555555556,
             "#d8576b"
            ],
            [
             0.6666666666666666,
             "#ed7953"
            ],
            [
             0.7777777777777778,
             "#fb9f3a"
            ],
            [
             0.8888888888888888,
             "#fdca26"
            ],
            [
             1,
             "#f0f921"
            ]
           ],
           "sequentialminus": [
            [
             0,
             "#0d0887"
            ],
            [
             0.1111111111111111,
             "#46039f"
            ],
            [
             0.2222222222222222,
             "#7201a8"
            ],
            [
             0.3333333333333333,
             "#9c179e"
            ],
            [
             0.4444444444444444,
             "#bd3786"
            ],
            [
             0.5555555555555556,
             "#d8576b"
            ],
            [
             0.6666666666666666,
             "#ed7953"
            ],
            [
             0.7777777777777778,
             "#fb9f3a"
            ],
            [
             0.8888888888888888,
             "#fdca26"
            ],
            [
             1,
             "#f0f921"
            ]
           ]
          },
          "colorway": [
           "#636efa",
           "#EF553B",
           "#00cc96",
           "#ab63fa",
           "#FFA15A",
           "#19d3f3",
           "#FF6692",
           "#B6E880",
           "#FF97FF",
           "#FECB52"
          ],
          "font": {
           "color": "#2a3f5f"
          },
          "geo": {
           "bgcolor": "white",
           "lakecolor": "white",
           "landcolor": "#E5ECF6",
           "showlakes": true,
           "showland": true,
           "subunitcolor": "white"
          },
          "hoverlabel": {
           "align": "left"
          },
          "hovermode": "closest",
          "mapbox": {
           "style": "light"
          },
          "paper_bgcolor": "white",
          "plot_bgcolor": "#E5ECF6",
          "polar": {
           "angularaxis": {
            "gridcolor": "white",
            "linecolor": "white",
            "ticks": ""
           },
           "bgcolor": "#E5ECF6",
           "radialaxis": {
            "gridcolor": "white",
            "linecolor": "white",
            "ticks": ""
           }
          },
          "scene": {
           "xaxis": {
            "backgroundcolor": "#E5ECF6",
            "gridcolor": "white",
            "gridwidth": 2,
            "linecolor": "white",
            "showbackground": true,
            "ticks": "",
            "zerolinecolor": "white"
           },
           "yaxis": {
            "backgroundcolor": "#E5ECF6",
            "gridcolor": "white",
            "gridwidth": 2,
            "linecolor": "white",
            "showbackground": true,
            "ticks": "",
            "zerolinecolor": "white"
           },
           "zaxis": {
            "backgroundcolor": "#E5ECF6",
            "gridcolor": "white",
            "gridwidth": 2,
            "linecolor": "white",
            "showbackground": true,
            "ticks": "",
            "zerolinecolor": "white"
           }
          },
          "shapedefaults": {
           "line": {
            "color": "#2a3f5f"
           }
          },
          "ternary": {
           "aaxis": {
            "gridcolor": "white",
            "linecolor": "white",
            "ticks": ""
           },
           "baxis": {
            "gridcolor": "white",
            "linecolor": "white",
            "ticks": ""
           },
           "bgcolor": "#E5ECF6",
           "caxis": {
            "gridcolor": "white",
            "linecolor": "white",
            "ticks": ""
           }
          },
          "title": {
           "x": 0.05
          },
          "xaxis": {
           "automargin": true,
           "gridcolor": "white",
           "linecolor": "white",
           "ticks": "",
           "title": {
            "standoff": 15
           },
           "zerolinecolor": "white",
           "zerolinewidth": 2
          },
          "yaxis": {
           "automargin": true,
           "gridcolor": "white",
           "linecolor": "white",
           "ticks": "",
           "title": {
            "standoff": 15
           },
           "zerolinecolor": "white",
           "zerolinewidth": 2
          }
         }
        },
        "xaxis": {
         "anchor": "y",
         "domain": [
          0,
          0.7363
         ],
         "title": {
          "text": "Theta"
         }
        },
        "xaxis2": {
         "anchor": "y2",
         "domain": [
          0.7413,
          1
         ],
         "matches": "x2",
         "showgrid": true,
         "showline": false,
         "showticklabels": false,
         "ticks": ""
        },
        "xaxis3": {
         "anchor": "y3",
         "domain": [
          0,
          0.7363
         ],
         "matches": "x",
         "showgrid": true,
         "showticklabels": false
        },
        "xaxis4": {
         "anchor": "y4",
         "domain": [
          0.7413,
          1
         ],
         "matches": "x2",
         "showgrid": true,
         "showline": false,
         "showticklabels": false,
         "ticks": ""
        },
        "yaxis": {
         "anchor": "x",
         "domain": [
          0,
          0.7326
         ],
         "title": {
          "text": "R"
         }
        },
        "yaxis2": {
         "anchor": "x2",
         "domain": [
          0,
          0.7326
         ],
         "matches": "y",
         "showgrid": true,
         "showticklabels": false
        },
        "yaxis3": {
         "anchor": "x3",
         "domain": [
          0.7426,
          1
         ],
         "matches": "y3",
         "showgrid": true,
         "showline": false,
         "showticklabels": false,
         "ticks": ""
        },
        "yaxis4": {
         "anchor": "x4",
         "domain": [
          0.7426,
          1
         ],
         "matches": "y3",
         "showgrid": true,
         "showline": false,
         "showticklabels": false,
         "ticks": ""
        }
       }
      },
      "text/html": [
       "<div>                            <div id=\"5026ae2d-d1f1-4bf0-8be1-97beffd3a3a4\" class=\"plotly-graph-div\" style=\"height:525px; width:100%;\"></div>            <script type=\"text/javascript\">                require([\"plotly\"], function(Plotly) {                    window.PLOTLYENV=window.PLOTLYENV || {};                                    if (document.getElementById(\"5026ae2d-d1f1-4bf0-8be1-97beffd3a3a4\")) {                    Plotly.newPlot(                        \"5026ae2d-d1f1-4bf0-8be1-97beffd3a3a4\",                        [{\"contours\":{\"coloring\":\"none\"},\"hovertemplate\":\"gtype_out=BB<br>Theta=%{x}<br>R=%{y}<br>count=%{z}<extra></extra>\",\"legendgroup\":\"BB\",\"line\":{\"color\":\"#2CA02C\"},\"name\":\"BB\",\"showlegend\":true,\"type\":\"histogram2dcontour\",\"x\":[0.9783415,0.9504623,0.9741675,0.9593747,0.9544989,0.9494527,0.9554906,0.9632757,0.961739,0.97149,0.9681001,0.9717402,0.9579055,0.9733081,0.9618404,0.9758378,0.9630002,0.9573405,0.9550448,0.9673235,0.936164,0.9478692,0.9509611,0.9573662,0.9576157,0.9629935,0.9517125,0.9531431,0.947571,0.9553232,0.9494918,0.9538915,0.958737,0.9647852,0.9591101,0.9642828,0.958279,0.9521781,0.9593722,0.9658979,0.9572034,0.9519868,0.9630252,0.9533402,0.9655342,0.9574209,0.9643096,0.9534758,0.9594354,0.9531994,0.9329,0.9591395,0.9555489,0.9434448,0.9563623,0.9604501,0.9473326,0.9729456,0.9757709,0.9630159,0.9571338,0.9560378,0.934392,0.9602152,0.9701965,0.9553831,0.9556195,0.9671876,0.9583478,0.9522132,0.9644687,0.9426908],\"xaxis\":\"x\",\"xbingroup\":\"x\",\"y\":[1.124041,1.28643,1.143932,1.239037,1.171495,1.132143,1.104728,1.117225,1.161996,1.143396,1.193882,1.145939,1.214612,1.195241,1.174356,1.191462,1.180584,1.214954,1.168255,1.186066,1.20844,1.230156,1.087062,1.123863,1.155385,1.192624,1.082331,1.156006,1.124266,1.167745,1.162335,1.146031,1.197268,1.150787,1.106112,1.143792,1.178022,1.233601,1.1828,1.171732,1.179432,1.153898,1.110721,1.136749,1.172696,1.100838,1.145391,1.197685,1.151607,1.223667,1.110455,1.133145,1.23889,1.120863,1.157234,1.186532,1.256602,1.1367,1.182563,1.220313,1.195901,1.197863,1.166847,1.168691,1.144719,1.131924,1.163753,1.177838,1.160252,1.151133,1.133834,0.8265839],\"yaxis\":\"y\",\"ybingroup\":\"y\"},{\"alignmentgroup\":\"True\",\"bingroup\":\"x\",\"hovertemplate\":\"gtype_out=BB<br>Theta=%{x}<br>count=%{y}<extra></extra>\",\"legendgroup\":\"BB\",\"marker\":{\"color\":\"#2CA02C\"},\"name\":\"BB\",\"offsetgroup\":\"BB\",\"opacity\":0.5,\"showlegend\":false,\"type\":\"histogram\",\"x\":[0.9783415,0.9504623,0.9741675,0.9593747,0.9544989,0.9494527,0.9554906,0.9632757,0.961739,0.97149,0.9681001,0.9717402,0.9579055,0.9733081,0.9618404,0.9758378,0.9630002,0.9573405,0.9550448,0.9673235,0.936164,0.9478692,0.9509611,0.9573662,0.9576157,0.9629935,0.9517125,0.9531431,0.947571,0.9553232,0.9494918,0.9538915,0.958737,0.9647852,0.9591101,0.9642828,0.958279,0.9521781,0.9593722,0.9658979,0.9572034,0.9519868,0.9630252,0.9533402,0.9655342,0.9574209,0.9643096,0.9534758,0.9594354,0.9531994,0.9329,0.9591395,0.9555489,0.9434448,0.9563623,0.9604501,0.9473326,0.9729456,0.9757709,0.9630159,0.9571338,0.9560378,0.934392,0.9602152,0.9701965,0.9553831,0.9556195,0.9671876,0.9583478,0.9522132,0.9644687,0.9426908],\"xaxis\":\"x3\",\"yaxis\":\"y3\"},{\"alignmentgroup\":\"True\",\"bingroup\":\"y\",\"hovertemplate\":\"gtype_out=BB<br>R=%{y}<br>count=%{x}<extra></extra>\",\"legendgroup\":\"BB\",\"marker\":{\"color\":\"#2CA02C\"},\"name\":\"BB\",\"offsetgroup\":\"BB\",\"opacity\":0.5,\"showlegend\":false,\"type\":\"histogram\",\"xaxis\":\"x2\",\"y\":[1.124041,1.28643,1.143932,1.239037,1.171495,1.132143,1.104728,1.117225,1.161996,1.143396,1.193882,1.145939,1.214612,1.195241,1.174356,1.191462,1.180584,1.214954,1.168255,1.186066,1.20844,1.230156,1.087062,1.123863,1.155385,1.192624,1.082331,1.156006,1.124266,1.167745,1.162335,1.146031,1.197268,1.150787,1.106112,1.143792,1.178022,1.233601,1.1828,1.171732,1.179432,1.153898,1.110721,1.136749,1.172696,1.100838,1.145391,1.197685,1.151607,1.223667,1.110455,1.133145,1.23889,1.120863,1.157234,1.186532,1.256602,1.1367,1.182563,1.220313,1.195901,1.197863,1.166847,1.168691,1.144719,1.131924,1.163753,1.177838,1.160252,1.151133,1.133834,0.8265839],\"yaxis\":\"y2\"},{\"contours\":{\"coloring\":\"none\"},\"hovertemplate\":\"gtype_out=AA<br>Theta=%{x}<br>R=%{y}<br>count=%{z}<extra></extra>\",\"legendgroup\":\"AA\",\"line\":{\"color\":\"#1F77B4\"},\"name\":\"AA\",\"showlegend\":true,\"type\":\"histogram2dcontour\",\"x\":[0.03372161,0.01768242,0.01934427,0.02041522,0.00777587,0.01317158,0.02604505,0.02846322,0.05940904,0.07457311,0.1443147,0.01120784,0.01508966,0.02031893,0.01372548],\"xaxis\":\"x\",\"xbingroup\":\"x\",\"y\":[1.453825,1.507179,1.54051,1.554099,1.536457,1.468724,1.524307,1.475467,1.515514,1.362646,1.396757,1.523173,1.59149,1.614841,1.494911],\"yaxis\":\"y\",\"ybingroup\":\"y\"},{\"alignmentgroup\":\"True\",\"bingroup\":\"x\",\"hovertemplate\":\"gtype_out=AA<br>Theta=%{x}<br>count=%{y}<extra></extra>\",\"legendgroup\":\"AA\",\"marker\":{\"color\":\"#1F77B4\"},\"name\":\"AA\",\"offsetgroup\":\"AA\",\"opacity\":0.5,\"showlegend\":false,\"type\":\"histogram\",\"x\":[0.03372161,0.01768242,0.01934427,0.02041522,0.00777587,0.01317158,0.02604505,0.02846322,0.05940904,0.07457311,0.1443147,0.01120784,0.01508966,0.02031893,0.01372548],\"xaxis\":\"x3\",\"yaxis\":\"y3\"},{\"alignmentgroup\":\"True\",\"bingroup\":\"y\",\"hovertemplate\":\"gtype_out=AA<br>R=%{y}<br>count=%{x}<extra></extra>\",\"legendgroup\":\"AA\",\"marker\":{\"color\":\"#1F77B4\"},\"name\":\"AA\",\"offsetgroup\":\"AA\",\"opacity\":0.5,\"showlegend\":false,\"type\":\"histogram\",\"xaxis\":\"x2\",\"y\":[1.453825,1.507179,1.54051,1.554099,1.536457,1.468724,1.524307,1.475467,1.515514,1.362646,1.396757,1.523173,1.59149,1.614841,1.494911],\"yaxis\":\"y2\"},{\"contours\":{\"coloring\":\"none\"},\"hovertemplate\":\"gtype_out=AB<br>Theta=%{x}<br>R=%{y}<br>count=%{z}<extra></extra>\",\"legendgroup\":\"AB\",\"line\":{\"color\":\"#FF7F0E\"},\"name\":\"AB\",\"showlegend\":true,\"type\":\"histogram2dcontour\",\"x\":[0.3452697,0.3765664,0.385852,0.3814036,0.4036807,0.4202441,0.2626661,0.2459879,0.4191646],\"xaxis\":\"x\",\"xbingroup\":\"x\",\"y\":[1.315046,1.362909,1.437546,1.358505,1.39309,1.32721,1.400039,1.293814,1.33464],\"yaxis\":\"y\",\"ybingroup\":\"y\"},{\"alignmentgroup\":\"True\",\"bingroup\":\"x\",\"hovertemplate\":\"gtype_out=AB<br>Theta=%{x}<br>count=%{y}<extra></extra>\",\"legendgroup\":\"AB\",\"marker\":{\"color\":\"#FF7F0E\"},\"name\":\"AB\",\"offsetgroup\":\"AB\",\"opacity\":0.5,\"showlegend\":false,\"type\":\"histogram\",\"x\":[0.3452697,0.3765664,0.385852,0.3814036,0.4036807,0.4202441,0.2626661,0.2459879,0.4191646],\"xaxis\":\"x3\",\"yaxis\":\"y3\"},{\"alignmentgroup\":\"True\",\"bingroup\":\"y\",\"hovertemplate\":\"gtype_out=AB<br>R=%{y}<br>count=%{x}<extra></extra>\",\"legendgroup\":\"AB\",\"marker\":{\"color\":\"#FF7F0E\"},\"name\":\"AB\",\"offsetgroup\":\"AB\",\"opacity\":0.5,\"showlegend\":false,\"type\":\"histogram\",\"xaxis\":\"x2\",\"y\":[1.315046,1.362909,1.437546,1.358505,1.39309,1.32721,1.400039,1.293814,1.33464],\"yaxis\":\"y2\"},{\"hovertemplate\":\"gtype_out=BB<br>Theta=%{x}<br>R=%{y}<extra></extra>\",\"legendgroup\":\"BB\",\"marker\":{\"color\":\"#2CA02C\",\"symbol\":\"circle\"},\"mode\":\"markers\",\"name\":\"BB\",\"orientation\":\"v\",\"showlegend\":true,\"type\":\"scatter\",\"x\":[0.9783415,0.9504623,0.9741675,0.9593747,0.9544989,0.9494527,0.9554906,0.9632757,0.961739,0.97149,0.9681001,0.9717402,0.9579055,0.9733081,0.9618404,0.9758378,0.9630002,0.9573405,0.9550448,0.9673235,0.936164,0.9478692,0.9509611,0.9573662,0.9576157,0.9629935,0.9517125,0.9531431,0.947571,0.9553232,0.9494918,0.9538915,0.958737,0.9647852,0.9591101,0.9642828,0.958279,0.9521781,0.9593722,0.9658979,0.9572034,0.9519868,0.9630252,0.9533402,0.9655342,0.9574209,0.9643096,0.9534758,0.9594354,0.9531994,0.9329,0.9591395,0.9555489,0.9434448,0.9563623,0.9604501,0.9473326,0.9729456,0.9757709,0.9630159,0.9571338,0.9560378,0.934392,0.9602152,0.9701965,0.9553831,0.9556195,0.9671876,0.9583478,0.9522132,0.9644687,0.9426908],\"xaxis\":\"x\",\"y\":[1.124041,1.28643,1.143932,1.239037,1.171495,1.132143,1.104728,1.117225,1.161996,1.143396,1.193882,1.145939,1.214612,1.195241,1.174356,1.191462,1.180584,1.214954,1.168255,1.186066,1.20844,1.230156,1.087062,1.123863,1.155385,1.192624,1.082331,1.156006,1.124266,1.167745,1.162335,1.146031,1.197268,1.150787,1.106112,1.143792,1.178022,1.233601,1.1828,1.171732,1.179432,1.153898,1.110721,1.136749,1.172696,1.100838,1.145391,1.197685,1.151607,1.223667,1.110455,1.133145,1.23889,1.120863,1.157234,1.186532,1.256602,1.1367,1.182563,1.220313,1.195901,1.197863,1.166847,1.168691,1.144719,1.131924,1.163753,1.177838,1.160252,1.151133,1.133834,0.8265839],\"yaxis\":\"y\"},{\"hovertemplate\":\"gtype_out=AA<br>Theta=%{x}<br>R=%{y}<extra></extra>\",\"legendgroup\":\"AA\",\"marker\":{\"color\":\"#1F77B4\",\"symbol\":\"circle\"},\"mode\":\"markers\",\"name\":\"AA\",\"orientation\":\"v\",\"showlegend\":true,\"type\":\"scatter\",\"x\":[0.03372161,0.01768242,0.01934427,0.02041522,0.00777587,0.01317158,0.02604505,0.02846322,0.05940904,0.07457311,0.1443147,0.01120784,0.01508966,0.02031893,0.01372548],\"xaxis\":\"x\",\"y\":[1.453825,1.507179,1.54051,1.554099,1.536457,1.468724,1.524307,1.475467,1.515514,1.362646,1.396757,1.523173,1.59149,1.614841,1.494911],\"yaxis\":\"y\"},{\"hovertemplate\":\"gtype_out=AB<br>Theta=%{x}<br>R=%{y}<extra></extra>\",\"legendgroup\":\"AB\",\"marker\":{\"color\":\"#FF7F0E\",\"symbol\":\"circle\"},\"mode\":\"markers\",\"name\":\"AB\",\"orientation\":\"v\",\"showlegend\":true,\"type\":\"scatter\",\"x\":[0.3452697,0.3765664,0.385852,0.3814036,0.4036807,0.4202441,0.2626661,0.2459879,0.4191646],\"xaxis\":\"x\",\"y\":[1.315046,1.362909,1.437546,1.358505,1.39309,1.32721,1.400039,1.293814,1.33464],\"yaxis\":\"y\"}],                        {\"barmode\":\"overlay\",\"legend\":{\"title\":{\"text\":\"gtype_out\"},\"tracegroupgap\":0},\"margin\":{\"t\":60},\"template\":{\"data\":{\"bar\":[{\"error_x\":{\"color\":\"#2a3f5f\"},\"error_y\":{\"color\":\"#2a3f5f\"},\"marker\":{\"line\":{\"color\":\"#E5ECF6\",\"width\":0.5},\"pattern\":{\"fillmode\":\"overlay\",\"size\":10,\"solidity\":0.2}},\"type\":\"bar\"}],\"barpolar\":[{\"marker\":{\"line\":{\"color\":\"#E5ECF6\",\"width\":0.5},\"pattern\":{\"fillmode\":\"overlay\",\"size\":10,\"solidity\":0.2}},\"type\":\"barpolar\"}],\"carpet\":[{\"aaxis\":{\"endlinecolor\":\"#2a3f5f\",\"gridcolor\":\"white\",\"linecolor\":\"white\",\"minorgridcolor\":\"white\",\"startlinecolor\":\"#2a3f5f\"},\"baxis\":{\"endlinecolor\":\"#2a3f5f\",\"gridcolor\":\"white\",\"linecolor\":\"white\",\"minorgridcolor\":\"white\",\"startlinecolor\":\"#2a3f5f\"},\"type\":\"carpet\"}],\"choropleth\":[{\"colorbar\":{\"outlinewidth\":0,\"ticks\":\"\"},\"type\":\"choropleth\"}],\"contour\":[{\"colorbar\":{\"outlinewidth\":0,\"ticks\":\"\"},\"colorscale\":[[0.0,\"#0d0887\"],[0.1111111111111111,\"#46039f\"],[0.2222222222222222,\"#7201a8\"],[0.3333333333333333,\"#9c179e\"],[0.4444444444444444,\"#bd3786\"],[0.5555555555555556,\"#d8576b\"],[0.6666666666666666,\"#ed7953\"],[0.7777777777777778,\"#fb9f3a\"],[0.8888888888888888,\"#fdca26\"],[1.0,\"#f0f921\"]],\"type\":\"contour\"}],\"contourcarpet\":[{\"colorbar\":{\"outlinewidth\":0,\"ticks\":\"\"},\"type\":\"contourcarpet\"}],\"heatmap\":[{\"colorbar\":{\"outlinewidth\":0,\"ticks\":\"\"},\"colorscale\":[[0.0,\"#0d0887\"],[0.1111111111111111,\"#46039f\"],[0.2222222222222222,\"#7201a8\"],[0.3333333333333333,\"#9c179e\"],[0.4444444444444444,\"#bd3786\"],[0.5555555555555556,\"#d8576b\"],[0.6666666666666666,\"#ed7953\"],[0.7777777777777778,\"#fb9f3a\"],[0.8888888888888888,\"#fdca26\"],[1.0,\"#f0f921\"]],\"type\":\"heatmap\"}],\"heatmapgl\":[{\"colorbar\":{\"outlinewidth\":0,\"ticks\":\"\"},\"colorscale\":[[0.0,\"#0d0887\"],[0.1111111111111111,\"#46039f\"],[0.2222222222222222,\"#7201a8\"],[0.3333333333333333,\"#9c179e\"],[0.4444444444444444,\"#bd3786\"],[0.5555555555555556,\"#d8576b\"],[0.6666666666666666,\"#ed7953\"],[0.7777777777777778,\"#fb9f3a\"],[0.8888888888888888,\"#fdca26\"],[1.0,\"#f0f921\"]],\"type\":\"heatmapgl\"}],\"histogram\":[{\"marker\":{\"pattern\":{\"fillmode\":\"overlay\",\"size\":10,\"solidity\":0.2}},\"type\":\"histogram\"}],\"histogram2d\":[{\"colorbar\":{\"outlinewidth\":0,\"ticks\":\"\"},\"colorscale\":[[0.0,\"#0d0887\"],[0.1111111111111111,\"#46039f\"],[0.2222222222222222,\"#7201a8\"],[0.3333333333333333,\"#9c179e\"],[0.4444444444444444,\"#bd3786\"],[0.5555555555555556,\"#d8576b\"],[0.6666666666666666,\"#ed7953\"],[0.7777777777777778,\"#fb9f3a\"],[0.8888888888888888,\"#fdca26\"],[1.0,\"#f0f921\"]],\"type\":\"histogram2d\"}],\"histogram2dcontour\":[{\"colorbar\":{\"outlinewidth\":0,\"ticks\":\"\"},\"colorscale\":[[0.0,\"#0d0887\"],[0.1111111111111111,\"#46039f\"],[0.2222222222222222,\"#7201a8\"],[0.3333333333333333,\"#9c179e\"],[0.4444444444444444,\"#bd3786\"],[0.5555555555555556,\"#d8576b\"],[0.6666666666666666,\"#ed7953\"],[0.7777777777777778,\"#fb9f3a\"],[0.8888888888888888,\"#fdca26\"],[1.0,\"#f0f921\"]],\"type\":\"histogram2dcontour\"}],\"mesh3d\":[{\"colorbar\":{\"outlinewidth\":0,\"ticks\":\"\"},\"type\":\"mesh3d\"}],\"parcoords\":[{\"line\":{\"colorbar\":{\"outlinewidth\":0,\"ticks\":\"\"}},\"type\":\"parcoords\"}],\"pie\":[{\"automargin\":true,\"type\":\"pie\"}],\"scatter\":[{\"marker\":{\"colorbar\":{\"outlinewidth\":0,\"ticks\":\"\"}},\"type\":\"scatter\"}],\"scatter3d\":[{\"line\":{\"colorbar\":{\"outlinewidth\":0,\"ticks\":\"\"}},\"marker\":{\"colorbar\":{\"outlinewidth\":0,\"ticks\":\"\"}},\"type\":\"scatter3d\"}],\"scattercarpet\":[{\"marker\":{\"colorbar\":{\"outlinewidth\":0,\"ticks\":\"\"}},\"type\":\"scattercarpet\"}],\"scattergeo\":[{\"marker\":{\"colorbar\":{\"outlinewidth\":0,\"ticks\":\"\"}},\"type\":\"scattergeo\"}],\"scattergl\":[{\"marker\":{\"colorbar\":{\"outlinewidth\":0,\"ticks\":\"\"}},\"type\":\"scattergl\"}],\"scattermapbox\":[{\"marker\":{\"colorbar\":{\"outlinewidth\":0,\"ticks\":\"\"}},\"type\":\"scattermapbox\"}],\"scatterpolar\":[{\"marker\":{\"colorbar\":{\"outlinewidth\":0,\"ticks\":\"\"}},\"type\":\"scatterpolar\"}],\"scatterpolargl\":[{\"marker\":{\"colorbar\":{\"outlinewidth\":0,\"ticks\":\"\"}},\"type\":\"scatterpolargl\"}],\"scatterternary\":[{\"marker\":{\"colorbar\":{\"outlinewidth\":0,\"ticks\":\"\"}},\"type\":\"scatterternary\"}],\"surface\":[{\"colorbar\":{\"outlinewidth\":0,\"ticks\":\"\"},\"colorscale\":[[0.0,\"#0d0887\"],[0.1111111111111111,\"#46039f\"],[0.2222222222222222,\"#7201a8\"],[0.3333333333333333,\"#9c179e\"],[0.4444444444444444,\"#bd3786\"],[0.5555555555555556,\"#d8576b\"],[0.6666666666666666,\"#ed7953\"],[0.7777777777777778,\"#fb9f3a\"],[0.8888888888888888,\"#fdca26\"],[1.0,\"#f0f921\"]],\"type\":\"surface\"}],\"table\":[{\"cells\":{\"fill\":{\"color\":\"#EBF0F8\"},\"line\":{\"color\":\"white\"}},\"header\":{\"fill\":{\"color\":\"#C8D4E3\"},\"line\":{\"color\":\"white\"}},\"type\":\"table\"}]},\"layout\":{\"annotationdefaults\":{\"arrowcolor\":\"#2a3f5f\",\"arrowhead\":0,\"arrowwidth\":1},\"autotypenumbers\":\"strict\",\"coloraxis\":{\"colorbar\":{\"outlinewidth\":0,\"ticks\":\"\"}},\"colorscale\":{\"diverging\":[[0,\"#8e0152\"],[0.1,\"#c51b7d\"],[0.2,\"#de77ae\"],[0.3,\"#f1b6da\"],[0.4,\"#fde0ef\"],[0.5,\"#f7f7f7\"],[0.6,\"#e6f5d0\"],[0.7,\"#b8e186\"],[0.8,\"#7fbc41\"],[0.9,\"#4d9221\"],[1,\"#276419\"]],\"sequential\":[[0.0,\"#0d0887\"],[0.1111111111111111,\"#46039f\"],[0.2222222222222222,\"#7201a8\"],[0.3333333333333333,\"#9c179e\"],[0.4444444444444444,\"#bd3786\"],[0.5555555555555556,\"#d8576b\"],[0.6666666666666666,\"#ed7953\"],[0.7777777777777778,\"#fb9f3a\"],[0.8888888888888888,\"#fdca26\"],[1.0,\"#f0f921\"]],\"sequentialminus\":[[0.0,\"#0d0887\"],[0.1111111111111111,\"#46039f\"],[0.2222222222222222,\"#7201a8\"],[0.3333333333333333,\"#9c179e\"],[0.4444444444444444,\"#bd3786\"],[0.5555555555555556,\"#d8576b\"],[0.6666666666666666,\"#ed7953\"],[0.7777777777777778,\"#fb9f3a\"],[0.8888888888888888,\"#fdca26\"],[1.0,\"#f0f921\"]]},\"colorway\":[\"#636efa\",\"#EF553B\",\"#00cc96\",\"#ab63fa\",\"#FFA15A\",\"#19d3f3\",\"#FF6692\",\"#B6E880\",\"#FF97FF\",\"#FECB52\"],\"font\":{\"color\":\"#2a3f5f\"},\"geo\":{\"bgcolor\":\"white\",\"lakecolor\":\"white\",\"landcolor\":\"#E5ECF6\",\"showlakes\":true,\"showland\":true,\"subunitcolor\":\"white\"},\"hoverlabel\":{\"align\":\"left\"},\"hovermode\":\"closest\",\"mapbox\":{\"style\":\"light\"},\"paper_bgcolor\":\"white\",\"plot_bgcolor\":\"#E5ECF6\",\"polar\":{\"angularaxis\":{\"gridcolor\":\"white\",\"linecolor\":\"white\",\"ticks\":\"\"},\"bgcolor\":\"#E5ECF6\",\"radialaxis\":{\"gridcolor\":\"white\",\"linecolor\":\"white\",\"ticks\":\"\"}},\"scene\":{\"xaxis\":{\"backgroundcolor\":\"#E5ECF6\",\"gridcolor\":\"white\",\"gridwidth\":2,\"linecolor\":\"white\",\"showbackground\":true,\"ticks\":\"\",\"zerolinecolor\":\"white\"},\"yaxis\":{\"backgroundcolor\":\"#E5ECF6\",\"gridcolor\":\"white\",\"gridwidth\":2,\"linecolor\":\"white\",\"showbackground\":true,\"ticks\":\"\",\"zerolinecolor\":\"white\"},\"zaxis\":{\"backgroundcolor\":\"#E5ECF6\",\"gridcolor\":\"white\",\"gridwidth\":2,\"linecolor\":\"white\",\"showbackground\":true,\"ticks\":\"\",\"zerolinecolor\":\"white\"}},\"shapedefaults\":{\"line\":{\"color\":\"#2a3f5f\"}},\"ternary\":{\"aaxis\":{\"gridcolor\":\"white\",\"linecolor\":\"white\",\"ticks\":\"\"},\"baxis\":{\"gridcolor\":\"white\",\"linecolor\":\"white\",\"ticks\":\"\"},\"bgcolor\":\"#E5ECF6\",\"caxis\":{\"gridcolor\":\"white\",\"linecolor\":\"white\",\"ticks\":\"\"}},\"title\":{\"x\":0.05},\"xaxis\":{\"automargin\":true,\"gridcolor\":\"white\",\"linecolor\":\"white\",\"ticks\":\"\",\"title\":{\"standoff\":15},\"zerolinecolor\":\"white\",\"zerolinewidth\":2},\"yaxis\":{\"automargin\":true,\"gridcolor\":\"white\",\"linecolor\":\"white\",\"ticks\":\"\",\"title\":{\"standoff\":15},\"zerolinecolor\":\"white\",\"zerolinewidth\":2}}},\"xaxis\":{\"anchor\":\"y\",\"domain\":[0.0,0.7363],\"title\":{\"text\":\"Theta\"}},\"xaxis2\":{\"anchor\":\"y2\",\"domain\":[0.7413,1.0],\"matches\":\"x2\",\"showgrid\":true,\"showline\":false,\"showticklabels\":false,\"ticks\":\"\"},\"xaxis3\":{\"anchor\":\"y3\",\"domain\":[0.0,0.7363],\"matches\":\"x\",\"showgrid\":true,\"showticklabels\":false},\"xaxis4\":{\"anchor\":\"y4\",\"domain\":[0.7413,1.0],\"matches\":\"x2\",\"showgrid\":true,\"showline\":false,\"showticklabels\":false,\"ticks\":\"\"},\"yaxis\":{\"anchor\":\"x\",\"domain\":[0.0,0.7326],\"title\":{\"text\":\"R\"}},\"yaxis2\":{\"anchor\":\"x2\",\"domain\":[0.0,0.7326],\"matches\":\"y\",\"showgrid\":true,\"showticklabels\":false},\"yaxis3\":{\"anchor\":\"x3\",\"domain\":[0.7426,1.0],\"matches\":\"y3\",\"showgrid\":true,\"showline\":false,\"showticklabels\":false,\"ticks\":\"\"},\"yaxis4\":{\"anchor\":\"x4\",\"domain\":[0.7426,1.0],\"matches\":\"y3\",\"showgrid\":true,\"showline\":false,\"showticklabels\":false,\"ticks\":\"\"}},                        {\"responsive\": true}                    ).then(function(){\n",
       "                            \n",
       "var gd = document.getElementById('5026ae2d-d1f1-4bf0-8be1-97beffd3a3a4');\n",
       "var x = new MutationObserver(function (mutations, observer) {{\n",
       "        var display = window.getComputedStyle(gd).display;\n",
       "        if (!display || display === 'none') {{\n",
       "            console.log([gd, 'removed!']);\n",
       "            Plotly.purge(gd);\n",
       "            observer.disconnect();\n",
       "        }}\n",
       "}});\n",
       "\n",
       "// Listen for the removal of the full notebook cells\n",
       "var notebookContainer = gd.closest('#notebook-container');\n",
       "if (notebookContainer) {{\n",
       "    x.observe(notebookContainer, {childList: true});\n",
       "}}\n",
       "\n",
       "// Listen for the clearing of the current output cell\n",
       "var outputEl = gd.closest('.output');\n",
       "if (outputEl) {{\n",
       "    x.observe(outputEl, {childList: true});\n",
       "}}\n",
       "\n",
       "                        })                };                });            </script>        </div>"
      ]
     },
     "metadata": {},
     "output_type": "display_data"
    }
   ],
   "source": [
    "\n",
    "\n",
    "\n",
    "\n",
    "\n",
    "\n",
    "n_trace = len(gmm_plot_df['gtype_out'].unique())\n",
    "\n",
    "\n",
    "recluster_fig = px.density_contour(\n",
    "    gmm_plot_df,\n",
    "    x=x_col, y=y_col, \n",
    "    marginal_x=\"histogram\", \n",
    "    marginal_y=\"histogram\",\n",
    "    color=\"gtype_out\", \n",
    "    color_discrete_map=cmap\n",
    "    )\n",
    "\n",
    "fig2 = px.scatter(gmm_plot_df, x=x_col, y=y_col, color='gtype_out', color_discrete_map=cmap)\n",
    "\n",
    "# fig2.update_xaxes(range=xlim, nticks=10)\n",
    "# fig2.update_yaxes(range=ylim, nticks=10)\n",
    "\n",
    "\n",
    "for i in range(n_trace):\n",
    "    recluster_fig.add_trace(fig2.data[i])\n",
    "recluster_fig.show()"
   ]
  },
  {
   "cell_type": "code",
   "execution_count": 75,
   "metadata": {},
   "outputs": [],
   "source": [
    "import plotly.subplots as sp\n",
    "figure1_traces = []\n",
    "figure2_traces = []\n",
    "for trace in range(len(cluster_fig[\"data\"])):\n",
    "    figure1_traces.append(cluster_fig[\"data\"][trace])\n",
    "for trace in range(len(fig2[\"data\"])):\n",
    "    figure2_traces.append(fig2[\"data\"][trace])\n",
    "\n",
    "#Create a 1x2 subplot\n",
    "out_fig = sp.make_subplots(rows=1, cols=2) \n",
    "\n",
    "# Get the Express fig broken down as traces and add the traces to the proper plot within in the subplot\n",
    "for traces in figure1_traces:\n",
    "    out_fig.append_trace(traces, row=1, col=1)\n",
    "for traces in figure2_traces:\n",
    "    out_fig.append_trace(traces, row=1, col=2)"
   ]
  },
  {
   "cell_type": "code",
   "execution_count": 76,
   "metadata": {},
   "outputs": [],
   "source": [
    "# for trace in range(len(this_figure.data)):\n",
    "#     print(this_figure[0])\n",
    "for gtype in gmm_plot_df['gtype_out'].unique():\n",
    "    x = gmm_plot_df.loc[gmm_plot_df['gtype_out']==gtype, x_col]\n",
    "    y = gmm_plot_df.loc[gmm_plot_df['gtype_out']==gtype, y_col]\n",
    "    out_fig.append_trace(go.Histogram2dContour(\n",
    "        x = x,\n",
    "        y = y,\n",
    "        xaxis = 'x',\n",
    "        yaxis = 'y',\n",
    "    ), 1,2)\n",
    "\n",
    "    # out_fig.append_trace(go.Histogram(\n",
    "    #     y = y,\n",
    "    #     xaxis = 'x2',\n",
    "    #     ),\n",
    "    #     1,2)\n",
    "    # out_fig.append_trace(go.Histogram(\n",
    "    #     x = x,\n",
    "    #     yaxis = 'y2',\n",
    "    #     ),\n",
    "    #     1,2)\n",
    "    \n",
    "    # out_fig.update_layout(\n",
    "    #     autosize = False,\n",
    "    #     xaxis = dict(\n",
    "    #         zeroline = False,\n",
    "    #         domain = [0,0.85],\n",
    "    #         showgrid = False\n",
    "    #     ),\n",
    "    #     yaxis = dict(\n",
    "    #         zeroline = False,\n",
    "    #         domain = [0,0.85],\n",
    "    #         showgrid = False\n",
    "    #     ),\n",
    "    #     xaxis2 = dict(\n",
    "    #         zeroline = False,\n",
    "    #         domain = [0.85,1],\n",
    "    #         showgrid = False\n",
    "    #     ),\n",
    "    #     yaxis2 = dict(\n",
    "    #         zeroline = False,\n",
    "    #         domain = [0.85,1],\n",
    "    #         showgrid = False\n",
    "    #     ),\n",
    "    #     height = 600,\n",
    "    #     width = 600,\n",
    "    #     bargap = 0,\n",
    "    #     hovermode = 'closest',\n",
    "    #     showlegend = False\n",
    "    # )\n"
   ]
  },
  {
   "cell_type": "code",
   "execution_count": 77,
   "metadata": {},
   "outputs": [
    {
     "data": {
      "application/vnd.plotly.v1+json": {
       "config": {
        "plotlyServerURL": "https://plot.ly"
       },
       "data": [
        {
         "hovertemplate": "GType=BB<br>Theta=%{x}<br>R=%{y}<extra></extra>",
         "legendgroup": "BB",
         "marker": {
          "color": "#2CA02C",
          "symbol": "circle"
         },
         "mode": "markers",
         "name": "BB",
         "orientation": "v",
         "showlegend": true,
         "type": "scatter",
         "x": [
          0.9783415,
          0.9504623,
          0.9741675,
          0.9593747,
          0.9544989,
          0.9494527,
          0.9554906,
          0.9632757,
          0.961739,
          0.97149,
          0.9681001,
          0.9717402,
          0.9579055,
          0.9733081,
          0.9618404,
          0.9758378,
          0.9630002,
          0.9573405,
          0.9550448,
          0.9673235,
          0.936164,
          0.9478692,
          0.9509611,
          0.9573662,
          0.9576157,
          0.9629935,
          0.9517125,
          0.9531431,
          0.947571,
          0.9553232,
          0.9494918,
          0.9538915,
          0.958737,
          0.9647852,
          0.9591101,
          0.9642828,
          0.958279,
          0.9521781,
          0.9593722,
          0.9658979,
          0.9572034,
          0.9519868,
          0.9630252,
          0.9533402,
          0.9655342,
          0.9574209,
          0.9643096,
          0.9534758,
          0.9594354,
          0.9531994,
          0.9329,
          0.9591395,
          0.9555489,
          0.9434448,
          0.9563623,
          0.9604501,
          0.9473326,
          0.9729456,
          0.9757709,
          0.9630159,
          0.9571338,
          0.9560378,
          0.934392,
          0.9602152,
          0.9701965,
          0.9553831,
          0.9556195,
          0.9671876,
          0.9583478,
          0.9522132,
          0.9644687,
          0.9426908
         ],
         "xaxis": "x",
         "y": [
          1.124041,
          1.28643,
          1.143932,
          1.239037,
          1.171495,
          1.132143,
          1.104728,
          1.117225,
          1.161996,
          1.143396,
          1.193882,
          1.145939,
          1.214612,
          1.195241,
          1.174356,
          1.191462,
          1.180584,
          1.214954,
          1.168255,
          1.186066,
          1.20844,
          1.230156,
          1.087062,
          1.123863,
          1.155385,
          1.192624,
          1.082331,
          1.156006,
          1.124266,
          1.167745,
          1.162335,
          1.146031,
          1.197268,
          1.150787,
          1.106112,
          1.143792,
          1.178022,
          1.233601,
          1.1828,
          1.171732,
          1.179432,
          1.153898,
          1.110721,
          1.136749,
          1.172696,
          1.100838,
          1.145391,
          1.197685,
          1.151607,
          1.223667,
          1.110455,
          1.133145,
          1.23889,
          1.120863,
          1.157234,
          1.186532,
          1.256602,
          1.1367,
          1.182563,
          1.220313,
          1.195901,
          1.197863,
          1.166847,
          1.168691,
          1.144719,
          1.131924,
          1.163753,
          1.177838,
          1.160252,
          1.151133,
          1.133834,
          0.8265839
         ],
         "yaxis": "y"
        },
        {
         "hovertemplate": "GType=AA<br>Theta=%{x}<br>R=%{y}<extra></extra>",
         "legendgroup": "AA",
         "marker": {
          "color": "#1F77B4",
          "symbol": "circle"
         },
         "mode": "markers",
         "name": "AA",
         "orientation": "v",
         "showlegend": true,
         "type": "scatter",
         "x": [
          0.03372161,
          0.01768242,
          0.01934427,
          0.02041522,
          0.00777587,
          0.01317158,
          0.02604505,
          0.02846322,
          0.05940904,
          0.07457311,
          0.1443147,
          0.01120784,
          0.01508966,
          0.02031893,
          0.01372548
         ],
         "xaxis": "x",
         "y": [
          1.453825,
          1.507179,
          1.54051,
          1.554099,
          1.536457,
          1.468724,
          1.524307,
          1.475467,
          1.515514,
          1.362646,
          1.396757,
          1.523173,
          1.59149,
          1.614841,
          1.494911
         ],
         "yaxis": "y"
        },
        {
         "hovertemplate": "GType=AB<br>Theta=%{x}<br>R=%{y}<extra></extra>",
         "legendgroup": "AB",
         "marker": {
          "color": "#FF7F0E",
          "symbol": "circle"
         },
         "mode": "markers",
         "name": "AB",
         "orientation": "v",
         "showlegend": true,
         "type": "scatter",
         "x": [
          0.3452697,
          0.3765664,
          0.385852,
          0.3814036,
          0.4036807,
          0.4202441,
          0.4191646
         ],
         "xaxis": "x",
         "y": [
          1.315046,
          1.362909,
          1.437546,
          1.358505,
          1.39309,
          1.32721,
          1.33464
         ],
         "yaxis": "y"
        },
        {
         "hovertemplate": "GType=NC<br>Theta=%{x}<br>R=%{y}<extra></extra>",
         "legendgroup": "NC",
         "marker": {
          "color": "#D62728",
          "symbol": "circle"
         },
         "mode": "markers",
         "name": "NC",
         "orientation": "v",
         "showlegend": true,
         "type": "scatter",
         "x": [
          0.2626661,
          0.2459879
         ],
         "xaxis": "x",
         "y": [
          1.400039,
          1.293814
         ],
         "yaxis": "y"
        },
        {
         "hovertemplate": "gtype_out=BB<br>Theta=%{x}<br>R=%{y}<extra></extra>",
         "legendgroup": "BB",
         "marker": {
          "color": "#2CA02C",
          "symbol": "circle"
         },
         "mode": "markers",
         "name": "BB",
         "orientation": "v",
         "showlegend": true,
         "type": "scatter",
         "x": [
          0.9783415,
          0.9504623,
          0.9741675,
          0.9593747,
          0.9544989,
          0.9494527,
          0.9554906,
          0.9632757,
          0.961739,
          0.97149,
          0.9681001,
          0.9717402,
          0.9579055,
          0.9733081,
          0.9618404,
          0.9758378,
          0.9630002,
          0.9573405,
          0.9550448,
          0.9673235,
          0.936164,
          0.9478692,
          0.9509611,
          0.9573662,
          0.9576157,
          0.9629935,
          0.9517125,
          0.9531431,
          0.947571,
          0.9553232,
          0.9494918,
          0.9538915,
          0.958737,
          0.9647852,
          0.9591101,
          0.9642828,
          0.958279,
          0.9521781,
          0.9593722,
          0.9658979,
          0.9572034,
          0.9519868,
          0.9630252,
          0.9533402,
          0.9655342,
          0.9574209,
          0.9643096,
          0.9534758,
          0.9594354,
          0.9531994,
          0.9329,
          0.9591395,
          0.9555489,
          0.9434448,
          0.9563623,
          0.9604501,
          0.9473326,
          0.9729456,
          0.9757709,
          0.9630159,
          0.9571338,
          0.9560378,
          0.934392,
          0.9602152,
          0.9701965,
          0.9553831,
          0.9556195,
          0.9671876,
          0.9583478,
          0.9522132,
          0.9644687,
          0.9426908
         ],
         "xaxis": "x2",
         "y": [
          1.124041,
          1.28643,
          1.143932,
          1.239037,
          1.171495,
          1.132143,
          1.104728,
          1.117225,
          1.161996,
          1.143396,
          1.193882,
          1.145939,
          1.214612,
          1.195241,
          1.174356,
          1.191462,
          1.180584,
          1.214954,
          1.168255,
          1.186066,
          1.20844,
          1.230156,
          1.087062,
          1.123863,
          1.155385,
          1.192624,
          1.082331,
          1.156006,
          1.124266,
          1.167745,
          1.162335,
          1.146031,
          1.197268,
          1.150787,
          1.106112,
          1.143792,
          1.178022,
          1.233601,
          1.1828,
          1.171732,
          1.179432,
          1.153898,
          1.110721,
          1.136749,
          1.172696,
          1.100838,
          1.145391,
          1.197685,
          1.151607,
          1.223667,
          1.110455,
          1.133145,
          1.23889,
          1.120863,
          1.157234,
          1.186532,
          1.256602,
          1.1367,
          1.182563,
          1.220313,
          1.195901,
          1.197863,
          1.166847,
          1.168691,
          1.144719,
          1.131924,
          1.163753,
          1.177838,
          1.160252,
          1.151133,
          1.133834,
          0.8265839
         ],
         "yaxis": "y2"
        },
        {
         "hovertemplate": "gtype_out=AA<br>Theta=%{x}<br>R=%{y}<extra></extra>",
         "legendgroup": "AA",
         "marker": {
          "color": "#1F77B4",
          "symbol": "circle"
         },
         "mode": "markers",
         "name": "AA",
         "orientation": "v",
         "showlegend": true,
         "type": "scatter",
         "x": [
          0.03372161,
          0.01768242,
          0.01934427,
          0.02041522,
          0.00777587,
          0.01317158,
          0.02604505,
          0.02846322,
          0.05940904,
          0.07457311,
          0.1443147,
          0.01120784,
          0.01508966,
          0.02031893,
          0.01372548
         ],
         "xaxis": "x2",
         "y": [
          1.453825,
          1.507179,
          1.54051,
          1.554099,
          1.536457,
          1.468724,
          1.524307,
          1.475467,
          1.515514,
          1.362646,
          1.396757,
          1.523173,
          1.59149,
          1.614841,
          1.494911
         ],
         "yaxis": "y2"
        },
        {
         "hovertemplate": "gtype_out=AB<br>Theta=%{x}<br>R=%{y}<extra></extra>",
         "legendgroup": "AB",
         "marker": {
          "color": "#FF7F0E",
          "symbol": "circle"
         },
         "mode": "markers",
         "name": "AB",
         "orientation": "v",
         "showlegend": true,
         "type": "scatter",
         "x": [
          0.3452697,
          0.3765664,
          0.385852,
          0.3814036,
          0.4036807,
          0.4202441,
          0.2626661,
          0.2459879,
          0.4191646
         ],
         "xaxis": "x2",
         "y": [
          1.315046,
          1.362909,
          1.437546,
          1.358505,
          1.39309,
          1.32721,
          1.400039,
          1.293814,
          1.33464
         ],
         "yaxis": "y2"
        },
        {
         "type": "histogram2dcontour",
         "x": [
          0.9783415,
          0.9504623,
          0.9741675,
          0.9593747,
          0.9544989,
          0.9494527,
          0.9554906,
          0.9632757,
          0.961739,
          0.97149,
          0.9681001,
          0.9717402,
          0.9579055,
          0.9733081,
          0.9618404,
          0.9758378,
          0.9630002,
          0.9573405,
          0.9550448,
          0.9673235,
          0.936164,
          0.9478692,
          0.9509611,
          0.9573662,
          0.9576157,
          0.9629935,
          0.9517125,
          0.9531431,
          0.947571,
          0.9553232,
          0.9494918,
          0.9538915,
          0.958737,
          0.9647852,
          0.9591101,
          0.9642828,
          0.958279,
          0.9521781,
          0.9593722,
          0.9658979,
          0.9572034,
          0.9519868,
          0.9630252,
          0.9533402,
          0.9655342,
          0.9574209,
          0.9643096,
          0.9534758,
          0.9594354,
          0.9531994,
          0.9329,
          0.9591395,
          0.9555489,
          0.9434448,
          0.9563623,
          0.9604501,
          0.9473326,
          0.9729456,
          0.9757709,
          0.9630159,
          0.9571338,
          0.9560378,
          0.934392,
          0.9602152,
          0.9701965,
          0.9553831,
          0.9556195,
          0.9671876,
          0.9583478,
          0.9522132,
          0.9644687,
          0.9426908
         ],
         "xaxis": "x2",
         "y": [
          1.124041,
          1.28643,
          1.143932,
          1.239037,
          1.171495,
          1.132143,
          1.104728,
          1.117225,
          1.161996,
          1.143396,
          1.193882,
          1.145939,
          1.214612,
          1.195241,
          1.174356,
          1.191462,
          1.180584,
          1.214954,
          1.168255,
          1.186066,
          1.20844,
          1.230156,
          1.087062,
          1.123863,
          1.155385,
          1.192624,
          1.082331,
          1.156006,
          1.124266,
          1.167745,
          1.162335,
          1.146031,
          1.197268,
          1.150787,
          1.106112,
          1.143792,
          1.178022,
          1.233601,
          1.1828,
          1.171732,
          1.179432,
          1.153898,
          1.110721,
          1.136749,
          1.172696,
          1.100838,
          1.145391,
          1.197685,
          1.151607,
          1.223667,
          1.110455,
          1.133145,
          1.23889,
          1.120863,
          1.157234,
          1.186532,
          1.256602,
          1.1367,
          1.182563,
          1.220313,
          1.195901,
          1.197863,
          1.166847,
          1.168691,
          1.144719,
          1.131924,
          1.163753,
          1.177838,
          1.160252,
          1.151133,
          1.133834,
          0.8265839
         ],
         "yaxis": "y2"
        },
        {
         "type": "histogram2dcontour",
         "x": [
          0.03372161,
          0.01768242,
          0.01934427,
          0.02041522,
          0.00777587,
          0.01317158,
          0.02604505,
          0.02846322,
          0.05940904,
          0.07457311,
          0.1443147,
          0.01120784,
          0.01508966,
          0.02031893,
          0.01372548
         ],
         "xaxis": "x2",
         "y": [
          1.453825,
          1.507179,
          1.54051,
          1.554099,
          1.536457,
          1.468724,
          1.524307,
          1.475467,
          1.515514,
          1.362646,
          1.396757,
          1.523173,
          1.59149,
          1.614841,
          1.494911
         ],
         "yaxis": "y2"
        },
        {
         "type": "histogram2dcontour",
         "x": [
          0.3452697,
          0.3765664,
          0.385852,
          0.3814036,
          0.4036807,
          0.4202441,
          0.2626661,
          0.2459879,
          0.4191646
         ],
         "xaxis": "x2",
         "y": [
          1.315046,
          1.362909,
          1.437546,
          1.358505,
          1.39309,
          1.32721,
          1.400039,
          1.293814,
          1.33464
         ],
         "yaxis": "y2"
        }
       ],
       "layout": {
        "template": {
         "data": {
          "bar": [
           {
            "error_x": {
             "color": "#2a3f5f"
            },
            "error_y": {
             "color": "#2a3f5f"
            },
            "marker": {
             "line": {
              "color": "#E5ECF6",
              "width": 0.5
             },
             "pattern": {
              "fillmode": "overlay",
              "size": 10,
              "solidity": 0.2
             }
            },
            "type": "bar"
           }
          ],
          "barpolar": [
           {
            "marker": {
             "line": {
              "color": "#E5ECF6",
              "width": 0.5
             },
             "pattern": {
              "fillmode": "overlay",
              "size": 10,
              "solidity": 0.2
             }
            },
            "type": "barpolar"
           }
          ],
          "carpet": [
           {
            "aaxis": {
             "endlinecolor": "#2a3f5f",
             "gridcolor": "white",
             "linecolor": "white",
             "minorgridcolor": "white",
             "startlinecolor": "#2a3f5f"
            },
            "baxis": {
             "endlinecolor": "#2a3f5f",
             "gridcolor": "white",
             "linecolor": "white",
             "minorgridcolor": "white",
             "startlinecolor": "#2a3f5f"
            },
            "type": "carpet"
           }
          ],
          "choropleth": [
           {
            "colorbar": {
             "outlinewidth": 0,
             "ticks": ""
            },
            "type": "choropleth"
           }
          ],
          "contour": [
           {
            "colorbar": {
             "outlinewidth": 0,
             "ticks": ""
            },
            "colorscale": [
             [
              0,
              "#0d0887"
             ],
             [
              0.1111111111111111,
              "#46039f"
             ],
             [
              0.2222222222222222,
              "#7201a8"
             ],
             [
              0.3333333333333333,
              "#9c179e"
             ],
             [
              0.4444444444444444,
              "#bd3786"
             ],
             [
              0.5555555555555556,
              "#d8576b"
             ],
             [
              0.6666666666666666,
              "#ed7953"
             ],
             [
              0.7777777777777778,
              "#fb9f3a"
             ],
             [
              0.8888888888888888,
              "#fdca26"
             ],
             [
              1,
              "#f0f921"
             ]
            ],
            "type": "contour"
           }
          ],
          "contourcarpet": [
           {
            "colorbar": {
             "outlinewidth": 0,
             "ticks": ""
            },
            "type": "contourcarpet"
           }
          ],
          "heatmap": [
           {
            "colorbar": {
             "outlinewidth": 0,
             "ticks": ""
            },
            "colorscale": [
             [
              0,
              "#0d0887"
             ],
             [
              0.1111111111111111,
              "#46039f"
             ],
             [
              0.2222222222222222,
              "#7201a8"
             ],
             [
              0.3333333333333333,
              "#9c179e"
             ],
             [
              0.4444444444444444,
              "#bd3786"
             ],
             [
              0.5555555555555556,
              "#d8576b"
             ],
             [
              0.6666666666666666,
              "#ed7953"
             ],
             [
              0.7777777777777778,
              "#fb9f3a"
             ],
             [
              0.8888888888888888,
              "#fdca26"
             ],
             [
              1,
              "#f0f921"
             ]
            ],
            "type": "heatmap"
           }
          ],
          "heatmapgl": [
           {
            "colorbar": {
             "outlinewidth": 0,
             "ticks": ""
            },
            "colorscale": [
             [
              0,
              "#0d0887"
             ],
             [
              0.1111111111111111,
              "#46039f"
             ],
             [
              0.2222222222222222,
              "#7201a8"
             ],
             [
              0.3333333333333333,
              "#9c179e"
             ],
             [
              0.4444444444444444,
              "#bd3786"
             ],
             [
              0.5555555555555556,
              "#d8576b"
             ],
             [
              0.6666666666666666,
              "#ed7953"
             ],
             [
              0.7777777777777778,
              "#fb9f3a"
             ],
             [
              0.8888888888888888,
              "#fdca26"
             ],
             [
              1,
              "#f0f921"
             ]
            ],
            "type": "heatmapgl"
           }
          ],
          "histogram": [
           {
            "marker": {
             "pattern": {
              "fillmode": "overlay",
              "size": 10,
              "solidity": 0.2
             }
            },
            "type": "histogram"
           }
          ],
          "histogram2d": [
           {
            "colorbar": {
             "outlinewidth": 0,
             "ticks": ""
            },
            "colorscale": [
             [
              0,
              "#0d0887"
             ],
             [
              0.1111111111111111,
              "#46039f"
             ],
             [
              0.2222222222222222,
              "#7201a8"
             ],
             [
              0.3333333333333333,
              "#9c179e"
             ],
             [
              0.4444444444444444,
              "#bd3786"
             ],
             [
              0.5555555555555556,
              "#d8576b"
             ],
             [
              0.6666666666666666,
              "#ed7953"
             ],
             [
              0.7777777777777778,
              "#fb9f3a"
             ],
             [
              0.8888888888888888,
              "#fdca26"
             ],
             [
              1,
              "#f0f921"
             ]
            ],
            "type": "histogram2d"
           }
          ],
          "histogram2dcontour": [
           {
            "colorbar": {
             "outlinewidth": 0,
             "ticks": ""
            },
            "colorscale": [
             [
              0,
              "#0d0887"
             ],
             [
              0.1111111111111111,
              "#46039f"
             ],
             [
              0.2222222222222222,
              "#7201a8"
             ],
             [
              0.3333333333333333,
              "#9c179e"
             ],
             [
              0.4444444444444444,
              "#bd3786"
             ],
             [
              0.5555555555555556,
              "#d8576b"
             ],
             [
              0.6666666666666666,
              "#ed7953"
             ],
             [
              0.7777777777777778,
              "#fb9f3a"
             ],
             [
              0.8888888888888888,
              "#fdca26"
             ],
             [
              1,
              "#f0f921"
             ]
            ],
            "type": "histogram2dcontour"
           }
          ],
          "mesh3d": [
           {
            "colorbar": {
             "outlinewidth": 0,
             "ticks": ""
            },
            "type": "mesh3d"
           }
          ],
          "parcoords": [
           {
            "line": {
             "colorbar": {
              "outlinewidth": 0,
              "ticks": ""
             }
            },
            "type": "parcoords"
           }
          ],
          "pie": [
           {
            "automargin": true,
            "type": "pie"
           }
          ],
          "scatter": [
           {
            "marker": {
             "colorbar": {
              "outlinewidth": 0,
              "ticks": ""
             }
            },
            "type": "scatter"
           }
          ],
          "scatter3d": [
           {
            "line": {
             "colorbar": {
              "outlinewidth": 0,
              "ticks": ""
             }
            },
            "marker": {
             "colorbar": {
              "outlinewidth": 0,
              "ticks": ""
             }
            },
            "type": "scatter3d"
           }
          ],
          "scattercarpet": [
           {
            "marker": {
             "colorbar": {
              "outlinewidth": 0,
              "ticks": ""
             }
            },
            "type": "scattercarpet"
           }
          ],
          "scattergeo": [
           {
            "marker": {
             "colorbar": {
              "outlinewidth": 0,
              "ticks": ""
             }
            },
            "type": "scattergeo"
           }
          ],
          "scattergl": [
           {
            "marker": {
             "colorbar": {
              "outlinewidth": 0,
              "ticks": ""
             }
            },
            "type": "scattergl"
           }
          ],
          "scattermapbox": [
           {
            "marker": {
             "colorbar": {
              "outlinewidth": 0,
              "ticks": ""
             }
            },
            "type": "scattermapbox"
           }
          ],
          "scatterpolar": [
           {
            "marker": {
             "colorbar": {
              "outlinewidth": 0,
              "ticks": ""
             }
            },
            "type": "scatterpolar"
           }
          ],
          "scatterpolargl": [
           {
            "marker": {
             "colorbar": {
              "outlinewidth": 0,
              "ticks": ""
             }
            },
            "type": "scatterpolargl"
           }
          ],
          "scatterternary": [
           {
            "marker": {
             "colorbar": {
              "outlinewidth": 0,
              "ticks": ""
             }
            },
            "type": "scatterternary"
           }
          ],
          "surface": [
           {
            "colorbar": {
             "outlinewidth": 0,
             "ticks": ""
            },
            "colorscale": [
             [
              0,
              "#0d0887"
             ],
             [
              0.1111111111111111,
              "#46039f"
             ],
             [
              0.2222222222222222,
              "#7201a8"
             ],
             [
              0.3333333333333333,
              "#9c179e"
             ],
             [
              0.4444444444444444,
              "#bd3786"
             ],
             [
              0.5555555555555556,
              "#d8576b"
             ],
             [
              0.6666666666666666,
              "#ed7953"
             ],
             [
              0.7777777777777778,
              "#fb9f3a"
             ],
             [
              0.8888888888888888,
              "#fdca26"
             ],
             [
              1,
              "#f0f921"
             ]
            ],
            "type": "surface"
           }
          ],
          "table": [
           {
            "cells": {
             "fill": {
              "color": "#EBF0F8"
             },
             "line": {
              "color": "white"
             }
            },
            "header": {
             "fill": {
              "color": "#C8D4E3"
             },
             "line": {
              "color": "white"
             }
            },
            "type": "table"
           }
          ]
         },
         "layout": {
          "annotationdefaults": {
           "arrowcolor": "#2a3f5f",
           "arrowhead": 0,
           "arrowwidth": 1
          },
          "autotypenumbers": "strict",
          "coloraxis": {
           "colorbar": {
            "outlinewidth": 0,
            "ticks": ""
           }
          },
          "colorscale": {
           "diverging": [
            [
             0,
             "#8e0152"
            ],
            [
             0.1,
             "#c51b7d"
            ],
            [
             0.2,
             "#de77ae"
            ],
            [
             0.3,
             "#f1b6da"
            ],
            [
             0.4,
             "#fde0ef"
            ],
            [
             0.5,
             "#f7f7f7"
            ],
            [
             0.6,
             "#e6f5d0"
            ],
            [
             0.7,
             "#b8e186"
            ],
            [
             0.8,
             "#7fbc41"
            ],
            [
             0.9,
             "#4d9221"
            ],
            [
             1,
             "#276419"
            ]
           ],
           "sequential": [
            [
             0,
             "#0d0887"
            ],
            [
             0.1111111111111111,
             "#46039f"
            ],
            [
             0.2222222222222222,
             "#7201a8"
            ],
            [
             0.3333333333333333,
             "#9c179e"
            ],
            [
             0.4444444444444444,
             "#bd3786"
            ],
            [
             0.5555555555555556,
             "#d8576b"
            ],
            [
             0.6666666666666666,
             "#ed7953"
            ],
            [
             0.7777777777777778,
             "#fb9f3a"
            ],
            [
             0.8888888888888888,
             "#fdca26"
            ],
            [
             1,
             "#f0f921"
            ]
           ],
           "sequentialminus": [
            [
             0,
             "#0d0887"
            ],
            [
             0.1111111111111111,
             "#46039f"
            ],
            [
             0.2222222222222222,
             "#7201a8"
            ],
            [
             0.3333333333333333,
             "#9c179e"
            ],
            [
             0.4444444444444444,
             "#bd3786"
            ],
            [
             0.5555555555555556,
             "#d8576b"
            ],
            [
             0.6666666666666666,
             "#ed7953"
            ],
            [
             0.7777777777777778,
             "#fb9f3a"
            ],
            [
             0.8888888888888888,
             "#fdca26"
            ],
            [
             1,
             "#f0f921"
            ]
           ]
          },
          "colorway": [
           "#636efa",
           "#EF553B",
           "#00cc96",
           "#ab63fa",
           "#FFA15A",
           "#19d3f3",
           "#FF6692",
           "#B6E880",
           "#FF97FF",
           "#FECB52"
          ],
          "font": {
           "color": "#2a3f5f"
          },
          "geo": {
           "bgcolor": "white",
           "lakecolor": "white",
           "landcolor": "#E5ECF6",
           "showlakes": true,
           "showland": true,
           "subunitcolor": "white"
          },
          "hoverlabel": {
           "align": "left"
          },
          "hovermode": "closest",
          "mapbox": {
           "style": "light"
          },
          "paper_bgcolor": "white",
          "plot_bgcolor": "#E5ECF6",
          "polar": {
           "angularaxis": {
            "gridcolor": "white",
            "linecolor": "white",
            "ticks": ""
           },
           "bgcolor": "#E5ECF6",
           "radialaxis": {
            "gridcolor": "white",
            "linecolor": "white",
            "ticks": ""
           }
          },
          "scene": {
           "xaxis": {
            "backgroundcolor": "#E5ECF6",
            "gridcolor": "white",
            "gridwidth": 2,
            "linecolor": "white",
            "showbackground": true,
            "ticks": "",
            "zerolinecolor": "white"
           },
           "yaxis": {
            "backgroundcolor": "#E5ECF6",
            "gridcolor": "white",
            "gridwidth": 2,
            "linecolor": "white",
            "showbackground": true,
            "ticks": "",
            "zerolinecolor": "white"
           },
           "zaxis": {
            "backgroundcolor": "#E5ECF6",
            "gridcolor": "white",
            "gridwidth": 2,
            "linecolor": "white",
            "showbackground": true,
            "ticks": "",
            "zerolinecolor": "white"
           }
          },
          "shapedefaults": {
           "line": {
            "color": "#2a3f5f"
           }
          },
          "ternary": {
           "aaxis": {
            "gridcolor": "white",
            "linecolor": "white",
            "ticks": ""
           },
           "baxis": {
            "gridcolor": "white",
            "linecolor": "white",
            "ticks": ""
           },
           "bgcolor": "#E5ECF6",
           "caxis": {
            "gridcolor": "white",
            "linecolor": "white",
            "ticks": ""
           }
          },
          "title": {
           "x": 0.05
          },
          "xaxis": {
           "automargin": true,
           "gridcolor": "white",
           "linecolor": "white",
           "ticks": "",
           "title": {
            "standoff": 15
           },
           "zerolinecolor": "white",
           "zerolinewidth": 2
          },
          "yaxis": {
           "automargin": true,
           "gridcolor": "white",
           "linecolor": "white",
           "ticks": "",
           "title": {
            "standoff": 15
           },
           "zerolinecolor": "white",
           "zerolinewidth": 2
          }
         }
        },
        "xaxis": {
         "anchor": "y",
         "domain": [
          0,
          0.45
         ]
        },
        "xaxis2": {
         "anchor": "y2",
         "domain": [
          0.55,
          1
         ]
        },
        "yaxis": {
         "anchor": "x",
         "domain": [
          0,
          1
         ]
        },
        "yaxis2": {
         "anchor": "x2",
         "domain": [
          0,
          1
         ]
        }
       }
      },
      "text/html": [
       "<div>                            <div id=\"02a53770-565b-4eb9-8e9a-d3aac2f5f899\" class=\"plotly-graph-div\" style=\"height:525px; width:100%;\"></div>            <script type=\"text/javascript\">                require([\"plotly\"], function(Plotly) {                    window.PLOTLYENV=window.PLOTLYENV || {};                                    if (document.getElementById(\"02a53770-565b-4eb9-8e9a-d3aac2f5f899\")) {                    Plotly.newPlot(                        \"02a53770-565b-4eb9-8e9a-d3aac2f5f899\",                        [{\"hovertemplate\":\"GType=BB<br>Theta=%{x}<br>R=%{y}<extra></extra>\",\"legendgroup\":\"BB\",\"marker\":{\"color\":\"#2CA02C\",\"symbol\":\"circle\"},\"mode\":\"markers\",\"name\":\"BB\",\"orientation\":\"v\",\"showlegend\":true,\"type\":\"scatter\",\"x\":[0.9783415,0.9504623,0.9741675,0.9593747,0.9544989,0.9494527,0.9554906,0.9632757,0.961739,0.97149,0.9681001,0.9717402,0.9579055,0.9733081,0.9618404,0.9758378,0.9630002,0.9573405,0.9550448,0.9673235,0.936164,0.9478692,0.9509611,0.9573662,0.9576157,0.9629935,0.9517125,0.9531431,0.947571,0.9553232,0.9494918,0.9538915,0.958737,0.9647852,0.9591101,0.9642828,0.958279,0.9521781,0.9593722,0.9658979,0.9572034,0.9519868,0.9630252,0.9533402,0.9655342,0.9574209,0.9643096,0.9534758,0.9594354,0.9531994,0.9329,0.9591395,0.9555489,0.9434448,0.9563623,0.9604501,0.9473326,0.9729456,0.9757709,0.9630159,0.9571338,0.9560378,0.934392,0.9602152,0.9701965,0.9553831,0.9556195,0.9671876,0.9583478,0.9522132,0.9644687,0.9426908],\"xaxis\":\"x\",\"y\":[1.124041,1.28643,1.143932,1.239037,1.171495,1.132143,1.104728,1.117225,1.161996,1.143396,1.193882,1.145939,1.214612,1.195241,1.174356,1.191462,1.180584,1.214954,1.168255,1.186066,1.20844,1.230156,1.087062,1.123863,1.155385,1.192624,1.082331,1.156006,1.124266,1.167745,1.162335,1.146031,1.197268,1.150787,1.106112,1.143792,1.178022,1.233601,1.1828,1.171732,1.179432,1.153898,1.110721,1.136749,1.172696,1.100838,1.145391,1.197685,1.151607,1.223667,1.110455,1.133145,1.23889,1.120863,1.157234,1.186532,1.256602,1.1367,1.182563,1.220313,1.195901,1.197863,1.166847,1.168691,1.144719,1.131924,1.163753,1.177838,1.160252,1.151133,1.133834,0.8265839],\"yaxis\":\"y\"},{\"hovertemplate\":\"GType=AA<br>Theta=%{x}<br>R=%{y}<extra></extra>\",\"legendgroup\":\"AA\",\"marker\":{\"color\":\"#1F77B4\",\"symbol\":\"circle\"},\"mode\":\"markers\",\"name\":\"AA\",\"orientation\":\"v\",\"showlegend\":true,\"type\":\"scatter\",\"x\":[0.03372161,0.01768242,0.01934427,0.02041522,0.00777587,0.01317158,0.02604505,0.02846322,0.05940904,0.07457311,0.1443147,0.01120784,0.01508966,0.02031893,0.01372548],\"xaxis\":\"x\",\"y\":[1.453825,1.507179,1.54051,1.554099,1.536457,1.468724,1.524307,1.475467,1.515514,1.362646,1.396757,1.523173,1.59149,1.614841,1.494911],\"yaxis\":\"y\"},{\"hovertemplate\":\"GType=AB<br>Theta=%{x}<br>R=%{y}<extra></extra>\",\"legendgroup\":\"AB\",\"marker\":{\"color\":\"#FF7F0E\",\"symbol\":\"circle\"},\"mode\":\"markers\",\"name\":\"AB\",\"orientation\":\"v\",\"showlegend\":true,\"type\":\"scatter\",\"x\":[0.3452697,0.3765664,0.385852,0.3814036,0.4036807,0.4202441,0.4191646],\"xaxis\":\"x\",\"y\":[1.315046,1.362909,1.437546,1.358505,1.39309,1.32721,1.33464],\"yaxis\":\"y\"},{\"hovertemplate\":\"GType=NC<br>Theta=%{x}<br>R=%{y}<extra></extra>\",\"legendgroup\":\"NC\",\"marker\":{\"color\":\"#D62728\",\"symbol\":\"circle\"},\"mode\":\"markers\",\"name\":\"NC\",\"orientation\":\"v\",\"showlegend\":true,\"type\":\"scatter\",\"x\":[0.2626661,0.2459879],\"xaxis\":\"x\",\"y\":[1.400039,1.293814],\"yaxis\":\"y\"},{\"hovertemplate\":\"gtype_out=BB<br>Theta=%{x}<br>R=%{y}<extra></extra>\",\"legendgroup\":\"BB\",\"marker\":{\"color\":\"#2CA02C\",\"symbol\":\"circle\"},\"mode\":\"markers\",\"name\":\"BB\",\"orientation\":\"v\",\"showlegend\":true,\"type\":\"scatter\",\"x\":[0.9783415,0.9504623,0.9741675,0.9593747,0.9544989,0.9494527,0.9554906,0.9632757,0.961739,0.97149,0.9681001,0.9717402,0.9579055,0.9733081,0.9618404,0.9758378,0.9630002,0.9573405,0.9550448,0.9673235,0.936164,0.9478692,0.9509611,0.9573662,0.9576157,0.9629935,0.9517125,0.9531431,0.947571,0.9553232,0.9494918,0.9538915,0.958737,0.9647852,0.9591101,0.9642828,0.958279,0.9521781,0.9593722,0.9658979,0.9572034,0.9519868,0.9630252,0.9533402,0.9655342,0.9574209,0.9643096,0.9534758,0.9594354,0.9531994,0.9329,0.9591395,0.9555489,0.9434448,0.9563623,0.9604501,0.9473326,0.9729456,0.9757709,0.9630159,0.9571338,0.9560378,0.934392,0.9602152,0.9701965,0.9553831,0.9556195,0.9671876,0.9583478,0.9522132,0.9644687,0.9426908],\"xaxis\":\"x2\",\"y\":[1.124041,1.28643,1.143932,1.239037,1.171495,1.132143,1.104728,1.117225,1.161996,1.143396,1.193882,1.145939,1.214612,1.195241,1.174356,1.191462,1.180584,1.214954,1.168255,1.186066,1.20844,1.230156,1.087062,1.123863,1.155385,1.192624,1.082331,1.156006,1.124266,1.167745,1.162335,1.146031,1.197268,1.150787,1.106112,1.143792,1.178022,1.233601,1.1828,1.171732,1.179432,1.153898,1.110721,1.136749,1.172696,1.100838,1.145391,1.197685,1.151607,1.223667,1.110455,1.133145,1.23889,1.120863,1.157234,1.186532,1.256602,1.1367,1.182563,1.220313,1.195901,1.197863,1.166847,1.168691,1.144719,1.131924,1.163753,1.177838,1.160252,1.151133,1.133834,0.8265839],\"yaxis\":\"y2\"},{\"hovertemplate\":\"gtype_out=AA<br>Theta=%{x}<br>R=%{y}<extra></extra>\",\"legendgroup\":\"AA\",\"marker\":{\"color\":\"#1F77B4\",\"symbol\":\"circle\"},\"mode\":\"markers\",\"name\":\"AA\",\"orientation\":\"v\",\"showlegend\":true,\"type\":\"scatter\",\"x\":[0.03372161,0.01768242,0.01934427,0.02041522,0.00777587,0.01317158,0.02604505,0.02846322,0.05940904,0.07457311,0.1443147,0.01120784,0.01508966,0.02031893,0.01372548],\"xaxis\":\"x2\",\"y\":[1.453825,1.507179,1.54051,1.554099,1.536457,1.468724,1.524307,1.475467,1.515514,1.362646,1.396757,1.523173,1.59149,1.614841,1.494911],\"yaxis\":\"y2\"},{\"hovertemplate\":\"gtype_out=AB<br>Theta=%{x}<br>R=%{y}<extra></extra>\",\"legendgroup\":\"AB\",\"marker\":{\"color\":\"#FF7F0E\",\"symbol\":\"circle\"},\"mode\":\"markers\",\"name\":\"AB\",\"orientation\":\"v\",\"showlegend\":true,\"type\":\"scatter\",\"x\":[0.3452697,0.3765664,0.385852,0.3814036,0.4036807,0.4202441,0.2626661,0.2459879,0.4191646],\"xaxis\":\"x2\",\"y\":[1.315046,1.362909,1.437546,1.358505,1.39309,1.32721,1.400039,1.293814,1.33464],\"yaxis\":\"y2\"},{\"type\":\"histogram2dcontour\",\"x\":[0.9783415,0.9504623,0.9741675,0.9593747,0.9544989,0.9494527,0.9554906,0.9632757,0.961739,0.97149,0.9681001,0.9717402,0.9579055,0.9733081,0.9618404,0.9758378,0.9630002,0.9573405,0.9550448,0.9673235,0.936164,0.9478692,0.9509611,0.9573662,0.9576157,0.9629935,0.9517125,0.9531431,0.947571,0.9553232,0.9494918,0.9538915,0.958737,0.9647852,0.9591101,0.9642828,0.958279,0.9521781,0.9593722,0.9658979,0.9572034,0.9519868,0.9630252,0.9533402,0.9655342,0.9574209,0.9643096,0.9534758,0.9594354,0.9531994,0.9329,0.9591395,0.9555489,0.9434448,0.9563623,0.9604501,0.9473326,0.9729456,0.9757709,0.9630159,0.9571338,0.9560378,0.934392,0.9602152,0.9701965,0.9553831,0.9556195,0.9671876,0.9583478,0.9522132,0.9644687,0.9426908],\"xaxis\":\"x2\",\"y\":[1.124041,1.28643,1.143932,1.239037,1.171495,1.132143,1.104728,1.117225,1.161996,1.143396,1.193882,1.145939,1.214612,1.195241,1.174356,1.191462,1.180584,1.214954,1.168255,1.186066,1.20844,1.230156,1.087062,1.123863,1.155385,1.192624,1.082331,1.156006,1.124266,1.167745,1.162335,1.146031,1.197268,1.150787,1.106112,1.143792,1.178022,1.233601,1.1828,1.171732,1.179432,1.153898,1.110721,1.136749,1.172696,1.100838,1.145391,1.197685,1.151607,1.223667,1.110455,1.133145,1.23889,1.120863,1.157234,1.186532,1.256602,1.1367,1.182563,1.220313,1.195901,1.197863,1.166847,1.168691,1.144719,1.131924,1.163753,1.177838,1.160252,1.151133,1.133834,0.8265839],\"yaxis\":\"y2\"},{\"type\":\"histogram2dcontour\",\"x\":[0.03372161,0.01768242,0.01934427,0.02041522,0.00777587,0.01317158,0.02604505,0.02846322,0.05940904,0.07457311,0.1443147,0.01120784,0.01508966,0.02031893,0.01372548],\"xaxis\":\"x2\",\"y\":[1.453825,1.507179,1.54051,1.554099,1.536457,1.468724,1.524307,1.475467,1.515514,1.362646,1.396757,1.523173,1.59149,1.614841,1.494911],\"yaxis\":\"y2\"},{\"type\":\"histogram2dcontour\",\"x\":[0.3452697,0.3765664,0.385852,0.3814036,0.4036807,0.4202441,0.2626661,0.2459879,0.4191646],\"xaxis\":\"x2\",\"y\":[1.315046,1.362909,1.437546,1.358505,1.39309,1.32721,1.400039,1.293814,1.33464],\"yaxis\":\"y2\"}],                        {\"template\":{\"data\":{\"bar\":[{\"error_x\":{\"color\":\"#2a3f5f\"},\"error_y\":{\"color\":\"#2a3f5f\"},\"marker\":{\"line\":{\"color\":\"#E5ECF6\",\"width\":0.5},\"pattern\":{\"fillmode\":\"overlay\",\"size\":10,\"solidity\":0.2}},\"type\":\"bar\"}],\"barpolar\":[{\"marker\":{\"line\":{\"color\":\"#E5ECF6\",\"width\":0.5},\"pattern\":{\"fillmode\":\"overlay\",\"size\":10,\"solidity\":0.2}},\"type\":\"barpolar\"}],\"carpet\":[{\"aaxis\":{\"endlinecolor\":\"#2a3f5f\",\"gridcolor\":\"white\",\"linecolor\":\"white\",\"minorgridcolor\":\"white\",\"startlinecolor\":\"#2a3f5f\"},\"baxis\":{\"endlinecolor\":\"#2a3f5f\",\"gridcolor\":\"white\",\"linecolor\":\"white\",\"minorgridcolor\":\"white\",\"startlinecolor\":\"#2a3f5f\"},\"type\":\"carpet\"}],\"choropleth\":[{\"colorbar\":{\"outlinewidth\":0,\"ticks\":\"\"},\"type\":\"choropleth\"}],\"contour\":[{\"colorbar\":{\"outlinewidth\":0,\"ticks\":\"\"},\"colorscale\":[[0.0,\"#0d0887\"],[0.1111111111111111,\"#46039f\"],[0.2222222222222222,\"#7201a8\"],[0.3333333333333333,\"#9c179e\"],[0.4444444444444444,\"#bd3786\"],[0.5555555555555556,\"#d8576b\"],[0.6666666666666666,\"#ed7953\"],[0.7777777777777778,\"#fb9f3a\"],[0.8888888888888888,\"#fdca26\"],[1.0,\"#f0f921\"]],\"type\":\"contour\"}],\"contourcarpet\":[{\"colorbar\":{\"outlinewidth\":0,\"ticks\":\"\"},\"type\":\"contourcarpet\"}],\"heatmap\":[{\"colorbar\":{\"outlinewidth\":0,\"ticks\":\"\"},\"colorscale\":[[0.0,\"#0d0887\"],[0.1111111111111111,\"#46039f\"],[0.2222222222222222,\"#7201a8\"],[0.3333333333333333,\"#9c179e\"],[0.4444444444444444,\"#bd3786\"],[0.5555555555555556,\"#d8576b\"],[0.6666666666666666,\"#ed7953\"],[0.7777777777777778,\"#fb9f3a\"],[0.8888888888888888,\"#fdca26\"],[1.0,\"#f0f921\"]],\"type\":\"heatmap\"}],\"heatmapgl\":[{\"colorbar\":{\"outlinewidth\":0,\"ticks\":\"\"},\"colorscale\":[[0.0,\"#0d0887\"],[0.1111111111111111,\"#46039f\"],[0.2222222222222222,\"#7201a8\"],[0.3333333333333333,\"#9c179e\"],[0.4444444444444444,\"#bd3786\"],[0.5555555555555556,\"#d8576b\"],[0.6666666666666666,\"#ed7953\"],[0.7777777777777778,\"#fb9f3a\"],[0.8888888888888888,\"#fdca26\"],[1.0,\"#f0f921\"]],\"type\":\"heatmapgl\"}],\"histogram\":[{\"marker\":{\"pattern\":{\"fillmode\":\"overlay\",\"size\":10,\"solidity\":0.2}},\"type\":\"histogram\"}],\"histogram2d\":[{\"colorbar\":{\"outlinewidth\":0,\"ticks\":\"\"},\"colorscale\":[[0.0,\"#0d0887\"],[0.1111111111111111,\"#46039f\"],[0.2222222222222222,\"#7201a8\"],[0.3333333333333333,\"#9c179e\"],[0.4444444444444444,\"#bd3786\"],[0.5555555555555556,\"#d8576b\"],[0.6666666666666666,\"#ed7953\"],[0.7777777777777778,\"#fb9f3a\"],[0.8888888888888888,\"#fdca26\"],[1.0,\"#f0f921\"]],\"type\":\"histogram2d\"}],\"histogram2dcontour\":[{\"colorbar\":{\"outlinewidth\":0,\"ticks\":\"\"},\"colorscale\":[[0.0,\"#0d0887\"],[0.1111111111111111,\"#46039f\"],[0.2222222222222222,\"#7201a8\"],[0.3333333333333333,\"#9c179e\"],[0.4444444444444444,\"#bd3786\"],[0.5555555555555556,\"#d8576b\"],[0.6666666666666666,\"#ed7953\"],[0.7777777777777778,\"#fb9f3a\"],[0.8888888888888888,\"#fdca26\"],[1.0,\"#f0f921\"]],\"type\":\"histogram2dcontour\"}],\"mesh3d\":[{\"colorbar\":{\"outlinewidth\":0,\"ticks\":\"\"},\"type\":\"mesh3d\"}],\"parcoords\":[{\"line\":{\"colorbar\":{\"outlinewidth\":0,\"ticks\":\"\"}},\"type\":\"parcoords\"}],\"pie\":[{\"automargin\":true,\"type\":\"pie\"}],\"scatter\":[{\"marker\":{\"colorbar\":{\"outlinewidth\":0,\"ticks\":\"\"}},\"type\":\"scatter\"}],\"scatter3d\":[{\"line\":{\"colorbar\":{\"outlinewidth\":0,\"ticks\":\"\"}},\"marker\":{\"colorbar\":{\"outlinewidth\":0,\"ticks\":\"\"}},\"type\":\"scatter3d\"}],\"scattercarpet\":[{\"marker\":{\"colorbar\":{\"outlinewidth\":0,\"ticks\":\"\"}},\"type\":\"scattercarpet\"}],\"scattergeo\":[{\"marker\":{\"colorbar\":{\"outlinewidth\":0,\"ticks\":\"\"}},\"type\":\"scattergeo\"}],\"scattergl\":[{\"marker\":{\"colorbar\":{\"outlinewidth\":0,\"ticks\":\"\"}},\"type\":\"scattergl\"}],\"scattermapbox\":[{\"marker\":{\"colorbar\":{\"outlinewidth\":0,\"ticks\":\"\"}},\"type\":\"scattermapbox\"}],\"scatterpolar\":[{\"marker\":{\"colorbar\":{\"outlinewidth\":0,\"ticks\":\"\"}},\"type\":\"scatterpolar\"}],\"scatterpolargl\":[{\"marker\":{\"colorbar\":{\"outlinewidth\":0,\"ticks\":\"\"}},\"type\":\"scatterpolargl\"}],\"scatterternary\":[{\"marker\":{\"colorbar\":{\"outlinewidth\":0,\"ticks\":\"\"}},\"type\":\"scatterternary\"}],\"surface\":[{\"colorbar\":{\"outlinewidth\":0,\"ticks\":\"\"},\"colorscale\":[[0.0,\"#0d0887\"],[0.1111111111111111,\"#46039f\"],[0.2222222222222222,\"#7201a8\"],[0.3333333333333333,\"#9c179e\"],[0.4444444444444444,\"#bd3786\"],[0.5555555555555556,\"#d8576b\"],[0.6666666666666666,\"#ed7953\"],[0.7777777777777778,\"#fb9f3a\"],[0.8888888888888888,\"#fdca26\"],[1.0,\"#f0f921\"]],\"type\":\"surface\"}],\"table\":[{\"cells\":{\"fill\":{\"color\":\"#EBF0F8\"},\"line\":{\"color\":\"white\"}},\"header\":{\"fill\":{\"color\":\"#C8D4E3\"},\"line\":{\"color\":\"white\"}},\"type\":\"table\"}]},\"layout\":{\"annotationdefaults\":{\"arrowcolor\":\"#2a3f5f\",\"arrowhead\":0,\"arrowwidth\":1},\"autotypenumbers\":\"strict\",\"coloraxis\":{\"colorbar\":{\"outlinewidth\":0,\"ticks\":\"\"}},\"colorscale\":{\"diverging\":[[0,\"#8e0152\"],[0.1,\"#c51b7d\"],[0.2,\"#de77ae\"],[0.3,\"#f1b6da\"],[0.4,\"#fde0ef\"],[0.5,\"#f7f7f7\"],[0.6,\"#e6f5d0\"],[0.7,\"#b8e186\"],[0.8,\"#7fbc41\"],[0.9,\"#4d9221\"],[1,\"#276419\"]],\"sequential\":[[0.0,\"#0d0887\"],[0.1111111111111111,\"#46039f\"],[0.2222222222222222,\"#7201a8\"],[0.3333333333333333,\"#9c179e\"],[0.4444444444444444,\"#bd3786\"],[0.5555555555555556,\"#d8576b\"],[0.6666666666666666,\"#ed7953\"],[0.7777777777777778,\"#fb9f3a\"],[0.8888888888888888,\"#fdca26\"],[1.0,\"#f0f921\"]],\"sequentialminus\":[[0.0,\"#0d0887\"],[0.1111111111111111,\"#46039f\"],[0.2222222222222222,\"#7201a8\"],[0.3333333333333333,\"#9c179e\"],[0.4444444444444444,\"#bd3786\"],[0.5555555555555556,\"#d8576b\"],[0.6666666666666666,\"#ed7953\"],[0.7777777777777778,\"#fb9f3a\"],[0.8888888888888888,\"#fdca26\"],[1.0,\"#f0f921\"]]},\"colorway\":[\"#636efa\",\"#EF553B\",\"#00cc96\",\"#ab63fa\",\"#FFA15A\",\"#19d3f3\",\"#FF6692\",\"#B6E880\",\"#FF97FF\",\"#FECB52\"],\"font\":{\"color\":\"#2a3f5f\"},\"geo\":{\"bgcolor\":\"white\",\"lakecolor\":\"white\",\"landcolor\":\"#E5ECF6\",\"showlakes\":true,\"showland\":true,\"subunitcolor\":\"white\"},\"hoverlabel\":{\"align\":\"left\"},\"hovermode\":\"closest\",\"mapbox\":{\"style\":\"light\"},\"paper_bgcolor\":\"white\",\"plot_bgcolor\":\"#E5ECF6\",\"polar\":{\"angularaxis\":{\"gridcolor\":\"white\",\"linecolor\":\"white\",\"ticks\":\"\"},\"bgcolor\":\"#E5ECF6\",\"radialaxis\":{\"gridcolor\":\"white\",\"linecolor\":\"white\",\"ticks\":\"\"}},\"scene\":{\"xaxis\":{\"backgroundcolor\":\"#E5ECF6\",\"gridcolor\":\"white\",\"gridwidth\":2,\"linecolor\":\"white\",\"showbackground\":true,\"ticks\":\"\",\"zerolinecolor\":\"white\"},\"yaxis\":{\"backgroundcolor\":\"#E5ECF6\",\"gridcolor\":\"white\",\"gridwidth\":2,\"linecolor\":\"white\",\"showbackground\":true,\"ticks\":\"\",\"zerolinecolor\":\"white\"},\"zaxis\":{\"backgroundcolor\":\"#E5ECF6\",\"gridcolor\":\"white\",\"gridwidth\":2,\"linecolor\":\"white\",\"showbackground\":true,\"ticks\":\"\",\"zerolinecolor\":\"white\"}},\"shapedefaults\":{\"line\":{\"color\":\"#2a3f5f\"}},\"ternary\":{\"aaxis\":{\"gridcolor\":\"white\",\"linecolor\":\"white\",\"ticks\":\"\"},\"baxis\":{\"gridcolor\":\"white\",\"linecolor\":\"white\",\"ticks\":\"\"},\"bgcolor\":\"#E5ECF6\",\"caxis\":{\"gridcolor\":\"white\",\"linecolor\":\"white\",\"ticks\":\"\"}},\"title\":{\"x\":0.05},\"xaxis\":{\"automargin\":true,\"gridcolor\":\"white\",\"linecolor\":\"white\",\"ticks\":\"\",\"title\":{\"standoff\":15},\"zerolinecolor\":\"white\",\"zerolinewidth\":2},\"yaxis\":{\"automargin\":true,\"gridcolor\":\"white\",\"linecolor\":\"white\",\"ticks\":\"\",\"title\":{\"standoff\":15},\"zerolinecolor\":\"white\",\"zerolinewidth\":2}}},\"xaxis\":{\"anchor\":\"y\",\"domain\":[0.0,0.45]},\"xaxis2\":{\"anchor\":\"y2\",\"domain\":[0.55,1.0]},\"yaxis\":{\"anchor\":\"x\",\"domain\":[0.0,1.0]},\"yaxis2\":{\"anchor\":\"x2\",\"domain\":[0.0,1.0]}},                        {\"responsive\": true}                    ).then(function(){\n",
       "                            \n",
       "var gd = document.getElementById('02a53770-565b-4eb9-8e9a-d3aac2f5f899');\n",
       "var x = new MutationObserver(function (mutations, observer) {{\n",
       "        var display = window.getComputedStyle(gd).display;\n",
       "        if (!display || display === 'none') {{\n",
       "            console.log([gd, 'removed!']);\n",
       "            Plotly.purge(gd);\n",
       "            observer.disconnect();\n",
       "        }}\n",
       "}});\n",
       "\n",
       "// Listen for the removal of the full notebook cells\n",
       "var notebookContainer = gd.closest('#notebook-container');\n",
       "if (notebookContainer) {{\n",
       "    x.observe(notebookContainer, {childList: true});\n",
       "}}\n",
       "\n",
       "// Listen for the clearing of the current output cell\n",
       "var outputEl = gd.closest('.output');\n",
       "if (outputEl) {{\n",
       "    x.observe(outputEl, {childList: true});\n",
       "}}\n",
       "\n",
       "                        })                };                });            </script>        </div>"
      ]
     },
     "metadata": {},
     "output_type": "display_data"
    }
   ],
   "source": [
    "out_fig.show()"
   ]
  },
  {
   "cell_type": "code",
   "execution_count": 13,
   "metadata": {},
   "outputs": [],
   "source": [
    "def plot_hist_contour(df, x_col, y_col, gtype_col, xlim, ylim):\n",
    "\n",
    "    d3 = px.colors.qualitative.D3\n",
    "\n",
    "    cmap = {\n",
    "        'AA': d3[0],\n",
    "        'AB': d3[1],\n",
    "        'BA': d3[1],\n",
    "        'BB': d3[2],\n",
    "        'NC': d3[3]\n",
    "    }\n",
    "\n",
    "    n_trace = len(df[gtype_col].unique())\n",
    "\n",
    "\n",
    "    fig = px.density_contour(\n",
    "        df,\n",
    "        x=x_col, y=y_col, \n",
    "        marginal_x=\"histogram\", \n",
    "        marginal_y=\"histogram\",\n",
    "        color=\"gtype_out\", \n",
    "        color_discrete_map=cmap,\n",
    "        width=750, height=500\n",
    "        )\n",
    "\n",
    "\n",
    "    fig2 = px.scatter(df, x=x_col, y=y_col, color=gtype_col, color_discrete_map=cmap)\n",
    "    fig2.update_xaxes(range=xlim, nticks=10)\n",
    "    fig2.update_yaxes(range=ylim, nticks=10)\n",
    "   \n",
    "\n",
    "    for i in range(n_trace):\n",
    "        fig.add_trace(fig2.data[i])\n",
    "\n",
    "    return fig\n",
    "\n",
    "\n",
    "def plot_clusters(df, x_col, y_col, gtype_col, snpid):\n",
    "\n",
    "    d3 = px.colors.qualitative.D3\n",
    "\n",
    "    cmap = {\n",
    "        'AA': d3[0],\n",
    "        'AB': d3[1],\n",
    "        'BA': d3[1],\n",
    "        'BB': d3[2],\n",
    "        'NC': d3[3]\n",
    "    }\n",
    "\n",
    "    # gtypes_list = (df[gtype_col].unique())\n",
    "    xmin, xmax = df[x_col].min(), df[x_col].max()\n",
    "    ymin, ymax = df[y_col].min(), df[y_col].max()\n",
    "\n",
    "    xlim = [xmin-.1, xmax+.1]\n",
    "    ylim = [ymin-.1, ymax+.1]\n",
    "\n",
    "    fig = px.scatter(\n",
    "        df, \n",
    "        x=x_col, y=y_col, \n",
    "        color=gtype_col, \n",
    "        color_discrete_map=cmap, \n",
    "        width=600, height=400)\n",
    "\n",
    "    fig.update_xaxes(range=xlim, nticks=10)\n",
    "    fig.update_yaxes(range=ylim, nticks=10)\n",
    "\n",
    "    out_dict = {\n",
    "        'fig': fig,\n",
    "        'xlim': xlim,\n",
    "        'ylim': ylim\n",
    "    }\n",
    "\n",
    "    return out_dict"
   ]
  },
  {
   "cell_type": "code",
   "execution_count": null,
   "metadata": {},
   "outputs": [],
   "source": []
  },
  {
   "cell_type": "code",
   "execution_count": 88,
   "metadata": {},
   "outputs": [
    {
     "data": {
      "text/plain": [
       "'2'"
      ]
     },
     "execution_count": 88,
     "metadata": {},
     "output_type": "execute_result"
    }
   ],
   "source": [
    "sample_ids = ['a','b','c']\n",
    "gene_list = ['snca','snca','snca']\n",
    "cnv_list = ['1','2','3']\n",
    "sample_id = 'b'\n",
    "gene = 'snca'\n",
    "\n",
    "\n",
    "cnv_table = pd.DataFrame(\n",
    "    {\n",
    "        'sample_id':sample_ids,\n",
    "        'gene':gene_list,\n",
    "        'cnv_type':cnv_list\n",
    "        }\n",
    "    )\n",
    "\n",
    "cnv_table[(cnv_table.sample_id==sample_id) & (cnv_table.gene==gene)].reset_index().cnv_type[0]"
   ]
  },
  {
   "cell_type": "code",
   "execution_count": 204,
   "metadata": {},
   "outputs": [
    {
     "data": {
      "text/html": [
       "<div>\n",
       "<style scoped>\n",
       "    .dataframe tbody tr th:only-of-type {\n",
       "        vertical-align: middle;\n",
       "    }\n",
       "\n",
       "    .dataframe tbody tr th {\n",
       "        vertical-align: top;\n",
       "    }\n",
       "\n",
       "    .dataframe thead th {\n",
       "        text-align: right;\n",
       "    }\n",
       "</style>\n",
       "<table border=\"1\" class=\"dataframe\">\n",
       "  <thead>\n",
       "    <tr style=\"text-align: right;\">\n",
       "      <th>idx</th>\n",
       "      <th>Theta</th>\n",
       "      <th>R</th>\n",
       "      <th>GType</th>\n",
       "      <th>IID</th>\n",
       "      <th>gtype_out</th>\n",
       "      <th>original_gtype</th>\n",
       "    </tr>\n",
       "  </thead>\n",
       "  <tbody>\n",
       "    <tr>\n",
       "      <th>0</th>\n",
       "      <td>0.978341</td>\n",
       "      <td>1.124041</td>\n",
       "      <td>1</td>\n",
       "      <td>FS04821313_FO0000275_FUS_R495*_A01_17_A01</td>\n",
       "      <td>BB</td>\n",
       "      <td>BB</td>\n",
       "    </tr>\n",
       "    <tr>\n",
       "      <th>1</th>\n",
       "      <td>0.950462</td>\n",
       "      <td>1.286430</td>\n",
       "      <td>1</td>\n",
       "      <td>FS04821314_FO0000152_MAPT_R317W_A08_17_B01</td>\n",
       "      <td>BB</td>\n",
       "      <td>BB</td>\n",
       "    </tr>\n",
       "    <tr>\n",
       "      <th>2</th>\n",
       "      <td>0.974167</td>\n",
       "      <td>1.143932</td>\n",
       "      <td>1</td>\n",
       "      <td>FS04821315_FO0000163_MAPT_R317W_G09_17_B12</td>\n",
       "      <td>BB</td>\n",
       "      <td>BB</td>\n",
       "    </tr>\n",
       "    <tr>\n",
       "      <th>3</th>\n",
       "      <td>0.959375</td>\n",
       "      <td>1.239037</td>\n",
       "      <td>1</td>\n",
       "      <td>FS04821316_FO0000176_ANG_K41I_A04_17_D01</td>\n",
       "      <td>BB</td>\n",
       "      <td>BB</td>\n",
       "    </tr>\n",
       "    <tr>\n",
       "      <th>4</th>\n",
       "      <td>0.954499</td>\n",
       "      <td>1.171495</td>\n",
       "      <td>1</td>\n",
       "      <td>FS04821317_FO0000188_SNCB_P123H_B08_17_E01</td>\n",
       "      <td>BB</td>\n",
       "      <td>BB</td>\n",
       "    </tr>\n",
       "    <tr>\n",
       "      <th>...</th>\n",
       "      <td>...</td>\n",
       "      <td>...</td>\n",
       "      <td>...</td>\n",
       "      <td>...</td>\n",
       "      <td>...</td>\n",
       "      <td>...</td>\n",
       "    </tr>\n",
       "    <tr>\n",
       "      <th>91</th>\n",
       "      <td>0.958348</td>\n",
       "      <td>1.160252</td>\n",
       "      <td>1</td>\n",
       "      <td>FS04821404_FO0000171_APP_A673T_D09_17_C08</td>\n",
       "      <td>BB</td>\n",
       "      <td>BB</td>\n",
       "    </tr>\n",
       "    <tr>\n",
       "      <th>92</th>\n",
       "      <td>0.952213</td>\n",
       "      <td>1.151133</td>\n",
       "      <td>1</td>\n",
       "      <td>FS04821405_FO0000172_APP_A673T_D12_17_C09</td>\n",
       "      <td>BB</td>\n",
       "      <td>BB</td>\n",
       "    </tr>\n",
       "    <tr>\n",
       "      <th>93</th>\n",
       "      <td>0.013725</td>\n",
       "      <td>1.494911</td>\n",
       "      <td>2</td>\n",
       "      <td>FS04821406_FO0000173_APP_A673T_F06_17_C10</td>\n",
       "      <td>AA</td>\n",
       "      <td>AA</td>\n",
       "    </tr>\n",
       "    <tr>\n",
       "      <th>94</th>\n",
       "      <td>0.964469</td>\n",
       "      <td>1.133834</td>\n",
       "      <td>1</td>\n",
       "      <td>FS04821407_FO0000174_APP_A673T_H08_17_C11</td>\n",
       "      <td>BB</td>\n",
       "      <td>BB</td>\n",
       "    </tr>\n",
       "    <tr>\n",
       "      <th>95</th>\n",
       "      <td>0.942691</td>\n",
       "      <td>0.826584</td>\n",
       "      <td>1</td>\n",
       "      <td>PositiveControl_1_NA_NA</td>\n",
       "      <td>BB</td>\n",
       "      <td>BB</td>\n",
       "    </tr>\n",
       "  </tbody>\n",
       "</table>\n",
       "<p>96 rows × 6 columns</p>\n",
       "</div>"
      ],
      "text/plain": [
       "idx     Theta         R  GType                                         IID  \\\n",
       "0    0.978341  1.124041      1   FS04821313_FO0000275_FUS_R495*_A01_17_A01   \n",
       "1    0.950462  1.286430      1  FS04821314_FO0000152_MAPT_R317W_A08_17_B01   \n",
       "2    0.974167  1.143932      1  FS04821315_FO0000163_MAPT_R317W_G09_17_B12   \n",
       "3    0.959375  1.239037      1    FS04821316_FO0000176_ANG_K41I_A04_17_D01   \n",
       "4    0.954499  1.171495      1  FS04821317_FO0000188_SNCB_P123H_B08_17_E01   \n",
       "..        ...       ...    ...                                         ...   \n",
       "91   0.958348  1.160252      1   FS04821404_FO0000171_APP_A673T_D09_17_C08   \n",
       "92   0.952213  1.151133      1   FS04821405_FO0000172_APP_A673T_D12_17_C09   \n",
       "93   0.013725  1.494911      2   FS04821406_FO0000173_APP_A673T_F06_17_C10   \n",
       "94   0.964469  1.133834      1   FS04821407_FO0000174_APP_A673T_H08_17_C11   \n",
       "95   0.942691  0.826584      1                     PositiveControl_1_NA_NA   \n",
       "\n",
       "idx gtype_out original_gtype  \n",
       "0          BB             BB  \n",
       "1          BB             BB  \n",
       "2          BB             BB  \n",
       "3          BB             BB  \n",
       "4          BB             BB  \n",
       "..        ...            ...  \n",
       "91         BB             BB  \n",
       "92         BB             BB  \n",
       "93         AA             AA  \n",
       "94         BB             BB  \n",
       "95         BB             BB  \n",
       "\n",
       "[96 rows x 6 columns]"
      ]
     },
     "execution_count": 204,
     "metadata": {},
     "output_type": "execute_result"
    }
   ],
   "source": [
    "# d3 = px.colors.qualitative.D3\n",
    "# cmap = {\n",
    "#     'AA': d3[0],\n",
    "#     'AB': d3[1],\n",
    "#     'BA': d3[1],\n",
    "#     'BB': d3[2],\n",
    "#     'NC': d3[3]\n",
    "# }\n",
    "\n",
    "# fig = px.density_contour(gmm_plot_df, x='Theta', y='R', marginal_x=\"histogram\", marginal_y=\"histogram\",color=\"gtype_out\", color_discrete_map=cmap, opacity=.8)\n",
    "# fig2 = px.scatter(gmm_plot_df, x='Theta', y='R', color=\"gtype_out\", color_discrete_map=cmap)\n",
    "\n",
    "# fig.add_trace(fig2.data[0]), fig.add_trace(fig2.data[1]), fig.add_trace(fig2.data[2])\n",
    "# fig.data[0].colorscale='blues'\n",
    "# fig.data[0].contours['coloring']='fill'\n",
    "# fig.data[3].contours['coloring']='fill'\n",
    "# fig.data[6].contours['coloring']='fill'\n",
    "\n",
    "# fig.data[0].showlegend=False\n",
    "# fig.data[3].showlegend=False\n",
    "# fig.data[6].showlegend=False\n",
    "gmm_plot_df"
   ]
  },
  {
   "cell_type": "code",
   "execution_count": 91,
   "metadata": {},
   "outputs": [],
   "source": [
    "import pandas as pd\n",
    "h5 = '/home/dan_vitale/projects/genotools_streamlit/GP2_round1.QC.metrics.h5'\n",
    "\n",
    "df_qc = pd.read_hdf(h5, key='QC')\n",
    "df_ancestry_counts = pd.read_hdf(h5, key='ancestry_counts')\n",
    "df_ancestry_labels = pd.read_hdf(h5, key='ancestry_labels')\n",
    "df_confusion_matrix = pd.read_hdf(h5, key='confusion_matrix')\n",
    "df_new_samples_umap = pd.read_hdf(h5, key='new_samples_umap')\n",
    "df_projected_pcs = pd.read_hdf(h5, key='projected_pcs')\n",
    "df_ref_pcs = pd.read_hdf(h5, key='ref_pcs')\n",
    "df_ref_umap = pd.read_hdf(h5, key='ref_umap')\n",
    "df_total_umap = pd.read_hdf(h5, key='total_umap')\n",
    "\n",
    "\n",
    "\n"
   ]
  },
  {
   "cell_type": "code",
   "execution_count": 92,
   "metadata": {},
   "outputs": [],
   "source": [
    "\n",
    "df_qc.to_csv('data/df_qc.csv')\n",
    "df_ancestry_counts.to_csv('data/df_ancestry_counts.csv', index=False)\n",
    "df_ancestry_labels.to_csv('data/df_ancestry_labels.csv', index=False)\n",
    "df_projected_pcs.to_csv('data/df_projected_pcs.csv',index=False)\n",
    "df_ref_pcs.to_csv('data/df_ref_pcs.csv', index=False)\n",
    "\n"
   ]
  },
  {
   "cell_type": "code",
   "execution_count": 94,
   "metadata": {},
   "outputs": [
    {
     "data": {
      "text/plain": [
       "['a', 'b']"
      ]
     },
     "execution_count": 94,
     "metadata": {},
     "output_type": "execute_result"
    }
   ],
   "source": [
    "#  gwas = pd.read_csv('https://raw.githubusercontent.com/plotly/dash-bio-docs-files/master/manhattan_data.csv')\n",
    "test = ['a']\n",
    "test.append('b')\n",
    "test"
   ]
  },
  {
   "cell_type": "code",
   "execution_count": 215,
   "metadata": {},
   "outputs": [
    {
     "name": "stdout",
     "output_type": "stream",
     "text": [
      "0 BB\n",
      "1 AA\n",
      "2 AB\n"
     ]
    },
    {
     "data": {
      "application/vnd.plotly.v1+json": {
       "config": {
        "plotlyServerURL": "https://plot.ly"
       },
       "data": [
        {
         "colorscale": [
          [
           0,
           "rgb(247,251,255)"
          ],
          [
           0.125,
           "rgb(222,235,247)"
          ],
          [
           0.25,
           "rgb(198,219,239)"
          ],
          [
           0.375,
           "rgb(158,202,225)"
          ],
          [
           0.5,
           "rgb(107,174,214)"
          ],
          [
           0.625,
           "rgb(66,146,198)"
          ],
          [
           0.75,
           "rgb(33,113,181)"
          ],
          [
           0.875,
           "rgb(8,81,156)"
          ],
          [
           1,
           "rgb(8,48,107)"
          ]
         ],
         "reversescale": true,
         "type": "histogram2dcontour",
         "x": [],
         "xaxis": "x",
         "y": [],
         "yaxis": "y"
        },
        {
         "marker": {
          "color": "#2CA02C",
          "size": 3
         },
         "mode": "markers",
         "type": "scatter",
         "x": [],
         "xaxis": "x",
         "y": [],
         "yaxis": "y"
        },
        {
         "marker": {
          "color": "#2CA02C"
         },
         "type": "histogram",
         "xaxis": "x2",
         "y": []
        },
        {
         "marker": {
          "color": "#2CA02C"
         },
         "type": "histogram",
         "x": [],
         "yaxis": "y2"
        },
        {
         "colorscale": [
          [
           0,
           "rgb(247,251,255)"
          ],
          [
           0.125,
           "rgb(222,235,247)"
          ],
          [
           0.25,
           "rgb(198,219,239)"
          ],
          [
           0.375,
           "rgb(158,202,225)"
          ],
          [
           0.5,
           "rgb(107,174,214)"
          ],
          [
           0.625,
           "rgb(66,146,198)"
          ],
          [
           0.75,
           "rgb(33,113,181)"
          ],
          [
           0.875,
           "rgb(8,81,156)"
          ],
          [
           1,
           "rgb(8,48,107)"
          ]
         ],
         "reversescale": true,
         "type": "histogram2dcontour",
         "x": [],
         "xaxis": "x",
         "y": [],
         "yaxis": "y"
        },
        {
         "marker": {
          "color": "#1F77B4",
          "size": 3
         },
         "mode": "markers",
         "type": "scatter",
         "x": [],
         "xaxis": "x",
         "y": [],
         "yaxis": "y"
        },
        {
         "marker": {
          "color": "#1F77B4"
         },
         "type": "histogram",
         "xaxis": "x2",
         "y": []
        },
        {
         "marker": {
          "color": "#1F77B4"
         },
         "type": "histogram",
         "x": [],
         "yaxis": "y2"
        },
        {
         "colorscale": [
          [
           0,
           "rgb(247,251,255)"
          ],
          [
           0.125,
           "rgb(222,235,247)"
          ],
          [
           0.25,
           "rgb(198,219,239)"
          ],
          [
           0.375,
           "rgb(158,202,225)"
          ],
          [
           0.5,
           "rgb(107,174,214)"
          ],
          [
           0.625,
           "rgb(66,146,198)"
          ],
          [
           0.75,
           "rgb(33,113,181)"
          ],
          [
           0.875,
           "rgb(8,81,156)"
          ],
          [
           1,
           "rgb(8,48,107)"
          ]
         ],
         "reversescale": true,
         "type": "histogram2dcontour",
         "x": [],
         "xaxis": "x",
         "y": [],
         "yaxis": "y"
        },
        {
         "marker": {
          "color": "#FF7F0E",
          "size": 3
         },
         "mode": "markers",
         "type": "scatter",
         "x": [],
         "xaxis": "x",
         "y": [],
         "yaxis": "y"
        },
        {
         "marker": {
          "color": "#FF7F0E"
         },
         "type": "histogram",
         "xaxis": "x2",
         "y": []
        },
        {
         "marker": {
          "color": "#FF7F0E"
         },
         "type": "histogram",
         "x": [],
         "yaxis": "y2"
        }
       ],
       "layout": {
        "autosize": false,
        "bargap": 0,
        "height": 600,
        "hovermode": "closest",
        "showlegend": false,
        "template": {
         "data": {
          "bar": [
           {
            "error_x": {
             "color": "#2a3f5f"
            },
            "error_y": {
             "color": "#2a3f5f"
            },
            "marker": {
             "line": {
              "color": "#E5ECF6",
              "width": 0.5
             },
             "pattern": {
              "fillmode": "overlay",
              "size": 10,
              "solidity": 0.2
             }
            },
            "type": "bar"
           }
          ],
          "barpolar": [
           {
            "marker": {
             "line": {
              "color": "#E5ECF6",
              "width": 0.5
             },
             "pattern": {
              "fillmode": "overlay",
              "size": 10,
              "solidity": 0.2
             }
            },
            "type": "barpolar"
           }
          ],
          "carpet": [
           {
            "aaxis": {
             "endlinecolor": "#2a3f5f",
             "gridcolor": "white",
             "linecolor": "white",
             "minorgridcolor": "white",
             "startlinecolor": "#2a3f5f"
            },
            "baxis": {
             "endlinecolor": "#2a3f5f",
             "gridcolor": "white",
             "linecolor": "white",
             "minorgridcolor": "white",
             "startlinecolor": "#2a3f5f"
            },
            "type": "carpet"
           }
          ],
          "choropleth": [
           {
            "colorbar": {
             "outlinewidth": 0,
             "ticks": ""
            },
            "type": "choropleth"
           }
          ],
          "contour": [
           {
            "colorbar": {
             "outlinewidth": 0,
             "ticks": ""
            },
            "colorscale": [
             [
              0,
              "#0d0887"
             ],
             [
              0.1111111111111111,
              "#46039f"
             ],
             [
              0.2222222222222222,
              "#7201a8"
             ],
             [
              0.3333333333333333,
              "#9c179e"
             ],
             [
              0.4444444444444444,
              "#bd3786"
             ],
             [
              0.5555555555555556,
              "#d8576b"
             ],
             [
              0.6666666666666666,
              "#ed7953"
             ],
             [
              0.7777777777777778,
              "#fb9f3a"
             ],
             [
              0.8888888888888888,
              "#fdca26"
             ],
             [
              1,
              "#f0f921"
             ]
            ],
            "type": "contour"
           }
          ],
          "contourcarpet": [
           {
            "colorbar": {
             "outlinewidth": 0,
             "ticks": ""
            },
            "type": "contourcarpet"
           }
          ],
          "heatmap": [
           {
            "colorbar": {
             "outlinewidth": 0,
             "ticks": ""
            },
            "colorscale": [
             [
              0,
              "#0d0887"
             ],
             [
              0.1111111111111111,
              "#46039f"
             ],
             [
              0.2222222222222222,
              "#7201a8"
             ],
             [
              0.3333333333333333,
              "#9c179e"
             ],
             [
              0.4444444444444444,
              "#bd3786"
             ],
             [
              0.5555555555555556,
              "#d8576b"
             ],
             [
              0.6666666666666666,
              "#ed7953"
             ],
             [
              0.7777777777777778,
              "#fb9f3a"
             ],
             [
              0.8888888888888888,
              "#fdca26"
             ],
             [
              1,
              "#f0f921"
             ]
            ],
            "type": "heatmap"
           }
          ],
          "heatmapgl": [
           {
            "colorbar": {
             "outlinewidth": 0,
             "ticks": ""
            },
            "colorscale": [
             [
              0,
              "#0d0887"
             ],
             [
              0.1111111111111111,
              "#46039f"
             ],
             [
              0.2222222222222222,
              "#7201a8"
             ],
             [
              0.3333333333333333,
              "#9c179e"
             ],
             [
              0.4444444444444444,
              "#bd3786"
             ],
             [
              0.5555555555555556,
              "#d8576b"
             ],
             [
              0.6666666666666666,
              "#ed7953"
             ],
             [
              0.7777777777777778,
              "#fb9f3a"
             ],
             [
              0.8888888888888888,
              "#fdca26"
             ],
             [
              1,
              "#f0f921"
             ]
            ],
            "type": "heatmapgl"
           }
          ],
          "histogram": [
           {
            "marker": {
             "pattern": {
              "fillmode": "overlay",
              "size": 10,
              "solidity": 0.2
             }
            },
            "type": "histogram"
           }
          ],
          "histogram2d": [
           {
            "colorbar": {
             "outlinewidth": 0,
             "ticks": ""
            },
            "colorscale": [
             [
              0,
              "#0d0887"
             ],
             [
              0.1111111111111111,
              "#46039f"
             ],
             [
              0.2222222222222222,
              "#7201a8"
             ],
             [
              0.3333333333333333,
              "#9c179e"
             ],
             [
              0.4444444444444444,
              "#bd3786"
             ],
             [
              0.5555555555555556,
              "#d8576b"
             ],
             [
              0.6666666666666666,
              "#ed7953"
             ],
             [
              0.7777777777777778,
              "#fb9f3a"
             ],
             [
              0.8888888888888888,
              "#fdca26"
             ],
             [
              1,
              "#f0f921"
             ]
            ],
            "type": "histogram2d"
           }
          ],
          "histogram2dcontour": [
           {
            "colorbar": {
             "outlinewidth": 0,
             "ticks": ""
            },
            "colorscale": [
             [
              0,
              "#0d0887"
             ],
             [
              0.1111111111111111,
              "#46039f"
             ],
             [
              0.2222222222222222,
              "#7201a8"
             ],
             [
              0.3333333333333333,
              "#9c179e"
             ],
             [
              0.4444444444444444,
              "#bd3786"
             ],
             [
              0.5555555555555556,
              "#d8576b"
             ],
             [
              0.6666666666666666,
              "#ed7953"
             ],
             [
              0.7777777777777778,
              "#fb9f3a"
             ],
             [
              0.8888888888888888,
              "#fdca26"
             ],
             [
              1,
              "#f0f921"
             ]
            ],
            "type": "histogram2dcontour"
           }
          ],
          "mesh3d": [
           {
            "colorbar": {
             "outlinewidth": 0,
             "ticks": ""
            },
            "type": "mesh3d"
           }
          ],
          "parcoords": [
           {
            "line": {
             "colorbar": {
              "outlinewidth": 0,
              "ticks": ""
             }
            },
            "type": "parcoords"
           }
          ],
          "pie": [
           {
            "automargin": true,
            "type": "pie"
           }
          ],
          "scatter": [
           {
            "marker": {
             "colorbar": {
              "outlinewidth": 0,
              "ticks": ""
             }
            },
            "type": "scatter"
           }
          ],
          "scatter3d": [
           {
            "line": {
             "colorbar": {
              "outlinewidth": 0,
              "ticks": ""
             }
            },
            "marker": {
             "colorbar": {
              "outlinewidth": 0,
              "ticks": ""
             }
            },
            "type": "scatter3d"
           }
          ],
          "scattercarpet": [
           {
            "marker": {
             "colorbar": {
              "outlinewidth": 0,
              "ticks": ""
             }
            },
            "type": "scattercarpet"
           }
          ],
          "scattergeo": [
           {
            "marker": {
             "colorbar": {
              "outlinewidth": 0,
              "ticks": ""
             }
            },
            "type": "scattergeo"
           }
          ],
          "scattergl": [
           {
            "marker": {
             "colorbar": {
              "outlinewidth": 0,
              "ticks": ""
             }
            },
            "type": "scattergl"
           }
          ],
          "scattermapbox": [
           {
            "marker": {
             "colorbar": {
              "outlinewidth": 0,
              "ticks": ""
             }
            },
            "type": "scattermapbox"
           }
          ],
          "scatterpolar": [
           {
            "marker": {
             "colorbar": {
              "outlinewidth": 0,
              "ticks": ""
             }
            },
            "type": "scatterpolar"
           }
          ],
          "scatterpolargl": [
           {
            "marker": {
             "colorbar": {
              "outlinewidth": 0,
              "ticks": ""
             }
            },
            "type": "scatterpolargl"
           }
          ],
          "scatterternary": [
           {
            "marker": {
             "colorbar": {
              "outlinewidth": 0,
              "ticks": ""
             }
            },
            "type": "scatterternary"
           }
          ],
          "surface": [
           {
            "colorbar": {
             "outlinewidth": 0,
             "ticks": ""
            },
            "colorscale": [
             [
              0,
              "#0d0887"
             ],
             [
              0.1111111111111111,
              "#46039f"
             ],
             [
              0.2222222222222222,
              "#7201a8"
             ],
             [
              0.3333333333333333,
              "#9c179e"
             ],
             [
              0.4444444444444444,
              "#bd3786"
             ],
             [
              0.5555555555555556,
              "#d8576b"
             ],
             [
              0.6666666666666666,
              "#ed7953"
             ],
             [
              0.7777777777777778,
              "#fb9f3a"
             ],
             [
              0.8888888888888888,
              "#fdca26"
             ],
             [
              1,
              "#f0f921"
             ]
            ],
            "type": "surface"
           }
          ],
          "table": [
           {
            "cells": {
             "fill": {
              "color": "#EBF0F8"
             },
             "line": {
              "color": "white"
             }
            },
            "header": {
             "fill": {
              "color": "#C8D4E3"
             },
             "line": {
              "color": "white"
             }
            },
            "type": "table"
           }
          ]
         },
         "layout": {
          "annotationdefaults": {
           "arrowcolor": "#2a3f5f",
           "arrowhead": 0,
           "arrowwidth": 1
          },
          "autotypenumbers": "strict",
          "coloraxis": {
           "colorbar": {
            "outlinewidth": 0,
            "ticks": ""
           }
          },
          "colorscale": {
           "diverging": [
            [
             0,
             "#8e0152"
            ],
            [
             0.1,
             "#c51b7d"
            ],
            [
             0.2,
             "#de77ae"
            ],
            [
             0.3,
             "#f1b6da"
            ],
            [
             0.4,
             "#fde0ef"
            ],
            [
             0.5,
             "#f7f7f7"
            ],
            [
             0.6,
             "#e6f5d0"
            ],
            [
             0.7,
             "#b8e186"
            ],
            [
             0.8,
             "#7fbc41"
            ],
            [
             0.9,
             "#4d9221"
            ],
            [
             1,
             "#276419"
            ]
           ],
           "sequential": [
            [
             0,
             "#0d0887"
            ],
            [
             0.1111111111111111,
             "#46039f"
            ],
            [
             0.2222222222222222,
             "#7201a8"
            ],
            [
             0.3333333333333333,
             "#9c179e"
            ],
            [
             0.4444444444444444,
             "#bd3786"
            ],
            [
             0.5555555555555556,
             "#d8576b"
            ],
            [
             0.6666666666666666,
             "#ed7953"
            ],
            [
             0.7777777777777778,
             "#fb9f3a"
            ],
            [
             0.8888888888888888,
             "#fdca26"
            ],
            [
             1,
             "#f0f921"
            ]
           ],
           "sequentialminus": [
            [
             0,
             "#0d0887"
            ],
            [
             0.1111111111111111,
             "#46039f"
            ],
            [
             0.2222222222222222,
             "#7201a8"
            ],
            [
             0.3333333333333333,
             "#9c179e"
            ],
            [
             0.4444444444444444,
             "#bd3786"
            ],
            [
             0.5555555555555556,
             "#d8576b"
            ],
            [
             0.6666666666666666,
             "#ed7953"
            ],
            [
             0.7777777777777778,
             "#fb9f3a"
            ],
            [
             0.8888888888888888,
             "#fdca26"
            ],
            [
             1,
             "#f0f921"
            ]
           ]
          },
          "colorway": [
           "#636efa",
           "#EF553B",
           "#00cc96",
           "#ab63fa",
           "#FFA15A",
           "#19d3f3",
           "#FF6692",
           "#B6E880",
           "#FF97FF",
           "#FECB52"
          ],
          "font": {
           "color": "#2a3f5f"
          },
          "geo": {
           "bgcolor": "white",
           "lakecolor": "white",
           "landcolor": "#E5ECF6",
           "showlakes": true,
           "showland": true,
           "subunitcolor": "white"
          },
          "hoverlabel": {
           "align": "left"
          },
          "hovermode": "closest",
          "mapbox": {
           "style": "light"
          },
          "paper_bgcolor": "white",
          "plot_bgcolor": "#E5ECF6",
          "polar": {
           "angularaxis": {
            "gridcolor": "white",
            "linecolor": "white",
            "ticks": ""
           },
           "bgcolor": "#E5ECF6",
           "radialaxis": {
            "gridcolor": "white",
            "linecolor": "white",
            "ticks": ""
           }
          },
          "scene": {
           "xaxis": {
            "backgroundcolor": "#E5ECF6",
            "gridcolor": "white",
            "gridwidth": 2,
            "linecolor": "white",
            "showbackground": true,
            "ticks": "",
            "zerolinecolor": "white"
           },
           "yaxis": {
            "backgroundcolor": "#E5ECF6",
            "gridcolor": "white",
            "gridwidth": 2,
            "linecolor": "white",
            "showbackground": true,
            "ticks": "",
            "zerolinecolor": "white"
           },
           "zaxis": {
            "backgroundcolor": "#E5ECF6",
            "gridcolor": "white",
            "gridwidth": 2,
            "linecolor": "white",
            "showbackground": true,
            "ticks": "",
            "zerolinecolor": "white"
           }
          },
          "shapedefaults": {
           "line": {
            "color": "#2a3f5f"
           }
          },
          "ternary": {
           "aaxis": {
            "gridcolor": "white",
            "linecolor": "white",
            "ticks": ""
           },
           "baxis": {
            "gridcolor": "white",
            "linecolor": "white",
            "ticks": ""
           },
           "bgcolor": "#E5ECF6",
           "caxis": {
            "gridcolor": "white",
            "linecolor": "white",
            "ticks": ""
           }
          },
          "title": {
           "x": 0.05
          },
          "xaxis": {
           "automargin": true,
           "gridcolor": "white",
           "linecolor": "white",
           "ticks": "",
           "title": {
            "standoff": 15
           },
           "zerolinecolor": "white",
           "zerolinewidth": 2
          },
          "yaxis": {
           "automargin": true,
           "gridcolor": "white",
           "linecolor": "white",
           "ticks": "",
           "title": {
            "standoff": 15
           },
           "zerolinecolor": "white",
           "zerolinewidth": 2
          }
         }
        },
        "width": 600,
        "xaxis": {
         "domain": [
          0,
          0.85
         ],
         "showgrid": false,
         "zeroline": false
        },
        "xaxis2": {
         "domain": [
          0.85,
          1
         ],
         "showgrid": false,
         "zeroline": false
        },
        "yaxis": {
         "domain": [
          0,
          0.85
         ],
         "showgrid": false,
         "zeroline": false
        },
        "yaxis2": {
         "domain": [
          0.85,
          1
         ],
         "showgrid": false,
         "zeroline": false
        }
       }
      },
      "text/html": [
       "<div>                            <div id=\"70df6d6d-f12f-4370-b35e-1870671de361\" class=\"plotly-graph-div\" style=\"height:600px; width:600px;\"></div>            <script type=\"text/javascript\">                require([\"plotly\"], function(Plotly) {                    window.PLOTLYENV=window.PLOTLYENV || {};                                    if (document.getElementById(\"70df6d6d-f12f-4370-b35e-1870671de361\")) {                    Plotly.newPlot(                        \"70df6d6d-f12f-4370-b35e-1870671de361\",                        [{\"colorscale\":[[0.0,\"rgb(247,251,255)\"],[0.125,\"rgb(222,235,247)\"],[0.25,\"rgb(198,219,239)\"],[0.375,\"rgb(158,202,225)\"],[0.5,\"rgb(107,174,214)\"],[0.625,\"rgb(66,146,198)\"],[0.75,\"rgb(33,113,181)\"],[0.875,\"rgb(8,81,156)\"],[1.0,\"rgb(8,48,107)\"]],\"reversescale\":true,\"type\":\"histogram2dcontour\",\"x\":[],\"xaxis\":\"x\",\"y\":[],\"yaxis\":\"y\"},{\"marker\":{\"color\":\"#2CA02C\",\"size\":3},\"mode\":\"markers\",\"type\":\"scatter\",\"x\":[],\"xaxis\":\"x\",\"y\":[],\"yaxis\":\"y\"},{\"marker\":{\"color\":\"#2CA02C\"},\"type\":\"histogram\",\"xaxis\":\"x2\",\"y\":[]},{\"marker\":{\"color\":\"#2CA02C\"},\"type\":\"histogram\",\"x\":[],\"yaxis\":\"y2\"},{\"colorscale\":[[0.0,\"rgb(247,251,255)\"],[0.125,\"rgb(222,235,247)\"],[0.25,\"rgb(198,219,239)\"],[0.375,\"rgb(158,202,225)\"],[0.5,\"rgb(107,174,214)\"],[0.625,\"rgb(66,146,198)\"],[0.75,\"rgb(33,113,181)\"],[0.875,\"rgb(8,81,156)\"],[1.0,\"rgb(8,48,107)\"]],\"reversescale\":true,\"type\":\"histogram2dcontour\",\"x\":[],\"xaxis\":\"x\",\"y\":[],\"yaxis\":\"y\"},{\"marker\":{\"color\":\"#1F77B4\",\"size\":3},\"mode\":\"markers\",\"type\":\"scatter\",\"x\":[],\"xaxis\":\"x\",\"y\":[],\"yaxis\":\"y\"},{\"marker\":{\"color\":\"#1F77B4\"},\"type\":\"histogram\",\"xaxis\":\"x2\",\"y\":[]},{\"marker\":{\"color\":\"#1F77B4\"},\"type\":\"histogram\",\"x\":[],\"yaxis\":\"y2\"},{\"colorscale\":[[0.0,\"rgb(247,251,255)\"],[0.125,\"rgb(222,235,247)\"],[0.25,\"rgb(198,219,239)\"],[0.375,\"rgb(158,202,225)\"],[0.5,\"rgb(107,174,214)\"],[0.625,\"rgb(66,146,198)\"],[0.75,\"rgb(33,113,181)\"],[0.875,\"rgb(8,81,156)\"],[1.0,\"rgb(8,48,107)\"]],\"reversescale\":true,\"type\":\"histogram2dcontour\",\"x\":[],\"xaxis\":\"x\",\"y\":[],\"yaxis\":\"y\"},{\"marker\":{\"color\":\"#FF7F0E\",\"size\":3},\"mode\":\"markers\",\"type\":\"scatter\",\"x\":[],\"xaxis\":\"x\",\"y\":[],\"yaxis\":\"y\"},{\"marker\":{\"color\":\"#FF7F0E\"},\"type\":\"histogram\",\"xaxis\":\"x2\",\"y\":[]},{\"marker\":{\"color\":\"#FF7F0E\"},\"type\":\"histogram\",\"x\":[],\"yaxis\":\"y2\"}],                        {\"autosize\":false,\"bargap\":0,\"height\":600,\"hovermode\":\"closest\",\"showlegend\":false,\"template\":{\"data\":{\"bar\":[{\"error_x\":{\"color\":\"#2a3f5f\"},\"error_y\":{\"color\":\"#2a3f5f\"},\"marker\":{\"line\":{\"color\":\"#E5ECF6\",\"width\":0.5},\"pattern\":{\"fillmode\":\"overlay\",\"size\":10,\"solidity\":0.2}},\"type\":\"bar\"}],\"barpolar\":[{\"marker\":{\"line\":{\"color\":\"#E5ECF6\",\"width\":0.5},\"pattern\":{\"fillmode\":\"overlay\",\"size\":10,\"solidity\":0.2}},\"type\":\"barpolar\"}],\"carpet\":[{\"aaxis\":{\"endlinecolor\":\"#2a3f5f\",\"gridcolor\":\"white\",\"linecolor\":\"white\",\"minorgridcolor\":\"white\",\"startlinecolor\":\"#2a3f5f\"},\"baxis\":{\"endlinecolor\":\"#2a3f5f\",\"gridcolor\":\"white\",\"linecolor\":\"white\",\"minorgridcolor\":\"white\",\"startlinecolor\":\"#2a3f5f\"},\"type\":\"carpet\"}],\"choropleth\":[{\"colorbar\":{\"outlinewidth\":0,\"ticks\":\"\"},\"type\":\"choropleth\"}],\"contour\":[{\"colorbar\":{\"outlinewidth\":0,\"ticks\":\"\"},\"colorscale\":[[0.0,\"#0d0887\"],[0.1111111111111111,\"#46039f\"],[0.2222222222222222,\"#7201a8\"],[0.3333333333333333,\"#9c179e\"],[0.4444444444444444,\"#bd3786\"],[0.5555555555555556,\"#d8576b\"],[0.6666666666666666,\"#ed7953\"],[0.7777777777777778,\"#fb9f3a\"],[0.8888888888888888,\"#fdca26\"],[1.0,\"#f0f921\"]],\"type\":\"contour\"}],\"contourcarpet\":[{\"colorbar\":{\"outlinewidth\":0,\"ticks\":\"\"},\"type\":\"contourcarpet\"}],\"heatmap\":[{\"colorbar\":{\"outlinewidth\":0,\"ticks\":\"\"},\"colorscale\":[[0.0,\"#0d0887\"],[0.1111111111111111,\"#46039f\"],[0.2222222222222222,\"#7201a8\"],[0.3333333333333333,\"#9c179e\"],[0.4444444444444444,\"#bd3786\"],[0.5555555555555556,\"#d8576b\"],[0.6666666666666666,\"#ed7953\"],[0.7777777777777778,\"#fb9f3a\"],[0.8888888888888888,\"#fdca26\"],[1.0,\"#f0f921\"]],\"type\":\"heatmap\"}],\"heatmapgl\":[{\"colorbar\":{\"outlinewidth\":0,\"ticks\":\"\"},\"colorscale\":[[0.0,\"#0d0887\"],[0.1111111111111111,\"#46039f\"],[0.2222222222222222,\"#7201a8\"],[0.3333333333333333,\"#9c179e\"],[0.4444444444444444,\"#bd3786\"],[0.5555555555555556,\"#d8576b\"],[0.6666666666666666,\"#ed7953\"],[0.7777777777777778,\"#fb9f3a\"],[0.8888888888888888,\"#fdca26\"],[1.0,\"#f0f921\"]],\"type\":\"heatmapgl\"}],\"histogram\":[{\"marker\":{\"pattern\":{\"fillmode\":\"overlay\",\"size\":10,\"solidity\":0.2}},\"type\":\"histogram\"}],\"histogram2d\":[{\"colorbar\":{\"outlinewidth\":0,\"ticks\":\"\"},\"colorscale\":[[0.0,\"#0d0887\"],[0.1111111111111111,\"#46039f\"],[0.2222222222222222,\"#7201a8\"],[0.3333333333333333,\"#9c179e\"],[0.4444444444444444,\"#bd3786\"],[0.5555555555555556,\"#d8576b\"],[0.6666666666666666,\"#ed7953\"],[0.7777777777777778,\"#fb9f3a\"],[0.8888888888888888,\"#fdca26\"],[1.0,\"#f0f921\"]],\"type\":\"histogram2d\"}],\"histogram2dcontour\":[{\"colorbar\":{\"outlinewidth\":0,\"ticks\":\"\"},\"colorscale\":[[0.0,\"#0d0887\"],[0.1111111111111111,\"#46039f\"],[0.2222222222222222,\"#7201a8\"],[0.3333333333333333,\"#9c179e\"],[0.4444444444444444,\"#bd3786\"],[0.5555555555555556,\"#d8576b\"],[0.6666666666666666,\"#ed7953\"],[0.7777777777777778,\"#fb9f3a\"],[0.8888888888888888,\"#fdca26\"],[1.0,\"#f0f921\"]],\"type\":\"histogram2dcontour\"}],\"mesh3d\":[{\"colorbar\":{\"outlinewidth\":0,\"ticks\":\"\"},\"type\":\"mesh3d\"}],\"parcoords\":[{\"line\":{\"colorbar\":{\"outlinewidth\":0,\"ticks\":\"\"}},\"type\":\"parcoords\"}],\"pie\":[{\"automargin\":true,\"type\":\"pie\"}],\"scatter\":[{\"marker\":{\"colorbar\":{\"outlinewidth\":0,\"ticks\":\"\"}},\"type\":\"scatter\"}],\"scatter3d\":[{\"line\":{\"colorbar\":{\"outlinewidth\":0,\"ticks\":\"\"}},\"marker\":{\"colorbar\":{\"outlinewidth\":0,\"ticks\":\"\"}},\"type\":\"scatter3d\"}],\"scattercarpet\":[{\"marker\":{\"colorbar\":{\"outlinewidth\":0,\"ticks\":\"\"}},\"type\":\"scattercarpet\"}],\"scattergeo\":[{\"marker\":{\"colorbar\":{\"outlinewidth\":0,\"ticks\":\"\"}},\"type\":\"scattergeo\"}],\"scattergl\":[{\"marker\":{\"colorbar\":{\"outlinewidth\":0,\"ticks\":\"\"}},\"type\":\"scattergl\"}],\"scattermapbox\":[{\"marker\":{\"colorbar\":{\"outlinewidth\":0,\"ticks\":\"\"}},\"type\":\"scattermapbox\"}],\"scatterpolar\":[{\"marker\":{\"colorbar\":{\"outlinewidth\":0,\"ticks\":\"\"}},\"type\":\"scatterpolar\"}],\"scatterpolargl\":[{\"marker\":{\"colorbar\":{\"outlinewidth\":0,\"ticks\":\"\"}},\"type\":\"scatterpolargl\"}],\"scatterternary\":[{\"marker\":{\"colorbar\":{\"outlinewidth\":0,\"ticks\":\"\"}},\"type\":\"scatterternary\"}],\"surface\":[{\"colorbar\":{\"outlinewidth\":0,\"ticks\":\"\"},\"colorscale\":[[0.0,\"#0d0887\"],[0.1111111111111111,\"#46039f\"],[0.2222222222222222,\"#7201a8\"],[0.3333333333333333,\"#9c179e\"],[0.4444444444444444,\"#bd3786\"],[0.5555555555555556,\"#d8576b\"],[0.6666666666666666,\"#ed7953\"],[0.7777777777777778,\"#fb9f3a\"],[0.8888888888888888,\"#fdca26\"],[1.0,\"#f0f921\"]],\"type\":\"surface\"}],\"table\":[{\"cells\":{\"fill\":{\"color\":\"#EBF0F8\"},\"line\":{\"color\":\"white\"}},\"header\":{\"fill\":{\"color\":\"#C8D4E3\"},\"line\":{\"color\":\"white\"}},\"type\":\"table\"}]},\"layout\":{\"annotationdefaults\":{\"arrowcolor\":\"#2a3f5f\",\"arrowhead\":0,\"arrowwidth\":1},\"autotypenumbers\":\"strict\",\"coloraxis\":{\"colorbar\":{\"outlinewidth\":0,\"ticks\":\"\"}},\"colorscale\":{\"diverging\":[[0,\"#8e0152\"],[0.1,\"#c51b7d\"],[0.2,\"#de77ae\"],[0.3,\"#f1b6da\"],[0.4,\"#fde0ef\"],[0.5,\"#f7f7f7\"],[0.6,\"#e6f5d0\"],[0.7,\"#b8e186\"],[0.8,\"#7fbc41\"],[0.9,\"#4d9221\"],[1,\"#276419\"]],\"sequential\":[[0.0,\"#0d0887\"],[0.1111111111111111,\"#46039f\"],[0.2222222222222222,\"#7201a8\"],[0.3333333333333333,\"#9c179e\"],[0.4444444444444444,\"#bd3786\"],[0.5555555555555556,\"#d8576b\"],[0.6666666666666666,\"#ed7953\"],[0.7777777777777778,\"#fb9f3a\"],[0.8888888888888888,\"#fdca26\"],[1.0,\"#f0f921\"]],\"sequentialminus\":[[0.0,\"#0d0887\"],[0.1111111111111111,\"#46039f\"],[0.2222222222222222,\"#7201a8\"],[0.3333333333333333,\"#9c179e\"],[0.4444444444444444,\"#bd3786\"],[0.5555555555555556,\"#d8576b\"],[0.6666666666666666,\"#ed7953\"],[0.7777777777777778,\"#fb9f3a\"],[0.8888888888888888,\"#fdca26\"],[1.0,\"#f0f921\"]]},\"colorway\":[\"#636efa\",\"#EF553B\",\"#00cc96\",\"#ab63fa\",\"#FFA15A\",\"#19d3f3\",\"#FF6692\",\"#B6E880\",\"#FF97FF\",\"#FECB52\"],\"font\":{\"color\":\"#2a3f5f\"},\"geo\":{\"bgcolor\":\"white\",\"lakecolor\":\"white\",\"landcolor\":\"#E5ECF6\",\"showlakes\":true,\"showland\":true,\"subunitcolor\":\"white\"},\"hoverlabel\":{\"align\":\"left\"},\"hovermode\":\"closest\",\"mapbox\":{\"style\":\"light\"},\"paper_bgcolor\":\"white\",\"plot_bgcolor\":\"#E5ECF6\",\"polar\":{\"angularaxis\":{\"gridcolor\":\"white\",\"linecolor\":\"white\",\"ticks\":\"\"},\"bgcolor\":\"#E5ECF6\",\"radialaxis\":{\"gridcolor\":\"white\",\"linecolor\":\"white\",\"ticks\":\"\"}},\"scene\":{\"xaxis\":{\"backgroundcolor\":\"#E5ECF6\",\"gridcolor\":\"white\",\"gridwidth\":2,\"linecolor\":\"white\",\"showbackground\":true,\"ticks\":\"\",\"zerolinecolor\":\"white\"},\"yaxis\":{\"backgroundcolor\":\"#E5ECF6\",\"gridcolor\":\"white\",\"gridwidth\":2,\"linecolor\":\"white\",\"showbackground\":true,\"ticks\":\"\",\"zerolinecolor\":\"white\"},\"zaxis\":{\"backgroundcolor\":\"#E5ECF6\",\"gridcolor\":\"white\",\"gridwidth\":2,\"linecolor\":\"white\",\"showbackground\":true,\"ticks\":\"\",\"zerolinecolor\":\"white\"}},\"shapedefaults\":{\"line\":{\"color\":\"#2a3f5f\"}},\"ternary\":{\"aaxis\":{\"gridcolor\":\"white\",\"linecolor\":\"white\",\"ticks\":\"\"},\"baxis\":{\"gridcolor\":\"white\",\"linecolor\":\"white\",\"ticks\":\"\"},\"bgcolor\":\"#E5ECF6\",\"caxis\":{\"gridcolor\":\"white\",\"linecolor\":\"white\",\"ticks\":\"\"}},\"title\":{\"x\":0.05},\"xaxis\":{\"automargin\":true,\"gridcolor\":\"white\",\"linecolor\":\"white\",\"ticks\":\"\",\"title\":{\"standoff\":15},\"zerolinecolor\":\"white\",\"zerolinewidth\":2},\"yaxis\":{\"automargin\":true,\"gridcolor\":\"white\",\"linecolor\":\"white\",\"ticks\":\"\",\"title\":{\"standoff\":15},\"zerolinecolor\":\"white\",\"zerolinewidth\":2}}},\"width\":600,\"xaxis\":{\"domain\":[0,0.85],\"showgrid\":false,\"zeroline\":false},\"xaxis2\":{\"domain\":[0.85,1],\"showgrid\":false,\"zeroline\":false},\"yaxis\":{\"domain\":[0,0.85],\"showgrid\":false,\"zeroline\":false},\"yaxis2\":{\"domain\":[0.85,1],\"showgrid\":false,\"zeroline\":false}},                        {\"responsive\": true}                    ).then(function(){\n",
       "                            \n",
       "var gd = document.getElementById('70df6d6d-f12f-4370-b35e-1870671de361');\n",
       "var x = new MutationObserver(function (mutations, observer) {{\n",
       "        var display = window.getComputedStyle(gd).display;\n",
       "        if (!display || display === 'none') {{\n",
       "            console.log([gd, 'removed!']);\n",
       "            Plotly.purge(gd);\n",
       "            observer.disconnect();\n",
       "        }}\n",
       "}});\n",
       "\n",
       "// Listen for the removal of the full notebook cells\n",
       "var notebookContainer = gd.closest('#notebook-container');\n",
       "if (notebookContainer) {{\n",
       "    x.observe(notebookContainer, {childList: true});\n",
       "}}\n",
       "\n",
       "// Listen for the clearing of the current output cell\n",
       "var outputEl = gd.closest('.output');\n",
       "if (outputEl) {{\n",
       "    x.observe(outputEl, {childList: true});\n",
       "}}\n",
       "\n",
       "                        })                };                });            </script>        </div>"
      ]
     },
     "metadata": {},
     "output_type": "display_data"
    }
   ],
   "source": [
    "import plotly.graph_objects as go\n",
    "\n",
    "import numpy as np\n",
    "\n",
    "t = np.linspace(-1, 1.2, 2000)\n",
    "# x = (t**3) + (0.3 * np.random.randn(2000))\n",
    "# y = (t**6) + (0.3 * np.random.randn(2000))\n",
    "\n",
    "\n",
    "\n",
    "\n",
    "d3 = px.colors.qualitative.D3\n",
    "\n",
    "fig = go.Figure()\n",
    "\n",
    "cmap = {\n",
    "    'AA': d3[0],\n",
    "    'AB': d3[1],\n",
    "    'BA': d3[1],\n",
    "    'BB': d3[2],\n",
    "    'NC': d3[3]\n",
    "}\n",
    "\n",
    "\n",
    "\n",
    "for i, gtype in enumerate(gtypes):\n",
    "    print(i, gtype)\n",
    "\n",
    "    x = gmm_plot_df.loc[gmm_plot_df.GType==gtype,'Theta']\n",
    "    y = gmm_plot_df.loc[gmm_plot_df.GType==gtype,'R']\n",
    "\n",
    "    fig.add_trace(go.Histogram2dContour(\n",
    "        x = x,\n",
    "        y = y,\n",
    "        colorscale = 'Blues',\n",
    "        reversescale = True,\n",
    "        xaxis = f'x',\n",
    "        yaxis = f'y'\n",
    "    ))\n",
    "\n",
    "    fig.add_trace(go.Scatter(\n",
    "            x = x,\n",
    "            y = y,\n",
    "            xaxis = f'x',\n",
    "            yaxis = f'y',\n",
    "            mode = 'markers',\n",
    "            marker = dict(\n",
    "                color = cmap[gtype],\n",
    "                size = 3\n",
    "            )\n",
    "        ))\n",
    "\n",
    "    fig.add_trace(go.Histogram(\n",
    "            y = y,\n",
    "            xaxis = f'x2',\n",
    "            marker = dict(\n",
    "                color = cmap[gtype]\n",
    "            )\n",
    "        ))\n",
    "\n",
    "    fig.add_trace(go.Histogram(\n",
    "            x = x,\n",
    "            yaxis = f'y2',\n",
    "            marker = dict(\n",
    "                color = cmap[gtype]\n",
    "            )\n",
    "        ))\n",
    "\n",
    "    fig.update_layout(\n",
    "        autosize = False,\n",
    "        xaxis = dict(\n",
    "            zeroline = False,\n",
    "            domain = [0,0.85],\n",
    "            showgrid = False\n",
    "        ),\n",
    "        yaxis = dict(\n",
    "            zeroline = False,\n",
    "            domain = [0,0.85],\n",
    "            showgrid = False\n",
    "        ),\n",
    "        xaxis2 = dict(\n",
    "            zeroline = False,\n",
    "            domain = [0.85,1],\n",
    "            showgrid = False\n",
    "        ),\n",
    "        yaxis2 = dict(\n",
    "            zeroline = False,\n",
    "            domain = [0.85,1],\n",
    "            showgrid = False\n",
    "        ),\n",
    "        height = 600,\n",
    "        width = 600,\n",
    "        bargap = 0,\n",
    "        hovermode = 'closest',\n",
    "        showlegend = False\n",
    "    )\n",
    "\n",
    "fig.show()"
   ]
  },
  {
   "cell_type": "code",
   "execution_count": null,
   "metadata": {},
   "outputs": [],
   "source": []
  },
  {
   "cell_type": "code",
   "execution_count": null,
   "metadata": {},
   "outputs": [],
   "source": []
  },
  {
   "cell_type": "code",
   "execution_count": 85,
   "metadata": {},
   "outputs": [],
   "source": [
    "def plot_gmm(df, x_col, y_col, gtype_col, gmm, snpid, n_std=3):\n",
    "\n",
    "    d3 = px.colors.qualitative.D3\n",
    "\n",
    "    cmap = {\n",
    "        'AA': d3[0],\n",
    "        'AB': d3[1],\n",
    "        'BA': d3[1],\n",
    "        'BB': d3[2],\n",
    "        'NC': d3[3]\n",
    "    }\n",
    "\n",
    "    gtypes_list = (df[gtype_col].unique())\n",
    "\n",
    "    fig = go.Figure()\n",
    "\n",
    "    for gtype in gtypes_list:\n",
    "        df_ = df.loc[df[gtype_col]==gtype]\n",
    "        x = df_.loc[:, x_col]\n",
    "        y = df_.loc[:, y_col]\n",
    "        color = cmap[gtype]\n",
    "        fig.add_trace(\n",
    "            go.Scatter(\n",
    "                x=x, y=y, \n",
    "                mode=\"markers\",\n",
    "                name=gtype,\n",
    "                marker = {'color':color},\n",
    "                hovertemplate=\"Genotype=%s<br>Theta=%%{x}<br>R=%%{y}<extra></extra>\"% gtype\n",
    "                ))\n",
    "\n",
    "        # fig.update_layout(title_text=f'{snpid} Cluster Plot')\n",
    "        # fig.update_layout(legend_title_text = 'Genotype')\n",
    "        # fig.update_xaxes(title_text=x_col)\n",
    "        # fig.update_yaxes(title_text=y_col, tickangle=-90)\n",
    "\n",
    "        # fig.add_trace(go.Histogram2dContour(\n",
    "        # x = x,\n",
    "        # y = y,\n",
    "        # showlegend=False\n",
    "        # ))\n",
    "\n",
    "        \n",
    "        # for n_std in range(1, n_std):\n",
    "        #     fig.add_shape(type='path',\n",
    "        #     path=confidence_ellipse(x, y, n_std=1.96*n_std, size=100), \n",
    "        #     line_color=color,\n",
    "        #     fillcolor=color,\n",
    "        #     opacity=0.2)\n",
    "    \n",
    "    return fig"
   ]
  },
  {
   "cell_type": "code",
   "execution_count": 86,
   "metadata": {},
   "outputs": [
    {
     "data": {
      "application/vnd.plotly.v1+json": {
       "config": {
        "plotlyServerURL": "https://plot.ly"
       },
       "data": [
        {
         "hovertemplate": "Genotype=BB<br>Theta=%{x}<br>R=%{y}<extra></extra>",
         "marker": {
          "color": "#2CA02C"
         },
         "mode": "markers",
         "name": "BB",
         "type": "scatter",
         "x": [
          0.9783415,
          0.9504623,
          0.9741675,
          0.9593747,
          0.9544989,
          0.9494527,
          0.9554906,
          0.9632757,
          0.961739,
          0.97149,
          0.9681001,
          0.9717402,
          0.9579055,
          0.9733081,
          0.9618404,
          0.9758378,
          0.9630002,
          0.9573405,
          0.9550448,
          0.9673235,
          0.936164,
          0.9478692,
          0.9509611,
          0.9573662,
          0.9576157,
          0.9629935,
          0.9517125,
          0.9531431,
          0.947571,
          0.9553232,
          0.9494918,
          0.9538915,
          0.958737,
          0.9647852,
          0.9591101,
          0.9642828,
          0.958279,
          0.9521781,
          0.9593722,
          0.9658979,
          0.9572034,
          0.9519868,
          0.9630252,
          0.9533402,
          0.9655342,
          0.9574209,
          0.9643096,
          0.9534758,
          0.9594354,
          0.9531994,
          0.9329,
          0.9591395,
          0.9555489,
          0.9434448,
          0.9563623,
          0.9604501,
          0.9473326,
          0.9729456,
          0.9757709,
          0.9630159,
          0.9571338,
          0.9560378,
          0.934392,
          0.9602152,
          0.9701965,
          0.9553831,
          0.9556195,
          0.9671876,
          0.9583478,
          0.9522132,
          0.9644687,
          0.9426908
         ],
         "y": [
          1.124041,
          1.28643,
          1.143932,
          1.239037,
          1.171495,
          1.132143,
          1.104728,
          1.117225,
          1.161996,
          1.143396,
          1.193882,
          1.145939,
          1.214612,
          1.195241,
          1.174356,
          1.191462,
          1.180584,
          1.214954,
          1.168255,
          1.186066,
          1.20844,
          1.230156,
          1.087062,
          1.123863,
          1.155385,
          1.192624,
          1.082331,
          1.156006,
          1.124266,
          1.167745,
          1.162335,
          1.146031,
          1.197268,
          1.150787,
          1.106112,
          1.143792,
          1.178022,
          1.233601,
          1.1828,
          1.171732,
          1.179432,
          1.153898,
          1.110721,
          1.136749,
          1.172696,
          1.100838,
          1.145391,
          1.197685,
          1.151607,
          1.223667,
          1.110455,
          1.133145,
          1.23889,
          1.120863,
          1.157234,
          1.186532,
          1.256602,
          1.1367,
          1.182563,
          1.220313,
          1.195901,
          1.197863,
          1.166847,
          1.168691,
          1.144719,
          1.131924,
          1.163753,
          1.177838,
          1.160252,
          1.151133,
          1.133834,
          0.8265839
         ]
        },
        {
         "hovertemplate": "Genotype=AA<br>Theta=%{x}<br>R=%{y}<extra></extra>",
         "marker": {
          "color": "#1F77B4"
         },
         "mode": "markers",
         "name": "AA",
         "type": "scatter",
         "x": [
          0.03372161,
          0.01768242,
          0.01934427,
          0.02041522,
          0.00777587,
          0.01317158,
          0.02604505,
          0.02846322,
          0.05940904,
          0.07457311,
          0.1443147,
          0.01120784,
          0.01508966,
          0.02031893,
          0.01372548
         ],
         "y": [
          1.453825,
          1.507179,
          1.54051,
          1.554099,
          1.536457,
          1.468724,
          1.524307,
          1.475467,
          1.515514,
          1.362646,
          1.396757,
          1.523173,
          1.59149,
          1.614841,
          1.494911
         ]
        },
        {
         "hovertemplate": "Genotype=AB<br>Theta=%{x}<br>R=%{y}<extra></extra>",
         "marker": {
          "color": "#FF7F0E"
         },
         "mode": "markers",
         "name": "AB",
         "type": "scatter",
         "x": [
          0.3452697,
          0.3765664,
          0.385852,
          0.3814036,
          0.4036807,
          0.4202441,
          0.2626661,
          0.2459879,
          0.4191646
         ],
         "y": [
          1.315046,
          1.362909,
          1.437546,
          1.358505,
          1.39309,
          1.32721,
          1.400039,
          1.293814,
          1.33464
         ]
        }
       ],
       "layout": {
        "template": {
         "data": {
          "bar": [
           {
            "error_x": {
             "color": "#2a3f5f"
            },
            "error_y": {
             "color": "#2a3f5f"
            },
            "marker": {
             "line": {
              "color": "#E5ECF6",
              "width": 0.5
             },
             "pattern": {
              "fillmode": "overlay",
              "size": 10,
              "solidity": 0.2
             }
            },
            "type": "bar"
           }
          ],
          "barpolar": [
           {
            "marker": {
             "line": {
              "color": "#E5ECF6",
              "width": 0.5
             },
             "pattern": {
              "fillmode": "overlay",
              "size": 10,
              "solidity": 0.2
             }
            },
            "type": "barpolar"
           }
          ],
          "carpet": [
           {
            "aaxis": {
             "endlinecolor": "#2a3f5f",
             "gridcolor": "white",
             "linecolor": "white",
             "minorgridcolor": "white",
             "startlinecolor": "#2a3f5f"
            },
            "baxis": {
             "endlinecolor": "#2a3f5f",
             "gridcolor": "white",
             "linecolor": "white",
             "minorgridcolor": "white",
             "startlinecolor": "#2a3f5f"
            },
            "type": "carpet"
           }
          ],
          "choropleth": [
           {
            "colorbar": {
             "outlinewidth": 0,
             "ticks": ""
            },
            "type": "choropleth"
           }
          ],
          "contour": [
           {
            "colorbar": {
             "outlinewidth": 0,
             "ticks": ""
            },
            "colorscale": [
             [
              0,
              "#0d0887"
             ],
             [
              0.1111111111111111,
              "#46039f"
             ],
             [
              0.2222222222222222,
              "#7201a8"
             ],
             [
              0.3333333333333333,
              "#9c179e"
             ],
             [
              0.4444444444444444,
              "#bd3786"
             ],
             [
              0.5555555555555556,
              "#d8576b"
             ],
             [
              0.6666666666666666,
              "#ed7953"
             ],
             [
              0.7777777777777778,
              "#fb9f3a"
             ],
             [
              0.8888888888888888,
              "#fdca26"
             ],
             [
              1,
              "#f0f921"
             ]
            ],
            "type": "contour"
           }
          ],
          "contourcarpet": [
           {
            "colorbar": {
             "outlinewidth": 0,
             "ticks": ""
            },
            "type": "contourcarpet"
           }
          ],
          "heatmap": [
           {
            "colorbar": {
             "outlinewidth": 0,
             "ticks": ""
            },
            "colorscale": [
             [
              0,
              "#0d0887"
             ],
             [
              0.1111111111111111,
              "#46039f"
             ],
             [
              0.2222222222222222,
              "#7201a8"
             ],
             [
              0.3333333333333333,
              "#9c179e"
             ],
             [
              0.4444444444444444,
              "#bd3786"
             ],
             [
              0.5555555555555556,
              "#d8576b"
             ],
             [
              0.6666666666666666,
              "#ed7953"
             ],
             [
              0.7777777777777778,
              "#fb9f3a"
             ],
             [
              0.8888888888888888,
              "#fdca26"
             ],
             [
              1,
              "#f0f921"
             ]
            ],
            "type": "heatmap"
           }
          ],
          "heatmapgl": [
           {
            "colorbar": {
             "outlinewidth": 0,
             "ticks": ""
            },
            "colorscale": [
             [
              0,
              "#0d0887"
             ],
             [
              0.1111111111111111,
              "#46039f"
             ],
             [
              0.2222222222222222,
              "#7201a8"
             ],
             [
              0.3333333333333333,
              "#9c179e"
             ],
             [
              0.4444444444444444,
              "#bd3786"
             ],
             [
              0.5555555555555556,
              "#d8576b"
             ],
             [
              0.6666666666666666,
              "#ed7953"
             ],
             [
              0.7777777777777778,
              "#fb9f3a"
             ],
             [
              0.8888888888888888,
              "#fdca26"
             ],
             [
              1,
              "#f0f921"
             ]
            ],
            "type": "heatmapgl"
           }
          ],
          "histogram": [
           {
            "marker": {
             "pattern": {
              "fillmode": "overlay",
              "size": 10,
              "solidity": 0.2
             }
            },
            "type": "histogram"
           }
          ],
          "histogram2d": [
           {
            "colorbar": {
             "outlinewidth": 0,
             "ticks": ""
            },
            "colorscale": [
             [
              0,
              "#0d0887"
             ],
             [
              0.1111111111111111,
              "#46039f"
             ],
             [
              0.2222222222222222,
              "#7201a8"
             ],
             [
              0.3333333333333333,
              "#9c179e"
             ],
             [
              0.4444444444444444,
              "#bd3786"
             ],
             [
              0.5555555555555556,
              "#d8576b"
             ],
             [
              0.6666666666666666,
              "#ed7953"
             ],
             [
              0.7777777777777778,
              "#fb9f3a"
             ],
             [
              0.8888888888888888,
              "#fdca26"
             ],
             [
              1,
              "#f0f921"
             ]
            ],
            "type": "histogram2d"
           }
          ],
          "histogram2dcontour": [
           {
            "colorbar": {
             "outlinewidth": 0,
             "ticks": ""
            },
            "colorscale": [
             [
              0,
              "#0d0887"
             ],
             [
              0.1111111111111111,
              "#46039f"
             ],
             [
              0.2222222222222222,
              "#7201a8"
             ],
             [
              0.3333333333333333,
              "#9c179e"
             ],
             [
              0.4444444444444444,
              "#bd3786"
             ],
             [
              0.5555555555555556,
              "#d8576b"
             ],
             [
              0.6666666666666666,
              "#ed7953"
             ],
             [
              0.7777777777777778,
              "#fb9f3a"
             ],
             [
              0.8888888888888888,
              "#fdca26"
             ],
             [
              1,
              "#f0f921"
             ]
            ],
            "type": "histogram2dcontour"
           }
          ],
          "mesh3d": [
           {
            "colorbar": {
             "outlinewidth": 0,
             "ticks": ""
            },
            "type": "mesh3d"
           }
          ],
          "parcoords": [
           {
            "line": {
             "colorbar": {
              "outlinewidth": 0,
              "ticks": ""
             }
            },
            "type": "parcoords"
           }
          ],
          "pie": [
           {
            "automargin": true,
            "type": "pie"
           }
          ],
          "scatter": [
           {
            "marker": {
             "colorbar": {
              "outlinewidth": 0,
              "ticks": ""
             }
            },
            "type": "scatter"
           }
          ],
          "scatter3d": [
           {
            "line": {
             "colorbar": {
              "outlinewidth": 0,
              "ticks": ""
             }
            },
            "marker": {
             "colorbar": {
              "outlinewidth": 0,
              "ticks": ""
             }
            },
            "type": "scatter3d"
           }
          ],
          "scattercarpet": [
           {
            "marker": {
             "colorbar": {
              "outlinewidth": 0,
              "ticks": ""
             }
            },
            "type": "scattercarpet"
           }
          ],
          "scattergeo": [
           {
            "marker": {
             "colorbar": {
              "outlinewidth": 0,
              "ticks": ""
             }
            },
            "type": "scattergeo"
           }
          ],
          "scattergl": [
           {
            "marker": {
             "colorbar": {
              "outlinewidth": 0,
              "ticks": ""
             }
            },
            "type": "scattergl"
           }
          ],
          "scattermapbox": [
           {
            "marker": {
             "colorbar": {
              "outlinewidth": 0,
              "ticks": ""
             }
            },
            "type": "scattermapbox"
           }
          ],
          "scatterpolar": [
           {
            "marker": {
             "colorbar": {
              "outlinewidth": 0,
              "ticks": ""
             }
            },
            "type": "scatterpolar"
           }
          ],
          "scatterpolargl": [
           {
            "marker": {
             "colorbar": {
              "outlinewidth": 0,
              "ticks": ""
             }
            },
            "type": "scatterpolargl"
           }
          ],
          "scatterternary": [
           {
            "marker": {
             "colorbar": {
              "outlinewidth": 0,
              "ticks": ""
             }
            },
            "type": "scatterternary"
           }
          ],
          "surface": [
           {
            "colorbar": {
             "outlinewidth": 0,
             "ticks": ""
            },
            "colorscale": [
             [
              0,
              "#0d0887"
             ],
             [
              0.1111111111111111,
              "#46039f"
             ],
             [
              0.2222222222222222,
              "#7201a8"
             ],
             [
              0.3333333333333333,
              "#9c179e"
             ],
             [
              0.4444444444444444,
              "#bd3786"
             ],
             [
              0.5555555555555556,
              "#d8576b"
             ],
             [
              0.6666666666666666,
              "#ed7953"
             ],
             [
              0.7777777777777778,
              "#fb9f3a"
             ],
             [
              0.8888888888888888,
              "#fdca26"
             ],
             [
              1,
              "#f0f921"
             ]
            ],
            "type": "surface"
           }
          ],
          "table": [
           {
            "cells": {
             "fill": {
              "color": "#EBF0F8"
             },
             "line": {
              "color": "white"
             }
            },
            "header": {
             "fill": {
              "color": "#C8D4E3"
             },
             "line": {
              "color": "white"
             }
            },
            "type": "table"
           }
          ]
         },
         "layout": {
          "annotationdefaults": {
           "arrowcolor": "#2a3f5f",
           "arrowhead": 0,
           "arrowwidth": 1
          },
          "autotypenumbers": "strict",
          "coloraxis": {
           "colorbar": {
            "outlinewidth": 0,
            "ticks": ""
           }
          },
          "colorscale": {
           "diverging": [
            [
             0,
             "#8e0152"
            ],
            [
             0.1,
             "#c51b7d"
            ],
            [
             0.2,
             "#de77ae"
            ],
            [
             0.3,
             "#f1b6da"
            ],
            [
             0.4,
             "#fde0ef"
            ],
            [
             0.5,
             "#f7f7f7"
            ],
            [
             0.6,
             "#e6f5d0"
            ],
            [
             0.7,
             "#b8e186"
            ],
            [
             0.8,
             "#7fbc41"
            ],
            [
             0.9,
             "#4d9221"
            ],
            [
             1,
             "#276419"
            ]
           ],
           "sequential": [
            [
             0,
             "#0d0887"
            ],
            [
             0.1111111111111111,
             "#46039f"
            ],
            [
             0.2222222222222222,
             "#7201a8"
            ],
            [
             0.3333333333333333,
             "#9c179e"
            ],
            [
             0.4444444444444444,
             "#bd3786"
            ],
            [
             0.5555555555555556,
             "#d8576b"
            ],
            [
             0.6666666666666666,
             "#ed7953"
            ],
            [
             0.7777777777777778,
             "#fb9f3a"
            ],
            [
             0.8888888888888888,
             "#fdca26"
            ],
            [
             1,
             "#f0f921"
            ]
           ],
           "sequentialminus": [
            [
             0,
             "#0d0887"
            ],
            [
             0.1111111111111111,
             "#46039f"
            ],
            [
             0.2222222222222222,
             "#7201a8"
            ],
            [
             0.3333333333333333,
             "#9c179e"
            ],
            [
             0.4444444444444444,
             "#bd3786"
            ],
            [
             0.5555555555555556,
             "#d8576b"
            ],
            [
             0.6666666666666666,
             "#ed7953"
            ],
            [
             0.7777777777777778,
             "#fb9f3a"
            ],
            [
             0.8888888888888888,
             "#fdca26"
            ],
            [
             1,
             "#f0f921"
            ]
           ]
          },
          "colorway": [
           "#636efa",
           "#EF553B",
           "#00cc96",
           "#ab63fa",
           "#FFA15A",
           "#19d3f3",
           "#FF6692",
           "#B6E880",
           "#FF97FF",
           "#FECB52"
          ],
          "font": {
           "color": "#2a3f5f"
          },
          "geo": {
           "bgcolor": "white",
           "lakecolor": "white",
           "landcolor": "#E5ECF6",
           "showlakes": true,
           "showland": true,
           "subunitcolor": "white"
          },
          "hoverlabel": {
           "align": "left"
          },
          "hovermode": "closest",
          "mapbox": {
           "style": "light"
          },
          "paper_bgcolor": "white",
          "plot_bgcolor": "#E5ECF6",
          "polar": {
           "angularaxis": {
            "gridcolor": "white",
            "linecolor": "white",
            "ticks": ""
           },
           "bgcolor": "#E5ECF6",
           "radialaxis": {
            "gridcolor": "white",
            "linecolor": "white",
            "ticks": ""
           }
          },
          "scene": {
           "xaxis": {
            "backgroundcolor": "#E5ECF6",
            "gridcolor": "white",
            "gridwidth": 2,
            "linecolor": "white",
            "showbackground": true,
            "ticks": "",
            "zerolinecolor": "white"
           },
           "yaxis": {
            "backgroundcolor": "#E5ECF6",
            "gridcolor": "white",
            "gridwidth": 2,
            "linecolor": "white",
            "showbackground": true,
            "ticks": "",
            "zerolinecolor": "white"
           },
           "zaxis": {
            "backgroundcolor": "#E5ECF6",
            "gridcolor": "white",
            "gridwidth": 2,
            "linecolor": "white",
            "showbackground": true,
            "ticks": "",
            "zerolinecolor": "white"
           }
          },
          "shapedefaults": {
           "line": {
            "color": "#2a3f5f"
           }
          },
          "ternary": {
           "aaxis": {
            "gridcolor": "white",
            "linecolor": "white",
            "ticks": ""
           },
           "baxis": {
            "gridcolor": "white",
            "linecolor": "white",
            "ticks": ""
           },
           "bgcolor": "#E5ECF6",
           "caxis": {
            "gridcolor": "white",
            "linecolor": "white",
            "ticks": ""
           }
          },
          "title": {
           "x": 0.05
          },
          "xaxis": {
           "automargin": true,
           "gridcolor": "white",
           "linecolor": "white",
           "ticks": "",
           "title": {
            "standoff": 15
           },
           "zerolinecolor": "white",
           "zerolinewidth": 2
          },
          "yaxis": {
           "automargin": true,
           "gridcolor": "white",
           "linecolor": "white",
           "ticks": "",
           "title": {
            "standoff": 15
           },
           "zerolinecolor": "white",
           "zerolinewidth": 2
          }
         }
        }
       }
      },
      "text/html": [
       "<div>                            <div id=\"33002185-7b46-4457-a14c-1f17aff32695\" class=\"plotly-graph-div\" style=\"height:525px; width:100%;\"></div>            <script type=\"text/javascript\">                require([\"plotly\"], function(Plotly) {                    window.PLOTLYENV=window.PLOTLYENV || {};                                    if (document.getElementById(\"33002185-7b46-4457-a14c-1f17aff32695\")) {                    Plotly.newPlot(                        \"33002185-7b46-4457-a14c-1f17aff32695\",                        [{\"hovertemplate\":\"Genotype=BB<br>Theta=%{x}<br>R=%{y}<extra></extra>\",\"marker\":{\"color\":\"#2CA02C\"},\"mode\":\"markers\",\"name\":\"BB\",\"type\":\"scatter\",\"x\":[0.9783415,0.9504623,0.9741675,0.9593747,0.9544989,0.9494527,0.9554906,0.9632757,0.961739,0.97149,0.9681001,0.9717402,0.9579055,0.9733081,0.9618404,0.9758378,0.9630002,0.9573405,0.9550448,0.9673235,0.936164,0.9478692,0.9509611,0.9573662,0.9576157,0.9629935,0.9517125,0.9531431,0.947571,0.9553232,0.9494918,0.9538915,0.958737,0.9647852,0.9591101,0.9642828,0.958279,0.9521781,0.9593722,0.9658979,0.9572034,0.9519868,0.9630252,0.9533402,0.9655342,0.9574209,0.9643096,0.9534758,0.9594354,0.9531994,0.9329,0.9591395,0.9555489,0.9434448,0.9563623,0.9604501,0.9473326,0.9729456,0.9757709,0.9630159,0.9571338,0.9560378,0.934392,0.9602152,0.9701965,0.9553831,0.9556195,0.9671876,0.9583478,0.9522132,0.9644687,0.9426908],\"y\":[1.124041,1.28643,1.143932,1.239037,1.171495,1.132143,1.104728,1.117225,1.161996,1.143396,1.193882,1.145939,1.214612,1.195241,1.174356,1.191462,1.180584,1.214954,1.168255,1.186066,1.20844,1.230156,1.087062,1.123863,1.155385,1.192624,1.082331,1.156006,1.124266,1.167745,1.162335,1.146031,1.197268,1.150787,1.106112,1.143792,1.178022,1.233601,1.1828,1.171732,1.179432,1.153898,1.110721,1.136749,1.172696,1.100838,1.145391,1.197685,1.151607,1.223667,1.110455,1.133145,1.23889,1.120863,1.157234,1.186532,1.256602,1.1367,1.182563,1.220313,1.195901,1.197863,1.166847,1.168691,1.144719,1.131924,1.163753,1.177838,1.160252,1.151133,1.133834,0.8265839]},{\"hovertemplate\":\"Genotype=AA<br>Theta=%{x}<br>R=%{y}<extra></extra>\",\"marker\":{\"color\":\"#1F77B4\"},\"mode\":\"markers\",\"name\":\"AA\",\"type\":\"scatter\",\"x\":[0.03372161,0.01768242,0.01934427,0.02041522,0.00777587,0.01317158,0.02604505,0.02846322,0.05940904,0.07457311,0.1443147,0.01120784,0.01508966,0.02031893,0.01372548],\"y\":[1.453825,1.507179,1.54051,1.554099,1.536457,1.468724,1.524307,1.475467,1.515514,1.362646,1.396757,1.523173,1.59149,1.614841,1.494911]},{\"hovertemplate\":\"Genotype=AB<br>Theta=%{x}<br>R=%{y}<extra></extra>\",\"marker\":{\"color\":\"#FF7F0E\"},\"mode\":\"markers\",\"name\":\"AB\",\"type\":\"scatter\",\"x\":[0.3452697,0.3765664,0.385852,0.3814036,0.4036807,0.4202441,0.2626661,0.2459879,0.4191646],\"y\":[1.315046,1.362909,1.437546,1.358505,1.39309,1.32721,1.400039,1.293814,1.33464]}],                        {\"template\":{\"data\":{\"bar\":[{\"error_x\":{\"color\":\"#2a3f5f\"},\"error_y\":{\"color\":\"#2a3f5f\"},\"marker\":{\"line\":{\"color\":\"#E5ECF6\",\"width\":0.5},\"pattern\":{\"fillmode\":\"overlay\",\"size\":10,\"solidity\":0.2}},\"type\":\"bar\"}],\"barpolar\":[{\"marker\":{\"line\":{\"color\":\"#E5ECF6\",\"width\":0.5},\"pattern\":{\"fillmode\":\"overlay\",\"size\":10,\"solidity\":0.2}},\"type\":\"barpolar\"}],\"carpet\":[{\"aaxis\":{\"endlinecolor\":\"#2a3f5f\",\"gridcolor\":\"white\",\"linecolor\":\"white\",\"minorgridcolor\":\"white\",\"startlinecolor\":\"#2a3f5f\"},\"baxis\":{\"endlinecolor\":\"#2a3f5f\",\"gridcolor\":\"white\",\"linecolor\":\"white\",\"minorgridcolor\":\"white\",\"startlinecolor\":\"#2a3f5f\"},\"type\":\"carpet\"}],\"choropleth\":[{\"colorbar\":{\"outlinewidth\":0,\"ticks\":\"\"},\"type\":\"choropleth\"}],\"contour\":[{\"colorbar\":{\"outlinewidth\":0,\"ticks\":\"\"},\"colorscale\":[[0.0,\"#0d0887\"],[0.1111111111111111,\"#46039f\"],[0.2222222222222222,\"#7201a8\"],[0.3333333333333333,\"#9c179e\"],[0.4444444444444444,\"#bd3786\"],[0.5555555555555556,\"#d8576b\"],[0.6666666666666666,\"#ed7953\"],[0.7777777777777778,\"#fb9f3a\"],[0.8888888888888888,\"#fdca26\"],[1.0,\"#f0f921\"]],\"type\":\"contour\"}],\"contourcarpet\":[{\"colorbar\":{\"outlinewidth\":0,\"ticks\":\"\"},\"type\":\"contourcarpet\"}],\"heatmap\":[{\"colorbar\":{\"outlinewidth\":0,\"ticks\":\"\"},\"colorscale\":[[0.0,\"#0d0887\"],[0.1111111111111111,\"#46039f\"],[0.2222222222222222,\"#7201a8\"],[0.3333333333333333,\"#9c179e\"],[0.4444444444444444,\"#bd3786\"],[0.5555555555555556,\"#d8576b\"],[0.6666666666666666,\"#ed7953\"],[0.7777777777777778,\"#fb9f3a\"],[0.8888888888888888,\"#fdca26\"],[1.0,\"#f0f921\"]],\"type\":\"heatmap\"}],\"heatmapgl\":[{\"colorbar\":{\"outlinewidth\":0,\"ticks\":\"\"},\"colorscale\":[[0.0,\"#0d0887\"],[0.1111111111111111,\"#46039f\"],[0.2222222222222222,\"#7201a8\"],[0.3333333333333333,\"#9c179e\"],[0.4444444444444444,\"#bd3786\"],[0.5555555555555556,\"#d8576b\"],[0.6666666666666666,\"#ed7953\"],[0.7777777777777778,\"#fb9f3a\"],[0.8888888888888888,\"#fdca26\"],[1.0,\"#f0f921\"]],\"type\":\"heatmapgl\"}],\"histogram\":[{\"marker\":{\"pattern\":{\"fillmode\":\"overlay\",\"size\":10,\"solidity\":0.2}},\"type\":\"histogram\"}],\"histogram2d\":[{\"colorbar\":{\"outlinewidth\":0,\"ticks\":\"\"},\"colorscale\":[[0.0,\"#0d0887\"],[0.1111111111111111,\"#46039f\"],[0.2222222222222222,\"#7201a8\"],[0.3333333333333333,\"#9c179e\"],[0.4444444444444444,\"#bd3786\"],[0.5555555555555556,\"#d8576b\"],[0.6666666666666666,\"#ed7953\"],[0.7777777777777778,\"#fb9f3a\"],[0.8888888888888888,\"#fdca26\"],[1.0,\"#f0f921\"]],\"type\":\"histogram2d\"}],\"histogram2dcontour\":[{\"colorbar\":{\"outlinewidth\":0,\"ticks\":\"\"},\"colorscale\":[[0.0,\"#0d0887\"],[0.1111111111111111,\"#46039f\"],[0.2222222222222222,\"#7201a8\"],[0.3333333333333333,\"#9c179e\"],[0.4444444444444444,\"#bd3786\"],[0.5555555555555556,\"#d8576b\"],[0.6666666666666666,\"#ed7953\"],[0.7777777777777778,\"#fb9f3a\"],[0.8888888888888888,\"#fdca26\"],[1.0,\"#f0f921\"]],\"type\":\"histogram2dcontour\"}],\"mesh3d\":[{\"colorbar\":{\"outlinewidth\":0,\"ticks\":\"\"},\"type\":\"mesh3d\"}],\"parcoords\":[{\"line\":{\"colorbar\":{\"outlinewidth\":0,\"ticks\":\"\"}},\"type\":\"parcoords\"}],\"pie\":[{\"automargin\":true,\"type\":\"pie\"}],\"scatter\":[{\"marker\":{\"colorbar\":{\"outlinewidth\":0,\"ticks\":\"\"}},\"type\":\"scatter\"}],\"scatter3d\":[{\"line\":{\"colorbar\":{\"outlinewidth\":0,\"ticks\":\"\"}},\"marker\":{\"colorbar\":{\"outlinewidth\":0,\"ticks\":\"\"}},\"type\":\"scatter3d\"}],\"scattercarpet\":[{\"marker\":{\"colorbar\":{\"outlinewidth\":0,\"ticks\":\"\"}},\"type\":\"scattercarpet\"}],\"scattergeo\":[{\"marker\":{\"colorbar\":{\"outlinewidth\":0,\"ticks\":\"\"}},\"type\":\"scattergeo\"}],\"scattergl\":[{\"marker\":{\"colorbar\":{\"outlinewidth\":0,\"ticks\":\"\"}},\"type\":\"scattergl\"}],\"scattermapbox\":[{\"marker\":{\"colorbar\":{\"outlinewidth\":0,\"ticks\":\"\"}},\"type\":\"scattermapbox\"}],\"scatterpolar\":[{\"marker\":{\"colorbar\":{\"outlinewidth\":0,\"ticks\":\"\"}},\"type\":\"scatterpolar\"}],\"scatterpolargl\":[{\"marker\":{\"colorbar\":{\"outlinewidth\":0,\"ticks\":\"\"}},\"type\":\"scatterpolargl\"}],\"scatterternary\":[{\"marker\":{\"colorbar\":{\"outlinewidth\":0,\"ticks\":\"\"}},\"type\":\"scatterternary\"}],\"surface\":[{\"colorbar\":{\"outlinewidth\":0,\"ticks\":\"\"},\"colorscale\":[[0.0,\"#0d0887\"],[0.1111111111111111,\"#46039f\"],[0.2222222222222222,\"#7201a8\"],[0.3333333333333333,\"#9c179e\"],[0.4444444444444444,\"#bd3786\"],[0.5555555555555556,\"#d8576b\"],[0.6666666666666666,\"#ed7953\"],[0.7777777777777778,\"#fb9f3a\"],[0.8888888888888888,\"#fdca26\"],[1.0,\"#f0f921\"]],\"type\":\"surface\"}],\"table\":[{\"cells\":{\"fill\":{\"color\":\"#EBF0F8\"},\"line\":{\"color\":\"white\"}},\"header\":{\"fill\":{\"color\":\"#C8D4E3\"},\"line\":{\"color\":\"white\"}},\"type\":\"table\"}]},\"layout\":{\"annotationdefaults\":{\"arrowcolor\":\"#2a3f5f\",\"arrowhead\":0,\"arrowwidth\":1},\"autotypenumbers\":\"strict\",\"coloraxis\":{\"colorbar\":{\"outlinewidth\":0,\"ticks\":\"\"}},\"colorscale\":{\"diverging\":[[0,\"#8e0152\"],[0.1,\"#c51b7d\"],[0.2,\"#de77ae\"],[0.3,\"#f1b6da\"],[0.4,\"#fde0ef\"],[0.5,\"#f7f7f7\"],[0.6,\"#e6f5d0\"],[0.7,\"#b8e186\"],[0.8,\"#7fbc41\"],[0.9,\"#4d9221\"],[1,\"#276419\"]],\"sequential\":[[0.0,\"#0d0887\"],[0.1111111111111111,\"#46039f\"],[0.2222222222222222,\"#7201a8\"],[0.3333333333333333,\"#9c179e\"],[0.4444444444444444,\"#bd3786\"],[0.5555555555555556,\"#d8576b\"],[0.6666666666666666,\"#ed7953\"],[0.7777777777777778,\"#fb9f3a\"],[0.8888888888888888,\"#fdca26\"],[1.0,\"#f0f921\"]],\"sequentialminus\":[[0.0,\"#0d0887\"],[0.1111111111111111,\"#46039f\"],[0.2222222222222222,\"#7201a8\"],[0.3333333333333333,\"#9c179e\"],[0.4444444444444444,\"#bd3786\"],[0.5555555555555556,\"#d8576b\"],[0.6666666666666666,\"#ed7953\"],[0.7777777777777778,\"#fb9f3a\"],[0.8888888888888888,\"#fdca26\"],[1.0,\"#f0f921\"]]},\"colorway\":[\"#636efa\",\"#EF553B\",\"#00cc96\",\"#ab63fa\",\"#FFA15A\",\"#19d3f3\",\"#FF6692\",\"#B6E880\",\"#FF97FF\",\"#FECB52\"],\"font\":{\"color\":\"#2a3f5f\"},\"geo\":{\"bgcolor\":\"white\",\"lakecolor\":\"white\",\"landcolor\":\"#E5ECF6\",\"showlakes\":true,\"showland\":true,\"subunitcolor\":\"white\"},\"hoverlabel\":{\"align\":\"left\"},\"hovermode\":\"closest\",\"mapbox\":{\"style\":\"light\"},\"paper_bgcolor\":\"white\",\"plot_bgcolor\":\"#E5ECF6\",\"polar\":{\"angularaxis\":{\"gridcolor\":\"white\",\"linecolor\":\"white\",\"ticks\":\"\"},\"bgcolor\":\"#E5ECF6\",\"radialaxis\":{\"gridcolor\":\"white\",\"linecolor\":\"white\",\"ticks\":\"\"}},\"scene\":{\"xaxis\":{\"backgroundcolor\":\"#E5ECF6\",\"gridcolor\":\"white\",\"gridwidth\":2,\"linecolor\":\"white\",\"showbackground\":true,\"ticks\":\"\",\"zerolinecolor\":\"white\"},\"yaxis\":{\"backgroundcolor\":\"#E5ECF6\",\"gridcolor\":\"white\",\"gridwidth\":2,\"linecolor\":\"white\",\"showbackground\":true,\"ticks\":\"\",\"zerolinecolor\":\"white\"},\"zaxis\":{\"backgroundcolor\":\"#E5ECF6\",\"gridcolor\":\"white\",\"gridwidth\":2,\"linecolor\":\"white\",\"showbackground\":true,\"ticks\":\"\",\"zerolinecolor\":\"white\"}},\"shapedefaults\":{\"line\":{\"color\":\"#2a3f5f\"}},\"ternary\":{\"aaxis\":{\"gridcolor\":\"white\",\"linecolor\":\"white\",\"ticks\":\"\"},\"baxis\":{\"gridcolor\":\"white\",\"linecolor\":\"white\",\"ticks\":\"\"},\"bgcolor\":\"#E5ECF6\",\"caxis\":{\"gridcolor\":\"white\",\"linecolor\":\"white\",\"ticks\":\"\"}},\"title\":{\"x\":0.05},\"xaxis\":{\"automargin\":true,\"gridcolor\":\"white\",\"linecolor\":\"white\",\"ticks\":\"\",\"title\":{\"standoff\":15},\"zerolinecolor\":\"white\",\"zerolinewidth\":2},\"yaxis\":{\"automargin\":true,\"gridcolor\":\"white\",\"linecolor\":\"white\",\"ticks\":\"\",\"title\":{\"standoff\":15},\"zerolinecolor\":\"white\",\"zerolinewidth\":2}}}},                        {\"responsive\": true}                    ).then(function(){\n",
       "                            \n",
       "var gd = document.getElementById('33002185-7b46-4457-a14c-1f17aff32695');\n",
       "var x = new MutationObserver(function (mutations, observer) {{\n",
       "        var display = window.getComputedStyle(gd).display;\n",
       "        if (!display || display === 'none') {{\n",
       "            console.log([gd, 'removed!']);\n",
       "            Plotly.purge(gd);\n",
       "            observer.disconnect();\n",
       "        }}\n",
       "}});\n",
       "\n",
       "// Listen for the removal of the full notebook cells\n",
       "var notebookContainer = gd.closest('#notebook-container');\n",
       "if (notebookContainer) {{\n",
       "    x.observe(notebookContainer, {childList: true});\n",
       "}}\n",
       "\n",
       "// Listen for the clearing of the current output cell\n",
       "var outputEl = gd.closest('.output');\n",
       "if (outputEl) {{\n",
       "    x.observe(outputEl, {childList: true});\n",
       "}}\n",
       "\n",
       "                        })                };                });            </script>        </div>"
      ]
     },
     "metadata": {},
     "output_type": "display_data"
    }
   ],
   "source": [
    "plot_gmm(df=gmm_plot_df, x_col='Theta', y_col='R', gtype_col='gtype_out', gmm=gmm, snpid=selected_snp, n_std=5)"
   ]
  },
  {
   "cell_type": "code",
   "execution_count": 48,
   "metadata": {},
   "outputs": [
    {
     "data": {
      "application/vnd.plotly.v1+json": {
       "config": {
        "plotlyServerURL": "https://plot.ly"
       },
       "data": [
        {
         "autobinx": false,
         "histnorm": "probability density",
         "legendgroup": "Group 1",
         "marker": {
          "color": "rgb(31, 119, 180)"
         },
         "name": "Group 1",
         "opacity": 0.7,
         "type": "histogram",
         "x": [
          -3.7005393046151185,
          -2.884257845519595,
          -0.9599695479121082,
          -1.3808591588412387,
          -0.3446903931523577,
          -0.31451765157734024,
          -2.1507974869163036,
          -1.2330733255447006,
          -2.5088988716967817,
          -2.0563408724943866,
          -1.7375413191773528,
          -1.6896333885527923,
          -1.3144293687058446,
          -2.8395188215769016,
          -2.523689225105827,
          -2.8742527958454884,
          -2.585239172768243,
          -1.4851110386981574,
          -2.4682244655503456,
          -0.7312065455346011,
          -1.1451315911157978,
          -3.886132384073062,
          -2.8138636885843122,
          -2.8554752369390495,
          -2.1997139223267044,
          -3.632691404667421,
          -2.6835914897014934,
          -1.567690625868994,
          -1.9251603163145636,
          -1.5711083519991582,
          -2.6083389952840736,
          -3.0854364206099163,
          -2.2990147814818744,
          -1.8413553131616847,
          -0.9592338826891325,
          -3.419988255625091,
          -1.259934496906165,
          -1.122575192074485,
          -2.1323971677822167,
          -2.281296601886792,
          -1.5996456536658463,
          -1.3744912127144837,
          -2.313780371495427,
          -1.5318594911726295,
          -2.41417188977731,
          -2.0134961972266114,
          -0.6472380913716445,
          -2.829045589154746,
          -2.3271594548042907,
          -3.4156459611059846,
          -1.7443957935579182,
          -0.6705614398019837,
          -1.6779211145788122,
          -0.4942952757042294,
          -2.3652964138179997,
          -0.9348324232515315,
          -0.757144847849514,
          -2.5768454060115067,
          -2.7789181365153945,
          -1.6340673994165225,
          -3.184538649306878,
          -0.9705710079154186,
          -2.6379948261211243,
          -2.2241717442719007,
          -2.804512894688768,
          -2.3151575647508107,
          -0.1466996177294917,
          -2.456109028256521,
          -3.4789656806061027,
          -1.3203196642798698,
          -3.2139633125600557,
          0.3448973769364754,
          -2.391170232093977,
          -2.2792997967306188,
          -1.4330433652315133,
          -1.7338829390768735,
          -0.5334312504691678,
          -3.5621680232013344,
          -2.6499149510171462,
          -2.149333136734406,
          -3.2321260197286197,
          -1.806834350709561,
          -0.309874340200438,
          -3.103231483196587,
          -2.841193117455279,
          -1.6571048961470143,
          -3.384668059770317,
          -2.1695770073182223,
          -2.7580402788688585,
          -1.008419381023919,
          -0.9065760213833967,
          -1.6467833191586028,
          -1.4560735030040535,
          -3.278272210054624,
          -1.1158556794618675,
          -2.91614399480646,
          -0.7282622895144162,
          -2.066352128329438,
          -1.526920983892519,
          -0.5725589563883458,
          -0.8989236041100055,
          -1.5646534118053035,
          -1.564806239542522,
          -1.567915754953551,
          -1.219231197160354,
          -2.343307346650017,
          -1.4448083036709627,
          -0.4539694674889163,
          -1.3740882743955964,
          -3.2800796591186394,
          -1.094090406985269,
          -2.0425547760396885,
          -1.5024552467432248,
          -1.7950022333581892,
          -1.2507504696921612,
          -1.1780170068604097,
          -2.7616465623468573,
          -0.9843688108445015,
          -1.830496297545209,
          -2.174373484843804,
          0.10244513915154574,
          -2.003609535301797,
          -1.4098879988822968,
          -2.0116891987627423,
          -0.9694452281258521,
          -1.1067419698642267,
          -1.7220024640294518,
          -1.8554066984581001,
          -1.8980861815404588,
          -0.7044216168448438,
          -2.7940218956615377,
          -1.609016649895495,
          -0.40623621728727977,
          -1.3558045716564955,
          0.7581833141858034,
          -3.335092174285548,
          -2.451259880656694,
          -1.1616403892396483,
          -1.3323918841572673,
          -2.1858812678926047,
          -1.3525099056030168,
          -1.6910136110167677,
          -2.3085384007188736,
          -1.7406139295760932,
          0.5705201523409631,
          -1.3640916714472993,
          -2.3252085372074944,
          -2.9219005055242366,
          -1.4109721738237861,
          -1.0579017136321813,
          -3.090214164900646,
          -1.5197541068797005,
          -0.5788549404270762,
          -2.2479074136412613,
          -3.3317900839565016,
          -1.9788697054423807,
          0.3643093013158172,
          -1.4769965692084148,
          -3.226597477017471,
          -2.561754620183745,
          -0.9036486570193887,
          -3.752069953748375,
          -2.437848968753104,
          -1.0401807972374928,
          -2.355503590525709,
          -1.9990963778783566,
          -2.7731068073945617,
          -1.82286746846102,
          -0.7176878014039039,
          0.336122098955387,
          -0.9101524454155459,
          -1.2212343124155152,
          -1.2675229611513381,
          -1.1493755432844996,
          -2.0842840094132127,
          -2.3043567885855696,
          -1.668939295557847,
          -3.1423106269377614,
          -1.936134210350582,
          -2.6762356046411133,
          -2.6236560944090526,
          -3.329229970169305,
          -2.3998912800443333,
          -3.8260624479726166,
          -3.180828926267923,
          -0.7958321966568711,
          -1.1254727899421613,
          -1.422941778671029,
          -0.5005896806675925,
          -3.876607867721321,
          -0.7255683478760588,
          -1.1100021547968082,
          -1.2789098120134823,
          -2.3278226134716586,
          0.3567468886574412,
          -3.3268875311412036,
          0.31366247118098833,
          -1.1521476435548594,
          -1.38935059056845,
          -1.2383577463482895
         ],
         "xaxis": "x",
         "xbins": {
          "end": 0.7581833141858034,
          "size": 0.1,
          "start": -3.886132384073062
         },
         "yaxis": "y"
        },
        {
         "autobinx": false,
         "histnorm": "probability density",
         "legendgroup": "Group 2",
         "marker": {
          "color": "rgb(255, 127, 14)"
         },
         "name": "Group 2",
         "opacity": 0.7,
         "type": "histogram",
         "x": [
          1.0855326875444873,
          -0.11120725304294847,
          1.2234269346276407,
          0.3890034183916825,
          1.1635614746786338,
          -0.7889687876517495,
          0.4356190731344477,
          0.3044729185748049,
          0.2730034883109125,
          1.422879045985715,
          0.7464426996131105,
          0.5194827697876634,
          -0.6354012530417713,
          0.023844035146629854,
          0.693117018473219,
          0.7772254336310346,
          -0.7628597578243967,
          -1.9469966635063511,
          0.11315814778673702,
          -1.1505035562498211,
          0.2505756059001677,
          1.4203672358030164,
          -0.2264469477371469,
          -1.7312419009435747,
          1.1286185733703618,
          1.3624898542236359,
          -0.7919013392547467,
          -2.121743003130195,
          0.8560851145829049,
          0.3380513555911928,
          -0.7676732802851804,
          0.6614710890433936,
          0.9100543140275427,
          -1.0243268631168734,
          1.0051156826522194,
          -3.7303665771621306,
          1.4493146342099597,
          -0.19816767857479814,
          -2.207535967956536,
          0.06514290498205598,
          1.1002417194763647,
          0.07808419207146317,
          0.21552140279481918,
          -0.20705788278896634,
          -0.39455041218736114,
          -0.4039978016875397,
          1.4454010904182308,
          0.8017529441843418,
          1.4436880369125697,
          -0.09065796881766712,
          -2.199049335558523,
          0.5386631867485068,
          0.3998433218726392,
          0.6518434034404246,
          -1.2994261105526554,
          0.3767507216857218,
          -0.1732911592903868,
          1.927685267012713,
          -0.9386553741843895,
          0.5849696805620179,
          -0.9242954385502689,
          -1.008812751749948,
          2.1792310616986943,
          -0.409329848797892,
          -0.43124390688957254,
          0.19949921722468905,
          1.119344139654987,
          0.4011865310196791,
          -2.706039210700946,
          -1.383577551298375,
          -0.09634225670538682,
          1.724365786276272,
          -1.411437064742321,
          0.3931026152968499,
          1.1121317455865694,
          -1.0790436593300838,
          -0.17328991082495304,
          -0.9702622703980469,
          0.9049077637595134,
          1.4638458951378848,
          -1.5283877055435549,
          0.7701230872719592,
          -1.1247728835628414,
          -0.37030979713210294,
          -1.472041477883499,
          0.27800779407577253,
          2.2112339246646306,
          0.8026984297182737,
          0.42795201802029137,
          0.7062694547468024,
          -0.4889877961343596,
          -0.5736006643789838,
          2.262928902700256,
          1.2226702663330604,
          -1.233651106574083,
          0.16362822710997937,
          0.5678558300843481,
          1.1847719143458315,
          0.04736124033045382,
          0.5313855273636022,
          0.3248827032185342,
          -0.174907972705985,
          0.5932738782670216,
          -1.235528373282235,
          -0.6099494888349074,
          -0.1556592065912914,
          -1.2449502490835163,
          -0.3597695716888569,
          -0.11001006348199592,
          -1.368381500726703,
          -0.09107253048140697,
          -1.356124506070312,
          -0.974755497953089,
          -0.11042313253041905,
          0.26995367345027854,
          -0.685273767740136,
          -0.6829607118285204,
          0.9712553563437166,
          1.134914739471294,
          -1.0273885599582862,
          -0.024551024839281784,
          -1.2866479321714623,
          -0.28494133587388426,
          -1.2685711289061548,
          -0.28745341714316575,
          1.1931565028643742,
          0.08200766499892145,
          -0.04544962545237027,
          0.9304798693579148,
          -0.12370730633003665,
          0.35463582006852284,
          0.5285624861988166,
          -0.24234238381283343,
          2.0934091405107895,
          -0.3547621191661709,
          -0.7407790092870133,
          0.047295241957222796,
          0.5655649311841293,
          -0.4594285208941864,
          -0.7102731788815356,
          -0.1338743333563953,
          -1.4764437490676177,
          1.1633676862343574,
          -0.18785593701534095,
          -0.41080702142996,
          -1.1837478882868944,
          0.46046348096384937,
          -0.3019734601391418,
          -0.45966174667833476,
          1.6600982548843803,
          0.11528385198959624,
          -2.153083437810777,
          0.8921922833992181,
          -0.6055759510776483,
          0.93307556020463,
          0.48701143251018897,
          0.8809207494418091,
          -0.06977376072204088,
          -1.3789711421769306,
          1.677128707176256,
          0.7726368676102237,
          1.4627341507961318,
          0.32163513957254036,
          -0.9115102789856349,
          -0.41842009528318863,
          0.018121025067881866,
          -0.4044624179276639,
          0.6155532442452586,
          -1.0971171971731422,
          0.6548537288362414,
          -0.9729340341912107,
          0.5983173796080998,
          -1.3879642047744507,
          -0.23712115602478215,
          0.3163045568470063,
          0.45971323501077543,
          -1.51102564886931,
          -1.08594507731873,
          0.7824867161864087,
          1.3607461701351662,
          -1.4946150367931208,
          -0.5959452081699518,
          -0.18037302995677917,
          1.3316636115702276,
          0.9017224347297302,
          2.3583992621557406,
          0.8127393135682499,
          -0.1515144797515831,
          -0.7930944321316766,
          -1.3241230006548121,
          1.2968807082979439,
          -0.26620602631744955,
          1.0841551694298686,
          0.35187883005292314,
          0.23676401332575234,
          0.4163080583175975,
          0.10875308894768246,
          0.10538866336657488,
          1.134046235065703,
          -0.30485970339631246
         ],
         "xaxis": "x",
         "xbins": {
          "end": 2.3583992621557406,
          "size": 0.25,
          "start": -3.7303665771621306
         },
         "yaxis": "y"
        },
        {
         "autobinx": false,
         "histnorm": "probability density",
         "legendgroup": "Group 3",
         "marker": {
          "color": "rgb(44, 160, 44)"
         },
         "name": "Group 3",
         "opacity": 0.7,
         "type": "histogram",
         "x": [
          1.0842458387915135,
          4.077422411850478,
          2.2492081842224287,
          0.7010291771388764,
          1.6543126998045756,
          2.8079785237060797,
          1.9418804509603087,
          2.455370878816968,
          2.5866752463292215,
          1.1592412984655351,
          1.4879363652079887,
          1.6090607987958079,
          0.39776382196625915,
          2.3003143831825,
          2.620782700588381,
          0.8195170821967157,
          3.3967877683207695,
          1.1428490353475866,
          1.4159103800096373,
          1.5381956837523494,
          0.7517385254296791,
          1.5846577448473336,
          1.5086258508512929,
          1.2758687738194119,
          0.9231932089901884,
          2.0222247274504666,
          2.072711696599648,
          1.7980950684839176,
          1.2989534801055513,
          1.9327854737071,
          2.1982123088906103,
          3.813909198497738,
          1.6922071671848697,
          2.3602320799729237,
          3.645657201983224,
          1.5454804488404839,
          1.26309290225554,
          1.963690670199676,
          2.504361148991763,
          3.6411713150868725,
          1.3884294242808528,
          2.5251366802647977,
          2.02687615883381,
          1.9376042297370868,
          0.565199580297969,
          2.01333677072189,
          2.923680395108257,
          1.2166476630672403,
          0.7187938395383922,
          0.4635290792868263,
          2.8849140043011126,
          3.1821182689784315,
          2.7967987426082455,
          2.683367148116229,
          1.3596112745212854,
          1.2590282836418814,
          2.5642613127711646,
          2.6050913145002283,
          3.0101617616440226,
          2.626330045301367,
          1.4897784850623736,
          3.0110149814112903,
          1.8235161358706804,
          1.4689278477911887,
          -0.8706864672372112,
          1.949010468786401,
          1.5185238587051155,
          3.6407134433868347,
          3.3194874029773387,
          2.4075589251230927,
          1.3291503092352037,
          2.049537172243997,
          2.032509178551114,
          2.128197563484746,
          2.212885375324347,
          -0.7083479163966322,
          2.108251495472508,
          4.693986616770875,
          2.1105215018638543,
          3.4598579886816108,
          0.935551764205379,
          2.7947130516904526,
          1.7541987517383686,
          1.886329446420562,
          2.266356662394979,
          1.143147462733224,
          4.236578459581175,
          0.8374694132244132,
          -0.33433522059504384,
          0.985828233404902,
          2.9657064035025127,
          3.0415549182977113,
          1.6490815047157787,
          1.5125967974643428,
          2.647452311555684,
          0.9411911513862656,
          1.649558550537863,
          -0.4442176824652484,
          1.3956753555659134,
          2.370382096309335,
          2.408644778292317,
          1.9447590090224331,
          2.4722898415971106,
          1.485124691013941,
          0.8258244255323708,
          1.2851639323072508,
          2.121566334043989,
          3.226954417490654,
          1.720364727932616,
          1.9903890233746826,
          3.5697582249836346,
          1.8268884390478284,
          2.452934871670107,
          2.059700077774349,
          1.4746185849797144,
          0.9869972212230658,
          2.9044483964527292,
          3.193897184272675,
          2.2142996744877466,
          0.88639192434164,
          1.941252353915244,
          1.895943652927695,
          1.6037687106218408,
          0.569029566170512,
          1.5408421882844492,
          2.8670451066596665,
          2.399741309466424,
          2.279667578431661,
          2.2534226109328603,
          1.022784751109627,
          1.4944487126751897,
          2.685451548381867,
          1.4373326281400667,
          3.147418521381696,
          1.9142593434931288,
          3.713519176462823,
          1.5582726513825393,
          3.266596627252336,
          1.127883650516454,
          1.6564133431247368,
          1.6020744203867605,
          1.573780617485474,
          0.6285069282549656,
          1.7747388180735642,
          0.5858784412335898,
          2.7017695398810595,
          1.9200596485279424,
          3.5767757997269314,
          1.2148198215101886,
          2.0526508139815665,
          2.557191637047624,
          2.3617975551671035,
          3.03014959240133,
          2.6498531097077134,
          1.963882208017562,
          2.564538341759699,
          1.8288100164984948,
          2.295414921240865,
          2.090377937231279,
          2.044783436861392,
          2.0367312358017644,
          2.1310932944661896,
          1.5844582351981633,
          2.3989987159899915,
          2.056137197935243,
          1.1915090482554145,
          1.314904596856619,
          2.2086450118910324,
          2.3196137198670086,
          1.636494748960096,
          0.5303273312123549,
          2.5626053692612922,
          1.0243271779233427,
          2.035062716231314,
          1.7816412376906223,
          2.5964088348015206,
          1.8579020455963489,
          0.9149737681346357,
          1.2667218009594006,
          0.8377060104188787,
          0.6332842337366853,
          3.0105014129540297,
          1.4121672878025313,
          1.1951565289852686,
          0.9936280110388893,
          2.3704501002273006,
          3.87798680102196,
          1.4604089181012714,
          1.6507336706848121,
          2.324586157011019,
          1.3068050846653518,
          1.8031967807005456,
          2.6133621365504722,
          2.8649095004461698,
          0.26910870189491587,
          0.45314707275308375,
          2.1549895062170683,
          3.420222138728755,
          2.659041149790811,
          2.454336687462909
         ],
         "xaxis": "x",
         "xbins": {
          "end": 4.693986616770875,
          "size": 0.5,
          "start": -0.8706864672372112
         },
         "yaxis": "y"
        },
        {
         "autobinx": false,
         "histnorm": "probability density",
         "legendgroup": "Group 4",
         "marker": {
          "color": "rgb(214, 39, 40)"
         },
         "name": "Group 4",
         "opacity": 0.7,
         "type": "histogram",
         "x": [
          4.980415527313378,
          4.455843022120531,
          3.363490985865533,
          4.072308732607631,
          2.8352996031710807,
          3.1938491031422434,
          3.4020950809427215,
          3.641606807543277,
          5.175473967544721,
          4.431832684546362,
          5.00926707021034,
          4.239450670418295,
          3.9043607678932832,
          4.08321558499837,
          5.014580466479609,
          2.974914779651149,
          4.536632894006226,
          1.2255048501357577,
          4.294158789386461,
          4.681499015581354,
          3.623149202328546,
          3.5426442594364,
          4.1635592312859195,
          3.6451229355855395,
          3.831183340867583,
          4.716202477639374,
          5.041733197695073,
          3.6453478924033935,
          5.969430169590758,
          4.220708946305935,
          4.081779341985014,
          6.590038397648209,
          3.83494314534988,
          4.354124781222369,
          5.523200922652749,
          3.1365118467769735,
          3.474817716955487,
          5.119108028099136,
          2.05582778458907,
          2.286032288734846,
          5.632483548152676,
          3.4133510979016233,
          3.6395390046880283,
          3.1710613403203327,
          4.45616482181006,
          5.0355290425889345,
          4.445736046555575,
          3.249056277412032,
          3.81287880489416,
          3.2260055932118816,
          4.668308391636673,
          5.483750340885639,
          3.424655368339832,
          6.949205638480038,
          4.296292143814823,
          4.703272936241272,
          3.1210899935987877,
          3.9595997030804067,
          3.1174467584167114,
          3.6013873156199603,
          3.3569178986832755,
          3.8206144137778417,
          4.153096000557089,
          3.8941534463058347,
          4.635567044572856,
          4.721859611552941,
          5.594277341642103,
          4.663034332433281,
          2.831241484565821,
          4.55728787510138,
          3.443395046942973,
          2.5035126380487798,
          3.6398190209360353,
          5.1779392926148855,
          3.5434783999595574,
          2.923284835753534,
          4.307465742706928,
          2.7089070134973534,
          2.1241095890525528,
          4.680141363500729,
          5.187801071083232,
          3.042055787858136,
          2.6575250248020765,
          5.123142032045907,
          3.108648138799638,
          2.78568051012096,
          4.317753173395928,
          4.383356649418797,
          3.6291146016740186,
          2.478301697685467,
          6.10419321171712,
          1.6323491293439338,
          4.860851223852722,
          3.7990022455937473,
          3.387770520968181,
          3.4413998286350465,
          3.198500787035122,
          3.4584998213787665,
          4.500915890535068,
          5.748136511018381,
          4.7588159568581725,
          2.9927885288299794,
          4.006300204178298,
          3.2988245539565098,
          3.5879872285420658,
          4.5671968496135555,
          2.5389006702419543,
          1.7259158880965426,
          3.65508506082946,
          4.842475790207648,
          3.8727977353392053,
          5.21662733458732,
          2.316931814802199,
          4.755724297725935,
          4.875973419354743,
          5.310695076901515,
          4.321437041264017,
          2.888467893890648,
          1.8192699832422035,
          2.7892335903094523,
          3.7906621708348354,
          3.9743989241796274,
          3.268981999158659,
          3.6596423713884856,
          5.951996141987851,
          3.1279357563070254,
          3.9992493545557752,
          4.994065468254969,
          3.7001507210961067,
          2.3086502002009524,
          5.140128209118464,
          3.6405186735481148,
          1.4964819776788132,
          4.000207994523335,
          3.700983038130027,
          1.6778833119276793,
          2.700272283296539,
          4.337045423634611,
          4.320870903887482,
          5.456568678621833,
          4.7158421992562545,
          5.494038968884824,
          4.070814778211051,
          3.8433269314037433,
          3.914975731107783,
          5.035968851964083,
          4.032576203014553,
          4.782056403471591,
          3.758556182931618,
          2.5709697559469658,
          3.3621005666229182,
          3.7167776335268075,
          4.106499446187534,
          4.633926159469051,
          4.379444116505669,
          5.814024268449463,
          2.7094898362097655,
          4.893704585172705,
          4.172575304467395,
          3.0689674929772655,
          3.654266262323529,
          2.9785822698830318,
          3.365014264848436,
          3.258185741590277,
          2.3479797376638434,
          3.741341375938774,
          4.440075037032122,
          3.434323382220059,
          3.7710606307842967,
          3.4551980320179467,
          3.7925268717966216,
          5.242023009820357,
          3.2777474185658075,
          4.5066157452460205,
          5.283972926945219,
          4.234156083637238,
          4.1623468012249925,
          2.927524220894954,
          1.7772840018066605,
          5.409881894537892,
          4.975710109701019,
          3.4073804108849997,
          2.53476678374951,
          3.2190866514505068,
          3.910718951819539,
          4.87855426716986,
          3.662877422214927,
          4.187541891234963,
          5.836508745628281,
          5.778487629622055,
          4.0865822261073745,
          4.117322025315157,
          1.596361095136548,
          2.6401223881681135,
          2.978893074977426,
          4.486095373615649,
          3.2375154316766475,
          5.3226130250824895,
          4.542219530305689,
          3.3021773084692785
         ],
         "xaxis": "x",
         "xbins": {
          "end": 6.949205638480038,
          "size": 1,
          "start": 1.2255048501357577
         },
         "yaxis": "y"
        },
        {
         "legendgroup": "Group 1",
         "marker": {
          "color": "rgb(31, 119, 180)"
         },
         "mode": "lines",
         "name": "Group 1",
         "showlegend": false,
         "type": "scatter",
         "x": [
          -3.886132384073062,
          -3.8768437526765442,
          -3.8675551212800268,
          -3.858266489883509,
          -3.8489778584869914,
          -3.8396892270904734,
          -3.830400595693956,
          -3.821111964297438,
          -3.81182333290092,
          -3.8025347015044026,
          -3.7932460701078847,
          -3.7839574387113672,
          -3.7746688073148493,
          -3.765380175918332,
          -3.756091544521814,
          -3.746802913125296,
          -3.7375142817287785,
          -3.7282256503322606,
          -3.718937018935743,
          -3.709648387539225,
          -3.7003597561427077,
          -3.69107112474619,
          -3.681782493349672,
          -3.6724938619531544,
          -3.6632052305566365,
          -3.653916599160119,
          -3.644627967763601,
          -3.6353393363670836,
          -3.6260507049705657,
          -3.6167620735740478,
          -3.6074734421775303,
          -3.5981848107810124,
          -3.588896179384495,
          -3.579607547987977,
          -3.570318916591459,
          -3.5610302851949416,
          -3.5517416537984237,
          -3.542453022401906,
          -3.5331643910053883,
          -3.523875759608871,
          -3.514587128212353,
          -3.5052984968158354,
          -3.4960098654193175,
          -3.4867212340227995,
          -3.477432602626282,
          -3.468143971229764,
          -3.4588553398332467,
          -3.4495667084367287,
          -3.440278077040211,
          -3.4309894456436933,
          -3.4217008142471754,
          -3.412412182850658,
          -3.40312355145414,
          -3.3938349200576226,
          -3.3845462886611046,
          -3.375257657264587,
          -3.3659690258680692,
          -3.3566803944715513,
          -3.347391763075034,
          -3.338103131678516,
          -3.3288145002819984,
          -3.3195258688854805,
          -3.310237237488963,
          -3.300948606092445,
          -3.2916599746959276,
          -3.2823713432994097,
          -3.273082711902892,
          -3.2637940805063743,
          -3.2545054491098564,
          -3.245216817713339,
          -3.235928186316821,
          -3.226639554920303,
          -3.2173509235237856,
          -3.2080622921272677,
          -3.19877366073075,
          -3.1894850293342323,
          -3.1801963979377144,
          -3.170907766541197,
          -3.161619135144679,
          -3.1523305037481615,
          -3.1430418723516436,
          -3.133753240955126,
          -3.124464609558608,
          -3.1151759781620907,
          -3.1058873467655728,
          -3.096598715369055,
          -3.0873100839725374,
          -3.0780214525760194,
          -3.068732821179502,
          -3.059444189782984,
          -3.050155558386466,
          -3.0408669269899486,
          -3.031578295593431,
          -3.0222896641969133,
          -3.0130010328003953,
          -3.0037124014038774,
          -2.99442377000736,
          -2.9851351386108425,
          -2.9758465072143245,
          -2.9665578758178066,
          -2.957269244421289,
          -2.947980613024771,
          -2.9386919816282537,
          -2.929403350231736,
          -2.920114718835218,
          -2.9108260874387004,
          -2.901537456042183,
          -2.892248824645665,
          -2.882960193249147,
          -2.8736715618526296,
          -2.8643829304561117,
          -2.855094299059594,
          -2.8458056676630763,
          -2.8365170362665584,
          -2.8272284048700405,
          -2.817939773473523,
          -2.8086511420770055,
          -2.7993625106804876,
          -2.7900738792839697,
          -2.780785247887452,
          -2.7714966164909347,
          -2.762207985094417,
          -2.752919353697899,
          -2.743630722301381,
          -2.734342090904864,
          -2.725053459508346,
          -2.715764828111828,
          -2.70647619671531,
          -2.6971875653187927,
          -2.6878989339222747,
          -2.6786103025257573,
          -2.6693216711292393,
          -2.6600330397327214,
          -2.650744408336204,
          -2.6414557769396865,
          -2.6321671455431686,
          -2.6228785141466506,
          -2.6135898827501327,
          -2.6043012513536152,
          -2.5950126199570978,
          -2.58572398856058,
          -2.576435357164062,
          -2.5671467257675444,
          -2.557858094371027,
          -2.548569462974509,
          -2.539280831577991,
          -2.529992200181473,
          -2.5207035687849557,
          -2.511414937388438,
          -2.5021263059919203,
          -2.4928376745954024,
          -2.483549043198885,
          -2.474260411802367,
          -2.4649717804058495,
          -2.4556831490093316,
          -2.4463945176128137,
          -2.4371058862162958,
          -2.4278172548197783,
          -2.418528623423261,
          -2.409239992026743,
          -2.399951360630225,
          -2.3906627292337075,
          -2.38137409783719,
          -2.372085466440672,
          -2.362796835044154,
          -2.3535082036476362,
          -2.3442195722511188,
          -2.3349309408546013,
          -2.3256423094580834,
          -2.3163536780615654,
          -2.307065046665048,
          -2.29777641526853,
          -2.2884877838720126,
          -2.2791991524754946,
          -2.2699105210789767,
          -2.2606218896824593,
          -2.2513332582859418,
          -2.242044626889424,
          -2.232755995492906,
          -2.223467364096388,
          -2.2141787326998705,
          -2.204890101303353,
          -2.195601469906835,
          -2.186312838510317,
          -2.1770242071137997,
          -2.1677355757172823,
          -2.1584469443207643,
          -2.1491583129242464,
          -2.1398696815277285,
          -2.130581050131211,
          -2.121292418734693,
          -2.1120037873381756,
          -2.1027151559416577,
          -2.09342652454514,
          -2.0841378931486223,
          -2.074849261752105,
          -2.065560630355587,
          -2.056271998959069,
          -2.046983367562551,
          -2.0376947361660336,
          -2.028406104769516,
          -2.019117473372998,
          -2.0098288419764803,
          -2.000540210579963,
          -1.991251579183445,
          -1.9819629477869272,
          -1.9726743163904095,
          -1.9633856849938918,
          -1.954097053597374,
          -1.9448084222008561,
          -1.9355197908043387,
          -1.926231159407821,
          -1.9169425280113033,
          -1.9076538966147853,
          -1.8983652652182677,
          -1.88907663382175,
          -1.879788002425232,
          -1.8704993710287146,
          -1.861210739632197,
          -1.8519221082356792,
          -1.8426334768391612,
          -1.8333448454426438,
          -1.8240562140461258,
          -1.814767582649608,
          -1.8054789512530904,
          -1.7961903198565725,
          -1.7869016884600546,
          -1.7776130570635371,
          -1.7683244256670192,
          -1.7590357942705017,
          -1.7497471628739838,
          -1.7404585314774663,
          -1.7311699000809488,
          -1.721881268684431,
          -1.712592637287913,
          -1.7033040058913955,
          -1.6940153744948776,
          -1.6847267430983601,
          -1.6754381117018422,
          -1.6661494803053243,
          -1.6568608489088068,
          -1.6475722175122889,
          -1.638283586115771,
          -1.6289949547192535,
          -1.6197063233227356,
          -1.6104176919262176,
          -1.6011290605297002,
          -1.5918404291331822,
          -1.5825517977366652,
          -1.5732631663401473,
          -1.5639745349436294,
          -1.554685903547112,
          -1.545397272150594,
          -1.536108640754076,
          -1.5268200093575586,
          -1.5175313779610407,
          -1.5082427465645232,
          -1.4989541151680053,
          -1.4896654837714873,
          -1.4803768523749699,
          -1.471088220978452,
          -1.461799589581934,
          -1.4525109581854165,
          -1.4432223267888986,
          -1.4339336953923811,
          -1.4246450639958637,
          -1.4153564325993457,
          -1.4060678012028283,
          -1.3967791698063103,
          -1.3874905384097924,
          -1.378201907013275,
          -1.368913275616757,
          -1.359624644220239,
          -1.3503360128237216,
          -1.3410473814272037,
          -1.3317587500306862,
          -1.3224701186341683,
          -1.3131814872376504,
          -1.303892855841133,
          -1.294604224444615,
          -1.285315593048097,
          -1.2760269616515796,
          -1.266738330255062,
          -1.2574496988585446,
          -1.2481610674620267,
          -1.2388724360655088,
          -1.2295838046689913,
          -1.2202951732724734,
          -1.2110065418759555,
          -1.201717910479438,
          -1.19242927908292,
          -1.1831406476864021,
          -1.1738520162898847,
          -1.1645633848933667,
          -1.1552747534968493,
          -1.1459861221003314,
          -1.1366974907038134,
          -1.127408859307296,
          -1.118120227910778,
          -1.1088315965142606,
          -1.099542965117743,
          -1.0902543337212252,
          -1.0809657023247077,
          -1.0716770709281898,
          -1.0623884395316718,
          -1.0530998081351544,
          -1.0438111767386364,
          -1.0345225453421185,
          -1.025233913945601,
          -1.0159452825490831,
          -1.0066566511525656,
          -0.9973680197560477,
          -0.9880793883595298,
          -0.9787907569630123,
          -0.9695021255664944,
          -0.9602134941699765,
          -0.9509248627734594,
          -0.9416362313769415,
          -0.9323475999804236,
          -0.9230589685839061,
          -0.9137703371873882,
          -0.9044817057908707,
          -0.8951930743943528,
          -0.8859044429978349,
          -0.8766158116013174,
          -0.8673271802047995,
          -0.8580385488082816,
          -0.8487499174117641,
          -0.8394612860152462,
          -0.8301726546187287,
          -0.8208840232222108,
          -0.8115953918256928,
          -0.8023067604291754,
          -0.7930181290326579,
          -0.78372949763614,
          -0.7744408662396225,
          -0.7651522348431046,
          -0.7558636034465867,
          -0.7465749720500692,
          -0.7372863406535513,
          -0.7279977092570338,
          -0.7187090778605159,
          -0.7094204464639979,
          -0.7001318150674805,
          -0.6908431836709625,
          -0.6815545522744446,
          -0.6722659208779271,
          -0.6629772894814092,
          -0.6536886580848917,
          -0.6444000266883738,
          -0.6351113952918563,
          -0.6258227638953389,
          -0.6165341324988209,
          -0.607245501102303,
          -0.5979568697057855,
          -0.5886682383092676,
          -0.5793796069127501,
          -0.5700909755162322,
          -0.5608023441197143,
          -0.5515137127231968,
          -0.5422250813266789,
          -0.532936449930161,
          -0.5236478185336435,
          -0.5143591871371256,
          -0.5050705557406077,
          -0.4957819243440902,
          -0.48649329294757226,
          -0.47720466155105523,
          -0.4679160301545373,
          -0.4586273987580194,
          -0.4493387673615019,
          -0.440050135964984,
          -0.43076150456846607,
          -0.4214728731719486,
          -0.41218424177543067,
          -0.4028956103789132,
          -0.3936069789823953,
          -0.38431834758587735,
          -0.3750297161893599,
          -0.36574108479284195,
          -0.35645245339632403,
          -0.34716382199980655,
          -0.33787519060328863,
          -0.3285865592067707,
          -0.31929792781025323,
          -0.31000929641373576,
          -0.3007206650172183,
          -0.29143203362070036,
          -0.28214340222418244,
          -0.27285477082766496,
          -0.26356613943114704,
          -0.2542775080346291,
          -0.24498887663811164,
          -0.23570024524159372,
          -0.22641161384507624,
          -0.21712298244855832,
          -0.2078343510520404,
          -0.19854571965552292,
          -0.189257088259005,
          -0.17996845686248708,
          -0.1706798254659696,
          -0.16139119406945168,
          -0.15210256267293465,
          -0.14281393127641673,
          -0.1335252998798988,
          -0.12423666848338133,
          -0.11494803708686341,
          -0.10565940569034549,
          -0.09637077429382801,
          -0.08708214289731009,
          -0.07779351150079217,
          -0.06850488010427469,
          -0.05921624870775677,
          -0.04992761731123929,
          -0.04063898591472137,
          -0.03135035451820345,
          -0.022061723121685972,
          -0.012773091725168051,
          -0.0034844603286501297,
          0.005804171067866903,
          0.015092802464384825,
          0.024381433860902302,
          0.03367006525742022,
          0.042958696653938144,
          0.05224732805045562,
          0.06153595944697354,
          0.07082459084349146,
          0.08011322224000894,
          0.08940185363652686,
          0.09869048503304478,
          0.10797911642956226,
          0.11726774782608018,
          0.1265563792225981,
          0.13584501061911602,
          0.14513364201563306,
          0.15442227341215098,
          0.163710904808668,
          0.17299953620518593,
          0.18228816760170385,
          0.19157679899822178,
          0.2008654303947397,
          0.21015406179125762,
          0.21944269318777465,
          0.22873132458429346,
          0.2380199559808105,
          0.24730858737732753,
          0.25659721877384634,
          0.26588585017036337,
          0.2751744815668813,
          0.2844631129633992,
          0.29375174435991713,
          0.30304037575643417,
          0.312329007152953,
          0.32161763854947,
          0.33090626994598793,
          0.34019490134250496,
          0.3494835327390238,
          0.3587721641355408,
          0.3680607955320587,
          0.37734942692857665,
          0.38663805832509457,
          0.3959266897216116,
          0.4052153211181295,
          0.41450395251464744,
          0.4237925839111645,
          0.4330812153076833,
          0.4423698467042003,
          0.45165847810071824,
          0.46094710949723616,
          0.4702357408937541,
          0.4795243722902711,
          0.4888130036867899,
          0.49810163508330696,
          0.5073902664798249,
          0.5166788978763419,
          0.5259675292728607,
          0.5352561606693778,
          0.5445447920658957,
          0.5538334234624136,
          0.5631220548589306,
          0.5724106862554486,
          0.5816993176519665,
          0.5909879490484844,
          0.6002765804450014,
          0.6095652118415202,
          0.6188538432380373,
          0.6281424746345552,
          0.6374311060310731,
          0.646719737427591,
          0.6560083688241081,
          0.6652970002206269,
          0.6745856316171439,
          0.6838742630136618,
          0.6931628944101789,
          0.7024515258066977,
          0.7117401572032147,
          0.7210287885997317,
          0.7303174199962505,
          0.7396060513927676,
          0.7488946827892855
         ],
         "xaxis": "x",
         "y": [
          0.06055674879603737,
          0.06205366248245554,
          0.06356658069749034,
          0.06509516992391136,
          0.066639087081932,
          0.06819797940286661,
          0.06977148429384354,
          0.07135922919809563,
          0.07296083145568674,
          0.07457589816983404,
          0.07620402608424148,
          0.07784480147706412,
          0.07949780007727802,
          0.08116258700932026,
          0.08283871677190942,
          0.0845257332569212,
          0.08622316981411364,
          0.08793054936733989,
          0.08964738458766575,
          0.09137317812853177,
          0.09310742292774801,
          0.09484960258070017,
          0.0965991917886763,
          0.09835565688569331,
          0.1001184564466223,
          0.10188704197877305,
          0.10366085869842556,
          0.10543934639307335,
          0.10722194036938879,
          0.10900807248614212,
          0.11079717227049918,
          0.11258866811530574,
          0.11438198855413793,
          0.1161765636100838,
          0.11797182621338487,
          0.11976721368229115,
          0.12156216926068454,
          0.12335614370529396,
          0.125148596914619,
          0.1269389995910156,
          0.12872683492680187,
          0.13051160030469133,
          0.1322928090023922,
          0.13406999189080365,
          0.13584269911491725,
          0.13761050174629064,
          0.13937299339580148,
          0.14112979177532467,
          0.14288054019700014,
          0.14462490899887517,
          0.14636259688591377,
          0.14809333217566945,
          0.14981687393831372,
          0.15153301302118846,
          0.15324157294863036,
          0.1549424106884513,
          0.1566354172772065,
          0.15832051829716023,
          0.15999767419874592,
          0.1616668804632243,
          0.16332816760123084,
          0.16498160098391823,
          0.16662728050445086,
          0.1682653400686942,
          0.16989594691503251,
          0.17151930076435765,
          0.1731356328023678,
          0.17474520449741535,
          0.17634830625820647,
          0.1779452559366995,
          0.17953639718255673,
          0.1811220976564571,
          0.18270274711048073,
          0.1842787553446273,
          0.18585055004928866,
          0.18741857454421573,
          0.18898328542511914,
          0.19054515012960127,
          0.19210464443455275,
          0.19366224989751102,
          0.1952184512547533,
          0.19677373378906038,
          0.19832858068018624,
          0.1998834703510503,
          0.20143887382257575,
          0.20299525208991614,
          0.20455305353254696,
          0.2061127113703457,
          0.2076746411773758,
          0.20923923846459538,
          0.21080687634216463,
          0.21237790327142195,
          0.21395264091594934,
          0.21553138210044592,
          0.21711438888541668,
          0.2187018907649173,
          0.22029408299384345,
          0.22189112505045758,
          0.22349313923908676,
          0.22510020943712816,
          0.22671237998975757,
          0.22832965475498074,
          0.22995199630094812,
          0.2315793252567775,
          0.23321151981746108,
          0.23484841540283444,
          0.23648980447000917,
          0.23813543647814686,
          0.2397850180039797,
          0.2414382130060576,
          0.24309464323532076,
          0.24475388878927642,
          0.24641548880677322,
          0.24807894230014332,
          0.2497437091212846,
          0.25140921105811725,
          0.2530748330577347,
          0.2547399245724961,
          0.25640380102525745,
          0.25806574538991156,
          0.2597250098834138,
          0.2613808177654574,
          0.263032365241998,
          0.26467882346882105,
          0.2663193406513818,
          0.267953044237126,
          0.269579043196504,
          0.2711964303888549,
          0.2728042850092819,
          0.2744016751125582,
          0.2759876602099917,
          0.2775612939350296,
          0.27912162677319907,
          0.28066770885176706,
          0.2821985927842402,
          0.2837133365645316,
          0.2852110065052964,
          0.28669068021455724,
          0.28815144960436556,
          0.2895924239247856,
          0.29101273281605894,
          0.2924115293713175,
          0.29378799320172827,
          0.29514133349543786,
          0.29647079206119686,
          0.2977756463470199,
          0.299055212423757,
          0.30030884792296264,
          0.30153595491799456,
          0.30273598273686264,
          0.3039084306949433,
          0.3050528507353554,
          0.3061688499644967,
          0.3072560930700224,
          0.30831430460838494,
          0.3093432711489775,
          0.3103428432619091,
          0.31131293733652865,
          0.31225353721797117,
          0.31316469564926597,
          0.31404653550689576,
          0.3148992508181407,
          0.31572310754909555,
          0.3165184441528785,
          0.3172856718683013,
          0.31802527476008957,
          0.31873780949268243,
          0.31942390483063515,
          0.32008426085975905,
          0.3207196479242917,
          0.32133090527665065,
          0.32191893943761424,
          0.3224847222661504,
          0.32302928873952713,
          0.3235537344457798,
          0.3240592127920999,
          0.32454693193420975,
          0.3250181514332934,
          0.32547417864856276,
          0.32591636487503506,
          0.32634610123756913,
          0.32676481435364885,
          0.3271739617787909,
          0.3275750272498075,
          0.3279695157424115,
          0.32835894836087537,
          0.32874485707855516,
          0.32912877934913076,
          0.32951225260933603,
          0.32989680869477567,
          0.3302839681911372,
          0.33067523474368793,
          0.3310720893484287,
          0.33147598464860445,
          0.33188833926048755,
          0.3323105321524343,
          0.33274389710114977,
          0.33318971724893515,
          0.33364921978534384,
          0.33412357077625654,
          0.33461387016280447,
          0.3351211469518582,
          0.3356463546190303,
          0.3361903667441578,
          0.33675397289825904,
          0.33733787479977895,
          0.33794268275674877,
          0.33856891241015635,
          0.33921698179245624,
          0.3398872087136912,
          0.3405798084861886,
          0.34129489199725044,
          0.342032464137651,
          0.34279242259214615,
          0.34357455699654843,
          0.34437854846428995,
          0.34520396948372783,
          0.34605028418583783,
          0.34691684898030045,
          0.34780291355641796,
          0.3487076222437482,
          0.34963001572582725,
          0.3505690330989334,
          0.3515235142664175,
          0.3524922026578581,
          0.3534737482609993,
          0.35446671095330967,
          0.35546956411889424,
          0.3564806985354998,
          0.3574984265154643,
          0.3585209862836396,
          0.35954654657461216,
          0.3605732114309311,
          0.3615990251835374,
          0.3626219775951712,
          0.36364000914721795,
          0.3646510164502183,
          0.3656528577581627,
          0.3666433585666312,
          0.36762031727490907,
          0.3685815108923461,
          0.36952470076945104,
          0.3704476383345091,
          0.3713480708169029,
          0.37222374693874405,
          0.3730724225569484,
          0.37389186623844983,
          0.37467986475188453,
          0.37543422845972746,
          0.3761527965956115,
          0.3768334424122893,
          0.37747407818649975,
          0.37807266006780704,
          0.3786271927593314,
          0.3791357340191302,
          0.3795963989718595,
          0.3800073642212312,
          0.38036687175463874,
          0.3806732326322195,
          0.3809248304534802,
          0.38112012459547884,
          0.38125765321741417,
          0.3813360360272945,
          0.3813539768071932,
          0.3813102656943886,
          0.3812037812164544,
          0.3810334920791446,
          0.380798458706619,
          0.38049783453427216,
          0.3801308670551078,
          0.37969689862122985,
          0.37919536700266915,
          0.37862580570633547,
          0.3779878440584622,
          0.37728120705443857,
          0.3765057149804512,
          0.3756612828118289,
          0.3747479193934442,
          0.3737657264079724,
          0.37271489713820194,
          0.3715957150300025,
          0.37040855206289053,
          0.36915386693551383,
          0.36783220307367676,
          0.3664441864688341,
          0.36499052335529064,
          0.36347199773458455,
          0.3618894687558051,
          0.36024386796081515,
          0.358536196403585,
          0.35676752165302306,
          0.3549389746888941,
          0.35305174670057604,
          0.35110708579855204,
          0.34910629364868756,
          0.3470507220394369,
          0.3449417693922443,
          0.3427808772254666,
          0.3405695265822231,
          0.3383092344325996,
          0.3360015500606692,
          0.3336480514467763,
          0.3312503416555095,
          0.3288100452397304,
          0.32632880467095327,
          0.3238082768062597,
          0.3212501294018036,
          0.31865603768279105,
          0.3160276809796405,
          0.3133667394397895,
          0.31067489082437544,
          0.3079538073987217,
          0.3052051529252438,
          0.3024305797670436,
          0.29963172611007177,
          0.29681021331132773,
          0.29396764338011905,
          0.2911055965989153,
          0.2882256292898484,
          0.285329271732338,
          0.2824180262367909,
          0.2794933653787118,
          0.27655673039695533,
          0.27360952975921105,
          0.2706531378971572,
          0.26768889411304275,
          0.2647181016587716,
          0.2617420269878577,
          0.2587618991799116,
          0.25577890953660687,
          0.2527942113473517,
          0.24980891982217518,
          0.24682411218863182,
          0.24384082794881126,
          0.24086006929186302,
          0.23788280165675413,
          0.23490995443933108,
          0.23194242183711622,
          0.2289810638246585,
          0.2260267072516834,
          0.2230801470557354,
          0.220142147580496,
          0.21721344399049225,
          0.2142947437724737,
          0.21138672831335714,
          0.2084900545442974,
          0.2056053566401509,
          0.20273324776336418,
          0.19987432184113507,
          0.19702915536455837,
          0.1941983091983998,
          0.19138233039011343,
          0.1885817539667673,
          0.1857971047086265,
          0.18302889888829646,
          0.1802776459645432,
          0.17754385022016328,
          0.17482801233359854,
          0.17213063087436295,
          0.16945220371276934,
          0.16679322933492285,
          0.16415420805446146,
          0.16153564311310015,
          0.15893804166263348,
          0.1563619156217129,
          0.1538077824013894,
          0.15127616549413558,
          0.14876759492181463,
          0.1462826075388278,
          0.14382174718748145,
          0.1413855647034172,
          0.13897461776978937,
          0.1365894706197082,
          0.1342306935873122,
          0.13189886250868368,
          0.12959455797466243,
          0.12731836443845607,
          0.12507086918176225,
          0.12285266114394187,
          0.12066432961956168,
          0.11850646283040246,
          0.11637964637876255,
          0.11428446158959868,
          0.1122214837497197,
          0.11019128025288027,
          0.10819440866021722,
          0.10623141468601732,
          0.10430283011930125,
          0.10240917069215862,
          0.10055093390615819,
          0.09872859682849669,
          0.0969426138698275,
          0.09519341455592575,
          0.0934814013055056,
          0.09180694722659916,
          0.09017039394393046,
          0.08857204946969258,
          0.08701218613002648,
          0.08549103855934177,
          0.08400880177439103,
          0.08256562933971302,
          0.08116163163571005,
          0.0797968742402067,
          0.07847137643386042,
          0.07718510983926649,
          0.07593799720300543,
          0.07472991132924596,
          0.07356067417282619,
          0.07243005609899661,
          0.07133777531623407,
          0.07028349748771733,
          0.06926683552620191,
          0.06828734957615207,
          0.0673445471860782,
          0.06643788367309948,
          0.06556676268080745,
          0.06473053693054721,
          0.06392850916527439,
          0.0631599332841797,
          0.06242401566531629,
          0.061719916672515,
          0.061046752341941714,
          0.060403596242733636,
          0.059789481505268235,
          0.05920340300975941,
          0.058644319727054806,
          0.05811115720272853,
          0.057602810174826644,
          0.0571181453149386,
          0.05665600408163367,
          0.056215205674726744,
          0.055794550078324075,
          0.05539282118014728,
          0.055008789954251826,
          0.05464121769393822,
          0.054288859281413714,
          0.05395046648058501,
          0.053624791239268325,
          0.05331058898707492,
          0.05300662191528062,
          0.05271166222510934,
          0.05242449533105661,
          0.05214392300614502,
          0.051868766456339165,
          0.0515978693117539,
          0.0513301005227526,
          0.05106435714956847,
          0.0507995670346658,
          0.05053469134770072,
          0.05026872699363612,
          0.05000070887530083,
          0.04972971200246373,
          0.04945485344030778,
          0.04917529409103441,
          0.048890240303198586,
          0.04859894530426664,
          0.048300710452790295,
          0.047994886307505424,
          0.04768087351157581,
          0.047358123491117635,
          0.047026138968039706,
          0.046684474288125916,
          0.046332735566155615,
          0.04597058065070227,
          0.04559771891206701,
          0.04521391085758571,
          0.044818967579293184,
          0.044412750039627094,
          0.043995168201515444,
          0.04356618000979334,
          0.04312579023145506,
          0.04267404916274696,
          0.04221105121155384,
          0.041736933363918594,
          0.04125187354386659,
          0.04075608887597495,
          0.040249833860340554,
          0.0397333984697492,
          0.03920710617894621,
          0.038671311935940485,
          0.03812640008525655,
          0.0375727822529737,
          0.037010895203263915,
          0.0364411986759646,
          0.03586417321449748,
          0.035280317993178614,
          0.034690148652652485,
          0.03409419515184172,
          0.03349299964441803,
          0.032887114387393834,
          0.03227709968899369,
          0.031663521902507236,
          0.03104695147234295,
          0.03042796103801275,
          0.0298071236012671,
          0.029185010761092638,
          0.028562191020762556,
          0.02793922817061787,
          0.027316679749740697,
          0.026695095589172112
         ],
         "yaxis": "y"
        },
        {
         "legendgroup": "Group 2",
         "marker": {
          "color": "rgb(255, 127, 14)"
         },
         "mode": "lines",
         "name": "Group 2",
         "showlegend": false,
         "type": "scatter",
         "x": [
          -3.7303665771621306,
          -3.718189045483495,
          -3.7060115138048593,
          -3.6938339821262236,
          -3.6816564504475875,
          -3.669478918768952,
          -3.657301387090316,
          -3.6451238554116805,
          -3.632946323733045,
          -3.6207687920544087,
          -3.608591260375773,
          -3.5964137286971374,
          -3.5842361970185017,
          -3.572058665339866,
          -3.5598811336612304,
          -3.5477036019825947,
          -3.5355260703039586,
          -3.523348538625323,
          -3.5111710069466873,
          -3.4989934752680516,
          -3.486815943589416,
          -3.47463841191078,
          -3.462460880232144,
          -3.4502833485535085,
          -3.438105816874873,
          -3.425928285196237,
          -3.4137507535176015,
          -3.401573221838966,
          -3.3893956901603297,
          -3.377218158481694,
          -3.3650406268030584,
          -3.3528630951244227,
          -3.340685563445787,
          -3.328508031767151,
          -3.3163305000885153,
          -3.3041529684098796,
          -3.291975436731244,
          -3.2797979050526083,
          -3.2676203733739726,
          -3.255442841695337,
          -3.243265310016701,
          -3.231087778338065,
          -3.2189102466594295,
          -3.206732714980794,
          -3.1945551833021577,
          -3.182377651623522,
          -3.1702001199448864,
          -3.1580225882662507,
          -3.145845056587615,
          -3.1336675249089794,
          -3.1214899932303437,
          -3.1093124615517076,
          -3.097134929873072,
          -3.0849573981944363,
          -3.0727798665158006,
          -3.060602334837165,
          -3.0484248031585293,
          -3.036247271479893,
          -3.0240697398012575,
          -3.011892208122622,
          -2.999714676443986,
          -2.9875371447653505,
          -2.975359613086715,
          -2.963182081408079,
          -2.951004549729443,
          -2.9388270180508074,
          -2.9266494863721717,
          -2.914471954693536,
          -2.9022944230149,
          -2.8901168913362643,
          -2.8779393596576286,
          -2.865761827978993,
          -2.8535842963003573,
          -2.8414067646217216,
          -2.829229232943086,
          -2.8170517012644503,
          -2.804874169585814,
          -2.7926966379071785,
          -2.780519106228543,
          -2.768341574549907,
          -2.756164042871271,
          -2.7439865111926354,
          -2.7318089795139997,
          -2.719631447835364,
          -2.7074539161567284,
          -2.6952763844780927,
          -2.683098852799457,
          -2.6709213211208214,
          -2.6587437894421853,
          -2.6465662577635496,
          -2.634388726084914,
          -2.622211194406278,
          -2.610033662727642,
          -2.5978561310490065,
          -2.585678599370371,
          -2.573501067691735,
          -2.5613235360130995,
          -2.549146004334464,
          -2.536968472655828,
          -2.524790940977192,
          -2.5126134092985564,
          -2.5004358776199207,
          -2.4882583459412846,
          -2.476080814262649,
          -2.4639032825840133,
          -2.4517257509053776,
          -2.439548219226742,
          -2.4273706875481063,
          -2.4151931558694706,
          -2.403015624190835,
          -2.3908380925121993,
          -2.3786605608335636,
          -2.366483029154928,
          -2.354305497476292,
          -2.342127965797656,
          -2.3299504341190205,
          -2.3177729024403844,
          -2.3055953707617487,
          -2.293417839083113,
          -2.2812403074044774,
          -2.2690627757258417,
          -2.256885244047206,
          -2.2447077123685704,
          -2.2325301806899347,
          -2.2203526490112986,
          -2.208175117332663,
          -2.1959975856540273,
          -2.183820053975391,
          -2.1716425222967555,
          -2.15946499061812,
          -2.147287458939484,
          -2.1351099272608485,
          -2.122932395582213,
          -2.110754863903577,
          -2.0985773322249415,
          -2.0863998005463054,
          -2.0742222688676697,
          -2.062044737189034,
          -2.049867205510398,
          -2.0376896738317622,
          -2.0255121421531266,
          -2.013334610474491,
          -2.0011570787958552,
          -1.9889795471172196,
          -1.9768020154385837,
          -1.964624483759948,
          -1.9524469520813124,
          -1.9402694204026765,
          -1.9280918887240408,
          -1.915914357045405,
          -1.9037368253667695,
          -1.8915592936881338,
          -1.879381762009498,
          -1.8672042303308622,
          -1.8550266986522266,
          -1.8428491669735907,
          -1.830671635294955,
          -1.8184941036163194,
          -1.8063165719376835,
          -1.7941390402590478,
          -1.781961508580412,
          -1.7697839769017762,
          -1.7576064452231406,
          -1.7454289135445047,
          -1.733251381865869,
          -1.7210738501872331,
          -1.7088963185085975,
          -1.6967187868299618,
          -1.6845412551513261,
          -1.6723637234726905,
          -1.6601861917940544,
          -1.6480086601154187,
          -1.635831128436783,
          -1.6236535967581474,
          -1.6114760650795117,
          -1.599298533400876,
          -1.58712100172224,
          -1.5749434700436042,
          -1.5627659383649686,
          -1.550588406686333,
          -1.5384108750076972,
          -1.5262333433290611,
          -1.5140558116504255,
          -1.5018782799717898,
          -1.4897007482931541,
          -1.4775232166145185,
          -1.4653456849358828,
          -1.4531681532572467,
          -1.440990621578611,
          -1.4288130898999754,
          -1.4166355582213397,
          -1.404458026542704,
          -1.3922804948640684,
          -1.3801029631854322,
          -1.3679254315067966,
          -1.355747899828161,
          -1.3435703681495252,
          -1.3313928364708896,
          -1.3192153047922535,
          -1.3070377731136178,
          -1.2948602414349821,
          -1.2826827097563465,
          -1.2705051780777108,
          -1.2583276463990751,
          -1.246150114720439,
          -1.2339725830418034,
          -1.2217950513631677,
          -1.209617519684532,
          -1.1974399880058963,
          -1.1852624563272602,
          -1.1730849246486246,
          -1.160907392969989,
          -1.1487298612913532,
          -1.1365523296127176,
          -1.1243747979340823,
          -1.1121972662554462,
          -1.1000197345768106,
          -1.087842202898175,
          -1.0756646712195392,
          -1.0634871395409036,
          -1.0513096078622675,
          -1.0391320761836318,
          -1.0269545445049961,
          -1.0147770128263605,
          -1.0025994811477248,
          -0.9904219494690891,
          -0.978244417790453,
          -0.9660668861118173,
          -0.9538893544331817,
          -0.941711822754546,
          -0.9295342910759103,
          -0.9173567593972742,
          -0.9051792277186386,
          -0.8930016960400029,
          -0.8808241643613672,
          -0.8686466326827316,
          -0.8564691010040959,
          -0.8442915693254598,
          -0.8321140376468241,
          -0.8199365059681885,
          -0.8077589742895528,
          -0.7955814426109171,
          -0.7834039109322815,
          -0.7712263792536453,
          -0.7590488475750097,
          -0.746871315896374,
          -0.7346937842177383,
          -0.7225162525391027,
          -0.7103387208604666,
          -0.6981611891818309,
          -0.6859836575031952,
          -0.6738061258245596,
          -0.6616285941459239,
          -0.6494510624672882,
          -0.6372735307886521,
          -0.6250959991100165,
          -0.6129184674313808,
          -0.6007409357527451,
          -0.5885634040741095,
          -0.5763858723954733,
          -0.5642083407168377,
          -0.552030809038202,
          -0.5398532773595663,
          -0.5276757456809307,
          -0.515498214002295,
          -0.5033206823236589,
          -0.49114315064502323,
          -0.47896561896638756,
          -0.4667880872877519,
          -0.45461055560911623,
          -0.4424330239304801,
          -0.43025549225184445,
          -0.4180779605732088,
          -0.4059004288945731,
          -0.39372289721593745,
          -0.3815453655373018,
          -0.3693678338586657,
          -0.35719030218003,
          -0.34501277050139434,
          -0.33283523882275867,
          -0.320657707144123,
          -0.30848017546548734,
          -0.2963026437868512,
          -0.28412511210821556,
          -0.2719475804295799,
          -0.2597700487509442,
          -0.24759251707230856,
          -0.23541498539367245,
          -0.22323745371503678,
          -0.21105992203640112,
          -0.19888239035776545,
          -0.18670485867912978,
          -0.17452732700049411,
          -0.162349795321858,
          -0.15017226364322234,
          -0.13799473196458667,
          -0.125817200285951,
          -0.11363966860731534,
          -0.10146213692867923,
          -0.08928460525004356,
          -0.07710707357140834,
          -0.06492954189277267,
          -0.052752010214137,
          -0.040574478535501335,
          -0.028396946856865224,
          -0.016219415178229557,
          -0.00404188349959389,
          0.008135648179041777,
          0.020313179857677444,
          0.032490711536313555,
          0.04466824321494922,
          0.05684577489358489,
          0.06902330657222056,
          0.08120083825085622,
          0.09337836992949189,
          0.105555901608128,
          0.11773343328676367,
          0.12991096496539933,
          0.142088496644035,
          0.15426602832267067,
          0.16644356000130678,
          0.17862109167994245,
          0.1907986233585781,
          0.20297615503721378,
          0.21515368671584945,
          0.2273312183944851,
          0.23950875007312122,
          0.2516862817517569,
          0.26386381343039256,
          0.27604134510902867,
          0.28821887678766434,
          0.3003964084663,
          0.31257394014493567,
          0.32475147182357134,
          0.336929003502207,
          0.34910653518084267,
          0.36128406685947834,
          0.3734615985381149,
          0.38563913021674967,
          0.3978166618953862,
          0.4099941935740219,
          0.42217172525265756,
          0.4343492569312932,
          0.446526788609928,
          0.45870432028856456,
          0.47088185196719934,
          0.4830593836458359,
          0.49523691532447156,
          0.5074144470031072,
          0.5195919786817429,
          0.5317695103603786,
          0.5439470420390142,
          0.5561245737176508,
          0.5683021053962856,
          0.5804796370749221,
          0.5926571687535569,
          0.6048347004321935,
          0.6170122321108291,
          0.6291897637894648,
          0.6413672954681005,
          0.6535448271467361,
          0.6657223588253718,
          0.6778998905040083,
          0.6900774221826431,
          0.7022549538612797,
          0.7144324855399145,
          0.726610017218551,
          0.7387875488971858,
          0.7509650805758223,
          0.763142612254458,
          0.7753201439330937,
          0.7874976756117293,
          0.799675207290365,
          0.8118527389690007,
          0.8240302706476372,
          0.836207802326272,
          0.8483853340049086,
          0.8605628656835433,
          0.8727403973621799,
          0.8849179290408156,
          0.8970954607194512,
          0.9092729923980869,
          0.9214505240767226,
          0.9336280557553582,
          0.9458055874339939,
          0.9579831191126296,
          0.9701606507912661,
          0.9823381824699009,
          0.9945157141485375,
          1.0066932458271722,
          1.0188707775058088,
          1.0310483091844445,
          1.0432258408630801,
          1.0554033725417158,
          1.0675809042203515,
          1.0797584358989871,
          1.0919359675776237,
          1.1041134992562585,
          1.116291030934895,
          1.1284685626135298,
          1.1406460942921663,
          1.152823625970802,
          1.1650011576494377,
          1.1771786893280733,
          1.189356221006709,
          1.2015337526853447,
          1.2137112843639803,
          1.225888816042616,
          1.2380663477212526,
          1.2502438793998873,
          1.262421411078524,
          1.2745989427571587,
          1.2867764744357952,
          1.298954006114431,
          1.3111315377930666,
          1.3233090694717022,
          1.335486601150338,
          1.3476641328289736,
          1.3598416645076101,
          1.372019196186245,
          1.3841967278648815,
          1.3963742595435162,
          1.4085517912221528,
          1.4207293229007885,
          1.4329068545794241,
          1.4450843862580598,
          1.4572619179366955,
          1.4694394496153311,
          1.481616981293966,
          1.4937945129726025,
          1.5059720446512381,
          1.5181495763298738,
          1.5303271080085095,
          1.5425046396871451,
          1.5546821713657808,
          1.5668597030444174,
          1.5790372347230521,
          1.5912147664016887,
          1.6033922980803235,
          1.61556982975896,
          1.6277473614375957,
          1.6399248931162314,
          1.652102424794867,
          1.6642799564735027,
          1.6764574881521384,
          1.688635019830774,
          1.7008125515094097,
          1.7129900831880462,
          1.725167614866681,
          1.7373451465453176,
          1.7495226782239524,
          1.761700209902589,
          1.7738777415812246,
          1.7860552732598602,
          1.798232804938496,
          1.8104103366171316,
          1.8225878682957672,
          1.8347653999744038,
          1.8469429316530386,
          1.8591204633316751,
          1.87129799501031,
          1.8834755266889465,
          1.8956530583675821,
          1.9078305900462178,
          1.9200081217248535,
          1.9321856534034891,
          1.9443631850821248,
          1.9565407167607605,
          1.9687182484393961,
          1.9808957801180327,
          1.9930733117966675,
          2.005250843475304,
          2.017428375153939,
          2.0296059068325754,
          2.041783438511211,
          2.0539609701898467,
          2.0661385018684824,
          2.078316033547118,
          2.0904935652257537,
          2.1026710969043902,
          2.114848628583025,
          2.1270261602616616,
          2.1392036919402964,
          2.151381223618933,
          2.1635587552975677,
          2.1757362869762042,
          2.18791381865484,
          2.2000913503334756,
          2.2122688820121112,
          2.224446413690747,
          2.2366239453693826,
          2.248801477048019,
          2.260979008726654,
          2.2731565404052905,
          2.2853340720839252,
          2.297511603762562,
          2.3096891354411975,
          2.321866667119833,
          2.334044198798469,
          2.3462217304771045
         ],
         "xaxis": "x",
         "y": [
          0.005740350653328623,
          0.0057459462795836575,
          0.005745643562835579,
          0.005739541927313797,
          0.005727768050680303,
          0.005710475564531702,
          0.00568784460497933,
          0.00566008121631164,
          0.005627416611873972,
          0.005590106297392442,
          0.005548429063010141,
          0.005502685851286292,
          0.005453198509324062,
          0.005400308434032285,
          0.005344375120283985,
          0.0052857746224048525,
          0.0052248979400023425,
          0.005162149339627921,
          0.005097944624147969,
          0.005032709361981996,
          0.0049668770885487315,
          0.004900887492342603,
          0.004835184598045621,
          0.004770214958965257,
          0.004706425870880192,
          0.004644263619076579,
          0.004584171769971343,
          0.004526589518251433,
          0.004471950099912922,
          0.004420679280967868,
          0.004373193930904538,
          0.0043299006892444,
          0.004291194732743287,
          0.00425745864993941,
          0.004229061428864839,
          0.004206357562814222,
          0.004189686278112309,
          0.004179370886844651,
          0.004175718266520841,
          0.004179018467631937,
          0.004189544449048827,
          0.004207551940192697,
          0.004233279427897515,
          0.004266948264883672,
          0.0043087628957774425,
          0.004358911195648696,
          0.0044175649151056914,
          0.004484880225086573,
          0.004560998353629898,
          0.004646046306096969,
          0.004740137659564435,
          0.004843373421413854,
          0.004955842941522873,
          0.005077624866917855,
          0.005208788127288289,
          0.005349392939396415,
          0.005499491818148568,
          0.005659130581936395,
          0.005828349339811309,
          0.006007183448133501,
          0.006195664424541296,
          0.0063938208074243484,
          0.00660167894955905,
          0.006819263735179256,
          0.007046599210513351,
          0.007283709118718183,
          0.007530617331183188,
          0.0077873481683581516,
          0.00805392660457341,
          0.008330378352763818,
          0.008616729826568716,
          0.00891300797894876,
          0.009219240018224153,
          0.009535453004280737,
          0.009861673329595352,
          0.010197926091677977,
          0.01054423436549646,
          0.010900618386414642,
          0.0112670946561143,
          0.011643674985857114,
          0.012030365493249385,
          0.012427165570372186,
          0.01283406684270334,
          0.013251052139658806,
          0.013678094498791142,
          0.014115156226676565,
          0.014562188040271682,
          0.015019128313005836,
          0.015485902450071665,
          0.015962422417265937,
          0.016448586447301548,
          0.016944278946743153,
          0.01744937062560901,
          0.01796371887022278,
          0.018487168378089974,
          0.019019552071422863,
          0.019560692303448316,
          0.02011040236882384,
          0.020668488326372032,
          0.021234751138949935,
          0.02180898913162235,
          0.02239100076544159,
          0.022980587720084513,
          0.02357755827440517,
          0.024181730969669468,
          0.024792938535894305,
          0.025411032057369814,
          0.02603588534914968,
          0.026667399512104756,
          0.02730550763010492,
          0.027950179569075365,
          0.02860142683412494,
          0.029259307437710196,
          0.02992393072894145,
          0.030595462131692758,
          0.031274127737201084,
          0.03196021869536397,
          0.032654095348011905,
          0.03335619104706922,
          0.03406701560074932,
          0.03478715829178209,
          0.035517290413147294,
          0.03625816726890095,
          0.0370106295904256,
          0.03777560432180418,
          0.03855410473199461,
          0.03934722981604287,
          0.04015616295268913,
          0.04098216979135316,
          0.04182659534759489,
          0.042690860292669525,
          0.04357645642969625,
          0.04448494135615758,
          0.04541793231988595,
          0.04637709928330005,
          0.04736415721835816,
          0.04838085766241369,
          0.049428979572823016,
          0.05051031952567608,
          0.05162668131133152,
          0.052779864986448356,
          0.053971655448848826,
          0.05520381060774473,
          0.05647804922754166,
          0.057796038528539255,
          0.059159381632300896,
          0.06056960494323402,
          0.06202814556093283,
          0.0635363388200655,
          0.06509540605598925,
          0.06670644269483295,
          0.06837040676646956,
          0.07008810793760993,
          0.07186019716017672,
          0.07368715702717538,
          0.07556929292447886,
          0.07750672506231995,
          0.07949938146485985,
          0.08154699199002823,
          0.08364908344495414,
          0.0858049758547832,
          0.08801377993457213,
          0.09027439580534274,
          0.09258551298632219,
          0.0949456116860028,
          0.09735296540497622,
          0.0998056448536484,
          0.10230152317799468,
          0.10483828247656493,
          0.10741342158209279,
          0.11002426507137729,
          0.11266797345769484,
          0.11534155451093044,
          0.11804187564198931,
          0.12076567727992192,
          0.12350958716266014,
          0.12627013545535704,
          0.12904377060413671,
          0.1318268758276181,
          0.1346157861439395,
          0.13740680582719786,
          0.14019622618427377,
          0.14298034354093078,
          0.14575547732489474,
          0.14851798813329903,
          0.15126429567245414,
          0.1539908964593137,
          0.15669438117624726,
          0.15937145157377597,
          0.1620189368197089,
          0.16463380919760476,
          0.1672131990626263,
          0.16975440896857505,
          0.1722549268861441,
          0.17471243843912734,
          0.17712483809242038,
          0.17949023923304683,
          0.18180698309308857,
          0.184073646471218,
          0.18628904821743716,
          0.18845225445356742,
          0.19056258250993569,
          0.19261960356649901,
          0.1946231439942849,
          0.19657328540044186,
          0.1984703633873548,
          0.20031496504311638,
          0.20210792518714968,
          0.20385032140089784,
          0.20554346787921415,
          0.20718890814338164,
          0.208788406661563,
          0.21034393942689847,
          0.21185768354746437,
          0.21333200590584736,
          0.21476945094923014,
          0.21617272767358697,
          0.21754469586792885,
          0.21888835168648388,
          0.22020681261831596,
          0.22150330192517562,
          0.22278113261936977,
          0.22404369105418023,
          0.22529442019984314,
          0.22653680267839646,
          0.22777434363078294,
          0.2290105534895393,
          0.2302489307301673,
          0.23149294467395323,
          0.2327460184145185,
          0.2340115119398227,
          0.23529270552065637,
          0.23659278343588144,
          0.23791481810379184,
          0.23926175468795519,
          0.2406363962447861,
          0.2420413894788127,
          0.24347921117018942,
          0.2449521553373872,
          0.24646232119619477,
          0.24801160197411784,
          0.24960167463697863,
          0.25123399058195095,
          0.25290976734838455,
          0.2546299813945855,
          0.2563953619851593,
          0.25820638622961495,
          0.2600632753086182,
          0.2619659919195948,
          0.26391423896829497,
          0.2659074595274156,
          0.26794483807751296,
          0.27002530303914624,
          0.27214753059856694,
          0.2743099498222968,
          0.2765107490486554,
          0.27874788353676905,
          0.2810190843458241,
          0.2833218684094275,
          0.2856535497619099,
          0.2880112518653535,
          0.29039192097813105,
          0.29279234049781866,
          0.29520914620365696,
          0.2976388423163006,
          0.30007781828551994,
          0.30252236620990924,
          0.30496869878654076,
          0.3074129676830355,
          0.30985128221971797,
          0.31227972824549005,
          0.31469438708787784,
          0.31709135445538417,
          0.31946675916895073,
          0.32181678159897703,
          0.3241376716850228,
          0.3264257664170767,
          0.3286775066600752,
          0.33088945320727187,
          0.3330583019529922,
          0.33518089808133805,
          0.3372542491744071,
          0.3392755371515618,
          0.3412421289601819,
          0.3431515859480103,
          0.34500167185767266,
          0.34679035939504876,
          0.3485158353348219,
          0.3501765041386232,
          0.3517709900735931,
          0.35329813783178643,
          0.3547570116634933,
          0.35614689305018116,
          0.35746727695510677,
          0.3587178667017613,
          0.359898567541875,
          0.3610094789857411,
          0.3620508859779056,
          0.36302324901075617,
          0.36392719327709927,
          0.364763496970327,
          0.36553307884722286,
          0.36623698517368336,
          0.3668763761776651,
          0.3674525121364001,
          0.36796673922636636,
          0.36842047526462146,
          0.3688151954689247,
          0.3691524183616025,
          0.36943369193835107,
          0.369660580218264,
          0.3698346502852498,
          0.36995745992386475,
          0.37003054594445467,
          0.3700554132834742,
          0.37003352495508113,
          0.36996629291967903,
          0.36985506992411976,
          0.36970114235694557,
          0.36950572415045296,
          0.3692699517496323,
          0.36899488015633974,
          0.36868148004550205,
          0.36833063593887605,
          0.36794314541101375,
          0.3675197192917419,
          0.3670609828197407,
          0.3665674776928391,
          0.36603966495247764,
          0.3654779286325485,
          0.36488258009653807,
          0.36425386298163126,
          0.3635919586642526,
          0.36289699215839616,
          0.36216903835609854,
          0.3614081285184855,
          0.36061425692600274,
          0.35978738759765844,
          0.3589274609913521,
          0.35803440060056124,
          0.3571081193667612,
          0.3561485258318892,
          0.3551555299608448,
          0.35412904857036914,
          0.35306901030755977,
          0.3519753601286767,
          0.35084806323666307,
          0.3496871084438543,
          0.34849251093456046,
          0.3472643144105132,
          0.346002592610424,
          0.3447074502030637,
          0.3433790230612001,
          0.34201747793139564,
          0.3406230115219172,
          0.3391958490378625,
          0.33773624219890774,
          0.33624446678084824,
          0.3347208197272347,
          0.3331656158819,
          0.3315791843969738,
          0.32996186487408535,
          0.3283140032988202,
          0.32663594783017275,
          0.32492804450765267,
          0.32319063293894057,
          0.3214240420305108,
          0.3196285858225143,
          0.31780455948742975,
          0.3159522355496278,
          0.31407186038004886,
          0.3121636510167511,
          0.3102277923581665,
          0.30826443477156423,
          0.3062736921545276,
          0.30425564048224535,
          0.30221031686815686,
          0.3001377191600409,
          0.29803780608803415,
          0.2959104979753919,
          0.293755678017075,
          0.29157319412557003,
          0.2893628613376965,
          0.28712446477066816,
          0.2848577631103073,
          0.28256249260917593,
          0.28023837156747694,
          0.2778851052649575,
          0.2755023913077241,
          0.27308992534991794,
          0.27064740714657054,
          0.26817454689075393,
          0.26567107178531396,
          0.2631367327970838,
          0.2605713115395142,
          0.2579746272281373,
          0.2553465436522032,
          0.25268697610521923,
          0.2499958982169217,
          0.24727334862951092,
          0.2445194374616511,
          0.2417343525049029,
          0.2389183650987739,
          0.2360718356325489,
          0.23319521862437428,
          0.23028906733077772,
          0.22735403784284355,
          0.22439089262862014,
          0.2214005034849938,
          0.21838385386618694,
          0.21534204056019832,
          0.2122762746888828,
          0.20918788201191585,
          0.20607830251960518,
          0.20294908930431418,
          0.19980190670519132,
          0.19663852772583934,
          0.19346083072954676,
          0.19027079542165984,
          0.1870704981335932,
          0.18386210642780323,
          0.18064787304778643,
          0.1774301292417212,
          0.1742112774927986,
          0.17099378369346915,
          0.16778016880481786,
          0.1645730000459812,
          0.16137488166195224,
          0.15818844532124546,
          0.15501634019768168,
          0.15186122279301298,
          0.14872574655917842,
          0.14561255138070436,
          0.14252425297906568,
          0.13946343230174835,
          0.13643262495925473,
          0.13343431077338958,
          0.13047090349983798,
          0.1275447407873182,
          0.12465807443442553,
          0.12181306100374673,
          0.11901175285084861,
          0.11625608962341803,
          0.11354789028310348,
          0.110888845699536,
          0.10828051186259408,
          0.10572430375524189,
          0.10322148992523981,
          0.10077318778973182,
          0.09838035970216373,
          0.09604380980623911,
          0.09376418169666806,
          0.0915419569013893,
          0.08937745419471947,
          0.08727082974561343,
          0.08522207809986855,
          0.08323103398977215,
          0.0812973749593671,
          0.07942062478826448,
          0.0776001576917765,
          0.07583520327014263,
          0.07412485217477718,
          0.07246806245485589,
          0.07086366654317425,
          0.06931037883612248,
          0.06780680381883238,
          0.0663514446831082,
          0.06494271238267664,
          0.06357893506760895,
          0.06225836783749249,
          0.060979202751098104,
          0.0597395790288934,
          0.058537593383833,
          0.05737131041538743,
          0.0562387730017981,
          0.05513801262602728,
          0.05406705957184079,
          0.05302395292788441,
          0.05200675033949877,
          0.05101353745033681,
          0.050042436978589164,
          0.04909161737575959,
          0.04815930101944746,
          0.04724377189543809,
          0.04634338272857284,
          0.04545656152629675,
          0.044581817503460755,
          0.043717746361815024,
          0.04286303490265558,
          0.04201646495621359,
          0.041176916616573564,
          0.040343370776123835,
          0.03951491095873632,
          0.038690724455994335,
          0.03787010277580511,
          0.03705244141758299,
          0.03623723899286149,
          0.0354240957146133,
          0.03461271128272239,
          0.033802882196907344
         ],
         "yaxis": "y"
        },
        {
         "legendgroup": "Group 3",
         "marker": {
          "color": "rgb(44, 160, 44)"
         },
         "mode": "lines",
         "name": "Group 3",
         "showlegend": false,
         "type": "scatter",
         "x": [
          -0.8706864672372112,
          -0.859557121069195,
          -0.8484277749011788,
          -0.8372984287331627,
          -0.8261690825651465,
          -0.8150397363971303,
          -0.8039103902291141,
          -0.792781044061098,
          -0.7816516978930819,
          -0.7705223517250657,
          -0.7593930055570495,
          -0.7482636593890333,
          -0.7371343132210171,
          -0.726004967053001,
          -0.7148756208849848,
          -0.7037462747169686,
          -0.6926169285489524,
          -0.6814875823809363,
          -0.6703582362129201,
          -0.6592288900449039,
          -0.6480995438768877,
          -0.6369701977088715,
          -0.6258408515408553,
          -0.6147115053728393,
          -0.6035821592048229,
          -0.592452813036807,
          -0.5813234668687908,
          -0.5701941207007746,
          -0.5590647745327584,
          -0.5479354283647422,
          -0.536806082196726,
          -0.5256767360287098,
          -0.5145473898606936,
          -0.5034180436926775,
          -0.4922886975246613,
          -0.48115935135664517,
          -0.470030005188629,
          -0.4589006590206128,
          -0.44777131285259664,
          -0.43664196668458044,
          -0.4255126205165643,
          -0.4143832743485481,
          -0.40325392818053196,
          -0.39212458201251577,
          -0.38099523584449957,
          -0.3698658896764834,
          -0.3587365435084673,
          -0.3476071973404511,
          -0.3364778511724348,
          -0.3253485050044187,
          -0.3142191588364026,
          -0.3030898126683863,
          -0.2919604665003702,
          -0.280831120332354,
          -0.2697017741643378,
          -0.25857242799632174,
          -0.24744308182830543,
          -0.23631373566028935,
          -0.22518438949227315,
          -0.21405504332425696,
          -0.20292569715624087,
          -0.19179635098822456,
          -0.18066700482020848,
          -0.16953765865219228,
          -0.15840831248417608,
          -0.14727896631616,
          -0.1361496201481438,
          -0.1250202739801276,
          -0.11389092781211141,
          -0.10276158164409521,
          -0.09163223547607913,
          -0.08050288930806293,
          -0.06937354314004673,
          -0.05824419697203054,
          -0.04711485080401434,
          -0.035985504635998256,
          -0.02485615846798206,
          -0.013726812299965863,
          -0.002597466131949666,
          0.00853188003606642,
          0.019661226204082616,
          0.030790572372098812,
          0.04191991854011501,
          0.053049264708131205,
          0.06417861087614729,
          0.0753079570441636,
          0.08643730321217968,
          0.09756664938019588,
          0.10869599554821208,
          0.11982534171622816,
          0.13095468788424447,
          0.14208403405226067,
          0.15321338022027664,
          0.16434272638829284,
          0.17547207255630903,
          0.18660141872432523,
          0.19773076489234165,
          0.20886011106035762,
          0.21998945722837382,
          0.23111880339639002,
          0.242248149564406,
          0.2533774957324224,
          0.2645068419004386,
          0.2756361880684546,
          0.2867655342364708,
          0.297894880404487,
          0.30902422657250317,
          0.32015357274051937,
          0.33128291890853556,
          0.34241226507655176,
          0.35354161124456773,
          0.36467095741258415,
          0.37580030358060035,
          0.3869296497486163,
          0.3980589959166325,
          0.4091883420846487,
          0.4203176882526649,
          0.4314470344206811,
          0.4425763805886973,
          0.4537057267567133,
          0.4648350729247295,
          0.4759644190927459,
          0.4870937652607621,
          0.49822311142877806,
          0.5093524575967943,
          0.5204818037648105,
          0.5316111499328267,
          0.5427404961008429,
          0.553869842268859,
          0.564999188436875,
          0.5761285346048912,
          0.5872578807729076,
          0.5983872269409236,
          0.6095165731089398,
          0.620645919276956,
          0.6317752654449722,
          0.6429046116129884,
          0.6540339577810046,
          0.6651633039490208,
          0.6762926501170368,
          0.687421996285053,
          0.6985513424530694,
          0.7096806886210854,
          0.7208100347891016,
          0.7319393809571177,
          0.7430687271251337,
          0.7541980732931501,
          0.7653274194611663,
          0.7764567656291825,
          0.7875861117971985,
          0.7987154579652147,
          0.8098448041332311,
          0.8209741503012471,
          0.8321034964692633,
          0.8432328426372795,
          0.8543621888052955,
          0.8654915349733119,
          0.8766208811413281,
          0.887750227309344,
          0.8988795734773602,
          0.9100089196453764,
          0.9211382658133929,
          0.9322676119814088,
          0.943396958149425,
          0.9545263043174412,
          0.9656556504854574,
          0.9767849966534736,
          0.9879143428214898,
          0.9990436889895058,
          1.010173035157522,
          1.0213023813255384,
          1.0324317274935544,
          1.0435610736615706,
          1.0546904198295868,
          1.065819765997603,
          1.0769491121656192,
          1.0880784583336354,
          1.0992078045016516,
          1.1103371506696675,
          1.1214664968376837,
          1.1325958430057002,
          1.1437251891737161,
          1.1548545353417325,
          1.1659838815097485,
          1.1771132276777645,
          1.188242573845781,
          1.1993719200137969,
          1.2105012661818133,
          1.2216306123498293,
          1.2327599585178453,
          1.2438893046858617,
          1.2550186508538776,
          1.2661479970218945,
          1.2772773431899105,
          1.2884066893579265,
          1.2995360355259429,
          1.3106653816939589,
          1.3217947278619748,
          1.3329240740299912,
          1.3440534201980072,
          1.3551827663660232,
          1.3663121125340396,
          1.377441458702056,
          1.388570804870072,
          1.3997001510380884,
          1.4108294972061044,
          1.4219588433741204,
          1.4330881895421368,
          1.4442175357101528,
          1.4553468818781687,
          1.4664762280461852,
          1.4776055742142011,
          1.4887349203822176,
          1.499864266550234,
          1.51099361271825,
          1.522122958886266,
          1.5332523050542823,
          1.5443816512222983,
          1.5555109973903147,
          1.5666403435583307,
          1.5777696897263467,
          1.588899035894363,
          1.6000283820623795,
          1.6111577282303955,
          1.622287074398412,
          1.6334164205664279,
          1.6445457667344439,
          1.6556751129024603,
          1.6668044590704763,
          1.6779338052384922,
          1.6890631514065086,
          1.7001924975745246,
          1.711321843742541,
          1.7224511899105575,
          1.7335805360785734,
          1.7447098822465894,
          1.7558392284146058,
          1.7669685745826218,
          1.7780979207506378,
          1.7892272669186542,
          1.8003566130866702,
          1.8114859592546861,
          1.822615305422703,
          1.833744651590719,
          1.8448739977587354,
          1.8560033439267514,
          1.8671326900947673,
          1.8782620362627838,
          1.8893913824307997,
          1.9005207285988157,
          1.9116500747668321,
          1.922779420934848,
          1.9339087671028645,
          1.945038113270881,
          1.956167459438897,
          1.967296805606913,
          1.9784261517749293,
          1.9895554979429453,
          2.0006848441109613,
          2.0118141902789777,
          2.0229435364469937,
          2.03407288261501,
          2.0452022287830265,
          2.0563315749510425,
          2.0674609211190584,
          2.078590267287075,
          2.089719613455091,
          2.100848959623107,
          2.1119783057911232,
          2.123107651959139,
          2.1342369981271556,
          2.145366344295172,
          2.156495690463188,
          2.1676250366312044,
          2.1787543827992204,
          2.1898837289672364,
          2.201013075135253,
          2.2121424213032688,
          2.2232717674712847,
          2.234401113639301,
          2.245530459807317,
          2.2566598059753336,
          2.26778915214335,
          2.278918498311366,
          2.290047844479382,
          2.3011771906473983,
          2.3123065368154143,
          2.3234358829834303,
          2.3345652291514467,
          2.3456945753194627,
          2.3568239214874787,
          2.3679532676554955,
          2.3790826138235115,
          2.390211959991528,
          2.401341306159544,
          2.41247065232756,
          2.4235999984955763,
          2.4347293446635923,
          2.4458586908316082,
          2.4569880369996246,
          2.4681173831676406,
          2.479246729335657,
          2.4903760755036735,
          2.5015054216716894,
          2.5126347678397054,
          2.523764114007722,
          2.534893460175738,
          2.5460228063437538,
          2.55715215251177,
          2.568281498679786,
          2.579410844847802,
          2.590540191015819,
          2.601669537183835,
          2.612798883351851,
          2.6239282295198674,
          2.6350575756878833,
          2.6461869218558993,
          2.6573162680239157,
          2.6684456141919317,
          2.679574960359948,
          2.690704306527964,
          2.7018336526959805,
          2.712962998863997,
          2.724092345032013,
          2.735221691200029,
          2.7463510373680453,
          2.7574803835360613,
          2.7686097297040773,
          2.7797390758720937,
          2.7908684220401097,
          2.801997768208126,
          2.8131271143761425,
          2.8242564605441585,
          2.8353858067121744,
          2.846515152880191,
          2.857644499048207,
          2.868773845216223,
          2.8799031913842392,
          2.891032537552255,
          2.902161883720271,
          2.913291229888288,
          2.924420576056304,
          2.93554992222432,
          2.9466792683923364,
          2.9578086145603524,
          2.968937960728369,
          2.9800673068963848,
          2.9911966530644007,
          3.002325999232417,
          3.013455345400433,
          3.0245846915684496,
          3.035714037736466,
          3.046843383904482,
          3.057972730072498,
          3.0691020762405143,
          3.0802314224085303,
          3.0913607685765463,
          3.1024901147445627,
          3.1136194609125787,
          3.1247488070805947,
          3.1358781532486115,
          3.147007499416628,
          3.1581368455846435,
          3.16926619175266,
          3.1803955379206763,
          3.191524884088692,
          3.2026542302567083,
          3.2137835764247247,
          3.22491292259274,
          3.2360422687607566,
          3.247171614928773,
          3.2583009610967895,
          3.269430307264805,
          3.2805596534328214,
          3.291688999600838,
          3.3028183457688534,
          3.3139476919368698,
          3.325077038104886,
          3.3362063842729017,
          3.347335730440918,
          3.3584650766089346,
          3.36959442277695,
          3.3807237689449665,
          3.391853115112983,
          3.4029824612810002,
          3.4141118074490158,
          3.425241153617032,
          3.4363704997850486,
          3.447499845953064,
          3.4586291921210806,
          3.469758538289097,
          3.4808878844571125,
          3.492017230625129,
          3.5031465767931453,
          3.514275922961161,
          3.5254052691291773,
          3.5365346152971937,
          3.5476639614652092,
          3.5587933076332257,
          3.569922653801242,
          3.5810519999692576,
          3.592181346137274,
          3.6033106923052904,
          3.614440038473306,
          3.6255693846413233,
          3.6366987308093397,
          3.6478280769773552,
          3.6589574231453716,
          3.670086769313388,
          3.6812161154814036,
          3.69234546164942,
          3.7034748078174364,
          3.714604153985452,
          3.7257335001534684,
          3.736862846321485,
          3.7479921924895003,
          3.7591215386575167,
          3.770250884825533,
          3.7813802309935487,
          3.792509577161565,
          3.8036389233295815,
          3.814768269497597,
          3.8258976156656135,
          3.83702696183363,
          3.8481563080016463,
          3.8592856541696627,
          3.870415000337679,
          3.8815443465056947,
          3.892673692673711,
          3.9038030388417275,
          3.914932385009743,
          3.9260617311777595,
          3.937191077345776,
          3.9483204235137923,
          3.959449769681808,
          3.9705791158498243,
          3.9817084620178407,
          3.992837808185856,
          4.003967154353873,
          4.015096500521889,
          4.026225846689904,
          4.037355192857921,
          4.048484539025937,
          4.0596138851939525,
          4.07074323136197,
          4.081872577529987,
          4.093001923698003,
          4.104131269866018,
          4.1152606160340355,
          4.126389962202051,
          4.1375193083700665,
          4.148648654538084,
          4.159778000706099,
          4.170907346874115,
          4.182036693042132,
          4.193166039210148,
          4.204295385378163,
          4.215424731546181,
          4.226554077714196,
          4.237683423882212,
          4.248812770050229,
          4.2599421162182445,
          4.27107146238626,
          4.282200808554277,
          4.293330154722293,
          4.30445950089031,
          4.315588847058326,
          4.326718193226341,
          4.3378475393943585,
          4.348976885562374,
          4.36010623173039,
          4.371235577898407,
          4.382364924066422,
          4.393494270234438,
          4.404623616402455,
          4.415752962570471,
          4.426882308738486,
          4.438011654906504,
          4.449141001074519,
          4.460270347242535,
          4.471399693410552,
          4.4825290395785675,
          4.493658385746583,
          4.5047877319146,
          4.515917078082618,
          4.527046424250633,
          4.538175770418649,
          4.549305116586666,
          4.560434462754682,
          4.571563808922697,
          4.582693155090714,
          4.59382250125873,
          4.6049518474267455,
          4.616081193594763,
          4.627210539762778,
          4.638339885930794,
          4.649469232098811,
          4.660598578266827,
          4.671727924434842,
          4.6828572706028595
         ],
         "xaxis": "x",
         "y": [
          0.015902302792646473,
          0.016211731903593322,
          0.016514085299393674,
          0.016808881526886223,
          0.017095655054412674,
          0.01737395760537611,
          0.01764335944359172,
          0.017903450613426335,
          0.01815384213860953,
          0.018394167184386356,
          0.018624082188356882,
          0.01884326796589527,
          0.01905143079644821,
          0.01924830349727255,
          0.0194336464912718,
          0.019607248875531568,
          0.01976892949692724,
          0.019918538040785874,
          0.020055956138031586,
          0.020181098495532013,
          0.020293914053504246,
          0.020394387172840703,
          0.020482538854090813,
          0.02055842798860134,
          0.020622152640990172,
          0.020673851360727136,
          0.020713704519139935,
          0.02074193566667552,
          0.020758812903749584,
          0.020764650257031482,
          0.020759809051562817,
          0.020744699267717062,
          0.020719780870697486,
          0.02068556509906157,
          0.02064261569767434,
          0.0205915500795456,
          0.020533040400217233,
          0.020467814527748904,
          0.020396656890915354,
          0.020320409187989788,
          0.020239970938448194,
          0.020156299860097038,
          0.02007041205450296,
          0.019983381984186553,
          0.019896342225831254,
          0.01981048298474619,
          0.019727051357001316,
          0.019647350327013372,
          0.019572737489890607,
          0.019504623489527608,
          0.019444470165264488,
          0.019393788401868672,
          0.019354135679644974,
          0.019327113323611537,
          0.019314363452874947,
          0.019317565633577737,
          0.01933843324105597,
          0.019378709539112454,
          0.019440163486562,
          0.01952458528342308,
          0.019633781671292306,
          0.019769571004529852,
          0.019933778110887417,
          0.020128228962111108,
          0.020354745176833184,
          0.02061513837971865,
          0.020911204442342377,
          0.021244717632627235,
          0.02161742470086925,
          0.0220310389313985,
          0.02248723418977231,
          0.022987638996062508,
          0.02353383065527625,
          0.024127329476239766,
          0.02476959311037049,
          0.025462011041666767,
          0.02620589925895516,
          0.027002495140951842,
          0.02785295258402119,
          0.02875833740165143,
          0.029719623023618007,
          0.03073768652157426,
          0.03181330498640162,
          0.03294715228107116,
          0.03413979619102472,
          0.035391695992181456,
          0.03670320045462628,
          0.03807454629784552,
          0.039505857111056614,
          0.04099714274974308,
          0.0425482992169638,
          0.04415910903537339,
          0.04582924211318247,
          0.04755825710451571,
          0.04934560326181217,
          0.05119062277507264,
          0.05309255358990997,
          0.05505053269351959,
          0.057063599854885086,
          0.059130701802771406,
          0.061250696822379595,
          0.06342235974893935,
          0.0656443873340349,
          0.06791540395810788,
          0.0702339676603798,
          0.07259857645540044,
          0.07500767490358201,
          0.07745966090142616,
          0.07995289265571633,
          0.08248569580473429,
          0.08505637064858577,
          0.08766319944998512,
          0.09030445376636033,
          0.09297840177390887,
          0.095683315544244,
          0.09841747823453777,
          0.10117919115257396,
          0.10396678065886518,
          0.10677860486896183,
          0.10961306012026546,
          0.11246858716904878,
          0.11534367708495945,
          0.11823687681203224,
          0.12114679436713426,
          0.12407210364880132,
          0.12701154883157234,
          0.1299639483231792,
          0.13292819826427124,
          0.13590327555273965,
          0.13888824037713235,
          0.14188223824610813,
          0.14488450150333745,
          0.14789435031972817,
          0.15091119315730084,
          0.15393452670146937,
          0.1569639352608844,
          0.15999908963636122,
          0.16303974546274666,
          0.16608574102986326,
          0.1691369945909341,
          0.1721935011690941,
          0.17525532887479425,
          0.1783226147490527,
          0.18139556014965008,
          0.18447442569947828,
          0.18755952581836632,
          0.190651222861807,
          0.19374992089209933,
          0.1968560591095281,
          0.19997010497329526,
          0.20309254704400906,
          0.20622388758163535,
          0.2093646349348854,
          0.21251529576006994,
          0.2156763671094672,
          0.2188483284312195,
          0.22203163352466074,
          0.2252267024967733,
          0.22843391376715552,
          0.2316535961703869,
          0.2348860212060348,
          0.23813139548765636,
          0.2413898534430244,
          0.24466145031838946,
          0.24794615553983967,
          0.25124384648472053,
          0.2545543027155705,
          0.2578772007280947,
          0.2612121092633034,
          0.2645584852320589,
          0.2679156702978789,
          0.2712828881609198,
          0.2746592425825964,
          0.2780437161862854,
          0.28143517006500224,
          0.28483234422185094,
          0.28823385886343994,
          0.2916382165603587,
          0.29504380528226043,
          0.2984489023081327,
          0.301851679005013,
          0.305250206460795,
          0.3086424619489251,
          0.3120263361947765,
          0.31539964140544835,
          0.31876012001667375,
          0.32210545410259844,
          0.32543327538648414,
          0.32874117578298256,
          0.3320267183956613,
          0.3352874488869789,
          0.33852090713208555,
          0.34172463906269,
          0.3448962086029108,
          0.34803320959562023,
          0.35113327761532315,
          0.3541941015622045,
          0.3572134349316738,
          0.36018910665453313,
          0.3631190314049287,
          0.36600121927640406,
          0.36883378473076855,
          0.37161495473005174,
          0.3743430759685101,
          0.37701662112946827,
          0.379634194100611,
          0.38219453409114246,
          0.38469651860488835,
          0.38713916523483366,
          0.38952163225662373,
          0.3918432180110954,
          0.3941033590787852,
          0.3963016272624415,
          0.3984377254066636,
          0.4005114820967814,
          0.40252284529173227,
          0.40447187495791326,
          0.4063587347825395,
          0.40818368305579283,
          0.40994706282088555,
          0.41164929139985973,
          0.4132908494104678,
          0.4148722693956259,
          0.41639412419168764,
          0.41785701516496465,
          0.41926156044759616,
          0.42060838330387224,
          0.42189810075651196,
          0.42313131259918774,
          0.42430859091673706,
          0.42543047022815683,
          0.426497438359645,
          0.42750992814573535,
          0.4284683100461507,
          0.42937288575439914,
          0.43022388286163604,
          0.4310214506259724,
          0.43176565688349394,
          0.4324564861228803,
          0.43309383873094814,
          0.43367753140183024,
          0.4342072986880879,
          0.434682795657999,
          0.43510360160981315,
          0.4354692247810478,
          0.43577910797913655,
          0.4360326350490655,
          0.4362291380842187,
          0.4363679052785796,
          0.436448189311863,
          0.43646921615411227,
          0.4364301941729069,
          0.4363303234245213,
          0.4361688050103236,
          0.43594485038119773,
          0.43565769047594255,
          0.43530658458427746,
          0.43489082883121505,
          0.4344097641870406,
          0.4338627839158464,
          0.43324934038531054,
          0.4325689511711134,
          0.43182120440078864,
          0.43100576329378104,
          0.43012236986684554,
          0.42917084778643017,
          0.4281511043622269,
          0.4270631316883754,
          0.4259070069507575,
          0.4246828919302033,
          0.4233910317421017,
          0.4220317528627171,
          0.42060546050132425,
          0.4191126353849783,
          0.4175538300292252,
          0.41592966457328867,
          0.4142408222621375,
          0.41248804466036804,
          0.4106721266839815,
          0.40879391153592665,
          0.4068542856297375,
          0.4048541735827982,
          0.4027945333567547,
          0.4006763516174924,
          0.3985006393809847,
          0.3962684280043393,
          0.39398076557361494,
          0.3916387137316683,
          0.38924334498045715,
          0.38679574048313536,
          0.38429698838198795,
          0.3817481826389913,
          0.3791504223966209,
          0.37650481184770407,
          0.3738124605946349,
          0.3710744844703878,
          0.3682920067865021,
          0.3654661599666861,
          0.36259808751902045,
          0.3596889462949512,
          0.3567399089794151,
          0.35375216675359666,
          0.3507269320699598,
          0.34766544147831463,
          0.34456895844186175,
          0.34143877608317996,
          0.33827621980216,
          0.3350826497107007,
          0.33185946283262074,
          0.3286080950215395,
          0.32533002255440907,
          0.32202676336381736,
          0.31869987787799875,
          0.31535096944364727,
          0.3119816843129389,
          0.30859371118260004,
          0.3051887802792372,
          0.30176866199143826,
          0.29833516505520574,
          0.2948901343050426,
          0.2914354480083911,
          0.2879730148060457,
          0.28450477028556465,
          0.281032673218556,
          0.2775587014959562,
          0.27408484779802866,
          0.2706131150377948,
          0.2671455116179244,
          0.26368404654181854,
          0.26023072441968403,
          0.2567875404098807,
          0.2533564751347722,
          0.24993948960872256,
          0.24653852021387931,
          0.24315547375696037,
          0.2397922226375272,
          0.23645060015522026,
          0.23313239598025257,
          0.22983935180811768,
          0.22657315721611795,
          0.22333544573594447,
          0.22012779115325992,
          0.2169517040420792,
          0.21380862853878438,
          0.21069993935787623,
          0.20762693904911794,
          0.20459085549358386,
          0.20159283963431943,
          0.19863396343588122,
          0.19571521806592773,
          0.192837512291329,
          0.1900016710809047,
          0.18720843440689197,
          0.18445845623757517,
          0.18175230371412465,
          0.17909045650559494,
          0.17647330633714434,
          0.17390115668786485,
          0.17137422265605987,
          0.16889263099135857,
          0.16645642029467175,
          0.16406554138857404,
          0.16171985786226234,
          0.15941914679668417,
          0.15716309967674047,
          0.15495132349858828,
          0.1527833420809718,
          0.15065859759015668,
          0.1485764522883969,
          0.14653619051592204,
          0.14453702091616394,
          0.1425780789133347,
          0.14065842945053236,
          0.138777069995277,
          0.1369329338177835,
          0.13512489354537022,
          0.13335176499421142,
          0.13161231127719525,
          0.12990524718396496,
          0.1282292438263615,
          0.12658293353947328,
          0.1249649150253799,
          0.12337375872351046,
          0.12180801238836317,
          0.1202662068521969,
          0.11874686194727631,
          0.11724849255935685,
          0.11576961478140436,
          0.1143087521340835,
          0.11286444181737985,
          0.11143524095587291,
          0.11001973279868227,
          0.1086165328340178,
          0.10722429477757658,
          0.1058417163937804,
          0.1044675451090519,
          0.1031005833769867,
          0.10173969375638542,
          0.10038380366468827,
          0.09903190977135533,
          0.09768308199816575,
          0.09633646709623628,
          0.09499129177275886,
          0.09364686534397368,
          0.09230258189472408,
          0.0909579219290015,
          0.08961245350015674,
          0.08826583281387287,
          0.08691780430151089,
          0.08556820016599194,
          0.08421693940692812,
          0.08286402633619284,
          0.08150954859947328,
          0.08015367472353738,
          0.07879665121290515,
          0.07743879922330925,
          0.07608051084270634,
          0.0747222450136355,
          0.0733645231333614,
          0.07200792437047551,
          0.07065308073843025,
          0.06930067196782508,
          0.0679514202201505,
          0.06660608468612239,
          0.065265456111686,
          0.06393035129428096,
          0.06260160759101181,
          0.06128007747901169,
          0.05996662320652876,
          0.058662111571143434,
          0.05736740885906981,
          0.056083375976747674,
          0.054810863802938696,
          0.053550708786328616,
          0.05230372881028008,
          0.05107071934289652,
          0.04985244988702095,
          0.04864966074122356,
          0.04746306007930874,
          0.0462933213524085,
          0.045141081014387886,
          0.04400693656810657,
          0.04289144492708874,
          0.04179512108438357,
          0.04071843707789741,
          0.039661821239240835,
          0.038625657711200474,
          0.03761028621732646,
          0.036616002065823675,
          0.035643056368957864,
          0.034691656458530895,
          0.03376196647764854,
          0.03285410812896685,
          0.03196816155986223,
          0.031104166365504424,
          0.030262122691584483,
          0.029441992419448726,
          0.028643700417585922,
          0.027867135844763514,
          0.027112153491593124,
          0.026378575148885575,
          0.025666190992794814,
          0.02497476097841739,
          0.024304016235182805,
          0.02365366045899467,
          0.023023371297645156,
          0.022412801727498693,
          0.021821581420784893,
          0.021249318104060125,
          0.020695598909443003,
          0.02015999172111257,
          0.019642046520253535,
          0.01914129673213516,
          0.018657260579319174,
          0.01818944244510826,
          0.017737334251267587,
          0.017300416853793375,
          0.016878161460072042,
          0.016470031070182974,
          0.01607548194436752,
          0.015693965097836812,
          0.015324927823135706,
          0.014967815239249975,
          0.014622071865560117,
          0.01428714321762822,
          0.013962477420684937,
          0.0136475268355827,
          0.013341749690923013,
          0.013044611714072321,
          0.012755587752874494,
          0.012474163379067772,
          0.012199836463735295,
          0.011932118714576964,
          0.011670537164400337,
          0.011414635599993938,
          0.011163975920478379,
          0.01091813941433128,
          0.010676727944549593,
          0.010439365031846719,
          0.010205696826376814
         ],
         "yaxis": "y"
        },
        {
         "legendgroup": "Group 4",
         "marker": {
          "color": "rgb(214, 39, 40)"
         },
         "mode": "lines",
         "name": "Group 4",
         "showlegend": false,
         "type": "scatter",
         "x": [
          1.2255048501357577,
          1.2369522517124463,
          1.2483996532891348,
          1.2598470548658234,
          1.271294456442512,
          1.2827418580192005,
          1.294189259595889,
          1.3056366611725776,
          1.3170840627492661,
          1.3285314643259547,
          1.3399788659026433,
          1.3514262674793318,
          1.3628736690560204,
          1.374321070632709,
          1.3857684722093975,
          1.397215873786086,
          1.4086632753627746,
          1.4201106769394631,
          1.4315580785161517,
          1.4430054800928405,
          1.4544528816695288,
          1.4659002832462176,
          1.477347684822906,
          1.4887950863995947,
          1.500242487976283,
          1.5116898895529718,
          1.5231372911296603,
          1.534584692706349,
          1.5460320942830372,
          1.557479495859726,
          1.5689268974364146,
          1.5803742990131031,
          1.5918217005897917,
          1.6032691021664802,
          1.6147165037431688,
          1.6261639053198573,
          1.6376113068965459,
          1.6490587084732344,
          1.660506110049923,
          1.6719535116266115,
          1.6834009132033,
          1.6948483147799887,
          1.7062957163566772,
          1.7177431179333658,
          1.7291905195100543,
          1.7406379210867429,
          1.7520853226634314,
          1.76353272424012,
          1.7749801258168085,
          1.786427527393497,
          1.7978749289701859,
          1.8093223305468742,
          1.820769732123563,
          1.8322171337002513,
          1.84366453527694,
          1.8551119368536284,
          1.866559338430317,
          1.8780067400070055,
          1.889454141583694,
          1.9009015431603826,
          1.9123489447370714,
          1.9237963463137597,
          1.9352437478904485,
          1.9466911494671368,
          1.9581385510438256,
          1.969585952620514,
          1.9810333541972027,
          1.992480755773891,
          2.00392815735058,
          2.015375558927268,
          2.026822960503957,
          2.0382703620806453,
          2.049717763657334,
          2.061165165234023,
          2.072612566810711,
          2.0840599683873995,
          2.0955073699640883,
          2.1069547715407766,
          2.1184021731174654,
          2.1298495746941537,
          2.1412969762708425,
          2.1527443778475313,
          2.1641917794242196,
          2.175639181000908,
          2.1870865825775967,
          2.1985339841542855,
          2.209981385730974,
          2.221428787307662,
          2.232876188884351,
          2.2443235904610397,
          2.255770992037728,
          2.2672183936144163,
          2.278665795191105,
          2.290113196767794,
          2.3015605983444822,
          2.3130079999211706,
          2.3244554014978593,
          2.335902803074548,
          2.347350204651237,
          2.358797606227925,
          2.3702450078046136,
          2.3816924093813023,
          2.393139810957991,
          2.404587212534679,
          2.4160346141113678,
          2.4274820156880565,
          2.4389294172647453,
          2.4503768188414337,
          2.461824220418122,
          2.4732716219948108,
          2.484719023571499,
          2.496166425148188,
          2.507613826724876,
          2.519061228301565,
          2.5305086298782533,
          2.541956031454942,
          2.5534034330316304,
          2.564850834608319,
          2.576298236185008,
          2.5877456377616963,
          2.5991930393383846,
          2.6106404409150734,
          2.622087842491762,
          2.6335352440684505,
          2.644982645645139,
          2.6564300472218276,
          2.6678774487985164,
          2.6793248503752047,
          2.690772251951893,
          2.702219653528582,
          2.7136670551052706,
          2.7251144566819594,
          2.7365618582586473,
          2.748009259835336,
          2.759456661412025,
          2.770904062988713,
          2.7823514645654015,
          2.7937988661420903,
          2.805246267718779,
          2.8166936692954674,
          2.828141070872156,
          2.8395884724488445,
          2.8510358740255333,
          2.8624832756022216,
          2.8739306771789104,
          2.8853780787555987,
          2.8968254803322875,
          2.908272881908976,
          2.9197202834856646,
          2.931167685062353,
          2.9426150866390417,
          2.9540624882157305,
          2.965509889792419,
          2.976957291369107,
          2.988404692945796,
          2.9998520945224847,
          3.0112994960991726,
          3.0227468976758614,
          3.03419429925255,
          3.045641700829239,
          3.0570891024059272,
          3.0685365039826156,
          3.0799839055593043,
          3.091431307135993,
          3.1028787087126815,
          3.11432611028937,
          3.1257735118660586,
          3.1372209134427473,
          3.1486683150194357,
          3.160115716596124,
          3.171563118172813,
          3.1830105197495016,
          3.19445792132619,
          3.2059053229028787,
          3.217352724479567,
          3.2288001260562558,
          3.240247527632944,
          3.251694929209633,
          3.263142330786321,
          3.2745897323630095,
          3.2860371339396983,
          3.297484535516387,
          3.3089319370930754,
          3.320379338669764,
          3.3318267402464525,
          3.3432741418231413,
          3.3547215433998296,
          3.3661689449765184,
          3.3776163465532067,
          3.3890637481298955,
          3.400511149706584,
          3.4119585512832726,
          3.423405952859961,
          3.4348533544366497,
          3.446300756013338,
          3.457748157590027,
          3.4691955591667156,
          3.4806429607434035,
          3.4920903623200923,
          3.503537763896781,
          3.51498516547347,
          3.5264325670501577,
          3.5378799686268465,
          3.5493273702035353,
          3.560774771780224,
          3.5722221733569124,
          3.5836695749336007,
          3.5951169765102895,
          3.6065643780869783,
          3.6180117796636666,
          3.629459181240355,
          3.6409065828170437,
          3.6523539843937325,
          3.663801385970421,
          3.6752487875471096,
          3.686696189123798,
          3.6981435907004867,
          3.709590992277175,
          3.721038393853864,
          3.732485795430552,
          3.7439331970072405,
          3.7553805985839293,
          3.766828000160618,
          3.7782754017373064,
          3.7897228033139947,
          3.8011702048906835,
          3.8126176064673722,
          3.824065008044061,
          3.835512409620749,
          3.8469598111974377,
          3.8584072127741265,
          3.8698546143508152,
          3.881302015927503,
          3.892749417504192,
          3.9041968190808807,
          3.9156442206575695,
          3.927091622234258,
          3.938539023810946,
          3.949986425387635,
          3.9614338269643237,
          3.972881228541012,
          3.9843286301177003,
          3.995776031694389,
          4.007223433271077,
          4.018670834847766,
          4.030118236424455,
          4.041565638001144,
          4.053013039577832,
          4.06446044115452,
          4.075907842731209,
          4.087355244307897,
          4.098802645884586,
          4.110250047461275,
          4.121697449037963,
          4.133144850614652,
          4.14459225219134,
          4.156039653768029,
          4.167487055344718,
          4.178934456921406,
          4.190381858498094,
          4.201829260074783,
          4.213276661651472,
          4.224724063228161,
          4.2361714648048485,
          4.247618866381537,
          4.259066267958226,
          4.270513669534914,
          4.281961071111603,
          4.2934084726882915,
          4.30485587426498,
          4.316303275841669,
          4.327750677418358,
          4.339198078995046,
          4.3506454805717345,
          4.362092882148422,
          4.373540283725111,
          4.3849876853018,
          4.396435086878489,
          4.4078824884551775,
          4.419329890031866,
          4.430777291608555,
          4.442224693185243,
          4.453672094761931,
          4.46511949633862,
          4.476566897915308,
          4.488014299491997,
          4.499461701068686,
          4.510909102645375,
          4.5223565042220635,
          4.533803905798751,
          4.545251307375439,
          4.556698708952128,
          4.568146110528817,
          4.579593512105506,
          4.591040913682194,
          4.602488315258883,
          4.613935716835572,
          4.62538311841226,
          4.636830519988948,
          4.6482779215656365,
          4.659725323142325,
          4.671172724719014,
          4.682620126295703,
          4.694067527872392,
          4.70551492944908,
          4.716962331025768,
          4.728409732602457,
          4.739857134179145,
          4.751304535755834,
          4.7627519373325224,
          4.774199338909211,
          4.7856467404859,
          4.797094142062588,
          4.808541543639277,
          4.819988945215965,
          4.831436346792654,
          4.842883748369342,
          4.854331149946031,
          4.86577855152272,
          4.877225953099408,
          4.888673354676097,
          4.900120756252785,
          4.911568157829474,
          4.923015559406163,
          4.9344629609828505,
          4.945910362559539,
          4.957357764136228,
          4.968805165712917,
          4.980252567289606,
          4.9916999688662935,
          5.003147370442982,
          5.01459477201967,
          5.026042173596359,
          5.037489575173048,
          5.0489369767497365,
          5.060384378326425,
          5.071831779903114,
          5.083279181479803,
          5.094726583056491,
          5.106173984633179,
          5.117621386209867,
          5.129068787786556,
          5.140516189363245,
          5.151963590939934,
          5.1634109925166225,
          5.174858394093311,
          5.18630579567,
          5.197753197246687,
          5.209200598823376,
          5.220648000400065,
          5.232095401976753,
          5.243542803553442,
          5.254990205130131,
          5.26643760670682,
          5.2778850082835085,
          5.289332409860197,
          5.300779811436884,
          5.312227213013573,
          5.323674614590262,
          5.335122016166951,
          5.346569417743639,
          5.358016819320328,
          5.369464220897017,
          5.380911622473704,
          5.392359024050393,
          5.4038064256270815,
          5.41525382720377,
          5.426701228780459,
          5.438148630357148,
          5.449596031933837,
          5.461043433510525,
          5.472490835087212,
          5.483938236663901,
          5.49538563824059,
          5.506833039817279,
          5.5182804413939675,
          5.529727842970656,
          5.541175244547345,
          5.552622646124034,
          5.5640700477007226,
          5.5755174492774096,
          5.586964850854098,
          5.598412252430787,
          5.609859654007476,
          5.621307055584165,
          5.632754457160853,
          5.644201858737542,
          5.655649260314231,
          5.667096661890918,
          5.678544063467607,
          5.6899914650442955,
          5.701438866620984,
          5.712886268197673,
          5.724333669774362,
          5.735781071351049,
          5.747228472927739,
          5.758675874504426,
          5.770123276081117,
          5.781570677657804,
          5.793018079234493,
          5.8044654808111815,
          5.81591288238787,
          5.827360283964557,
          5.838807685541248,
          5.850255087117935,
          5.861702488694625,
          5.873149890271312,
          5.884597291848001,
          5.89604469342469,
          5.907492095001379,
          5.9189394965780675,
          5.930386898154756,
          5.941834299731443,
          5.953281701308134,
          5.964729102884821,
          5.97617650446151,
          5.987623906038198,
          5.999071307614887,
          6.010518709191576,
          6.021966110768265,
          6.033413512344952,
          6.0448609139216405,
          6.056308315498329,
          6.067755717075018,
          6.079203118651707,
          6.090650520228396,
          6.102097921805084,
          6.113545323381773,
          6.124992724958462,
          6.136440126535149,
          6.147887528111838,
          6.1593349296885265,
          6.170782331265215,
          6.182229732841904,
          6.193677134418593,
          6.205124535995282,
          6.21657193757197,
          6.228019339148657,
          6.239466740725346,
          6.250914142302035,
          6.262361543878724,
          6.2738089454554125,
          6.285256347032101,
          6.29670374860879,
          6.308151150185479,
          6.319598551762166,
          6.331045953338855,
          6.342493354915543,
          6.353940756492232,
          6.365388158068921,
          6.37683555964561,
          6.388282961222298,
          6.399730362798987,
          6.411177764375674,
          6.422625165952365,
          6.434072567529052,
          6.4455199691057405,
          6.456967370682429,
          6.468414772259118,
          6.479862173835807,
          6.491309575412496,
          6.502756976989183,
          6.514204378565873,
          6.52565178014256,
          6.537099181719249,
          6.548546583295938,
          6.5599939848726265,
          6.571441386449315,
          6.582888788026004,
          6.594336189602691,
          6.605783591179382,
          6.617230992756069,
          6.628678394332757,
          6.640125795909446,
          6.651573197486135,
          6.663020599062824,
          6.6744680006395125,
          6.6859154022161995,
          6.69736280379289,
          6.708810205369577,
          6.720257606946266,
          6.731705008522955,
          6.743152410099643,
          6.754599811676332,
          6.766047213253021,
          6.77749461482971,
          6.788942016406397,
          6.8003894179830855,
          6.811836819559774,
          6.823284221136463,
          6.834731622713152,
          6.846179024289841,
          6.857626425866529,
          6.869073827443218,
          6.880521229019905,
          6.891968630596594,
          6.903416032173283,
          6.9148634337499715,
          6.92631083532666,
          6.937758236903349
         ],
         "xaxis": "x",
         "y": [
          0.024535727649417652,
          0.0252825719257423,
          0.02603631967829675,
          0.02679630063438556,
          0.027561822463667427,
          0.028332172919774613,
          0.029106622176525702,
          0.02988442535448794,
          0.030664825232079276,
          0.03144705513380212,
          0.03223034198658368,
          0.03301390953357503,
          0.033796981693150326,
          0.0345787860492631,
          0.0353585574577744,
          0.03613554175188668,
          0.03690899952841051,
          0.037678209995279384,
          0.03844247485952365,
          0.03920112223383504,
          0.03995351053891409,
          0.0406990323780066,
          0.04143711835941417,
          0.0421672408423248,
          0.0428889175810514,
          0.04360171524271306,
          0.04430525277353525,
          0.04499920458930138,
          0.04568330356604933,
          0.046357343807882444,
          0.047021183169747675,
          0.047674745514223335,
          0.04831802268274815,
          0.048951076163303735,
          0.04957403843832533,
          0.05018711399854694,
          0.05079058001057202,
          0.051384786628187316,
          0.051970156939781846,
          0.05254718654668173,
          0.053116442769739904,
          0.05367856348410886,
          0.054234255584749924,
          0.05478429308787313,
          0.05532951487613062,
          0.05587082209798601,
          0.05640917523422065,
          0.05694559084699921,
          0.05748113802927625,
          0.05801693457455869,
          0.058554142889129454,
          0.0590939656707647,
          0.05963764137972051,
          0.0601864395293131,
          0.06074165582475312,
          0.06130460718000525,
          0.06187662664332687,
          0.062459058262773474,
          0.0630532519233536,
          0.06366055818765608,
          0.06428232317166635,
          0.06491988348713058,
          0.06557456128122692,
          0.0662476594034644,
          0.06694045672866106,
          0.06765420366356466,
          0.06839011786318613,
          0.06914938018122539,
          0.06993313087710698,
          0.0707424661001139,
          0.07157843466894477,
          0.0724420351627245,
          0.07333421333710961,
          0.074255859876651,
          0.07520780849204227,
          0.07619083436830675,
          0.07720565296737643,
          0.07825291918592996,
          0.07933322686678092,
          0.08044710865958284,
          0.08159503622415068,
          0.0827774207673116,
          0.08399461390191117,
          0.0852469088144219,
          0.08653454172555601,
          0.08785769362637649,
          0.08921649227064775,
          0.09061101440257747,
          0.09204128819768599,
          0.0935072958933014,
          0.09500897658413536,
          0.09654622915752684,
          0.09811891534228805,
          0.09972686284460805,
          0.10136986854420568,
          0.10304770172383891,
          0.10476010730539366,
          0.1065068090660784,
          0.10828751280873453,
          0.11010190946093353,
          0.11194967807837086,
          0.11383048872904997,
          0.11574400523591202,
          0.1176898877568469,
          0.11966779518245428,
          0.12167738733346502,
          0.12371832694139923,
          0.1257902813977882,
          0.12789292425913368,
          0.13002593649669855,
          0.13218900748219659,
          0.1343818357024794,
          0.1366041291983729,
          0.13885560572490283,
          0.141135992632229,
          0.14344502646869173,
          0.14578245230943393,
          0.14814802281608827,
          0.1505414970349971,
          0.15296263894335915,
          0.15541121575453762,
          0.1578869959955389,
          0.1603897473713314,
          0.16291923443224704,
          0.165475216062147,
          0.168057442806358,
          0.17066565405956896,
          0.17329957513492175,
          0.17595891423642243,
          0.17864335935752768,
          0.18135257512934685,
          0.18408619964230244,
          0.1868438412653285,
          0.18962507548677188,
          0.19242944180104432,
          0.19525644066482656,
          0.1981055305461738,
          0.20097612508929194,
          0.2038675904169911,
          0.2067792425919174,
          0.20971034525662882,
          0.2126601074713788,
          0.2156276817671789,
          0.2186121624302823,
          0.22161258403270606,
          0.22462792022180042,
          0.2276570827801795,
          0.2306989209655869,
          0.23375222113846011,
          0.23681570668314542,
          0.23988803822685834,
          0.24296781415865137,
          0.2460535714488125,
          0.2491437867673232,
          0.2522368778982466,
          0.25533120544521437,
          0.25842507482155597,
          0.2615167385170672,
          0.26460439863195256,
          0.2676862096671396,
          0.2707602815589058,
          0.27382468294465284,
          0.27687744464565034,
          0.2799165633517017,
          0.28294000549195264,
          0.285945711275429,
          0.2889315988844222,
          0.29189556880347933,
          0.2948355082665106,
          0.29774929580442544,
          0.3006348058756763,
          0.3034899135622131,
          0.3063124993135166,
          0.3091004537216713,
          0.31185168231077176,
          0.3145641103243825,
          0.31723568749522674,
          0.3198643927817951,
          0.32244823905708997,
          0.3249852777352956,
          0.32747360332271513,
          0.32991135787989173,
          0.332296735382387,
          0.3346279859682309,
          0.3369034200605791,
          0.33912141235459364,
          0.34128040565804163,
          0.34337891457550285,
          0.3454155290264851,
          0.3473889175880825,
          0.34929783065313347,
          0.35114110339511795,
          0.3529176585312866,
          0.35462650887575187,
          0.3562667596744915,
          0.35783761071442816,
          0.359338358198952,
          0.36076839638249725,
          0.3621272189570008,
          0.3634144201833701,
          0.36462969576137483,
          0.36577284343175226,
          0.3668437633047319,
          0.36784245790965636,
          0.3687690319609448,
          0.36962369183627825,
          0.3704067447635985,
          0.37111859771433536,
          0.3717597560011669,
          0.3723308215796162,
          0.3728324910538752,
          0.3732655533884091,
          0.3736308873281574,
          0.3739294585314878,
          0.3741623164214437,
          0.3743305907623096,
          0.3744354879700173,
          0.3744782871664618,
          0.3744603359893783,
          0.3743830461709834,
          0.3742478889001777,
          0.3740563899846148,
          0.3738101248304665,
          0.37351071325912555,
          0.37315981418145955,
          0.37275912015147783,
          0.3723103518224307,
          0.3718152523293723,
          0.37127558162310653,
          0.37069311078114037,
          0.37006961632183893,
          0.36940687454833415,
          0.3687066559489403,
          0.3679707196807996,
          0.36720080816329737,
          0.36639864180735787,
          0.36556591390612864,
          0.3647042857117489,
          0.36381538172188843,
          0.3629007851985454,
          0.36196203394022664,
          0.36100061632705444,
          0.360017967656678,
          0.3590154667869819,
          0.35799443309962664,
          0.3569561237963514,
          0.35590173153780136,
          0.35483238243236565,
          0.35374913438022026,
          0.35265297577541455,
          0.35154482456648933,
          0.3504255276737645,
          0.3492958607591251,
          0.34815652834185346,
          0.3470081642518713,
          0.3458513324096405,
          0.344686527919962,
          0.3435141784650451,
          0.3423346459804665,
          0.34114822859605065,
          0.33995516282228144,
          0.3387556259615947,
          0.33754973872284066,
          0.33633756801631975,
          0.3351191299061119,
          0.3338943926959426,
          0.33266328012451674,
          0.33142567464619394,
          0.33018142077295815,
          0.32893032845394327,
          0.32767217646926045,
          0.3264067158155316,
          0.32513367306136076,
          0.3238527536519644,
          0.32256364514333086,
          0.3212660203475282,
          0.3199595403721873,
          0.31864385753869073,
          0.3173186181651677,
          0.3159834652020901,
          0.314638040709968,
          0.3132819881704388,
          0.31191495462381646,
          0.3105365926280084,
          0.30914656203548946,
          0.30774453158682413,
          0.3063301803209741,
          0.3049031988043202,
          0.3034632901819809,
          0.302010171056541,
          0.30054357220078626,
          0.29906323911240085,
          0.2975689324198107,
          0.29606042814950606,
          0.2945375178661498,
          0.29300000869763254,
          0.2914477232579435,
          0.2898804994812769,
          0.2882981903812001,
          0.2867006637489447,
          0.2850878018049811,
          0.2834595008179591,
          0.28181567070488445,
          0.2801562346260217,
          0.2784811285875031,
          0.2767903010639654,
          0.2750837126527491,
          0.27336133577028576,
          0.2716231544002804,
          0.2698691639021681,
          0.26809937088711394,
          0.26631379316754256,
          0.26451245978481996,
          0.2626954111183248,
          0.2608626990777088,
          0.25901438737869414,
          0.2571505519013082,
          0.25527128112801883,
          0.25337667665782554,
          0.2514668537909921,
          0.24954194217781986,
          0.24760208652361426,
          0.24564744734087277,
          0.24367820173868154,
          0.24169454423838194,
          0.23969668760377383,
          0.23768486367346192,
          0.23565932418242683,
          0.23362034155953673,
          0.23156820968749958,
          0.22950324461170285,
          0.22742578518449313,
          0.22533619363171467,
          0.22323485602875667,
          0.2211221826739414,
          0.21899860834782098,
          0.21686459244783637,
          0.21472061898880718,
          0.2125671964608685,
          0.21040485753772822,
          0.20823415862949587,
          0.20605567927577192,
          0.20387002137622637,
          0.20167780825748347,
          0.1994796835767554,
          0.19727631006432533,
          0.1950683681086481,
          0.1928565541894853,
          0.1906415791661193,
          0.18842416642928472,
          0.18620504992695291,
          0.18398497207557787,
          0.1817646815697379,
          0.1795449311043618,
          0.17732647502484375,
          0.17511006692133832,
          0.17289645718436744,
          0.17068639053955237,
          0.16848060357981895,
          0.16627982231376254,
          0.16408475974905193,
          0.16189611352975067,
          0.15971456364626122,
          0.1575407702362474,
          0.15537537149436575,
          0.15321898170794598,
          0.15107218943489403,
          0.1489355558390818,
          0.1468096131973296,
          0.14469486359077266,
          0.14259177779199625,
          0.14050079435777163,
          0.1384223189355976,
          0.13635672379053637,
          0.13430434755703288,
          0.1322654952185865,
          0.13024043831625873,
          0.12822941538511687,
          0.12623263261582415,
          0.12425026473671057,
          0.12228245610982251,
          0.12032932203265595,
          0.11839095023556255,
          0.11646740256316336,
          0.11455871682657226,
          0.11266490881178601,
          0.11078597442828676,
          0.10892189198072172,
          0.10707262454548717,
          0.10523812243315517,
          0.10341832571696873,
          0.10161316680705088,
          0.09982257304960636,
          0.09804646933016384,
          0.09628478065987077,
          0.09453743472398674,
          0.09280436437203068,
          0.09108551002949818,
          0.08938082201173647,
          0.08769026272132686,
          0.08601380871131291,
          0.08435145259768047,
          0.08270320480574127,
          0.08106909513641102,
          0.0794491741398466,
          0.07784351428544607,
          0.07625221091888176,
          0.07467538299852212,
          0.07311317360538866,
          0.07156575022257985,
          0.07003330478193752,
          0.06851605347756097,
          0.06701423634761353,
          0.06552811662766508,
          0.06405797988060029,
          0.06260413290982468,
          0.06116690246417512,
          0.05974663374449918,
          0.05834368872336143,
          0.0569584442907138,
          0.055591290239629394,
          0.054242627107346446,
          0.052912863887880496,
          0.051602415633331594,
          0.0503117009617456,
          0.04904113948996543,
          0.04779114921033612,
          0.04656214383040012,
          0.045354530094837295,
          0.04416870510887424,
          0.043005053682196495,
          0.041863945712073844,
          0.0407457336239265,
          0.03965074988696052,
          0.038579304621754545,
          0.0375316833158285,
          0.03650814466225381,
          0.03550891853529493,
          0.03453420411591379,
          0.03358416817873085,
          0.03265894355073074,
          0.031758627750641984,
          0.030883281816519333,
          0.030032929327626856,
          0.02920755562527204,
          0.02840710723578985,
          0.027631491497430334,
          0.026880576391482693,
          0.026154190576567704,
          0.025452123623685367,
          0.024774126448298156,
          0.02411991193449243,
          0.023489155745087437,
          0.022881497310467114,
          0.022296540987896418,
          0.021733857382164098,
          0.021192984817555105,
          0.02067343095043416,
          0.020174674511075175,
          0.01969616716284583,
          0.019237335466419654,
          0.018797582936358033,
          0.01837629217717012,
          0.01797282708582705,
          0.017586535107659364,
          0.017216749532625513,
          0.01686279181906563,
          0.01652397393227892,
          0.016199600685552616,
          0.015888972071634335,
          0.015591385573066748,
          0.015306138440288612,
          0.015032529926938808,
          0.014769863472384608,
          0.01451744882210758,
          0.014274604077233256,
          0.01404065766516181,
          0.013814950223950491,
          0.013596836393802283,
          0.01338568650972892,
          0.013180888190167715,
          0.012981847817045844,
          0.012787991903485993,
          0.012598768346041655,
          0.012413647559026037,
          0.012232123489157469,
          0.01205371450938192,
          0.011877964191347843,
          0.011704441956597245,
          0.011532743607099393,
          0.011362491736288595,
          0.011193336022272198,
          0.011024953405352348,
          0.010857048152450541,
          0.010689351811442453,
          0.010521623058795922,
          0.010353647444265035,
          0.010185237036720229,
          0.0100162299754962,
          0.009846489931911092
         ],
         "yaxis": "y"
        },
        {
         "legendgroup": "Group 1",
         "marker": {
          "color": "rgb(31, 119, 180)",
          "symbol": "line-ns-open"
         },
         "mode": "markers",
         "name": "Group 1",
         "showlegend": false,
         "type": "scatter",
         "x": [
          -3.7005393046151185,
          -2.884257845519595,
          -0.9599695479121082,
          -1.3808591588412387,
          -0.3446903931523577,
          -0.31451765157734024,
          -2.1507974869163036,
          -1.2330733255447006,
          -2.5088988716967817,
          -2.0563408724943866,
          -1.7375413191773528,
          -1.6896333885527923,
          -1.3144293687058446,
          -2.8395188215769016,
          -2.523689225105827,
          -2.8742527958454884,
          -2.585239172768243,
          -1.4851110386981574,
          -2.4682244655503456,
          -0.7312065455346011,
          -1.1451315911157978,
          -3.886132384073062,
          -2.8138636885843122,
          -2.8554752369390495,
          -2.1997139223267044,
          -3.632691404667421,
          -2.6835914897014934,
          -1.567690625868994,
          -1.9251603163145636,
          -1.5711083519991582,
          -2.6083389952840736,
          -3.0854364206099163,
          -2.2990147814818744,
          -1.8413553131616847,
          -0.9592338826891325,
          -3.419988255625091,
          -1.259934496906165,
          -1.122575192074485,
          -2.1323971677822167,
          -2.281296601886792,
          -1.5996456536658463,
          -1.3744912127144837,
          -2.313780371495427,
          -1.5318594911726295,
          -2.41417188977731,
          -2.0134961972266114,
          -0.6472380913716445,
          -2.829045589154746,
          -2.3271594548042907,
          -3.4156459611059846,
          -1.7443957935579182,
          -0.6705614398019837,
          -1.6779211145788122,
          -0.4942952757042294,
          -2.3652964138179997,
          -0.9348324232515315,
          -0.757144847849514,
          -2.5768454060115067,
          -2.7789181365153945,
          -1.6340673994165225,
          -3.184538649306878,
          -0.9705710079154186,
          -2.6379948261211243,
          -2.2241717442719007,
          -2.804512894688768,
          -2.3151575647508107,
          -0.1466996177294917,
          -2.456109028256521,
          -3.4789656806061027,
          -1.3203196642798698,
          -3.2139633125600557,
          0.3448973769364754,
          -2.391170232093977,
          -2.2792997967306188,
          -1.4330433652315133,
          -1.7338829390768735,
          -0.5334312504691678,
          -3.5621680232013344,
          -2.6499149510171462,
          -2.149333136734406,
          -3.2321260197286197,
          -1.806834350709561,
          -0.309874340200438,
          -3.103231483196587,
          -2.841193117455279,
          -1.6571048961470143,
          -3.384668059770317,
          -2.1695770073182223,
          -2.7580402788688585,
          -1.008419381023919,
          -0.9065760213833967,
          -1.6467833191586028,
          -1.4560735030040535,
          -3.278272210054624,
          -1.1158556794618675,
          -2.91614399480646,
          -0.7282622895144162,
          -2.066352128329438,
          -1.526920983892519,
          -0.5725589563883458,
          -0.8989236041100055,
          -1.5646534118053035,
          -1.564806239542522,
          -1.567915754953551,
          -1.219231197160354,
          -2.343307346650017,
          -1.4448083036709627,
          -0.4539694674889163,
          -1.3740882743955964,
          -3.2800796591186394,
          -1.094090406985269,
          -2.0425547760396885,
          -1.5024552467432248,
          -1.7950022333581892,
          -1.2507504696921612,
          -1.1780170068604097,
          -2.7616465623468573,
          -0.9843688108445015,
          -1.830496297545209,
          -2.174373484843804,
          0.10244513915154574,
          -2.003609535301797,
          -1.4098879988822968,
          -2.0116891987627423,
          -0.9694452281258521,
          -1.1067419698642267,
          -1.7220024640294518,
          -1.8554066984581001,
          -1.8980861815404588,
          -0.7044216168448438,
          -2.7940218956615377,
          -1.609016649895495,
          -0.40623621728727977,
          -1.3558045716564955,
          0.7581833141858034,
          -3.335092174285548,
          -2.451259880656694,
          -1.1616403892396483,
          -1.3323918841572673,
          -2.1858812678926047,
          -1.3525099056030168,
          -1.6910136110167677,
          -2.3085384007188736,
          -1.7406139295760932,
          0.5705201523409631,
          -1.3640916714472993,
          -2.3252085372074944,
          -2.9219005055242366,
          -1.4109721738237861,
          -1.0579017136321813,
          -3.090214164900646,
          -1.5197541068797005,
          -0.5788549404270762,
          -2.2479074136412613,
          -3.3317900839565016,
          -1.9788697054423807,
          0.3643093013158172,
          -1.4769965692084148,
          -3.226597477017471,
          -2.561754620183745,
          -0.9036486570193887,
          -3.752069953748375,
          -2.437848968753104,
          -1.0401807972374928,
          -2.355503590525709,
          -1.9990963778783566,
          -2.7731068073945617,
          -1.82286746846102,
          -0.7176878014039039,
          0.336122098955387,
          -0.9101524454155459,
          -1.2212343124155152,
          -1.2675229611513381,
          -1.1493755432844996,
          -2.0842840094132127,
          -2.3043567885855696,
          -1.668939295557847,
          -3.1423106269377614,
          -1.936134210350582,
          -2.6762356046411133,
          -2.6236560944090526,
          -3.329229970169305,
          -2.3998912800443333,
          -3.8260624479726166,
          -3.180828926267923,
          -0.7958321966568711,
          -1.1254727899421613,
          -1.422941778671029,
          -0.5005896806675925,
          -3.876607867721321,
          -0.7255683478760588,
          -1.1100021547968082,
          -1.2789098120134823,
          -2.3278226134716586,
          0.3567468886574412,
          -3.3268875311412036,
          0.31366247118098833,
          -1.1521476435548594,
          -1.38935059056845,
          -1.2383577463482895
         ],
         "xaxis": "x",
         "y": [
          "Group 1",
          "Group 1",
          "Group 1",
          "Group 1",
          "Group 1",
          "Group 1",
          "Group 1",
          "Group 1",
          "Group 1",
          "Group 1",
          "Group 1",
          "Group 1",
          "Group 1",
          "Group 1",
          "Group 1",
          "Group 1",
          "Group 1",
          "Group 1",
          "Group 1",
          "Group 1",
          "Group 1",
          "Group 1",
          "Group 1",
          "Group 1",
          "Group 1",
          "Group 1",
          "Group 1",
          "Group 1",
          "Group 1",
          "Group 1",
          "Group 1",
          "Group 1",
          "Group 1",
          "Group 1",
          "Group 1",
          "Group 1",
          "Group 1",
          "Group 1",
          "Group 1",
          "Group 1",
          "Group 1",
          "Group 1",
          "Group 1",
          "Group 1",
          "Group 1",
          "Group 1",
          "Group 1",
          "Group 1",
          "Group 1",
          "Group 1",
          "Group 1",
          "Group 1",
          "Group 1",
          "Group 1",
          "Group 1",
          "Group 1",
          "Group 1",
          "Group 1",
          "Group 1",
          "Group 1",
          "Group 1",
          "Group 1",
          "Group 1",
          "Group 1",
          "Group 1",
          "Group 1",
          "Group 1",
          "Group 1",
          "Group 1",
          "Group 1",
          "Group 1",
          "Group 1",
          "Group 1",
          "Group 1",
          "Group 1",
          "Group 1",
          "Group 1",
          "Group 1",
          "Group 1",
          "Group 1",
          "Group 1",
          "Group 1",
          "Group 1",
          "Group 1",
          "Group 1",
          "Group 1",
          "Group 1",
          "Group 1",
          "Group 1",
          "Group 1",
          "Group 1",
          "Group 1",
          "Group 1",
          "Group 1",
          "Group 1",
          "Group 1",
          "Group 1",
          "Group 1",
          "Group 1",
          "Group 1",
          "Group 1",
          "Group 1",
          "Group 1",
          "Group 1",
          "Group 1",
          "Group 1",
          "Group 1",
          "Group 1",
          "Group 1",
          "Group 1",
          "Group 1",
          "Group 1",
          "Group 1",
          "Group 1",
          "Group 1",
          "Group 1",
          "Group 1",
          "Group 1",
          "Group 1",
          "Group 1",
          "Group 1",
          "Group 1",
          "Group 1",
          "Group 1",
          "Group 1",
          "Group 1",
          "Group 1",
          "Group 1",
          "Group 1",
          "Group 1",
          "Group 1",
          "Group 1",
          "Group 1",
          "Group 1",
          "Group 1",
          "Group 1",
          "Group 1",
          "Group 1",
          "Group 1",
          "Group 1",
          "Group 1",
          "Group 1",
          "Group 1",
          "Group 1",
          "Group 1",
          "Group 1",
          "Group 1",
          "Group 1",
          "Group 1",
          "Group 1",
          "Group 1",
          "Group 1",
          "Group 1",
          "Group 1",
          "Group 1",
          "Group 1",
          "Group 1",
          "Group 1",
          "Group 1",
          "Group 1",
          "Group 1",
          "Group 1",
          "Group 1",
          "Group 1",
          "Group 1",
          "Group 1",
          "Group 1",
          "Group 1",
          "Group 1",
          "Group 1",
          "Group 1",
          "Group 1",
          "Group 1",
          "Group 1",
          "Group 1",
          "Group 1",
          "Group 1",
          "Group 1",
          "Group 1",
          "Group 1",
          "Group 1",
          "Group 1",
          "Group 1",
          "Group 1",
          "Group 1",
          "Group 1",
          "Group 1",
          "Group 1",
          "Group 1",
          "Group 1",
          "Group 1",
          "Group 1",
          "Group 1",
          "Group 1",
          "Group 1",
          "Group 1",
          "Group 1",
          "Group 1",
          "Group 1",
          "Group 1"
         ],
         "yaxis": "y2"
        },
        {
         "legendgroup": "Group 2",
         "marker": {
          "color": "rgb(255, 127, 14)",
          "symbol": "line-ns-open"
         },
         "mode": "markers",
         "name": "Group 2",
         "showlegend": false,
         "type": "scatter",
         "x": [
          1.0855326875444873,
          -0.11120725304294847,
          1.2234269346276407,
          0.3890034183916825,
          1.1635614746786338,
          -0.7889687876517495,
          0.4356190731344477,
          0.3044729185748049,
          0.2730034883109125,
          1.422879045985715,
          0.7464426996131105,
          0.5194827697876634,
          -0.6354012530417713,
          0.023844035146629854,
          0.693117018473219,
          0.7772254336310346,
          -0.7628597578243967,
          -1.9469966635063511,
          0.11315814778673702,
          -1.1505035562498211,
          0.2505756059001677,
          1.4203672358030164,
          -0.2264469477371469,
          -1.7312419009435747,
          1.1286185733703618,
          1.3624898542236359,
          -0.7919013392547467,
          -2.121743003130195,
          0.8560851145829049,
          0.3380513555911928,
          -0.7676732802851804,
          0.6614710890433936,
          0.9100543140275427,
          -1.0243268631168734,
          1.0051156826522194,
          -3.7303665771621306,
          1.4493146342099597,
          -0.19816767857479814,
          -2.207535967956536,
          0.06514290498205598,
          1.1002417194763647,
          0.07808419207146317,
          0.21552140279481918,
          -0.20705788278896634,
          -0.39455041218736114,
          -0.4039978016875397,
          1.4454010904182308,
          0.8017529441843418,
          1.4436880369125697,
          -0.09065796881766712,
          -2.199049335558523,
          0.5386631867485068,
          0.3998433218726392,
          0.6518434034404246,
          -1.2994261105526554,
          0.3767507216857218,
          -0.1732911592903868,
          1.927685267012713,
          -0.9386553741843895,
          0.5849696805620179,
          -0.9242954385502689,
          -1.008812751749948,
          2.1792310616986943,
          -0.409329848797892,
          -0.43124390688957254,
          0.19949921722468905,
          1.119344139654987,
          0.4011865310196791,
          -2.706039210700946,
          -1.383577551298375,
          -0.09634225670538682,
          1.724365786276272,
          -1.411437064742321,
          0.3931026152968499,
          1.1121317455865694,
          -1.0790436593300838,
          -0.17328991082495304,
          -0.9702622703980469,
          0.9049077637595134,
          1.4638458951378848,
          -1.5283877055435549,
          0.7701230872719592,
          -1.1247728835628414,
          -0.37030979713210294,
          -1.472041477883499,
          0.27800779407577253,
          2.2112339246646306,
          0.8026984297182737,
          0.42795201802029137,
          0.7062694547468024,
          -0.4889877961343596,
          -0.5736006643789838,
          2.262928902700256,
          1.2226702663330604,
          -1.233651106574083,
          0.16362822710997937,
          0.5678558300843481,
          1.1847719143458315,
          0.04736124033045382,
          0.5313855273636022,
          0.3248827032185342,
          -0.174907972705985,
          0.5932738782670216,
          -1.235528373282235,
          -0.6099494888349074,
          -0.1556592065912914,
          -1.2449502490835163,
          -0.3597695716888569,
          -0.11001006348199592,
          -1.368381500726703,
          -0.09107253048140697,
          -1.356124506070312,
          -0.974755497953089,
          -0.11042313253041905,
          0.26995367345027854,
          -0.685273767740136,
          -0.6829607118285204,
          0.9712553563437166,
          1.134914739471294,
          -1.0273885599582862,
          -0.024551024839281784,
          -1.2866479321714623,
          -0.28494133587388426,
          -1.2685711289061548,
          -0.28745341714316575,
          1.1931565028643742,
          0.08200766499892145,
          -0.04544962545237027,
          0.9304798693579148,
          -0.12370730633003665,
          0.35463582006852284,
          0.5285624861988166,
          -0.24234238381283343,
          2.0934091405107895,
          -0.3547621191661709,
          -0.7407790092870133,
          0.047295241957222796,
          0.5655649311841293,
          -0.4594285208941864,
          -0.7102731788815356,
          -0.1338743333563953,
          -1.4764437490676177,
          1.1633676862343574,
          -0.18785593701534095,
          -0.41080702142996,
          -1.1837478882868944,
          0.46046348096384937,
          -0.3019734601391418,
          -0.45966174667833476,
          1.6600982548843803,
          0.11528385198959624,
          -2.153083437810777,
          0.8921922833992181,
          -0.6055759510776483,
          0.93307556020463,
          0.48701143251018897,
          0.8809207494418091,
          -0.06977376072204088,
          -1.3789711421769306,
          1.677128707176256,
          0.7726368676102237,
          1.4627341507961318,
          0.32163513957254036,
          -0.9115102789856349,
          -0.41842009528318863,
          0.018121025067881866,
          -0.4044624179276639,
          0.6155532442452586,
          -1.0971171971731422,
          0.6548537288362414,
          -0.9729340341912107,
          0.5983173796080998,
          -1.3879642047744507,
          -0.23712115602478215,
          0.3163045568470063,
          0.45971323501077543,
          -1.51102564886931,
          -1.08594507731873,
          0.7824867161864087,
          1.3607461701351662,
          -1.4946150367931208,
          -0.5959452081699518,
          -0.18037302995677917,
          1.3316636115702276,
          0.9017224347297302,
          2.3583992621557406,
          0.8127393135682499,
          -0.1515144797515831,
          -0.7930944321316766,
          -1.3241230006548121,
          1.2968807082979439,
          -0.26620602631744955,
          1.0841551694298686,
          0.35187883005292314,
          0.23676401332575234,
          0.4163080583175975,
          0.10875308894768246,
          0.10538866336657488,
          1.134046235065703,
          -0.30485970339631246
         ],
         "xaxis": "x",
         "y": [
          "Group 2",
          "Group 2",
          "Group 2",
          "Group 2",
          "Group 2",
          "Group 2",
          "Group 2",
          "Group 2",
          "Group 2",
          "Group 2",
          "Group 2",
          "Group 2",
          "Group 2",
          "Group 2",
          "Group 2",
          "Group 2",
          "Group 2",
          "Group 2",
          "Group 2",
          "Group 2",
          "Group 2",
          "Group 2",
          "Group 2",
          "Group 2",
          "Group 2",
          "Group 2",
          "Group 2",
          "Group 2",
          "Group 2",
          "Group 2",
          "Group 2",
          "Group 2",
          "Group 2",
          "Group 2",
          "Group 2",
          "Group 2",
          "Group 2",
          "Group 2",
          "Group 2",
          "Group 2",
          "Group 2",
          "Group 2",
          "Group 2",
          "Group 2",
          "Group 2",
          "Group 2",
          "Group 2",
          "Group 2",
          "Group 2",
          "Group 2",
          "Group 2",
          "Group 2",
          "Group 2",
          "Group 2",
          "Group 2",
          "Group 2",
          "Group 2",
          "Group 2",
          "Group 2",
          "Group 2",
          "Group 2",
          "Group 2",
          "Group 2",
          "Group 2",
          "Group 2",
          "Group 2",
          "Group 2",
          "Group 2",
          "Group 2",
          "Group 2",
          "Group 2",
          "Group 2",
          "Group 2",
          "Group 2",
          "Group 2",
          "Group 2",
          "Group 2",
          "Group 2",
          "Group 2",
          "Group 2",
          "Group 2",
          "Group 2",
          "Group 2",
          "Group 2",
          "Group 2",
          "Group 2",
          "Group 2",
          "Group 2",
          "Group 2",
          "Group 2",
          "Group 2",
          "Group 2",
          "Group 2",
          "Group 2",
          "Group 2",
          "Group 2",
          "Group 2",
          "Group 2",
          "Group 2",
          "Group 2",
          "Group 2",
          "Group 2",
          "Group 2",
          "Group 2",
          "Group 2",
          "Group 2",
          "Group 2",
          "Group 2",
          "Group 2",
          "Group 2",
          "Group 2",
          "Group 2",
          "Group 2",
          "Group 2",
          "Group 2",
          "Group 2",
          "Group 2",
          "Group 2",
          "Group 2",
          "Group 2",
          "Group 2",
          "Group 2",
          "Group 2",
          "Group 2",
          "Group 2",
          "Group 2",
          "Group 2",
          "Group 2",
          "Group 2",
          "Group 2",
          "Group 2",
          "Group 2",
          "Group 2",
          "Group 2",
          "Group 2",
          "Group 2",
          "Group 2",
          "Group 2",
          "Group 2",
          "Group 2",
          "Group 2",
          "Group 2",
          "Group 2",
          "Group 2",
          "Group 2",
          "Group 2",
          "Group 2",
          "Group 2",
          "Group 2",
          "Group 2",
          "Group 2",
          "Group 2",
          "Group 2",
          "Group 2",
          "Group 2",
          "Group 2",
          "Group 2",
          "Group 2",
          "Group 2",
          "Group 2",
          "Group 2",
          "Group 2",
          "Group 2",
          "Group 2",
          "Group 2",
          "Group 2",
          "Group 2",
          "Group 2",
          "Group 2",
          "Group 2",
          "Group 2",
          "Group 2",
          "Group 2",
          "Group 2",
          "Group 2",
          "Group 2",
          "Group 2",
          "Group 2",
          "Group 2",
          "Group 2",
          "Group 2",
          "Group 2",
          "Group 2",
          "Group 2",
          "Group 2",
          "Group 2",
          "Group 2",
          "Group 2",
          "Group 2",
          "Group 2",
          "Group 2",
          "Group 2",
          "Group 2",
          "Group 2",
          "Group 2",
          "Group 2",
          "Group 2",
          "Group 2",
          "Group 2",
          "Group 2"
         ],
         "yaxis": "y2"
        },
        {
         "legendgroup": "Group 3",
         "marker": {
          "color": "rgb(44, 160, 44)",
          "symbol": "line-ns-open"
         },
         "mode": "markers",
         "name": "Group 3",
         "showlegend": false,
         "type": "scatter",
         "x": [
          1.0842458387915135,
          4.077422411850478,
          2.2492081842224287,
          0.7010291771388764,
          1.6543126998045756,
          2.8079785237060797,
          1.9418804509603087,
          2.455370878816968,
          2.5866752463292215,
          1.1592412984655351,
          1.4879363652079887,
          1.6090607987958079,
          0.39776382196625915,
          2.3003143831825,
          2.620782700588381,
          0.8195170821967157,
          3.3967877683207695,
          1.1428490353475866,
          1.4159103800096373,
          1.5381956837523494,
          0.7517385254296791,
          1.5846577448473336,
          1.5086258508512929,
          1.2758687738194119,
          0.9231932089901884,
          2.0222247274504666,
          2.072711696599648,
          1.7980950684839176,
          1.2989534801055513,
          1.9327854737071,
          2.1982123088906103,
          3.813909198497738,
          1.6922071671848697,
          2.3602320799729237,
          3.645657201983224,
          1.5454804488404839,
          1.26309290225554,
          1.963690670199676,
          2.504361148991763,
          3.6411713150868725,
          1.3884294242808528,
          2.5251366802647977,
          2.02687615883381,
          1.9376042297370868,
          0.565199580297969,
          2.01333677072189,
          2.923680395108257,
          1.2166476630672403,
          0.7187938395383922,
          0.4635290792868263,
          2.8849140043011126,
          3.1821182689784315,
          2.7967987426082455,
          2.683367148116229,
          1.3596112745212854,
          1.2590282836418814,
          2.5642613127711646,
          2.6050913145002283,
          3.0101617616440226,
          2.626330045301367,
          1.4897784850623736,
          3.0110149814112903,
          1.8235161358706804,
          1.4689278477911887,
          -0.8706864672372112,
          1.949010468786401,
          1.5185238587051155,
          3.6407134433868347,
          3.3194874029773387,
          2.4075589251230927,
          1.3291503092352037,
          2.049537172243997,
          2.032509178551114,
          2.128197563484746,
          2.212885375324347,
          -0.7083479163966322,
          2.108251495472508,
          4.693986616770875,
          2.1105215018638543,
          3.4598579886816108,
          0.935551764205379,
          2.7947130516904526,
          1.7541987517383686,
          1.886329446420562,
          2.266356662394979,
          1.143147462733224,
          4.236578459581175,
          0.8374694132244132,
          -0.33433522059504384,
          0.985828233404902,
          2.9657064035025127,
          3.0415549182977113,
          1.6490815047157787,
          1.5125967974643428,
          2.647452311555684,
          0.9411911513862656,
          1.649558550537863,
          -0.4442176824652484,
          1.3956753555659134,
          2.370382096309335,
          2.408644778292317,
          1.9447590090224331,
          2.4722898415971106,
          1.485124691013941,
          0.8258244255323708,
          1.2851639323072508,
          2.121566334043989,
          3.226954417490654,
          1.720364727932616,
          1.9903890233746826,
          3.5697582249836346,
          1.8268884390478284,
          2.452934871670107,
          2.059700077774349,
          1.4746185849797144,
          0.9869972212230658,
          2.9044483964527292,
          3.193897184272675,
          2.2142996744877466,
          0.88639192434164,
          1.941252353915244,
          1.895943652927695,
          1.6037687106218408,
          0.569029566170512,
          1.5408421882844492,
          2.8670451066596665,
          2.399741309466424,
          2.279667578431661,
          2.2534226109328603,
          1.022784751109627,
          1.4944487126751897,
          2.685451548381867,
          1.4373326281400667,
          3.147418521381696,
          1.9142593434931288,
          3.713519176462823,
          1.5582726513825393,
          3.266596627252336,
          1.127883650516454,
          1.6564133431247368,
          1.6020744203867605,
          1.573780617485474,
          0.6285069282549656,
          1.7747388180735642,
          0.5858784412335898,
          2.7017695398810595,
          1.9200596485279424,
          3.5767757997269314,
          1.2148198215101886,
          2.0526508139815665,
          2.557191637047624,
          2.3617975551671035,
          3.03014959240133,
          2.6498531097077134,
          1.963882208017562,
          2.564538341759699,
          1.8288100164984948,
          2.295414921240865,
          2.090377937231279,
          2.044783436861392,
          2.0367312358017644,
          2.1310932944661896,
          1.5844582351981633,
          2.3989987159899915,
          2.056137197935243,
          1.1915090482554145,
          1.314904596856619,
          2.2086450118910324,
          2.3196137198670086,
          1.636494748960096,
          0.5303273312123549,
          2.5626053692612922,
          1.0243271779233427,
          2.035062716231314,
          1.7816412376906223,
          2.5964088348015206,
          1.8579020455963489,
          0.9149737681346357,
          1.2667218009594006,
          0.8377060104188787,
          0.6332842337366853,
          3.0105014129540297,
          1.4121672878025313,
          1.1951565289852686,
          0.9936280110388893,
          2.3704501002273006,
          3.87798680102196,
          1.4604089181012714,
          1.6507336706848121,
          2.324586157011019,
          1.3068050846653518,
          1.8031967807005456,
          2.6133621365504722,
          2.8649095004461698,
          0.26910870189491587,
          0.45314707275308375,
          2.1549895062170683,
          3.420222138728755,
          2.659041149790811,
          2.454336687462909
         ],
         "xaxis": "x",
         "y": [
          "Group 3",
          "Group 3",
          "Group 3",
          "Group 3",
          "Group 3",
          "Group 3",
          "Group 3",
          "Group 3",
          "Group 3",
          "Group 3",
          "Group 3",
          "Group 3",
          "Group 3",
          "Group 3",
          "Group 3",
          "Group 3",
          "Group 3",
          "Group 3",
          "Group 3",
          "Group 3",
          "Group 3",
          "Group 3",
          "Group 3",
          "Group 3",
          "Group 3",
          "Group 3",
          "Group 3",
          "Group 3",
          "Group 3",
          "Group 3",
          "Group 3",
          "Group 3",
          "Group 3",
          "Group 3",
          "Group 3",
          "Group 3",
          "Group 3",
          "Group 3",
          "Group 3",
          "Group 3",
          "Group 3",
          "Group 3",
          "Group 3",
          "Group 3",
          "Group 3",
          "Group 3",
          "Group 3",
          "Group 3",
          "Group 3",
          "Group 3",
          "Group 3",
          "Group 3",
          "Group 3",
          "Group 3",
          "Group 3",
          "Group 3",
          "Group 3",
          "Group 3",
          "Group 3",
          "Group 3",
          "Group 3",
          "Group 3",
          "Group 3",
          "Group 3",
          "Group 3",
          "Group 3",
          "Group 3",
          "Group 3",
          "Group 3",
          "Group 3",
          "Group 3",
          "Group 3",
          "Group 3",
          "Group 3",
          "Group 3",
          "Group 3",
          "Group 3",
          "Group 3",
          "Group 3",
          "Group 3",
          "Group 3",
          "Group 3",
          "Group 3",
          "Group 3",
          "Group 3",
          "Group 3",
          "Group 3",
          "Group 3",
          "Group 3",
          "Group 3",
          "Group 3",
          "Group 3",
          "Group 3",
          "Group 3",
          "Group 3",
          "Group 3",
          "Group 3",
          "Group 3",
          "Group 3",
          "Group 3",
          "Group 3",
          "Group 3",
          "Group 3",
          "Group 3",
          "Group 3",
          "Group 3",
          "Group 3",
          "Group 3",
          "Group 3",
          "Group 3",
          "Group 3",
          "Group 3",
          "Group 3",
          "Group 3",
          "Group 3",
          "Group 3",
          "Group 3",
          "Group 3",
          "Group 3",
          "Group 3",
          "Group 3",
          "Group 3",
          "Group 3",
          "Group 3",
          "Group 3",
          "Group 3",
          "Group 3",
          "Group 3",
          "Group 3",
          "Group 3",
          "Group 3",
          "Group 3",
          "Group 3",
          "Group 3",
          "Group 3",
          "Group 3",
          "Group 3",
          "Group 3",
          "Group 3",
          "Group 3",
          "Group 3",
          "Group 3",
          "Group 3",
          "Group 3",
          "Group 3",
          "Group 3",
          "Group 3",
          "Group 3",
          "Group 3",
          "Group 3",
          "Group 3",
          "Group 3",
          "Group 3",
          "Group 3",
          "Group 3",
          "Group 3",
          "Group 3",
          "Group 3",
          "Group 3",
          "Group 3",
          "Group 3",
          "Group 3",
          "Group 3",
          "Group 3",
          "Group 3",
          "Group 3",
          "Group 3",
          "Group 3",
          "Group 3",
          "Group 3",
          "Group 3",
          "Group 3",
          "Group 3",
          "Group 3",
          "Group 3",
          "Group 3",
          "Group 3",
          "Group 3",
          "Group 3",
          "Group 3",
          "Group 3",
          "Group 3",
          "Group 3",
          "Group 3",
          "Group 3",
          "Group 3",
          "Group 3",
          "Group 3",
          "Group 3",
          "Group 3",
          "Group 3",
          "Group 3",
          "Group 3",
          "Group 3",
          "Group 3",
          "Group 3",
          "Group 3",
          "Group 3",
          "Group 3",
          "Group 3"
         ],
         "yaxis": "y2"
        },
        {
         "legendgroup": "Group 4",
         "marker": {
          "color": "rgb(214, 39, 40)",
          "symbol": "line-ns-open"
         },
         "mode": "markers",
         "name": "Group 4",
         "showlegend": false,
         "type": "scatter",
         "x": [
          4.980415527313378,
          4.455843022120531,
          3.363490985865533,
          4.072308732607631,
          2.8352996031710807,
          3.1938491031422434,
          3.4020950809427215,
          3.641606807543277,
          5.175473967544721,
          4.431832684546362,
          5.00926707021034,
          4.239450670418295,
          3.9043607678932832,
          4.08321558499837,
          5.014580466479609,
          2.974914779651149,
          4.536632894006226,
          1.2255048501357577,
          4.294158789386461,
          4.681499015581354,
          3.623149202328546,
          3.5426442594364,
          4.1635592312859195,
          3.6451229355855395,
          3.831183340867583,
          4.716202477639374,
          5.041733197695073,
          3.6453478924033935,
          5.969430169590758,
          4.220708946305935,
          4.081779341985014,
          6.590038397648209,
          3.83494314534988,
          4.354124781222369,
          5.523200922652749,
          3.1365118467769735,
          3.474817716955487,
          5.119108028099136,
          2.05582778458907,
          2.286032288734846,
          5.632483548152676,
          3.4133510979016233,
          3.6395390046880283,
          3.1710613403203327,
          4.45616482181006,
          5.0355290425889345,
          4.445736046555575,
          3.249056277412032,
          3.81287880489416,
          3.2260055932118816,
          4.668308391636673,
          5.483750340885639,
          3.424655368339832,
          6.949205638480038,
          4.296292143814823,
          4.703272936241272,
          3.1210899935987877,
          3.9595997030804067,
          3.1174467584167114,
          3.6013873156199603,
          3.3569178986832755,
          3.8206144137778417,
          4.153096000557089,
          3.8941534463058347,
          4.635567044572856,
          4.721859611552941,
          5.594277341642103,
          4.663034332433281,
          2.831241484565821,
          4.55728787510138,
          3.443395046942973,
          2.5035126380487798,
          3.6398190209360353,
          5.1779392926148855,
          3.5434783999595574,
          2.923284835753534,
          4.307465742706928,
          2.7089070134973534,
          2.1241095890525528,
          4.680141363500729,
          5.187801071083232,
          3.042055787858136,
          2.6575250248020765,
          5.123142032045907,
          3.108648138799638,
          2.78568051012096,
          4.317753173395928,
          4.383356649418797,
          3.6291146016740186,
          2.478301697685467,
          6.10419321171712,
          1.6323491293439338,
          4.860851223852722,
          3.7990022455937473,
          3.387770520968181,
          3.4413998286350465,
          3.198500787035122,
          3.4584998213787665,
          4.500915890535068,
          5.748136511018381,
          4.7588159568581725,
          2.9927885288299794,
          4.006300204178298,
          3.2988245539565098,
          3.5879872285420658,
          4.5671968496135555,
          2.5389006702419543,
          1.7259158880965426,
          3.65508506082946,
          4.842475790207648,
          3.8727977353392053,
          5.21662733458732,
          2.316931814802199,
          4.755724297725935,
          4.875973419354743,
          5.310695076901515,
          4.321437041264017,
          2.888467893890648,
          1.8192699832422035,
          2.7892335903094523,
          3.7906621708348354,
          3.9743989241796274,
          3.268981999158659,
          3.6596423713884856,
          5.951996141987851,
          3.1279357563070254,
          3.9992493545557752,
          4.994065468254969,
          3.7001507210961067,
          2.3086502002009524,
          5.140128209118464,
          3.6405186735481148,
          1.4964819776788132,
          4.000207994523335,
          3.700983038130027,
          1.6778833119276793,
          2.700272283296539,
          4.337045423634611,
          4.320870903887482,
          5.456568678621833,
          4.7158421992562545,
          5.494038968884824,
          4.070814778211051,
          3.8433269314037433,
          3.914975731107783,
          5.035968851964083,
          4.032576203014553,
          4.782056403471591,
          3.758556182931618,
          2.5709697559469658,
          3.3621005666229182,
          3.7167776335268075,
          4.106499446187534,
          4.633926159469051,
          4.379444116505669,
          5.814024268449463,
          2.7094898362097655,
          4.893704585172705,
          4.172575304467395,
          3.0689674929772655,
          3.654266262323529,
          2.9785822698830318,
          3.365014264848436,
          3.258185741590277,
          2.3479797376638434,
          3.741341375938774,
          4.440075037032122,
          3.434323382220059,
          3.7710606307842967,
          3.4551980320179467,
          3.7925268717966216,
          5.242023009820357,
          3.2777474185658075,
          4.5066157452460205,
          5.283972926945219,
          4.234156083637238,
          4.1623468012249925,
          2.927524220894954,
          1.7772840018066605,
          5.409881894537892,
          4.975710109701019,
          3.4073804108849997,
          2.53476678374951,
          3.2190866514505068,
          3.910718951819539,
          4.87855426716986,
          3.662877422214927,
          4.187541891234963,
          5.836508745628281,
          5.778487629622055,
          4.0865822261073745,
          4.117322025315157,
          1.596361095136548,
          2.6401223881681135,
          2.978893074977426,
          4.486095373615649,
          3.2375154316766475,
          5.3226130250824895,
          4.542219530305689,
          3.3021773084692785
         ],
         "xaxis": "x",
         "y": [
          "Group 4",
          "Group 4",
          "Group 4",
          "Group 4",
          "Group 4",
          "Group 4",
          "Group 4",
          "Group 4",
          "Group 4",
          "Group 4",
          "Group 4",
          "Group 4",
          "Group 4",
          "Group 4",
          "Group 4",
          "Group 4",
          "Group 4",
          "Group 4",
          "Group 4",
          "Group 4",
          "Group 4",
          "Group 4",
          "Group 4",
          "Group 4",
          "Group 4",
          "Group 4",
          "Group 4",
          "Group 4",
          "Group 4",
          "Group 4",
          "Group 4",
          "Group 4",
          "Group 4",
          "Group 4",
          "Group 4",
          "Group 4",
          "Group 4",
          "Group 4",
          "Group 4",
          "Group 4",
          "Group 4",
          "Group 4",
          "Group 4",
          "Group 4",
          "Group 4",
          "Group 4",
          "Group 4",
          "Group 4",
          "Group 4",
          "Group 4",
          "Group 4",
          "Group 4",
          "Group 4",
          "Group 4",
          "Group 4",
          "Group 4",
          "Group 4",
          "Group 4",
          "Group 4",
          "Group 4",
          "Group 4",
          "Group 4",
          "Group 4",
          "Group 4",
          "Group 4",
          "Group 4",
          "Group 4",
          "Group 4",
          "Group 4",
          "Group 4",
          "Group 4",
          "Group 4",
          "Group 4",
          "Group 4",
          "Group 4",
          "Group 4",
          "Group 4",
          "Group 4",
          "Group 4",
          "Group 4",
          "Group 4",
          "Group 4",
          "Group 4",
          "Group 4",
          "Group 4",
          "Group 4",
          "Group 4",
          "Group 4",
          "Group 4",
          "Group 4",
          "Group 4",
          "Group 4",
          "Group 4",
          "Group 4",
          "Group 4",
          "Group 4",
          "Group 4",
          "Group 4",
          "Group 4",
          "Group 4",
          "Group 4",
          "Group 4",
          "Group 4",
          "Group 4",
          "Group 4",
          "Group 4",
          "Group 4",
          "Group 4",
          "Group 4",
          "Group 4",
          "Group 4",
          "Group 4",
          "Group 4",
          "Group 4",
          "Group 4",
          "Group 4",
          "Group 4",
          "Group 4",
          "Group 4",
          "Group 4",
          "Group 4",
          "Group 4",
          "Group 4",
          "Group 4",
          "Group 4",
          "Group 4",
          "Group 4",
          "Group 4",
          "Group 4",
          "Group 4",
          "Group 4",
          "Group 4",
          "Group 4",
          "Group 4",
          "Group 4",
          "Group 4",
          "Group 4",
          "Group 4",
          "Group 4",
          "Group 4",
          "Group 4",
          "Group 4",
          "Group 4",
          "Group 4",
          "Group 4",
          "Group 4",
          "Group 4",
          "Group 4",
          "Group 4",
          "Group 4",
          "Group 4",
          "Group 4",
          "Group 4",
          "Group 4",
          "Group 4",
          "Group 4",
          "Group 4",
          "Group 4",
          "Group 4",
          "Group 4",
          "Group 4",
          "Group 4",
          "Group 4",
          "Group 4",
          "Group 4",
          "Group 4",
          "Group 4",
          "Group 4",
          "Group 4",
          "Group 4",
          "Group 4",
          "Group 4",
          "Group 4",
          "Group 4",
          "Group 4",
          "Group 4",
          "Group 4",
          "Group 4",
          "Group 4",
          "Group 4",
          "Group 4",
          "Group 4",
          "Group 4",
          "Group 4",
          "Group 4",
          "Group 4",
          "Group 4",
          "Group 4",
          "Group 4",
          "Group 4",
          "Group 4",
          "Group 4",
          "Group 4",
          "Group 4",
          "Group 4",
          "Group 4",
          "Group 4",
          "Group 4",
          "Group 4",
          "Group 4"
         ],
         "yaxis": "y2"
        }
       ],
       "layout": {
        "barmode": "overlay",
        "hovermode": "closest",
        "legend": {
         "traceorder": "reversed"
        },
        "template": {
         "data": {
          "bar": [
           {
            "error_x": {
             "color": "#2a3f5f"
            },
            "error_y": {
             "color": "#2a3f5f"
            },
            "marker": {
             "line": {
              "color": "#E5ECF6",
              "width": 0.5
             },
             "pattern": {
              "fillmode": "overlay",
              "size": 10,
              "solidity": 0.2
             }
            },
            "type": "bar"
           }
          ],
          "barpolar": [
           {
            "marker": {
             "line": {
              "color": "#E5ECF6",
              "width": 0.5
             },
             "pattern": {
              "fillmode": "overlay",
              "size": 10,
              "solidity": 0.2
             }
            },
            "type": "barpolar"
           }
          ],
          "carpet": [
           {
            "aaxis": {
             "endlinecolor": "#2a3f5f",
             "gridcolor": "white",
             "linecolor": "white",
             "minorgridcolor": "white",
             "startlinecolor": "#2a3f5f"
            },
            "baxis": {
             "endlinecolor": "#2a3f5f",
             "gridcolor": "white",
             "linecolor": "white",
             "minorgridcolor": "white",
             "startlinecolor": "#2a3f5f"
            },
            "type": "carpet"
           }
          ],
          "choropleth": [
           {
            "colorbar": {
             "outlinewidth": 0,
             "ticks": ""
            },
            "type": "choropleth"
           }
          ],
          "contour": [
           {
            "colorbar": {
             "outlinewidth": 0,
             "ticks": ""
            },
            "colorscale": [
             [
              0,
              "#0d0887"
             ],
             [
              0.1111111111111111,
              "#46039f"
             ],
             [
              0.2222222222222222,
              "#7201a8"
             ],
             [
              0.3333333333333333,
              "#9c179e"
             ],
             [
              0.4444444444444444,
              "#bd3786"
             ],
             [
              0.5555555555555556,
              "#d8576b"
             ],
             [
              0.6666666666666666,
              "#ed7953"
             ],
             [
              0.7777777777777778,
              "#fb9f3a"
             ],
             [
              0.8888888888888888,
              "#fdca26"
             ],
             [
              1,
              "#f0f921"
             ]
            ],
            "type": "contour"
           }
          ],
          "contourcarpet": [
           {
            "colorbar": {
             "outlinewidth": 0,
             "ticks": ""
            },
            "type": "contourcarpet"
           }
          ],
          "heatmap": [
           {
            "colorbar": {
             "outlinewidth": 0,
             "ticks": ""
            },
            "colorscale": [
             [
              0,
              "#0d0887"
             ],
             [
              0.1111111111111111,
              "#46039f"
             ],
             [
              0.2222222222222222,
              "#7201a8"
             ],
             [
              0.3333333333333333,
              "#9c179e"
             ],
             [
              0.4444444444444444,
              "#bd3786"
             ],
             [
              0.5555555555555556,
              "#d8576b"
             ],
             [
              0.6666666666666666,
              "#ed7953"
             ],
             [
              0.7777777777777778,
              "#fb9f3a"
             ],
             [
              0.8888888888888888,
              "#fdca26"
             ],
             [
              1,
              "#f0f921"
             ]
            ],
            "type": "heatmap"
           }
          ],
          "heatmapgl": [
           {
            "colorbar": {
             "outlinewidth": 0,
             "ticks": ""
            },
            "colorscale": [
             [
              0,
              "#0d0887"
             ],
             [
              0.1111111111111111,
              "#46039f"
             ],
             [
              0.2222222222222222,
              "#7201a8"
             ],
             [
              0.3333333333333333,
              "#9c179e"
             ],
             [
              0.4444444444444444,
              "#bd3786"
             ],
             [
              0.5555555555555556,
              "#d8576b"
             ],
             [
              0.6666666666666666,
              "#ed7953"
             ],
             [
              0.7777777777777778,
              "#fb9f3a"
             ],
             [
              0.8888888888888888,
              "#fdca26"
             ],
             [
              1,
              "#f0f921"
             ]
            ],
            "type": "heatmapgl"
           }
          ],
          "histogram": [
           {
            "marker": {
             "pattern": {
              "fillmode": "overlay",
              "size": 10,
              "solidity": 0.2
             }
            },
            "type": "histogram"
           }
          ],
          "histogram2d": [
           {
            "colorbar": {
             "outlinewidth": 0,
             "ticks": ""
            },
            "colorscale": [
             [
              0,
              "#0d0887"
             ],
             [
              0.1111111111111111,
              "#46039f"
             ],
             [
              0.2222222222222222,
              "#7201a8"
             ],
             [
              0.3333333333333333,
              "#9c179e"
             ],
             [
              0.4444444444444444,
              "#bd3786"
             ],
             [
              0.5555555555555556,
              "#d8576b"
             ],
             [
              0.6666666666666666,
              "#ed7953"
             ],
             [
              0.7777777777777778,
              "#fb9f3a"
             ],
             [
              0.8888888888888888,
              "#fdca26"
             ],
             [
              1,
              "#f0f921"
             ]
            ],
            "type": "histogram2d"
           }
          ],
          "histogram2dcontour": [
           {
            "colorbar": {
             "outlinewidth": 0,
             "ticks": ""
            },
            "colorscale": [
             [
              0,
              "#0d0887"
             ],
             [
              0.1111111111111111,
              "#46039f"
             ],
             [
              0.2222222222222222,
              "#7201a8"
             ],
             [
              0.3333333333333333,
              "#9c179e"
             ],
             [
              0.4444444444444444,
              "#bd3786"
             ],
             [
              0.5555555555555556,
              "#d8576b"
             ],
             [
              0.6666666666666666,
              "#ed7953"
             ],
             [
              0.7777777777777778,
              "#fb9f3a"
             ],
             [
              0.8888888888888888,
              "#fdca26"
             ],
             [
              1,
              "#f0f921"
             ]
            ],
            "type": "histogram2dcontour"
           }
          ],
          "mesh3d": [
           {
            "colorbar": {
             "outlinewidth": 0,
             "ticks": ""
            },
            "type": "mesh3d"
           }
          ],
          "parcoords": [
           {
            "line": {
             "colorbar": {
              "outlinewidth": 0,
              "ticks": ""
             }
            },
            "type": "parcoords"
           }
          ],
          "pie": [
           {
            "automargin": true,
            "type": "pie"
           }
          ],
          "scatter": [
           {
            "marker": {
             "colorbar": {
              "outlinewidth": 0,
              "ticks": ""
             }
            },
            "type": "scatter"
           }
          ],
          "scatter3d": [
           {
            "line": {
             "colorbar": {
              "outlinewidth": 0,
              "ticks": ""
             }
            },
            "marker": {
             "colorbar": {
              "outlinewidth": 0,
              "ticks": ""
             }
            },
            "type": "scatter3d"
           }
          ],
          "scattercarpet": [
           {
            "marker": {
             "colorbar": {
              "outlinewidth": 0,
              "ticks": ""
             }
            },
            "type": "scattercarpet"
           }
          ],
          "scattergeo": [
           {
            "marker": {
             "colorbar": {
              "outlinewidth": 0,
              "ticks": ""
             }
            },
            "type": "scattergeo"
           }
          ],
          "scattergl": [
           {
            "marker": {
             "colorbar": {
              "outlinewidth": 0,
              "ticks": ""
             }
            },
            "type": "scattergl"
           }
          ],
          "scattermapbox": [
           {
            "marker": {
             "colorbar": {
              "outlinewidth": 0,
              "ticks": ""
             }
            },
            "type": "scattermapbox"
           }
          ],
          "scatterpolar": [
           {
            "marker": {
             "colorbar": {
              "outlinewidth": 0,
              "ticks": ""
             }
            },
            "type": "scatterpolar"
           }
          ],
          "scatterpolargl": [
           {
            "marker": {
             "colorbar": {
              "outlinewidth": 0,
              "ticks": ""
             }
            },
            "type": "scatterpolargl"
           }
          ],
          "scatterternary": [
           {
            "marker": {
             "colorbar": {
              "outlinewidth": 0,
              "ticks": ""
             }
            },
            "type": "scatterternary"
           }
          ],
          "surface": [
           {
            "colorbar": {
             "outlinewidth": 0,
             "ticks": ""
            },
            "colorscale": [
             [
              0,
              "#0d0887"
             ],
             [
              0.1111111111111111,
              "#46039f"
             ],
             [
              0.2222222222222222,
              "#7201a8"
             ],
             [
              0.3333333333333333,
              "#9c179e"
             ],
             [
              0.4444444444444444,
              "#bd3786"
             ],
             [
              0.5555555555555556,
              "#d8576b"
             ],
             [
              0.6666666666666666,
              "#ed7953"
             ],
             [
              0.7777777777777778,
              "#fb9f3a"
             ],
             [
              0.8888888888888888,
              "#fdca26"
             ],
             [
              1,
              "#f0f921"
             ]
            ],
            "type": "surface"
           }
          ],
          "table": [
           {
            "cells": {
             "fill": {
              "color": "#EBF0F8"
             },
             "line": {
              "color": "white"
             }
            },
            "header": {
             "fill": {
              "color": "#C8D4E3"
             },
             "line": {
              "color": "white"
             }
            },
            "type": "table"
           }
          ]
         },
         "layout": {
          "annotationdefaults": {
           "arrowcolor": "#2a3f5f",
           "arrowhead": 0,
           "arrowwidth": 1
          },
          "autotypenumbers": "strict",
          "coloraxis": {
           "colorbar": {
            "outlinewidth": 0,
            "ticks": ""
           }
          },
          "colorscale": {
           "diverging": [
            [
             0,
             "#8e0152"
            ],
            [
             0.1,
             "#c51b7d"
            ],
            [
             0.2,
             "#de77ae"
            ],
            [
             0.3,
             "#f1b6da"
            ],
            [
             0.4,
             "#fde0ef"
            ],
            [
             0.5,
             "#f7f7f7"
            ],
            [
             0.6,
             "#e6f5d0"
            ],
            [
             0.7,
             "#b8e186"
            ],
            [
             0.8,
             "#7fbc41"
            ],
            [
             0.9,
             "#4d9221"
            ],
            [
             1,
             "#276419"
            ]
           ],
           "sequential": [
            [
             0,
             "#0d0887"
            ],
            [
             0.1111111111111111,
             "#46039f"
            ],
            [
             0.2222222222222222,
             "#7201a8"
            ],
            [
             0.3333333333333333,
             "#9c179e"
            ],
            [
             0.4444444444444444,
             "#bd3786"
            ],
            [
             0.5555555555555556,
             "#d8576b"
            ],
            [
             0.6666666666666666,
             "#ed7953"
            ],
            [
             0.7777777777777778,
             "#fb9f3a"
            ],
            [
             0.8888888888888888,
             "#fdca26"
            ],
            [
             1,
             "#f0f921"
            ]
           ],
           "sequentialminus": [
            [
             0,
             "#0d0887"
            ],
            [
             0.1111111111111111,
             "#46039f"
            ],
            [
             0.2222222222222222,
             "#7201a8"
            ],
            [
             0.3333333333333333,
             "#9c179e"
            ],
            [
             0.4444444444444444,
             "#bd3786"
            ],
            [
             0.5555555555555556,
             "#d8576b"
            ],
            [
             0.6666666666666666,
             "#ed7953"
            ],
            [
             0.7777777777777778,
             "#fb9f3a"
            ],
            [
             0.8888888888888888,
             "#fdca26"
            ],
            [
             1,
             "#f0f921"
            ]
           ]
          },
          "colorway": [
           "#636efa",
           "#EF553B",
           "#00cc96",
           "#ab63fa",
           "#FFA15A",
           "#19d3f3",
           "#FF6692",
           "#B6E880",
           "#FF97FF",
           "#FECB52"
          ],
          "font": {
           "color": "#2a3f5f"
          },
          "geo": {
           "bgcolor": "white",
           "lakecolor": "white",
           "landcolor": "#E5ECF6",
           "showlakes": true,
           "showland": true,
           "subunitcolor": "white"
          },
          "hoverlabel": {
           "align": "left"
          },
          "hovermode": "closest",
          "mapbox": {
           "style": "light"
          },
          "paper_bgcolor": "white",
          "plot_bgcolor": "#E5ECF6",
          "polar": {
           "angularaxis": {
            "gridcolor": "white",
            "linecolor": "white",
            "ticks": ""
           },
           "bgcolor": "#E5ECF6",
           "radialaxis": {
            "gridcolor": "white",
            "linecolor": "white",
            "ticks": ""
           }
          },
          "scene": {
           "xaxis": {
            "backgroundcolor": "#E5ECF6",
            "gridcolor": "white",
            "gridwidth": 2,
            "linecolor": "white",
            "showbackground": true,
            "ticks": "",
            "zerolinecolor": "white"
           },
           "yaxis": {
            "backgroundcolor": "#E5ECF6",
            "gridcolor": "white",
            "gridwidth": 2,
            "linecolor": "white",
            "showbackground": true,
            "ticks": "",
            "zerolinecolor": "white"
           },
           "zaxis": {
            "backgroundcolor": "#E5ECF6",
            "gridcolor": "white",
            "gridwidth": 2,
            "linecolor": "white",
            "showbackground": true,
            "ticks": "",
            "zerolinecolor": "white"
           }
          },
          "shapedefaults": {
           "line": {
            "color": "#2a3f5f"
           }
          },
          "ternary": {
           "aaxis": {
            "gridcolor": "white",
            "linecolor": "white",
            "ticks": ""
           },
           "baxis": {
            "gridcolor": "white",
            "linecolor": "white",
            "ticks": ""
           },
           "bgcolor": "#E5ECF6",
           "caxis": {
            "gridcolor": "white",
            "linecolor": "white",
            "ticks": ""
           }
          },
          "title": {
           "x": 0.05
          },
          "xaxis": {
           "automargin": true,
           "gridcolor": "white",
           "linecolor": "white",
           "ticks": "",
           "title": {
            "standoff": 15
           },
           "zerolinecolor": "white",
           "zerolinewidth": 2
          },
          "yaxis": {
           "automargin": true,
           "gridcolor": "white",
           "linecolor": "white",
           "ticks": "",
           "title": {
            "standoff": 15
           },
           "zerolinecolor": "white",
           "zerolinewidth": 2
          }
         }
        },
        "xaxis": {
         "anchor": "y2",
         "domain": [
          0,
          1
         ],
         "zeroline": false
        },
        "yaxis": {
         "anchor": "free",
         "domain": [
          0.35,
          1
         ],
         "position": 0
        },
        "yaxis2": {
         "anchor": "x",
         "domain": [
          0,
          0.25
         ],
         "dtick": 1,
         "showticklabels": false
        }
       }
      },
      "text/html": [
       "<div>                            <div id=\"098d34c8-8f7a-4517-b01e-dba667ffa58d\" class=\"plotly-graph-div\" style=\"height:525px; width:100%;\"></div>            <script type=\"text/javascript\">                require([\"plotly\"], function(Plotly) {                    window.PLOTLYENV=window.PLOTLYENV || {};                                    if (document.getElementById(\"098d34c8-8f7a-4517-b01e-dba667ffa58d\")) {                    Plotly.newPlot(                        \"098d34c8-8f7a-4517-b01e-dba667ffa58d\",                        [{\"autobinx\":false,\"histnorm\":\"probability density\",\"legendgroup\":\"Group 1\",\"marker\":{\"color\":\"rgb(31, 119, 180)\"},\"name\":\"Group 1\",\"opacity\":0.7,\"type\":\"histogram\",\"x\":[-3.7005393046151185,-2.884257845519595,-0.9599695479121082,-1.3808591588412387,-0.3446903931523577,-0.31451765157734024,-2.1507974869163036,-1.2330733255447006,-2.5088988716967817,-2.0563408724943866,-1.7375413191773528,-1.6896333885527923,-1.3144293687058446,-2.8395188215769016,-2.523689225105827,-2.8742527958454884,-2.585239172768243,-1.4851110386981574,-2.4682244655503456,-0.7312065455346011,-1.1451315911157978,-3.886132384073062,-2.8138636885843122,-2.8554752369390495,-2.1997139223267044,-3.632691404667421,-2.6835914897014934,-1.567690625868994,-1.9251603163145636,-1.5711083519991582,-2.6083389952840736,-3.0854364206099163,-2.2990147814818744,-1.8413553131616847,-0.9592338826891325,-3.419988255625091,-1.259934496906165,-1.122575192074485,-2.1323971677822167,-2.281296601886792,-1.5996456536658463,-1.3744912127144837,-2.313780371495427,-1.5318594911726295,-2.41417188977731,-2.0134961972266114,-0.6472380913716445,-2.829045589154746,-2.3271594548042907,-3.4156459611059846,-1.7443957935579182,-0.6705614398019837,-1.6779211145788122,-0.4942952757042294,-2.3652964138179997,-0.9348324232515315,-0.757144847849514,-2.5768454060115067,-2.7789181365153945,-1.6340673994165225,-3.184538649306878,-0.9705710079154186,-2.6379948261211243,-2.2241717442719007,-2.804512894688768,-2.3151575647508107,-0.1466996177294917,-2.456109028256521,-3.4789656806061027,-1.3203196642798698,-3.2139633125600557,0.3448973769364754,-2.391170232093977,-2.2792997967306188,-1.4330433652315133,-1.7338829390768735,-0.5334312504691678,-3.5621680232013344,-2.6499149510171462,-2.149333136734406,-3.2321260197286197,-1.806834350709561,-0.309874340200438,-3.103231483196587,-2.841193117455279,-1.6571048961470143,-3.384668059770317,-2.1695770073182223,-2.7580402788688585,-1.008419381023919,-0.9065760213833967,-1.6467833191586028,-1.4560735030040535,-3.278272210054624,-1.1158556794618675,-2.91614399480646,-0.7282622895144162,-2.066352128329438,-1.526920983892519,-0.5725589563883458,-0.8989236041100055,-1.5646534118053035,-1.564806239542522,-1.567915754953551,-1.219231197160354,-2.343307346650017,-1.4448083036709627,-0.4539694674889163,-1.3740882743955964,-3.2800796591186394,-1.094090406985269,-2.0425547760396885,-1.5024552467432248,-1.7950022333581892,-1.2507504696921612,-1.1780170068604097,-2.7616465623468573,-0.9843688108445015,-1.830496297545209,-2.174373484843804,0.10244513915154574,-2.003609535301797,-1.4098879988822968,-2.0116891987627423,-0.9694452281258521,-1.1067419698642267,-1.7220024640294518,-1.8554066984581001,-1.8980861815404588,-0.7044216168448438,-2.7940218956615377,-1.609016649895495,-0.40623621728727977,-1.3558045716564955,0.7581833141858034,-3.335092174285548,-2.451259880656694,-1.1616403892396483,-1.3323918841572673,-2.1858812678926047,-1.3525099056030168,-1.6910136110167677,-2.3085384007188736,-1.7406139295760932,0.5705201523409631,-1.3640916714472993,-2.3252085372074944,-2.9219005055242366,-1.4109721738237861,-1.0579017136321813,-3.090214164900646,-1.5197541068797005,-0.5788549404270762,-2.2479074136412613,-3.3317900839565016,-1.9788697054423807,0.3643093013158172,-1.4769965692084148,-3.226597477017471,-2.561754620183745,-0.9036486570193887,-3.752069953748375,-2.437848968753104,-1.0401807972374928,-2.355503590525709,-1.9990963778783566,-2.7731068073945617,-1.82286746846102,-0.7176878014039039,0.336122098955387,-0.9101524454155459,-1.2212343124155152,-1.2675229611513381,-1.1493755432844996,-2.0842840094132127,-2.3043567885855696,-1.668939295557847,-3.1423106269377614,-1.936134210350582,-2.6762356046411133,-2.6236560944090526,-3.329229970169305,-2.3998912800443333,-3.8260624479726166,-3.180828926267923,-0.7958321966568711,-1.1254727899421613,-1.422941778671029,-0.5005896806675925,-3.876607867721321,-0.7255683478760588,-1.1100021547968082,-1.2789098120134823,-2.3278226134716586,0.3567468886574412,-3.3268875311412036,0.31366247118098833,-1.1521476435548594,-1.38935059056845,-1.2383577463482895],\"xaxis\":\"x\",\"xbins\":{\"end\":0.7581833141858034,\"size\":0.1,\"start\":-3.886132384073062},\"yaxis\":\"y\"},{\"autobinx\":false,\"histnorm\":\"probability density\",\"legendgroup\":\"Group 2\",\"marker\":{\"color\":\"rgb(255, 127, 14)\"},\"name\":\"Group 2\",\"opacity\":0.7,\"type\":\"histogram\",\"x\":[1.0855326875444873,-0.11120725304294847,1.2234269346276407,0.3890034183916825,1.1635614746786338,-0.7889687876517495,0.4356190731344477,0.3044729185748049,0.2730034883109125,1.422879045985715,0.7464426996131105,0.5194827697876634,-0.6354012530417713,0.023844035146629854,0.693117018473219,0.7772254336310346,-0.7628597578243967,-1.9469966635063511,0.11315814778673702,-1.1505035562498211,0.2505756059001677,1.4203672358030164,-0.2264469477371469,-1.7312419009435747,1.1286185733703618,1.3624898542236359,-0.7919013392547467,-2.121743003130195,0.8560851145829049,0.3380513555911928,-0.7676732802851804,0.6614710890433936,0.9100543140275427,-1.0243268631168734,1.0051156826522194,-3.7303665771621306,1.4493146342099597,-0.19816767857479814,-2.207535967956536,0.06514290498205598,1.1002417194763647,0.07808419207146317,0.21552140279481918,-0.20705788278896634,-0.39455041218736114,-0.4039978016875397,1.4454010904182308,0.8017529441843418,1.4436880369125697,-0.09065796881766712,-2.199049335558523,0.5386631867485068,0.3998433218726392,0.6518434034404246,-1.2994261105526554,0.3767507216857218,-0.1732911592903868,1.927685267012713,-0.9386553741843895,0.5849696805620179,-0.9242954385502689,-1.008812751749948,2.1792310616986943,-0.409329848797892,-0.43124390688957254,0.19949921722468905,1.119344139654987,0.4011865310196791,-2.706039210700946,-1.383577551298375,-0.09634225670538682,1.724365786276272,-1.411437064742321,0.3931026152968499,1.1121317455865694,-1.0790436593300838,-0.17328991082495304,-0.9702622703980469,0.9049077637595134,1.4638458951378848,-1.5283877055435549,0.7701230872719592,-1.1247728835628414,-0.37030979713210294,-1.472041477883499,0.27800779407577253,2.2112339246646306,0.8026984297182737,0.42795201802029137,0.7062694547468024,-0.4889877961343596,-0.5736006643789838,2.262928902700256,1.2226702663330604,-1.233651106574083,0.16362822710997937,0.5678558300843481,1.1847719143458315,0.04736124033045382,0.5313855273636022,0.3248827032185342,-0.174907972705985,0.5932738782670216,-1.235528373282235,-0.6099494888349074,-0.1556592065912914,-1.2449502490835163,-0.3597695716888569,-0.11001006348199592,-1.368381500726703,-0.09107253048140697,-1.356124506070312,-0.974755497953089,-0.11042313253041905,0.26995367345027854,-0.685273767740136,-0.6829607118285204,0.9712553563437166,1.134914739471294,-1.0273885599582862,-0.024551024839281784,-1.2866479321714623,-0.28494133587388426,-1.2685711289061548,-0.28745341714316575,1.1931565028643742,0.08200766499892145,-0.04544962545237027,0.9304798693579148,-0.12370730633003665,0.35463582006852284,0.5285624861988166,-0.24234238381283343,2.0934091405107895,-0.3547621191661709,-0.7407790092870133,0.047295241957222796,0.5655649311841293,-0.4594285208941864,-0.7102731788815356,-0.1338743333563953,-1.4764437490676177,1.1633676862343574,-0.18785593701534095,-0.41080702142996,-1.1837478882868944,0.46046348096384937,-0.3019734601391418,-0.45966174667833476,1.6600982548843803,0.11528385198959624,-2.153083437810777,0.8921922833992181,-0.6055759510776483,0.93307556020463,0.48701143251018897,0.8809207494418091,-0.06977376072204088,-1.3789711421769306,1.677128707176256,0.7726368676102237,1.4627341507961318,0.32163513957254036,-0.9115102789856349,-0.41842009528318863,0.018121025067881866,-0.4044624179276639,0.6155532442452586,-1.0971171971731422,0.6548537288362414,-0.9729340341912107,0.5983173796080998,-1.3879642047744507,-0.23712115602478215,0.3163045568470063,0.45971323501077543,-1.51102564886931,-1.08594507731873,0.7824867161864087,1.3607461701351662,-1.4946150367931208,-0.5959452081699518,-0.18037302995677917,1.3316636115702276,0.9017224347297302,2.3583992621557406,0.8127393135682499,-0.1515144797515831,-0.7930944321316766,-1.3241230006548121,1.2968807082979439,-0.26620602631744955,1.0841551694298686,0.35187883005292314,0.23676401332575234,0.4163080583175975,0.10875308894768246,0.10538866336657488,1.134046235065703,-0.30485970339631246],\"xaxis\":\"x\",\"xbins\":{\"end\":2.3583992621557406,\"size\":0.25,\"start\":-3.7303665771621306},\"yaxis\":\"y\"},{\"autobinx\":false,\"histnorm\":\"probability density\",\"legendgroup\":\"Group 3\",\"marker\":{\"color\":\"rgb(44, 160, 44)\"},\"name\":\"Group 3\",\"opacity\":0.7,\"type\":\"histogram\",\"x\":[1.0842458387915135,4.077422411850478,2.2492081842224287,0.7010291771388764,1.6543126998045756,2.8079785237060797,1.9418804509603087,2.455370878816968,2.5866752463292215,1.1592412984655351,1.4879363652079887,1.6090607987958079,0.39776382196625915,2.3003143831825,2.620782700588381,0.8195170821967157,3.3967877683207695,1.1428490353475866,1.4159103800096373,1.5381956837523494,0.7517385254296791,1.5846577448473336,1.5086258508512929,1.2758687738194119,0.9231932089901884,2.0222247274504666,2.072711696599648,1.7980950684839176,1.2989534801055513,1.9327854737071,2.1982123088906103,3.813909198497738,1.6922071671848697,2.3602320799729237,3.645657201983224,1.5454804488404839,1.26309290225554,1.963690670199676,2.504361148991763,3.6411713150868725,1.3884294242808528,2.5251366802647977,2.02687615883381,1.9376042297370868,0.565199580297969,2.01333677072189,2.923680395108257,1.2166476630672403,0.7187938395383922,0.4635290792868263,2.8849140043011126,3.1821182689784315,2.7967987426082455,2.683367148116229,1.3596112745212854,1.2590282836418814,2.5642613127711646,2.6050913145002283,3.0101617616440226,2.626330045301367,1.4897784850623736,3.0110149814112903,1.8235161358706804,1.4689278477911887,-0.8706864672372112,1.949010468786401,1.5185238587051155,3.6407134433868347,3.3194874029773387,2.4075589251230927,1.3291503092352037,2.049537172243997,2.032509178551114,2.128197563484746,2.212885375324347,-0.7083479163966322,2.108251495472508,4.693986616770875,2.1105215018638543,3.4598579886816108,0.935551764205379,2.7947130516904526,1.7541987517383686,1.886329446420562,2.266356662394979,1.143147462733224,4.236578459581175,0.8374694132244132,-0.33433522059504384,0.985828233404902,2.9657064035025127,3.0415549182977113,1.6490815047157787,1.5125967974643428,2.647452311555684,0.9411911513862656,1.649558550537863,-0.4442176824652484,1.3956753555659134,2.370382096309335,2.408644778292317,1.9447590090224331,2.4722898415971106,1.485124691013941,0.8258244255323708,1.2851639323072508,2.121566334043989,3.226954417490654,1.720364727932616,1.9903890233746826,3.5697582249836346,1.8268884390478284,2.452934871670107,2.059700077774349,1.4746185849797144,0.9869972212230658,2.9044483964527292,3.193897184272675,2.2142996744877466,0.88639192434164,1.941252353915244,1.895943652927695,1.6037687106218408,0.569029566170512,1.5408421882844492,2.8670451066596665,2.399741309466424,2.279667578431661,2.2534226109328603,1.022784751109627,1.4944487126751897,2.685451548381867,1.4373326281400667,3.147418521381696,1.9142593434931288,3.713519176462823,1.5582726513825393,3.266596627252336,1.127883650516454,1.6564133431247368,1.6020744203867605,1.573780617485474,0.6285069282549656,1.7747388180735642,0.5858784412335898,2.7017695398810595,1.9200596485279424,3.5767757997269314,1.2148198215101886,2.0526508139815665,2.557191637047624,2.3617975551671035,3.03014959240133,2.6498531097077134,1.963882208017562,2.564538341759699,1.8288100164984948,2.295414921240865,2.090377937231279,2.044783436861392,2.0367312358017644,2.1310932944661896,1.5844582351981633,2.3989987159899915,2.056137197935243,1.1915090482554145,1.314904596856619,2.2086450118910324,2.3196137198670086,1.636494748960096,0.5303273312123549,2.5626053692612922,1.0243271779233427,2.035062716231314,1.7816412376906223,2.5964088348015206,1.8579020455963489,0.9149737681346357,1.2667218009594006,0.8377060104188787,0.6332842337366853,3.0105014129540297,1.4121672878025313,1.1951565289852686,0.9936280110388893,2.3704501002273006,3.87798680102196,1.4604089181012714,1.6507336706848121,2.324586157011019,1.3068050846653518,1.8031967807005456,2.6133621365504722,2.8649095004461698,0.26910870189491587,0.45314707275308375,2.1549895062170683,3.420222138728755,2.659041149790811,2.454336687462909],\"xaxis\":\"x\",\"xbins\":{\"end\":4.693986616770875,\"size\":0.5,\"start\":-0.8706864672372112},\"yaxis\":\"y\"},{\"autobinx\":false,\"histnorm\":\"probability density\",\"legendgroup\":\"Group 4\",\"marker\":{\"color\":\"rgb(214, 39, 40)\"},\"name\":\"Group 4\",\"opacity\":0.7,\"type\":\"histogram\",\"x\":[4.980415527313378,4.455843022120531,3.363490985865533,4.072308732607631,2.8352996031710807,3.1938491031422434,3.4020950809427215,3.641606807543277,5.175473967544721,4.431832684546362,5.00926707021034,4.239450670418295,3.9043607678932832,4.08321558499837,5.014580466479609,2.974914779651149,4.536632894006226,1.2255048501357577,4.294158789386461,4.681499015581354,3.623149202328546,3.5426442594364,4.1635592312859195,3.6451229355855395,3.831183340867583,4.716202477639374,5.041733197695073,3.6453478924033935,5.969430169590758,4.220708946305935,4.081779341985014,6.590038397648209,3.83494314534988,4.354124781222369,5.523200922652749,3.1365118467769735,3.474817716955487,5.119108028099136,2.05582778458907,2.286032288734846,5.632483548152676,3.4133510979016233,3.6395390046880283,3.1710613403203327,4.45616482181006,5.0355290425889345,4.445736046555575,3.249056277412032,3.81287880489416,3.2260055932118816,4.668308391636673,5.483750340885639,3.424655368339832,6.949205638480038,4.296292143814823,4.703272936241272,3.1210899935987877,3.9595997030804067,3.1174467584167114,3.6013873156199603,3.3569178986832755,3.8206144137778417,4.153096000557089,3.8941534463058347,4.635567044572856,4.721859611552941,5.594277341642103,4.663034332433281,2.831241484565821,4.55728787510138,3.443395046942973,2.5035126380487798,3.6398190209360353,5.1779392926148855,3.5434783999595574,2.923284835753534,4.307465742706928,2.7089070134973534,2.1241095890525528,4.680141363500729,5.187801071083232,3.042055787858136,2.6575250248020765,5.123142032045907,3.108648138799638,2.78568051012096,4.317753173395928,4.383356649418797,3.6291146016740186,2.478301697685467,6.10419321171712,1.6323491293439338,4.860851223852722,3.7990022455937473,3.387770520968181,3.4413998286350465,3.198500787035122,3.4584998213787665,4.500915890535068,5.748136511018381,4.7588159568581725,2.9927885288299794,4.006300204178298,3.2988245539565098,3.5879872285420658,4.5671968496135555,2.5389006702419543,1.7259158880965426,3.65508506082946,4.842475790207648,3.8727977353392053,5.21662733458732,2.316931814802199,4.755724297725935,4.875973419354743,5.310695076901515,4.321437041264017,2.888467893890648,1.8192699832422035,2.7892335903094523,3.7906621708348354,3.9743989241796274,3.268981999158659,3.6596423713884856,5.951996141987851,3.1279357563070254,3.9992493545557752,4.994065468254969,3.7001507210961067,2.3086502002009524,5.140128209118464,3.6405186735481148,1.4964819776788132,4.000207994523335,3.700983038130027,1.6778833119276793,2.700272283296539,4.337045423634611,4.320870903887482,5.456568678621833,4.7158421992562545,5.494038968884824,4.070814778211051,3.8433269314037433,3.914975731107783,5.035968851964083,4.032576203014553,4.782056403471591,3.758556182931618,2.5709697559469658,3.3621005666229182,3.7167776335268075,4.106499446187534,4.633926159469051,4.379444116505669,5.814024268449463,2.7094898362097655,4.893704585172705,4.172575304467395,3.0689674929772655,3.654266262323529,2.9785822698830318,3.365014264848436,3.258185741590277,2.3479797376638434,3.741341375938774,4.440075037032122,3.434323382220059,3.7710606307842967,3.4551980320179467,3.7925268717966216,5.242023009820357,3.2777474185658075,4.5066157452460205,5.283972926945219,4.234156083637238,4.1623468012249925,2.927524220894954,1.7772840018066605,5.409881894537892,4.975710109701019,3.4073804108849997,2.53476678374951,3.2190866514505068,3.910718951819539,4.87855426716986,3.662877422214927,4.187541891234963,5.836508745628281,5.778487629622055,4.0865822261073745,4.117322025315157,1.596361095136548,2.6401223881681135,2.978893074977426,4.486095373615649,3.2375154316766475,5.3226130250824895,4.542219530305689,3.3021773084692785],\"xaxis\":\"x\",\"xbins\":{\"end\":6.949205638480038,\"size\":1,\"start\":1.2255048501357577},\"yaxis\":\"y\"},{\"legendgroup\":\"Group 1\",\"marker\":{\"color\":\"rgb(31, 119, 180)\"},\"mode\":\"lines\",\"name\":\"Group 1\",\"showlegend\":false,\"type\":\"scatter\",\"x\":[-3.886132384073062,-3.8768437526765442,-3.8675551212800268,-3.858266489883509,-3.8489778584869914,-3.8396892270904734,-3.830400595693956,-3.821111964297438,-3.81182333290092,-3.8025347015044026,-3.7932460701078847,-3.7839574387113672,-3.7746688073148493,-3.765380175918332,-3.756091544521814,-3.746802913125296,-3.7375142817287785,-3.7282256503322606,-3.718937018935743,-3.709648387539225,-3.7003597561427077,-3.69107112474619,-3.681782493349672,-3.6724938619531544,-3.6632052305566365,-3.653916599160119,-3.644627967763601,-3.6353393363670836,-3.6260507049705657,-3.6167620735740478,-3.6074734421775303,-3.5981848107810124,-3.588896179384495,-3.579607547987977,-3.570318916591459,-3.5610302851949416,-3.5517416537984237,-3.542453022401906,-3.5331643910053883,-3.523875759608871,-3.514587128212353,-3.5052984968158354,-3.4960098654193175,-3.4867212340227995,-3.477432602626282,-3.468143971229764,-3.4588553398332467,-3.4495667084367287,-3.440278077040211,-3.4309894456436933,-3.4217008142471754,-3.412412182850658,-3.40312355145414,-3.3938349200576226,-3.3845462886611046,-3.375257657264587,-3.3659690258680692,-3.3566803944715513,-3.347391763075034,-3.338103131678516,-3.3288145002819984,-3.3195258688854805,-3.310237237488963,-3.300948606092445,-3.2916599746959276,-3.2823713432994097,-3.273082711902892,-3.2637940805063743,-3.2545054491098564,-3.245216817713339,-3.235928186316821,-3.226639554920303,-3.2173509235237856,-3.2080622921272677,-3.19877366073075,-3.1894850293342323,-3.1801963979377144,-3.170907766541197,-3.161619135144679,-3.1523305037481615,-3.1430418723516436,-3.133753240955126,-3.124464609558608,-3.1151759781620907,-3.1058873467655728,-3.096598715369055,-3.0873100839725374,-3.0780214525760194,-3.068732821179502,-3.059444189782984,-3.050155558386466,-3.0408669269899486,-3.031578295593431,-3.0222896641969133,-3.0130010328003953,-3.0037124014038774,-2.99442377000736,-2.9851351386108425,-2.9758465072143245,-2.9665578758178066,-2.957269244421289,-2.947980613024771,-2.9386919816282537,-2.929403350231736,-2.920114718835218,-2.9108260874387004,-2.901537456042183,-2.892248824645665,-2.882960193249147,-2.8736715618526296,-2.8643829304561117,-2.855094299059594,-2.8458056676630763,-2.8365170362665584,-2.8272284048700405,-2.817939773473523,-2.8086511420770055,-2.7993625106804876,-2.7900738792839697,-2.780785247887452,-2.7714966164909347,-2.762207985094417,-2.752919353697899,-2.743630722301381,-2.734342090904864,-2.725053459508346,-2.715764828111828,-2.70647619671531,-2.6971875653187927,-2.6878989339222747,-2.6786103025257573,-2.6693216711292393,-2.6600330397327214,-2.650744408336204,-2.6414557769396865,-2.6321671455431686,-2.6228785141466506,-2.6135898827501327,-2.6043012513536152,-2.5950126199570978,-2.58572398856058,-2.576435357164062,-2.5671467257675444,-2.557858094371027,-2.548569462974509,-2.539280831577991,-2.529992200181473,-2.5207035687849557,-2.511414937388438,-2.5021263059919203,-2.4928376745954024,-2.483549043198885,-2.474260411802367,-2.4649717804058495,-2.4556831490093316,-2.4463945176128137,-2.4371058862162958,-2.4278172548197783,-2.418528623423261,-2.409239992026743,-2.399951360630225,-2.3906627292337075,-2.38137409783719,-2.372085466440672,-2.362796835044154,-2.3535082036476362,-2.3442195722511188,-2.3349309408546013,-2.3256423094580834,-2.3163536780615654,-2.307065046665048,-2.29777641526853,-2.2884877838720126,-2.2791991524754946,-2.2699105210789767,-2.2606218896824593,-2.2513332582859418,-2.242044626889424,-2.232755995492906,-2.223467364096388,-2.2141787326998705,-2.204890101303353,-2.195601469906835,-2.186312838510317,-2.1770242071137997,-2.1677355757172823,-2.1584469443207643,-2.1491583129242464,-2.1398696815277285,-2.130581050131211,-2.121292418734693,-2.1120037873381756,-2.1027151559416577,-2.09342652454514,-2.0841378931486223,-2.074849261752105,-2.065560630355587,-2.056271998959069,-2.046983367562551,-2.0376947361660336,-2.028406104769516,-2.019117473372998,-2.0098288419764803,-2.000540210579963,-1.991251579183445,-1.9819629477869272,-1.9726743163904095,-1.9633856849938918,-1.954097053597374,-1.9448084222008561,-1.9355197908043387,-1.926231159407821,-1.9169425280113033,-1.9076538966147853,-1.8983652652182677,-1.88907663382175,-1.879788002425232,-1.8704993710287146,-1.861210739632197,-1.8519221082356792,-1.8426334768391612,-1.8333448454426438,-1.8240562140461258,-1.814767582649608,-1.8054789512530904,-1.7961903198565725,-1.7869016884600546,-1.7776130570635371,-1.7683244256670192,-1.7590357942705017,-1.7497471628739838,-1.7404585314774663,-1.7311699000809488,-1.721881268684431,-1.712592637287913,-1.7033040058913955,-1.6940153744948776,-1.6847267430983601,-1.6754381117018422,-1.6661494803053243,-1.6568608489088068,-1.6475722175122889,-1.638283586115771,-1.6289949547192535,-1.6197063233227356,-1.6104176919262176,-1.6011290605297002,-1.5918404291331822,-1.5825517977366652,-1.5732631663401473,-1.5639745349436294,-1.554685903547112,-1.545397272150594,-1.536108640754076,-1.5268200093575586,-1.5175313779610407,-1.5082427465645232,-1.4989541151680053,-1.4896654837714873,-1.4803768523749699,-1.471088220978452,-1.461799589581934,-1.4525109581854165,-1.4432223267888986,-1.4339336953923811,-1.4246450639958637,-1.4153564325993457,-1.4060678012028283,-1.3967791698063103,-1.3874905384097924,-1.378201907013275,-1.368913275616757,-1.359624644220239,-1.3503360128237216,-1.3410473814272037,-1.3317587500306862,-1.3224701186341683,-1.3131814872376504,-1.303892855841133,-1.294604224444615,-1.285315593048097,-1.2760269616515796,-1.266738330255062,-1.2574496988585446,-1.2481610674620267,-1.2388724360655088,-1.2295838046689913,-1.2202951732724734,-1.2110065418759555,-1.201717910479438,-1.19242927908292,-1.1831406476864021,-1.1738520162898847,-1.1645633848933667,-1.1552747534968493,-1.1459861221003314,-1.1366974907038134,-1.127408859307296,-1.118120227910778,-1.1088315965142606,-1.099542965117743,-1.0902543337212252,-1.0809657023247077,-1.0716770709281898,-1.0623884395316718,-1.0530998081351544,-1.0438111767386364,-1.0345225453421185,-1.025233913945601,-1.0159452825490831,-1.0066566511525656,-0.9973680197560477,-0.9880793883595298,-0.9787907569630123,-0.9695021255664944,-0.9602134941699765,-0.9509248627734594,-0.9416362313769415,-0.9323475999804236,-0.9230589685839061,-0.9137703371873882,-0.9044817057908707,-0.8951930743943528,-0.8859044429978349,-0.8766158116013174,-0.8673271802047995,-0.8580385488082816,-0.8487499174117641,-0.8394612860152462,-0.8301726546187287,-0.8208840232222108,-0.8115953918256928,-0.8023067604291754,-0.7930181290326579,-0.78372949763614,-0.7744408662396225,-0.7651522348431046,-0.7558636034465867,-0.7465749720500692,-0.7372863406535513,-0.7279977092570338,-0.7187090778605159,-0.7094204464639979,-0.7001318150674805,-0.6908431836709625,-0.6815545522744446,-0.6722659208779271,-0.6629772894814092,-0.6536886580848917,-0.6444000266883738,-0.6351113952918563,-0.6258227638953389,-0.6165341324988209,-0.607245501102303,-0.5979568697057855,-0.5886682383092676,-0.5793796069127501,-0.5700909755162322,-0.5608023441197143,-0.5515137127231968,-0.5422250813266789,-0.532936449930161,-0.5236478185336435,-0.5143591871371256,-0.5050705557406077,-0.4957819243440902,-0.48649329294757226,-0.47720466155105523,-0.4679160301545373,-0.4586273987580194,-0.4493387673615019,-0.440050135964984,-0.43076150456846607,-0.4214728731719486,-0.41218424177543067,-0.4028956103789132,-0.3936069789823953,-0.38431834758587735,-0.3750297161893599,-0.36574108479284195,-0.35645245339632403,-0.34716382199980655,-0.33787519060328863,-0.3285865592067707,-0.31929792781025323,-0.31000929641373576,-0.3007206650172183,-0.29143203362070036,-0.28214340222418244,-0.27285477082766496,-0.26356613943114704,-0.2542775080346291,-0.24498887663811164,-0.23570024524159372,-0.22641161384507624,-0.21712298244855832,-0.2078343510520404,-0.19854571965552292,-0.189257088259005,-0.17996845686248708,-0.1706798254659696,-0.16139119406945168,-0.15210256267293465,-0.14281393127641673,-0.1335252998798988,-0.12423666848338133,-0.11494803708686341,-0.10565940569034549,-0.09637077429382801,-0.08708214289731009,-0.07779351150079217,-0.06850488010427469,-0.05921624870775677,-0.04992761731123929,-0.04063898591472137,-0.03135035451820345,-0.022061723121685972,-0.012773091725168051,-0.0034844603286501297,0.005804171067866903,0.015092802464384825,0.024381433860902302,0.03367006525742022,0.042958696653938144,0.05224732805045562,0.06153595944697354,0.07082459084349146,0.08011322224000894,0.08940185363652686,0.09869048503304478,0.10797911642956226,0.11726774782608018,0.1265563792225981,0.13584501061911602,0.14513364201563306,0.15442227341215098,0.163710904808668,0.17299953620518593,0.18228816760170385,0.19157679899822178,0.2008654303947397,0.21015406179125762,0.21944269318777465,0.22873132458429346,0.2380199559808105,0.24730858737732753,0.25659721877384634,0.26588585017036337,0.2751744815668813,0.2844631129633992,0.29375174435991713,0.30304037575643417,0.312329007152953,0.32161763854947,0.33090626994598793,0.34019490134250496,0.3494835327390238,0.3587721641355408,0.3680607955320587,0.37734942692857665,0.38663805832509457,0.3959266897216116,0.4052153211181295,0.41450395251464744,0.4237925839111645,0.4330812153076833,0.4423698467042003,0.45165847810071824,0.46094710949723616,0.4702357408937541,0.4795243722902711,0.4888130036867899,0.49810163508330696,0.5073902664798249,0.5166788978763419,0.5259675292728607,0.5352561606693778,0.5445447920658957,0.5538334234624136,0.5631220548589306,0.5724106862554486,0.5816993176519665,0.5909879490484844,0.6002765804450014,0.6095652118415202,0.6188538432380373,0.6281424746345552,0.6374311060310731,0.646719737427591,0.6560083688241081,0.6652970002206269,0.6745856316171439,0.6838742630136618,0.6931628944101789,0.7024515258066977,0.7117401572032147,0.7210287885997317,0.7303174199962505,0.7396060513927676,0.7488946827892855],\"xaxis\":\"x\",\"y\":[0.06055674879603737,0.06205366248245554,0.06356658069749034,0.06509516992391136,0.066639087081932,0.06819797940286661,0.06977148429384354,0.07135922919809563,0.07296083145568674,0.07457589816983404,0.07620402608424148,0.07784480147706412,0.07949780007727802,0.08116258700932026,0.08283871677190942,0.0845257332569212,0.08622316981411364,0.08793054936733989,0.08964738458766575,0.09137317812853177,0.09310742292774801,0.09484960258070017,0.0965991917886763,0.09835565688569331,0.1001184564466223,0.10188704197877305,0.10366085869842556,0.10543934639307335,0.10722194036938879,0.10900807248614212,0.11079717227049918,0.11258866811530574,0.11438198855413793,0.1161765636100838,0.11797182621338487,0.11976721368229115,0.12156216926068454,0.12335614370529396,0.125148596914619,0.1269389995910156,0.12872683492680187,0.13051160030469133,0.1322928090023922,0.13406999189080365,0.13584269911491725,0.13761050174629064,0.13937299339580148,0.14112979177532467,0.14288054019700014,0.14462490899887517,0.14636259688591377,0.14809333217566945,0.14981687393831372,0.15153301302118846,0.15324157294863036,0.1549424106884513,0.1566354172772065,0.15832051829716023,0.15999767419874592,0.1616668804632243,0.16332816760123084,0.16498160098391823,0.16662728050445086,0.1682653400686942,0.16989594691503251,0.17151930076435765,0.1731356328023678,0.17474520449741535,0.17634830625820647,0.1779452559366995,0.17953639718255673,0.1811220976564571,0.18270274711048073,0.1842787553446273,0.18585055004928866,0.18741857454421573,0.18898328542511914,0.19054515012960127,0.19210464443455275,0.19366224989751102,0.1952184512547533,0.19677373378906038,0.19832858068018624,0.1998834703510503,0.20143887382257575,0.20299525208991614,0.20455305353254696,0.2061127113703457,0.2076746411773758,0.20923923846459538,0.21080687634216463,0.21237790327142195,0.21395264091594934,0.21553138210044592,0.21711438888541668,0.2187018907649173,0.22029408299384345,0.22189112505045758,0.22349313923908676,0.22510020943712816,0.22671237998975757,0.22832965475498074,0.22995199630094812,0.2315793252567775,0.23321151981746108,0.23484841540283444,0.23648980447000917,0.23813543647814686,0.2397850180039797,0.2414382130060576,0.24309464323532076,0.24475388878927642,0.24641548880677322,0.24807894230014332,0.2497437091212846,0.25140921105811725,0.2530748330577347,0.2547399245724961,0.25640380102525745,0.25806574538991156,0.2597250098834138,0.2613808177654574,0.263032365241998,0.26467882346882105,0.2663193406513818,0.267953044237126,0.269579043196504,0.2711964303888549,0.2728042850092819,0.2744016751125582,0.2759876602099917,0.2775612939350296,0.27912162677319907,0.28066770885176706,0.2821985927842402,0.2837133365645316,0.2852110065052964,0.28669068021455724,0.28815144960436556,0.2895924239247856,0.29101273281605894,0.2924115293713175,0.29378799320172827,0.29514133349543786,0.29647079206119686,0.2977756463470199,0.299055212423757,0.30030884792296264,0.30153595491799456,0.30273598273686264,0.3039084306949433,0.3050528507353554,0.3061688499644967,0.3072560930700224,0.30831430460838494,0.3093432711489775,0.3103428432619091,0.31131293733652865,0.31225353721797117,0.31316469564926597,0.31404653550689576,0.3148992508181407,0.31572310754909555,0.3165184441528785,0.3172856718683013,0.31802527476008957,0.31873780949268243,0.31942390483063515,0.32008426085975905,0.3207196479242917,0.32133090527665065,0.32191893943761424,0.3224847222661504,0.32302928873952713,0.3235537344457798,0.3240592127920999,0.32454693193420975,0.3250181514332934,0.32547417864856276,0.32591636487503506,0.32634610123756913,0.32676481435364885,0.3271739617787909,0.3275750272498075,0.3279695157424115,0.32835894836087537,0.32874485707855516,0.32912877934913076,0.32951225260933603,0.32989680869477567,0.3302839681911372,0.33067523474368793,0.3310720893484287,0.33147598464860445,0.33188833926048755,0.3323105321524343,0.33274389710114977,0.33318971724893515,0.33364921978534384,0.33412357077625654,0.33461387016280447,0.3351211469518582,0.3356463546190303,0.3361903667441578,0.33675397289825904,0.33733787479977895,0.33794268275674877,0.33856891241015635,0.33921698179245624,0.3398872087136912,0.3405798084861886,0.34129489199725044,0.342032464137651,0.34279242259214615,0.34357455699654843,0.34437854846428995,0.34520396948372783,0.34605028418583783,0.34691684898030045,0.34780291355641796,0.3487076222437482,0.34963001572582725,0.3505690330989334,0.3515235142664175,0.3524922026578581,0.3534737482609993,0.35446671095330967,0.35546956411889424,0.3564806985354998,0.3574984265154643,0.3585209862836396,0.35954654657461216,0.3605732114309311,0.3615990251835374,0.3626219775951712,0.36364000914721795,0.3646510164502183,0.3656528577581627,0.3666433585666312,0.36762031727490907,0.3685815108923461,0.36952470076945104,0.3704476383345091,0.3713480708169029,0.37222374693874405,0.3730724225569484,0.37389186623844983,0.37467986475188453,0.37543422845972746,0.3761527965956115,0.3768334424122893,0.37747407818649975,0.37807266006780704,0.3786271927593314,0.3791357340191302,0.3795963989718595,0.3800073642212312,0.38036687175463874,0.3806732326322195,0.3809248304534802,0.38112012459547884,0.38125765321741417,0.3813360360272945,0.3813539768071932,0.3813102656943886,0.3812037812164544,0.3810334920791446,0.380798458706619,0.38049783453427216,0.3801308670551078,0.37969689862122985,0.37919536700266915,0.37862580570633547,0.3779878440584622,0.37728120705443857,0.3765057149804512,0.3756612828118289,0.3747479193934442,0.3737657264079724,0.37271489713820194,0.3715957150300025,0.37040855206289053,0.36915386693551383,0.36783220307367676,0.3664441864688341,0.36499052335529064,0.36347199773458455,0.3618894687558051,0.36024386796081515,0.358536196403585,0.35676752165302306,0.3549389746888941,0.35305174670057604,0.35110708579855204,0.34910629364868756,0.3470507220394369,0.3449417693922443,0.3427808772254666,0.3405695265822231,0.3383092344325996,0.3360015500606692,0.3336480514467763,0.3312503416555095,0.3288100452397304,0.32632880467095327,0.3238082768062597,0.3212501294018036,0.31865603768279105,0.3160276809796405,0.3133667394397895,0.31067489082437544,0.3079538073987217,0.3052051529252438,0.3024305797670436,0.29963172611007177,0.29681021331132773,0.29396764338011905,0.2911055965989153,0.2882256292898484,0.285329271732338,0.2824180262367909,0.2794933653787118,0.27655673039695533,0.27360952975921105,0.2706531378971572,0.26768889411304275,0.2647181016587716,0.2617420269878577,0.2587618991799116,0.25577890953660687,0.2527942113473517,0.24980891982217518,0.24682411218863182,0.24384082794881126,0.24086006929186302,0.23788280165675413,0.23490995443933108,0.23194242183711622,0.2289810638246585,0.2260267072516834,0.2230801470557354,0.220142147580496,0.21721344399049225,0.2142947437724737,0.21138672831335714,0.2084900545442974,0.2056053566401509,0.20273324776336418,0.19987432184113507,0.19702915536455837,0.1941983091983998,0.19138233039011343,0.1885817539667673,0.1857971047086265,0.18302889888829646,0.1802776459645432,0.17754385022016328,0.17482801233359854,0.17213063087436295,0.16945220371276934,0.16679322933492285,0.16415420805446146,0.16153564311310015,0.15893804166263348,0.1563619156217129,0.1538077824013894,0.15127616549413558,0.14876759492181463,0.1462826075388278,0.14382174718748145,0.1413855647034172,0.13897461776978937,0.1365894706197082,0.1342306935873122,0.13189886250868368,0.12959455797466243,0.12731836443845607,0.12507086918176225,0.12285266114394187,0.12066432961956168,0.11850646283040246,0.11637964637876255,0.11428446158959868,0.1122214837497197,0.11019128025288027,0.10819440866021722,0.10623141468601732,0.10430283011930125,0.10240917069215862,0.10055093390615819,0.09872859682849669,0.0969426138698275,0.09519341455592575,0.0934814013055056,0.09180694722659916,0.09017039394393046,0.08857204946969258,0.08701218613002648,0.08549103855934177,0.08400880177439103,0.08256562933971302,0.08116163163571005,0.0797968742402067,0.07847137643386042,0.07718510983926649,0.07593799720300543,0.07472991132924596,0.07356067417282619,0.07243005609899661,0.07133777531623407,0.07028349748771733,0.06926683552620191,0.06828734957615207,0.0673445471860782,0.06643788367309948,0.06556676268080745,0.06473053693054721,0.06392850916527439,0.0631599332841797,0.06242401566531629,0.061719916672515,0.061046752341941714,0.060403596242733636,0.059789481505268235,0.05920340300975941,0.058644319727054806,0.05811115720272853,0.057602810174826644,0.0571181453149386,0.05665600408163367,0.056215205674726744,0.055794550078324075,0.05539282118014728,0.055008789954251826,0.05464121769393822,0.054288859281413714,0.05395046648058501,0.053624791239268325,0.05331058898707492,0.05300662191528062,0.05271166222510934,0.05242449533105661,0.05214392300614502,0.051868766456339165,0.0515978693117539,0.0513301005227526,0.05106435714956847,0.0507995670346658,0.05053469134770072,0.05026872699363612,0.05000070887530083,0.04972971200246373,0.04945485344030778,0.04917529409103441,0.048890240303198586,0.04859894530426664,0.048300710452790295,0.047994886307505424,0.04768087351157581,0.047358123491117635,0.047026138968039706,0.046684474288125916,0.046332735566155615,0.04597058065070227,0.04559771891206701,0.04521391085758571,0.044818967579293184,0.044412750039627094,0.043995168201515444,0.04356618000979334,0.04312579023145506,0.04267404916274696,0.04221105121155384,0.041736933363918594,0.04125187354386659,0.04075608887597495,0.040249833860340554,0.0397333984697492,0.03920710617894621,0.038671311935940485,0.03812640008525655,0.0375727822529737,0.037010895203263915,0.0364411986759646,0.03586417321449748,0.035280317993178614,0.034690148652652485,0.03409419515184172,0.03349299964441803,0.032887114387393834,0.03227709968899369,0.031663521902507236,0.03104695147234295,0.03042796103801275,0.0298071236012671,0.029185010761092638,0.028562191020762556,0.02793922817061787,0.027316679749740697,0.026695095589172112],\"yaxis\":\"y\"},{\"legendgroup\":\"Group 2\",\"marker\":{\"color\":\"rgb(255, 127, 14)\"},\"mode\":\"lines\",\"name\":\"Group 2\",\"showlegend\":false,\"type\":\"scatter\",\"x\":[-3.7303665771621306,-3.718189045483495,-3.7060115138048593,-3.6938339821262236,-3.6816564504475875,-3.669478918768952,-3.657301387090316,-3.6451238554116805,-3.632946323733045,-3.6207687920544087,-3.608591260375773,-3.5964137286971374,-3.5842361970185017,-3.572058665339866,-3.5598811336612304,-3.5477036019825947,-3.5355260703039586,-3.523348538625323,-3.5111710069466873,-3.4989934752680516,-3.486815943589416,-3.47463841191078,-3.462460880232144,-3.4502833485535085,-3.438105816874873,-3.425928285196237,-3.4137507535176015,-3.401573221838966,-3.3893956901603297,-3.377218158481694,-3.3650406268030584,-3.3528630951244227,-3.340685563445787,-3.328508031767151,-3.3163305000885153,-3.3041529684098796,-3.291975436731244,-3.2797979050526083,-3.2676203733739726,-3.255442841695337,-3.243265310016701,-3.231087778338065,-3.2189102466594295,-3.206732714980794,-3.1945551833021577,-3.182377651623522,-3.1702001199448864,-3.1580225882662507,-3.145845056587615,-3.1336675249089794,-3.1214899932303437,-3.1093124615517076,-3.097134929873072,-3.0849573981944363,-3.0727798665158006,-3.060602334837165,-3.0484248031585293,-3.036247271479893,-3.0240697398012575,-3.011892208122622,-2.999714676443986,-2.9875371447653505,-2.975359613086715,-2.963182081408079,-2.951004549729443,-2.9388270180508074,-2.9266494863721717,-2.914471954693536,-2.9022944230149,-2.8901168913362643,-2.8779393596576286,-2.865761827978993,-2.8535842963003573,-2.8414067646217216,-2.829229232943086,-2.8170517012644503,-2.804874169585814,-2.7926966379071785,-2.780519106228543,-2.768341574549907,-2.756164042871271,-2.7439865111926354,-2.7318089795139997,-2.719631447835364,-2.7074539161567284,-2.6952763844780927,-2.683098852799457,-2.6709213211208214,-2.6587437894421853,-2.6465662577635496,-2.634388726084914,-2.622211194406278,-2.610033662727642,-2.5978561310490065,-2.585678599370371,-2.573501067691735,-2.5613235360130995,-2.549146004334464,-2.536968472655828,-2.524790940977192,-2.5126134092985564,-2.5004358776199207,-2.4882583459412846,-2.476080814262649,-2.4639032825840133,-2.4517257509053776,-2.439548219226742,-2.4273706875481063,-2.4151931558694706,-2.403015624190835,-2.3908380925121993,-2.3786605608335636,-2.366483029154928,-2.354305497476292,-2.342127965797656,-2.3299504341190205,-2.3177729024403844,-2.3055953707617487,-2.293417839083113,-2.2812403074044774,-2.2690627757258417,-2.256885244047206,-2.2447077123685704,-2.2325301806899347,-2.2203526490112986,-2.208175117332663,-2.1959975856540273,-2.183820053975391,-2.1716425222967555,-2.15946499061812,-2.147287458939484,-2.1351099272608485,-2.122932395582213,-2.110754863903577,-2.0985773322249415,-2.0863998005463054,-2.0742222688676697,-2.062044737189034,-2.049867205510398,-2.0376896738317622,-2.0255121421531266,-2.013334610474491,-2.0011570787958552,-1.9889795471172196,-1.9768020154385837,-1.964624483759948,-1.9524469520813124,-1.9402694204026765,-1.9280918887240408,-1.915914357045405,-1.9037368253667695,-1.8915592936881338,-1.879381762009498,-1.8672042303308622,-1.8550266986522266,-1.8428491669735907,-1.830671635294955,-1.8184941036163194,-1.8063165719376835,-1.7941390402590478,-1.781961508580412,-1.7697839769017762,-1.7576064452231406,-1.7454289135445047,-1.733251381865869,-1.7210738501872331,-1.7088963185085975,-1.6967187868299618,-1.6845412551513261,-1.6723637234726905,-1.6601861917940544,-1.6480086601154187,-1.635831128436783,-1.6236535967581474,-1.6114760650795117,-1.599298533400876,-1.58712100172224,-1.5749434700436042,-1.5627659383649686,-1.550588406686333,-1.5384108750076972,-1.5262333433290611,-1.5140558116504255,-1.5018782799717898,-1.4897007482931541,-1.4775232166145185,-1.4653456849358828,-1.4531681532572467,-1.440990621578611,-1.4288130898999754,-1.4166355582213397,-1.404458026542704,-1.3922804948640684,-1.3801029631854322,-1.3679254315067966,-1.355747899828161,-1.3435703681495252,-1.3313928364708896,-1.3192153047922535,-1.3070377731136178,-1.2948602414349821,-1.2826827097563465,-1.2705051780777108,-1.2583276463990751,-1.246150114720439,-1.2339725830418034,-1.2217950513631677,-1.209617519684532,-1.1974399880058963,-1.1852624563272602,-1.1730849246486246,-1.160907392969989,-1.1487298612913532,-1.1365523296127176,-1.1243747979340823,-1.1121972662554462,-1.1000197345768106,-1.087842202898175,-1.0756646712195392,-1.0634871395409036,-1.0513096078622675,-1.0391320761836318,-1.0269545445049961,-1.0147770128263605,-1.0025994811477248,-0.9904219494690891,-0.978244417790453,-0.9660668861118173,-0.9538893544331817,-0.941711822754546,-0.9295342910759103,-0.9173567593972742,-0.9051792277186386,-0.8930016960400029,-0.8808241643613672,-0.8686466326827316,-0.8564691010040959,-0.8442915693254598,-0.8321140376468241,-0.8199365059681885,-0.8077589742895528,-0.7955814426109171,-0.7834039109322815,-0.7712263792536453,-0.7590488475750097,-0.746871315896374,-0.7346937842177383,-0.7225162525391027,-0.7103387208604666,-0.6981611891818309,-0.6859836575031952,-0.6738061258245596,-0.6616285941459239,-0.6494510624672882,-0.6372735307886521,-0.6250959991100165,-0.6129184674313808,-0.6007409357527451,-0.5885634040741095,-0.5763858723954733,-0.5642083407168377,-0.552030809038202,-0.5398532773595663,-0.5276757456809307,-0.515498214002295,-0.5033206823236589,-0.49114315064502323,-0.47896561896638756,-0.4667880872877519,-0.45461055560911623,-0.4424330239304801,-0.43025549225184445,-0.4180779605732088,-0.4059004288945731,-0.39372289721593745,-0.3815453655373018,-0.3693678338586657,-0.35719030218003,-0.34501277050139434,-0.33283523882275867,-0.320657707144123,-0.30848017546548734,-0.2963026437868512,-0.28412511210821556,-0.2719475804295799,-0.2597700487509442,-0.24759251707230856,-0.23541498539367245,-0.22323745371503678,-0.21105992203640112,-0.19888239035776545,-0.18670485867912978,-0.17452732700049411,-0.162349795321858,-0.15017226364322234,-0.13799473196458667,-0.125817200285951,-0.11363966860731534,-0.10146213692867923,-0.08928460525004356,-0.07710707357140834,-0.06492954189277267,-0.052752010214137,-0.040574478535501335,-0.028396946856865224,-0.016219415178229557,-0.00404188349959389,0.008135648179041777,0.020313179857677444,0.032490711536313555,0.04466824321494922,0.05684577489358489,0.06902330657222056,0.08120083825085622,0.09337836992949189,0.105555901608128,0.11773343328676367,0.12991096496539933,0.142088496644035,0.15426602832267067,0.16644356000130678,0.17862109167994245,0.1907986233585781,0.20297615503721378,0.21515368671584945,0.2273312183944851,0.23950875007312122,0.2516862817517569,0.26386381343039256,0.27604134510902867,0.28821887678766434,0.3003964084663,0.31257394014493567,0.32475147182357134,0.336929003502207,0.34910653518084267,0.36128406685947834,0.3734615985381149,0.38563913021674967,0.3978166618953862,0.4099941935740219,0.42217172525265756,0.4343492569312932,0.446526788609928,0.45870432028856456,0.47088185196719934,0.4830593836458359,0.49523691532447156,0.5074144470031072,0.5195919786817429,0.5317695103603786,0.5439470420390142,0.5561245737176508,0.5683021053962856,0.5804796370749221,0.5926571687535569,0.6048347004321935,0.6170122321108291,0.6291897637894648,0.6413672954681005,0.6535448271467361,0.6657223588253718,0.6778998905040083,0.6900774221826431,0.7022549538612797,0.7144324855399145,0.726610017218551,0.7387875488971858,0.7509650805758223,0.763142612254458,0.7753201439330937,0.7874976756117293,0.799675207290365,0.8118527389690007,0.8240302706476372,0.836207802326272,0.8483853340049086,0.8605628656835433,0.8727403973621799,0.8849179290408156,0.8970954607194512,0.9092729923980869,0.9214505240767226,0.9336280557553582,0.9458055874339939,0.9579831191126296,0.9701606507912661,0.9823381824699009,0.9945157141485375,1.0066932458271722,1.0188707775058088,1.0310483091844445,1.0432258408630801,1.0554033725417158,1.0675809042203515,1.0797584358989871,1.0919359675776237,1.1041134992562585,1.116291030934895,1.1284685626135298,1.1406460942921663,1.152823625970802,1.1650011576494377,1.1771786893280733,1.189356221006709,1.2015337526853447,1.2137112843639803,1.225888816042616,1.2380663477212526,1.2502438793998873,1.262421411078524,1.2745989427571587,1.2867764744357952,1.298954006114431,1.3111315377930666,1.3233090694717022,1.335486601150338,1.3476641328289736,1.3598416645076101,1.372019196186245,1.3841967278648815,1.3963742595435162,1.4085517912221528,1.4207293229007885,1.4329068545794241,1.4450843862580598,1.4572619179366955,1.4694394496153311,1.481616981293966,1.4937945129726025,1.5059720446512381,1.5181495763298738,1.5303271080085095,1.5425046396871451,1.5546821713657808,1.5668597030444174,1.5790372347230521,1.5912147664016887,1.6033922980803235,1.61556982975896,1.6277473614375957,1.6399248931162314,1.652102424794867,1.6642799564735027,1.6764574881521384,1.688635019830774,1.7008125515094097,1.7129900831880462,1.725167614866681,1.7373451465453176,1.7495226782239524,1.761700209902589,1.7738777415812246,1.7860552732598602,1.798232804938496,1.8104103366171316,1.8225878682957672,1.8347653999744038,1.8469429316530386,1.8591204633316751,1.87129799501031,1.8834755266889465,1.8956530583675821,1.9078305900462178,1.9200081217248535,1.9321856534034891,1.9443631850821248,1.9565407167607605,1.9687182484393961,1.9808957801180327,1.9930733117966675,2.005250843475304,2.017428375153939,2.0296059068325754,2.041783438511211,2.0539609701898467,2.0661385018684824,2.078316033547118,2.0904935652257537,2.1026710969043902,2.114848628583025,2.1270261602616616,2.1392036919402964,2.151381223618933,2.1635587552975677,2.1757362869762042,2.18791381865484,2.2000913503334756,2.2122688820121112,2.224446413690747,2.2366239453693826,2.248801477048019,2.260979008726654,2.2731565404052905,2.2853340720839252,2.297511603762562,2.3096891354411975,2.321866667119833,2.334044198798469,2.3462217304771045],\"xaxis\":\"x\",\"y\":[0.005740350653328623,0.0057459462795836575,0.005745643562835579,0.005739541927313797,0.005727768050680303,0.005710475564531702,0.00568784460497933,0.00566008121631164,0.005627416611873972,0.005590106297392442,0.005548429063010141,0.005502685851286292,0.005453198509324062,0.005400308434032285,0.005344375120283985,0.0052857746224048525,0.0052248979400023425,0.005162149339627921,0.005097944624147969,0.005032709361981996,0.0049668770885487315,0.004900887492342603,0.004835184598045621,0.004770214958965257,0.004706425870880192,0.004644263619076579,0.004584171769971343,0.004526589518251433,0.004471950099912922,0.004420679280967868,0.004373193930904538,0.0043299006892444,0.004291194732743287,0.00425745864993941,0.004229061428864839,0.004206357562814222,0.004189686278112309,0.004179370886844651,0.004175718266520841,0.004179018467631937,0.004189544449048827,0.004207551940192697,0.004233279427897515,0.004266948264883672,0.0043087628957774425,0.004358911195648696,0.0044175649151056914,0.004484880225086573,0.004560998353629898,0.004646046306096969,0.004740137659564435,0.004843373421413854,0.004955842941522873,0.005077624866917855,0.005208788127288289,0.005349392939396415,0.005499491818148568,0.005659130581936395,0.005828349339811309,0.006007183448133501,0.006195664424541296,0.0063938208074243484,0.00660167894955905,0.006819263735179256,0.007046599210513351,0.007283709118718183,0.007530617331183188,0.0077873481683581516,0.00805392660457341,0.008330378352763818,0.008616729826568716,0.00891300797894876,0.009219240018224153,0.009535453004280737,0.009861673329595352,0.010197926091677977,0.01054423436549646,0.010900618386414642,0.0112670946561143,0.011643674985857114,0.012030365493249385,0.012427165570372186,0.01283406684270334,0.013251052139658806,0.013678094498791142,0.014115156226676565,0.014562188040271682,0.015019128313005836,0.015485902450071665,0.015962422417265937,0.016448586447301548,0.016944278946743153,0.01744937062560901,0.01796371887022278,0.018487168378089974,0.019019552071422863,0.019560692303448316,0.02011040236882384,0.020668488326372032,0.021234751138949935,0.02180898913162235,0.02239100076544159,0.022980587720084513,0.02357755827440517,0.024181730969669468,0.024792938535894305,0.025411032057369814,0.02603588534914968,0.026667399512104756,0.02730550763010492,0.027950179569075365,0.02860142683412494,0.029259307437710196,0.02992393072894145,0.030595462131692758,0.031274127737201084,0.03196021869536397,0.032654095348011905,0.03335619104706922,0.03406701560074932,0.03478715829178209,0.035517290413147294,0.03625816726890095,0.0370106295904256,0.03777560432180418,0.03855410473199461,0.03934722981604287,0.04015616295268913,0.04098216979135316,0.04182659534759489,0.042690860292669525,0.04357645642969625,0.04448494135615758,0.04541793231988595,0.04637709928330005,0.04736415721835816,0.04838085766241369,0.049428979572823016,0.05051031952567608,0.05162668131133152,0.052779864986448356,0.053971655448848826,0.05520381060774473,0.05647804922754166,0.057796038528539255,0.059159381632300896,0.06056960494323402,0.06202814556093283,0.0635363388200655,0.06509540605598925,0.06670644269483295,0.06837040676646956,0.07008810793760993,0.07186019716017672,0.07368715702717538,0.07556929292447886,0.07750672506231995,0.07949938146485985,0.08154699199002823,0.08364908344495414,0.0858049758547832,0.08801377993457213,0.09027439580534274,0.09258551298632219,0.0949456116860028,0.09735296540497622,0.0998056448536484,0.10230152317799468,0.10483828247656493,0.10741342158209279,0.11002426507137729,0.11266797345769484,0.11534155451093044,0.11804187564198931,0.12076567727992192,0.12350958716266014,0.12627013545535704,0.12904377060413671,0.1318268758276181,0.1346157861439395,0.13740680582719786,0.14019622618427377,0.14298034354093078,0.14575547732489474,0.14851798813329903,0.15126429567245414,0.1539908964593137,0.15669438117624726,0.15937145157377597,0.1620189368197089,0.16463380919760476,0.1672131990626263,0.16975440896857505,0.1722549268861441,0.17471243843912734,0.17712483809242038,0.17949023923304683,0.18180698309308857,0.184073646471218,0.18628904821743716,0.18845225445356742,0.19056258250993569,0.19261960356649901,0.1946231439942849,0.19657328540044186,0.1984703633873548,0.20031496504311638,0.20210792518714968,0.20385032140089784,0.20554346787921415,0.20718890814338164,0.208788406661563,0.21034393942689847,0.21185768354746437,0.21333200590584736,0.21476945094923014,0.21617272767358697,0.21754469586792885,0.21888835168648388,0.22020681261831596,0.22150330192517562,0.22278113261936977,0.22404369105418023,0.22529442019984314,0.22653680267839646,0.22777434363078294,0.2290105534895393,0.2302489307301673,0.23149294467395323,0.2327460184145185,0.2340115119398227,0.23529270552065637,0.23659278343588144,0.23791481810379184,0.23926175468795519,0.2406363962447861,0.2420413894788127,0.24347921117018942,0.2449521553373872,0.24646232119619477,0.24801160197411784,0.24960167463697863,0.25123399058195095,0.25290976734838455,0.2546299813945855,0.2563953619851593,0.25820638622961495,0.2600632753086182,0.2619659919195948,0.26391423896829497,0.2659074595274156,0.26794483807751296,0.27002530303914624,0.27214753059856694,0.2743099498222968,0.2765107490486554,0.27874788353676905,0.2810190843458241,0.2833218684094275,0.2856535497619099,0.2880112518653535,0.29039192097813105,0.29279234049781866,0.29520914620365696,0.2976388423163006,0.30007781828551994,0.30252236620990924,0.30496869878654076,0.3074129676830355,0.30985128221971797,0.31227972824549005,0.31469438708787784,0.31709135445538417,0.31946675916895073,0.32181678159897703,0.3241376716850228,0.3264257664170767,0.3286775066600752,0.33088945320727187,0.3330583019529922,0.33518089808133805,0.3372542491744071,0.3392755371515618,0.3412421289601819,0.3431515859480103,0.34500167185767266,0.34679035939504876,0.3485158353348219,0.3501765041386232,0.3517709900735931,0.35329813783178643,0.3547570116634933,0.35614689305018116,0.35746727695510677,0.3587178667017613,0.359898567541875,0.3610094789857411,0.3620508859779056,0.36302324901075617,0.36392719327709927,0.364763496970327,0.36553307884722286,0.36623698517368336,0.3668763761776651,0.3674525121364001,0.36796673922636636,0.36842047526462146,0.3688151954689247,0.3691524183616025,0.36943369193835107,0.369660580218264,0.3698346502852498,0.36995745992386475,0.37003054594445467,0.3700554132834742,0.37003352495508113,0.36996629291967903,0.36985506992411976,0.36970114235694557,0.36950572415045296,0.3692699517496323,0.36899488015633974,0.36868148004550205,0.36833063593887605,0.36794314541101375,0.3675197192917419,0.3670609828197407,0.3665674776928391,0.36603966495247764,0.3654779286325485,0.36488258009653807,0.36425386298163126,0.3635919586642526,0.36289699215839616,0.36216903835609854,0.3614081285184855,0.36061425692600274,0.35978738759765844,0.3589274609913521,0.35803440060056124,0.3571081193667612,0.3561485258318892,0.3551555299608448,0.35412904857036914,0.35306901030755977,0.3519753601286767,0.35084806323666307,0.3496871084438543,0.34849251093456046,0.3472643144105132,0.346002592610424,0.3447074502030637,0.3433790230612001,0.34201747793139564,0.3406230115219172,0.3391958490378625,0.33773624219890774,0.33624446678084824,0.3347208197272347,0.3331656158819,0.3315791843969738,0.32996186487408535,0.3283140032988202,0.32663594783017275,0.32492804450765267,0.32319063293894057,0.3214240420305108,0.3196285858225143,0.31780455948742975,0.3159522355496278,0.31407186038004886,0.3121636510167511,0.3102277923581665,0.30826443477156423,0.3062736921545276,0.30425564048224535,0.30221031686815686,0.3001377191600409,0.29803780608803415,0.2959104979753919,0.293755678017075,0.29157319412557003,0.2893628613376965,0.28712446477066816,0.2848577631103073,0.28256249260917593,0.28023837156747694,0.2778851052649575,0.2755023913077241,0.27308992534991794,0.27064740714657054,0.26817454689075393,0.26567107178531396,0.2631367327970838,0.2605713115395142,0.2579746272281373,0.2553465436522032,0.25268697610521923,0.2499958982169217,0.24727334862951092,0.2445194374616511,0.2417343525049029,0.2389183650987739,0.2360718356325489,0.23319521862437428,0.23028906733077772,0.22735403784284355,0.22439089262862014,0.2214005034849938,0.21838385386618694,0.21534204056019832,0.2122762746888828,0.20918788201191585,0.20607830251960518,0.20294908930431418,0.19980190670519132,0.19663852772583934,0.19346083072954676,0.19027079542165984,0.1870704981335932,0.18386210642780323,0.18064787304778643,0.1774301292417212,0.1742112774927986,0.17099378369346915,0.16778016880481786,0.1645730000459812,0.16137488166195224,0.15818844532124546,0.15501634019768168,0.15186122279301298,0.14872574655917842,0.14561255138070436,0.14252425297906568,0.13946343230174835,0.13643262495925473,0.13343431077338958,0.13047090349983798,0.1275447407873182,0.12465807443442553,0.12181306100374673,0.11901175285084861,0.11625608962341803,0.11354789028310348,0.110888845699536,0.10828051186259408,0.10572430375524189,0.10322148992523981,0.10077318778973182,0.09838035970216373,0.09604380980623911,0.09376418169666806,0.0915419569013893,0.08937745419471947,0.08727082974561343,0.08522207809986855,0.08323103398977215,0.0812973749593671,0.07942062478826448,0.0776001576917765,0.07583520327014263,0.07412485217477718,0.07246806245485589,0.07086366654317425,0.06931037883612248,0.06780680381883238,0.0663514446831082,0.06494271238267664,0.06357893506760895,0.06225836783749249,0.060979202751098104,0.0597395790288934,0.058537593383833,0.05737131041538743,0.0562387730017981,0.05513801262602728,0.05406705957184079,0.05302395292788441,0.05200675033949877,0.05101353745033681,0.050042436978589164,0.04909161737575959,0.04815930101944746,0.04724377189543809,0.04634338272857284,0.04545656152629675,0.044581817503460755,0.043717746361815024,0.04286303490265558,0.04201646495621359,0.041176916616573564,0.040343370776123835,0.03951491095873632,0.038690724455994335,0.03787010277580511,0.03705244141758299,0.03623723899286149,0.0354240957146133,0.03461271128272239,0.033802882196907344],\"yaxis\":\"y\"},{\"legendgroup\":\"Group 3\",\"marker\":{\"color\":\"rgb(44, 160, 44)\"},\"mode\":\"lines\",\"name\":\"Group 3\",\"showlegend\":false,\"type\":\"scatter\",\"x\":[-0.8706864672372112,-0.859557121069195,-0.8484277749011788,-0.8372984287331627,-0.8261690825651465,-0.8150397363971303,-0.8039103902291141,-0.792781044061098,-0.7816516978930819,-0.7705223517250657,-0.7593930055570495,-0.7482636593890333,-0.7371343132210171,-0.726004967053001,-0.7148756208849848,-0.7037462747169686,-0.6926169285489524,-0.6814875823809363,-0.6703582362129201,-0.6592288900449039,-0.6480995438768877,-0.6369701977088715,-0.6258408515408553,-0.6147115053728393,-0.6035821592048229,-0.592452813036807,-0.5813234668687908,-0.5701941207007746,-0.5590647745327584,-0.5479354283647422,-0.536806082196726,-0.5256767360287098,-0.5145473898606936,-0.5034180436926775,-0.4922886975246613,-0.48115935135664517,-0.470030005188629,-0.4589006590206128,-0.44777131285259664,-0.43664196668458044,-0.4255126205165643,-0.4143832743485481,-0.40325392818053196,-0.39212458201251577,-0.38099523584449957,-0.3698658896764834,-0.3587365435084673,-0.3476071973404511,-0.3364778511724348,-0.3253485050044187,-0.3142191588364026,-0.3030898126683863,-0.2919604665003702,-0.280831120332354,-0.2697017741643378,-0.25857242799632174,-0.24744308182830543,-0.23631373566028935,-0.22518438949227315,-0.21405504332425696,-0.20292569715624087,-0.19179635098822456,-0.18066700482020848,-0.16953765865219228,-0.15840831248417608,-0.14727896631616,-0.1361496201481438,-0.1250202739801276,-0.11389092781211141,-0.10276158164409521,-0.09163223547607913,-0.08050288930806293,-0.06937354314004673,-0.05824419697203054,-0.04711485080401434,-0.035985504635998256,-0.02485615846798206,-0.013726812299965863,-0.002597466131949666,0.00853188003606642,0.019661226204082616,0.030790572372098812,0.04191991854011501,0.053049264708131205,0.06417861087614729,0.0753079570441636,0.08643730321217968,0.09756664938019588,0.10869599554821208,0.11982534171622816,0.13095468788424447,0.14208403405226067,0.15321338022027664,0.16434272638829284,0.17547207255630903,0.18660141872432523,0.19773076489234165,0.20886011106035762,0.21998945722837382,0.23111880339639002,0.242248149564406,0.2533774957324224,0.2645068419004386,0.2756361880684546,0.2867655342364708,0.297894880404487,0.30902422657250317,0.32015357274051937,0.33128291890853556,0.34241226507655176,0.35354161124456773,0.36467095741258415,0.37580030358060035,0.3869296497486163,0.3980589959166325,0.4091883420846487,0.4203176882526649,0.4314470344206811,0.4425763805886973,0.4537057267567133,0.4648350729247295,0.4759644190927459,0.4870937652607621,0.49822311142877806,0.5093524575967943,0.5204818037648105,0.5316111499328267,0.5427404961008429,0.553869842268859,0.564999188436875,0.5761285346048912,0.5872578807729076,0.5983872269409236,0.6095165731089398,0.620645919276956,0.6317752654449722,0.6429046116129884,0.6540339577810046,0.6651633039490208,0.6762926501170368,0.687421996285053,0.6985513424530694,0.7096806886210854,0.7208100347891016,0.7319393809571177,0.7430687271251337,0.7541980732931501,0.7653274194611663,0.7764567656291825,0.7875861117971985,0.7987154579652147,0.8098448041332311,0.8209741503012471,0.8321034964692633,0.8432328426372795,0.8543621888052955,0.8654915349733119,0.8766208811413281,0.887750227309344,0.8988795734773602,0.9100089196453764,0.9211382658133929,0.9322676119814088,0.943396958149425,0.9545263043174412,0.9656556504854574,0.9767849966534736,0.9879143428214898,0.9990436889895058,1.010173035157522,1.0213023813255384,1.0324317274935544,1.0435610736615706,1.0546904198295868,1.065819765997603,1.0769491121656192,1.0880784583336354,1.0992078045016516,1.1103371506696675,1.1214664968376837,1.1325958430057002,1.1437251891737161,1.1548545353417325,1.1659838815097485,1.1771132276777645,1.188242573845781,1.1993719200137969,1.2105012661818133,1.2216306123498293,1.2327599585178453,1.2438893046858617,1.2550186508538776,1.2661479970218945,1.2772773431899105,1.2884066893579265,1.2995360355259429,1.3106653816939589,1.3217947278619748,1.3329240740299912,1.3440534201980072,1.3551827663660232,1.3663121125340396,1.377441458702056,1.388570804870072,1.3997001510380884,1.4108294972061044,1.4219588433741204,1.4330881895421368,1.4442175357101528,1.4553468818781687,1.4664762280461852,1.4776055742142011,1.4887349203822176,1.499864266550234,1.51099361271825,1.522122958886266,1.5332523050542823,1.5443816512222983,1.5555109973903147,1.5666403435583307,1.5777696897263467,1.588899035894363,1.6000283820623795,1.6111577282303955,1.622287074398412,1.6334164205664279,1.6445457667344439,1.6556751129024603,1.6668044590704763,1.6779338052384922,1.6890631514065086,1.7001924975745246,1.711321843742541,1.7224511899105575,1.7335805360785734,1.7447098822465894,1.7558392284146058,1.7669685745826218,1.7780979207506378,1.7892272669186542,1.8003566130866702,1.8114859592546861,1.822615305422703,1.833744651590719,1.8448739977587354,1.8560033439267514,1.8671326900947673,1.8782620362627838,1.8893913824307997,1.9005207285988157,1.9116500747668321,1.922779420934848,1.9339087671028645,1.945038113270881,1.956167459438897,1.967296805606913,1.9784261517749293,1.9895554979429453,2.0006848441109613,2.0118141902789777,2.0229435364469937,2.03407288261501,2.0452022287830265,2.0563315749510425,2.0674609211190584,2.078590267287075,2.089719613455091,2.100848959623107,2.1119783057911232,2.123107651959139,2.1342369981271556,2.145366344295172,2.156495690463188,2.1676250366312044,2.1787543827992204,2.1898837289672364,2.201013075135253,2.2121424213032688,2.2232717674712847,2.234401113639301,2.245530459807317,2.2566598059753336,2.26778915214335,2.278918498311366,2.290047844479382,2.3011771906473983,2.3123065368154143,2.3234358829834303,2.3345652291514467,2.3456945753194627,2.3568239214874787,2.3679532676554955,2.3790826138235115,2.390211959991528,2.401341306159544,2.41247065232756,2.4235999984955763,2.4347293446635923,2.4458586908316082,2.4569880369996246,2.4681173831676406,2.479246729335657,2.4903760755036735,2.5015054216716894,2.5126347678397054,2.523764114007722,2.534893460175738,2.5460228063437538,2.55715215251177,2.568281498679786,2.579410844847802,2.590540191015819,2.601669537183835,2.612798883351851,2.6239282295198674,2.6350575756878833,2.6461869218558993,2.6573162680239157,2.6684456141919317,2.679574960359948,2.690704306527964,2.7018336526959805,2.712962998863997,2.724092345032013,2.735221691200029,2.7463510373680453,2.7574803835360613,2.7686097297040773,2.7797390758720937,2.7908684220401097,2.801997768208126,2.8131271143761425,2.8242564605441585,2.8353858067121744,2.846515152880191,2.857644499048207,2.868773845216223,2.8799031913842392,2.891032537552255,2.902161883720271,2.913291229888288,2.924420576056304,2.93554992222432,2.9466792683923364,2.9578086145603524,2.968937960728369,2.9800673068963848,2.9911966530644007,3.002325999232417,3.013455345400433,3.0245846915684496,3.035714037736466,3.046843383904482,3.057972730072498,3.0691020762405143,3.0802314224085303,3.0913607685765463,3.1024901147445627,3.1136194609125787,3.1247488070805947,3.1358781532486115,3.147007499416628,3.1581368455846435,3.16926619175266,3.1803955379206763,3.191524884088692,3.2026542302567083,3.2137835764247247,3.22491292259274,3.2360422687607566,3.247171614928773,3.2583009610967895,3.269430307264805,3.2805596534328214,3.291688999600838,3.3028183457688534,3.3139476919368698,3.325077038104886,3.3362063842729017,3.347335730440918,3.3584650766089346,3.36959442277695,3.3807237689449665,3.391853115112983,3.4029824612810002,3.4141118074490158,3.425241153617032,3.4363704997850486,3.447499845953064,3.4586291921210806,3.469758538289097,3.4808878844571125,3.492017230625129,3.5031465767931453,3.514275922961161,3.5254052691291773,3.5365346152971937,3.5476639614652092,3.5587933076332257,3.569922653801242,3.5810519999692576,3.592181346137274,3.6033106923052904,3.614440038473306,3.6255693846413233,3.6366987308093397,3.6478280769773552,3.6589574231453716,3.670086769313388,3.6812161154814036,3.69234546164942,3.7034748078174364,3.714604153985452,3.7257335001534684,3.736862846321485,3.7479921924895003,3.7591215386575167,3.770250884825533,3.7813802309935487,3.792509577161565,3.8036389233295815,3.814768269497597,3.8258976156656135,3.83702696183363,3.8481563080016463,3.8592856541696627,3.870415000337679,3.8815443465056947,3.892673692673711,3.9038030388417275,3.914932385009743,3.9260617311777595,3.937191077345776,3.9483204235137923,3.959449769681808,3.9705791158498243,3.9817084620178407,3.992837808185856,4.003967154353873,4.015096500521889,4.026225846689904,4.037355192857921,4.048484539025937,4.0596138851939525,4.07074323136197,4.081872577529987,4.093001923698003,4.104131269866018,4.1152606160340355,4.126389962202051,4.1375193083700665,4.148648654538084,4.159778000706099,4.170907346874115,4.182036693042132,4.193166039210148,4.204295385378163,4.215424731546181,4.226554077714196,4.237683423882212,4.248812770050229,4.2599421162182445,4.27107146238626,4.282200808554277,4.293330154722293,4.30445950089031,4.315588847058326,4.326718193226341,4.3378475393943585,4.348976885562374,4.36010623173039,4.371235577898407,4.382364924066422,4.393494270234438,4.404623616402455,4.415752962570471,4.426882308738486,4.438011654906504,4.449141001074519,4.460270347242535,4.471399693410552,4.4825290395785675,4.493658385746583,4.5047877319146,4.515917078082618,4.527046424250633,4.538175770418649,4.549305116586666,4.560434462754682,4.571563808922697,4.582693155090714,4.59382250125873,4.6049518474267455,4.616081193594763,4.627210539762778,4.638339885930794,4.649469232098811,4.660598578266827,4.671727924434842,4.6828572706028595],\"xaxis\":\"x\",\"y\":[0.015902302792646473,0.016211731903593322,0.016514085299393674,0.016808881526886223,0.017095655054412674,0.01737395760537611,0.01764335944359172,0.017903450613426335,0.01815384213860953,0.018394167184386356,0.018624082188356882,0.01884326796589527,0.01905143079644821,0.01924830349727255,0.0194336464912718,0.019607248875531568,0.01976892949692724,0.019918538040785874,0.020055956138031586,0.020181098495532013,0.020293914053504246,0.020394387172840703,0.020482538854090813,0.02055842798860134,0.020622152640990172,0.020673851360727136,0.020713704519139935,0.02074193566667552,0.020758812903749584,0.020764650257031482,0.020759809051562817,0.020744699267717062,0.020719780870697486,0.02068556509906157,0.02064261569767434,0.0205915500795456,0.020533040400217233,0.020467814527748904,0.020396656890915354,0.020320409187989788,0.020239970938448194,0.020156299860097038,0.02007041205450296,0.019983381984186553,0.019896342225831254,0.01981048298474619,0.019727051357001316,0.019647350327013372,0.019572737489890607,0.019504623489527608,0.019444470165264488,0.019393788401868672,0.019354135679644974,0.019327113323611537,0.019314363452874947,0.019317565633577737,0.01933843324105597,0.019378709539112454,0.019440163486562,0.01952458528342308,0.019633781671292306,0.019769571004529852,0.019933778110887417,0.020128228962111108,0.020354745176833184,0.02061513837971865,0.020911204442342377,0.021244717632627235,0.02161742470086925,0.0220310389313985,0.02248723418977231,0.022987638996062508,0.02353383065527625,0.024127329476239766,0.02476959311037049,0.025462011041666767,0.02620589925895516,0.027002495140951842,0.02785295258402119,0.02875833740165143,0.029719623023618007,0.03073768652157426,0.03181330498640162,0.03294715228107116,0.03413979619102472,0.035391695992181456,0.03670320045462628,0.03807454629784552,0.039505857111056614,0.04099714274974308,0.0425482992169638,0.04415910903537339,0.04582924211318247,0.04755825710451571,0.04934560326181217,0.05119062277507264,0.05309255358990997,0.05505053269351959,0.057063599854885086,0.059130701802771406,0.061250696822379595,0.06342235974893935,0.0656443873340349,0.06791540395810788,0.0702339676603798,0.07259857645540044,0.07500767490358201,0.07745966090142616,0.07995289265571633,0.08248569580473429,0.08505637064858577,0.08766319944998512,0.09030445376636033,0.09297840177390887,0.095683315544244,0.09841747823453777,0.10117919115257396,0.10396678065886518,0.10677860486896183,0.10961306012026546,0.11246858716904878,0.11534367708495945,0.11823687681203224,0.12114679436713426,0.12407210364880132,0.12701154883157234,0.1299639483231792,0.13292819826427124,0.13590327555273965,0.13888824037713235,0.14188223824610813,0.14488450150333745,0.14789435031972817,0.15091119315730084,0.15393452670146937,0.1569639352608844,0.15999908963636122,0.16303974546274666,0.16608574102986326,0.1691369945909341,0.1721935011690941,0.17525532887479425,0.1783226147490527,0.18139556014965008,0.18447442569947828,0.18755952581836632,0.190651222861807,0.19374992089209933,0.1968560591095281,0.19997010497329526,0.20309254704400906,0.20622388758163535,0.2093646349348854,0.21251529576006994,0.2156763671094672,0.2188483284312195,0.22203163352466074,0.2252267024967733,0.22843391376715552,0.2316535961703869,0.2348860212060348,0.23813139548765636,0.2413898534430244,0.24466145031838946,0.24794615553983967,0.25124384648472053,0.2545543027155705,0.2578772007280947,0.2612121092633034,0.2645584852320589,0.2679156702978789,0.2712828881609198,0.2746592425825964,0.2780437161862854,0.28143517006500224,0.28483234422185094,0.28823385886343994,0.2916382165603587,0.29504380528226043,0.2984489023081327,0.301851679005013,0.305250206460795,0.3086424619489251,0.3120263361947765,0.31539964140544835,0.31876012001667375,0.32210545410259844,0.32543327538648414,0.32874117578298256,0.3320267183956613,0.3352874488869789,0.33852090713208555,0.34172463906269,0.3448962086029108,0.34803320959562023,0.35113327761532315,0.3541941015622045,0.3572134349316738,0.36018910665453313,0.3631190314049287,0.36600121927640406,0.36883378473076855,0.37161495473005174,0.3743430759685101,0.37701662112946827,0.379634194100611,0.38219453409114246,0.38469651860488835,0.38713916523483366,0.38952163225662373,0.3918432180110954,0.3941033590787852,0.3963016272624415,0.3984377254066636,0.4005114820967814,0.40252284529173227,0.40447187495791326,0.4063587347825395,0.40818368305579283,0.40994706282088555,0.41164929139985973,0.4132908494104678,0.4148722693956259,0.41639412419168764,0.41785701516496465,0.41926156044759616,0.42060838330387224,0.42189810075651196,0.42313131259918774,0.42430859091673706,0.42543047022815683,0.426497438359645,0.42750992814573535,0.4284683100461507,0.42937288575439914,0.43022388286163604,0.4310214506259724,0.43176565688349394,0.4324564861228803,0.43309383873094814,0.43367753140183024,0.4342072986880879,0.434682795657999,0.43510360160981315,0.4354692247810478,0.43577910797913655,0.4360326350490655,0.4362291380842187,0.4363679052785796,0.436448189311863,0.43646921615411227,0.4364301941729069,0.4363303234245213,0.4361688050103236,0.43594485038119773,0.43565769047594255,0.43530658458427746,0.43489082883121505,0.4344097641870406,0.4338627839158464,0.43324934038531054,0.4325689511711134,0.43182120440078864,0.43100576329378104,0.43012236986684554,0.42917084778643017,0.4281511043622269,0.4270631316883754,0.4259070069507575,0.4246828919302033,0.4233910317421017,0.4220317528627171,0.42060546050132425,0.4191126353849783,0.4175538300292252,0.41592966457328867,0.4142408222621375,0.41248804466036804,0.4106721266839815,0.40879391153592665,0.4068542856297375,0.4048541735827982,0.4027945333567547,0.4006763516174924,0.3985006393809847,0.3962684280043393,0.39398076557361494,0.3916387137316683,0.38924334498045715,0.38679574048313536,0.38429698838198795,0.3817481826389913,0.3791504223966209,0.37650481184770407,0.3738124605946349,0.3710744844703878,0.3682920067865021,0.3654661599666861,0.36259808751902045,0.3596889462949512,0.3567399089794151,0.35375216675359666,0.3507269320699598,0.34766544147831463,0.34456895844186175,0.34143877608317996,0.33827621980216,0.3350826497107007,0.33185946283262074,0.3286080950215395,0.32533002255440907,0.32202676336381736,0.31869987787799875,0.31535096944364727,0.3119816843129389,0.30859371118260004,0.3051887802792372,0.30176866199143826,0.29833516505520574,0.2948901343050426,0.2914354480083911,0.2879730148060457,0.28450477028556465,0.281032673218556,0.2775587014959562,0.27408484779802866,0.2706131150377948,0.2671455116179244,0.26368404654181854,0.26023072441968403,0.2567875404098807,0.2533564751347722,0.24993948960872256,0.24653852021387931,0.24315547375696037,0.2397922226375272,0.23645060015522026,0.23313239598025257,0.22983935180811768,0.22657315721611795,0.22333544573594447,0.22012779115325992,0.2169517040420792,0.21380862853878438,0.21069993935787623,0.20762693904911794,0.20459085549358386,0.20159283963431943,0.19863396343588122,0.19571521806592773,0.192837512291329,0.1900016710809047,0.18720843440689197,0.18445845623757517,0.18175230371412465,0.17909045650559494,0.17647330633714434,0.17390115668786485,0.17137422265605987,0.16889263099135857,0.16645642029467175,0.16406554138857404,0.16171985786226234,0.15941914679668417,0.15716309967674047,0.15495132349858828,0.1527833420809718,0.15065859759015668,0.1485764522883969,0.14653619051592204,0.14453702091616394,0.1425780789133347,0.14065842945053236,0.138777069995277,0.1369329338177835,0.13512489354537022,0.13335176499421142,0.13161231127719525,0.12990524718396496,0.1282292438263615,0.12658293353947328,0.1249649150253799,0.12337375872351046,0.12180801238836317,0.1202662068521969,0.11874686194727631,0.11724849255935685,0.11576961478140436,0.1143087521340835,0.11286444181737985,0.11143524095587291,0.11001973279868227,0.1086165328340178,0.10722429477757658,0.1058417163937804,0.1044675451090519,0.1031005833769867,0.10173969375638542,0.10038380366468827,0.09903190977135533,0.09768308199816575,0.09633646709623628,0.09499129177275886,0.09364686534397368,0.09230258189472408,0.0909579219290015,0.08961245350015674,0.08826583281387287,0.08691780430151089,0.08556820016599194,0.08421693940692812,0.08286402633619284,0.08150954859947328,0.08015367472353738,0.07879665121290515,0.07743879922330925,0.07608051084270634,0.0747222450136355,0.0733645231333614,0.07200792437047551,0.07065308073843025,0.06930067196782508,0.0679514202201505,0.06660608468612239,0.065265456111686,0.06393035129428096,0.06260160759101181,0.06128007747901169,0.05996662320652876,0.058662111571143434,0.05736740885906981,0.056083375976747674,0.054810863802938696,0.053550708786328616,0.05230372881028008,0.05107071934289652,0.04985244988702095,0.04864966074122356,0.04746306007930874,0.0462933213524085,0.045141081014387886,0.04400693656810657,0.04289144492708874,0.04179512108438357,0.04071843707789741,0.039661821239240835,0.038625657711200474,0.03761028621732646,0.036616002065823675,0.035643056368957864,0.034691656458530895,0.03376196647764854,0.03285410812896685,0.03196816155986223,0.031104166365504424,0.030262122691584483,0.029441992419448726,0.028643700417585922,0.027867135844763514,0.027112153491593124,0.026378575148885575,0.025666190992794814,0.02497476097841739,0.024304016235182805,0.02365366045899467,0.023023371297645156,0.022412801727498693,0.021821581420784893,0.021249318104060125,0.020695598909443003,0.02015999172111257,0.019642046520253535,0.01914129673213516,0.018657260579319174,0.01818944244510826,0.017737334251267587,0.017300416853793375,0.016878161460072042,0.016470031070182974,0.01607548194436752,0.015693965097836812,0.015324927823135706,0.014967815239249975,0.014622071865560117,0.01428714321762822,0.013962477420684937,0.0136475268355827,0.013341749690923013,0.013044611714072321,0.012755587752874494,0.012474163379067772,0.012199836463735295,0.011932118714576964,0.011670537164400337,0.011414635599993938,0.011163975920478379,0.01091813941433128,0.010676727944549593,0.010439365031846719,0.010205696826376814],\"yaxis\":\"y\"},{\"legendgroup\":\"Group 4\",\"marker\":{\"color\":\"rgb(214, 39, 40)\"},\"mode\":\"lines\",\"name\":\"Group 4\",\"showlegend\":false,\"type\":\"scatter\",\"x\":[1.2255048501357577,1.2369522517124463,1.2483996532891348,1.2598470548658234,1.271294456442512,1.2827418580192005,1.294189259595889,1.3056366611725776,1.3170840627492661,1.3285314643259547,1.3399788659026433,1.3514262674793318,1.3628736690560204,1.374321070632709,1.3857684722093975,1.397215873786086,1.4086632753627746,1.4201106769394631,1.4315580785161517,1.4430054800928405,1.4544528816695288,1.4659002832462176,1.477347684822906,1.4887950863995947,1.500242487976283,1.5116898895529718,1.5231372911296603,1.534584692706349,1.5460320942830372,1.557479495859726,1.5689268974364146,1.5803742990131031,1.5918217005897917,1.6032691021664802,1.6147165037431688,1.6261639053198573,1.6376113068965459,1.6490587084732344,1.660506110049923,1.6719535116266115,1.6834009132033,1.6948483147799887,1.7062957163566772,1.7177431179333658,1.7291905195100543,1.7406379210867429,1.7520853226634314,1.76353272424012,1.7749801258168085,1.786427527393497,1.7978749289701859,1.8093223305468742,1.820769732123563,1.8322171337002513,1.84366453527694,1.8551119368536284,1.866559338430317,1.8780067400070055,1.889454141583694,1.9009015431603826,1.9123489447370714,1.9237963463137597,1.9352437478904485,1.9466911494671368,1.9581385510438256,1.969585952620514,1.9810333541972027,1.992480755773891,2.00392815735058,2.015375558927268,2.026822960503957,2.0382703620806453,2.049717763657334,2.061165165234023,2.072612566810711,2.0840599683873995,2.0955073699640883,2.1069547715407766,2.1184021731174654,2.1298495746941537,2.1412969762708425,2.1527443778475313,2.1641917794242196,2.175639181000908,2.1870865825775967,2.1985339841542855,2.209981385730974,2.221428787307662,2.232876188884351,2.2443235904610397,2.255770992037728,2.2672183936144163,2.278665795191105,2.290113196767794,2.3015605983444822,2.3130079999211706,2.3244554014978593,2.335902803074548,2.347350204651237,2.358797606227925,2.3702450078046136,2.3816924093813023,2.393139810957991,2.404587212534679,2.4160346141113678,2.4274820156880565,2.4389294172647453,2.4503768188414337,2.461824220418122,2.4732716219948108,2.484719023571499,2.496166425148188,2.507613826724876,2.519061228301565,2.5305086298782533,2.541956031454942,2.5534034330316304,2.564850834608319,2.576298236185008,2.5877456377616963,2.5991930393383846,2.6106404409150734,2.622087842491762,2.6335352440684505,2.644982645645139,2.6564300472218276,2.6678774487985164,2.6793248503752047,2.690772251951893,2.702219653528582,2.7136670551052706,2.7251144566819594,2.7365618582586473,2.748009259835336,2.759456661412025,2.770904062988713,2.7823514645654015,2.7937988661420903,2.805246267718779,2.8166936692954674,2.828141070872156,2.8395884724488445,2.8510358740255333,2.8624832756022216,2.8739306771789104,2.8853780787555987,2.8968254803322875,2.908272881908976,2.9197202834856646,2.931167685062353,2.9426150866390417,2.9540624882157305,2.965509889792419,2.976957291369107,2.988404692945796,2.9998520945224847,3.0112994960991726,3.0227468976758614,3.03419429925255,3.045641700829239,3.0570891024059272,3.0685365039826156,3.0799839055593043,3.091431307135993,3.1028787087126815,3.11432611028937,3.1257735118660586,3.1372209134427473,3.1486683150194357,3.160115716596124,3.171563118172813,3.1830105197495016,3.19445792132619,3.2059053229028787,3.217352724479567,3.2288001260562558,3.240247527632944,3.251694929209633,3.263142330786321,3.2745897323630095,3.2860371339396983,3.297484535516387,3.3089319370930754,3.320379338669764,3.3318267402464525,3.3432741418231413,3.3547215433998296,3.3661689449765184,3.3776163465532067,3.3890637481298955,3.400511149706584,3.4119585512832726,3.423405952859961,3.4348533544366497,3.446300756013338,3.457748157590027,3.4691955591667156,3.4806429607434035,3.4920903623200923,3.503537763896781,3.51498516547347,3.5264325670501577,3.5378799686268465,3.5493273702035353,3.560774771780224,3.5722221733569124,3.5836695749336007,3.5951169765102895,3.6065643780869783,3.6180117796636666,3.629459181240355,3.6409065828170437,3.6523539843937325,3.663801385970421,3.6752487875471096,3.686696189123798,3.6981435907004867,3.709590992277175,3.721038393853864,3.732485795430552,3.7439331970072405,3.7553805985839293,3.766828000160618,3.7782754017373064,3.7897228033139947,3.8011702048906835,3.8126176064673722,3.824065008044061,3.835512409620749,3.8469598111974377,3.8584072127741265,3.8698546143508152,3.881302015927503,3.892749417504192,3.9041968190808807,3.9156442206575695,3.927091622234258,3.938539023810946,3.949986425387635,3.9614338269643237,3.972881228541012,3.9843286301177003,3.995776031694389,4.007223433271077,4.018670834847766,4.030118236424455,4.041565638001144,4.053013039577832,4.06446044115452,4.075907842731209,4.087355244307897,4.098802645884586,4.110250047461275,4.121697449037963,4.133144850614652,4.14459225219134,4.156039653768029,4.167487055344718,4.178934456921406,4.190381858498094,4.201829260074783,4.213276661651472,4.224724063228161,4.2361714648048485,4.247618866381537,4.259066267958226,4.270513669534914,4.281961071111603,4.2934084726882915,4.30485587426498,4.316303275841669,4.327750677418358,4.339198078995046,4.3506454805717345,4.362092882148422,4.373540283725111,4.3849876853018,4.396435086878489,4.4078824884551775,4.419329890031866,4.430777291608555,4.442224693185243,4.453672094761931,4.46511949633862,4.476566897915308,4.488014299491997,4.499461701068686,4.510909102645375,4.5223565042220635,4.533803905798751,4.545251307375439,4.556698708952128,4.568146110528817,4.579593512105506,4.591040913682194,4.602488315258883,4.613935716835572,4.62538311841226,4.636830519988948,4.6482779215656365,4.659725323142325,4.671172724719014,4.682620126295703,4.694067527872392,4.70551492944908,4.716962331025768,4.728409732602457,4.739857134179145,4.751304535755834,4.7627519373325224,4.774199338909211,4.7856467404859,4.797094142062588,4.808541543639277,4.819988945215965,4.831436346792654,4.842883748369342,4.854331149946031,4.86577855152272,4.877225953099408,4.888673354676097,4.900120756252785,4.911568157829474,4.923015559406163,4.9344629609828505,4.945910362559539,4.957357764136228,4.968805165712917,4.980252567289606,4.9916999688662935,5.003147370442982,5.01459477201967,5.026042173596359,5.037489575173048,5.0489369767497365,5.060384378326425,5.071831779903114,5.083279181479803,5.094726583056491,5.106173984633179,5.117621386209867,5.129068787786556,5.140516189363245,5.151963590939934,5.1634109925166225,5.174858394093311,5.18630579567,5.197753197246687,5.209200598823376,5.220648000400065,5.232095401976753,5.243542803553442,5.254990205130131,5.26643760670682,5.2778850082835085,5.289332409860197,5.300779811436884,5.312227213013573,5.323674614590262,5.335122016166951,5.346569417743639,5.358016819320328,5.369464220897017,5.380911622473704,5.392359024050393,5.4038064256270815,5.41525382720377,5.426701228780459,5.438148630357148,5.449596031933837,5.461043433510525,5.472490835087212,5.483938236663901,5.49538563824059,5.506833039817279,5.5182804413939675,5.529727842970656,5.541175244547345,5.552622646124034,5.5640700477007226,5.5755174492774096,5.586964850854098,5.598412252430787,5.609859654007476,5.621307055584165,5.632754457160853,5.644201858737542,5.655649260314231,5.667096661890918,5.678544063467607,5.6899914650442955,5.701438866620984,5.712886268197673,5.724333669774362,5.735781071351049,5.747228472927739,5.758675874504426,5.770123276081117,5.781570677657804,5.793018079234493,5.8044654808111815,5.81591288238787,5.827360283964557,5.838807685541248,5.850255087117935,5.861702488694625,5.873149890271312,5.884597291848001,5.89604469342469,5.907492095001379,5.9189394965780675,5.930386898154756,5.941834299731443,5.953281701308134,5.964729102884821,5.97617650446151,5.987623906038198,5.999071307614887,6.010518709191576,6.021966110768265,6.033413512344952,6.0448609139216405,6.056308315498329,6.067755717075018,6.079203118651707,6.090650520228396,6.102097921805084,6.113545323381773,6.124992724958462,6.136440126535149,6.147887528111838,6.1593349296885265,6.170782331265215,6.182229732841904,6.193677134418593,6.205124535995282,6.21657193757197,6.228019339148657,6.239466740725346,6.250914142302035,6.262361543878724,6.2738089454554125,6.285256347032101,6.29670374860879,6.308151150185479,6.319598551762166,6.331045953338855,6.342493354915543,6.353940756492232,6.365388158068921,6.37683555964561,6.388282961222298,6.399730362798987,6.411177764375674,6.422625165952365,6.434072567529052,6.4455199691057405,6.456967370682429,6.468414772259118,6.479862173835807,6.491309575412496,6.502756976989183,6.514204378565873,6.52565178014256,6.537099181719249,6.548546583295938,6.5599939848726265,6.571441386449315,6.582888788026004,6.594336189602691,6.605783591179382,6.617230992756069,6.628678394332757,6.640125795909446,6.651573197486135,6.663020599062824,6.6744680006395125,6.6859154022161995,6.69736280379289,6.708810205369577,6.720257606946266,6.731705008522955,6.743152410099643,6.754599811676332,6.766047213253021,6.77749461482971,6.788942016406397,6.8003894179830855,6.811836819559774,6.823284221136463,6.834731622713152,6.846179024289841,6.857626425866529,6.869073827443218,6.880521229019905,6.891968630596594,6.903416032173283,6.9148634337499715,6.92631083532666,6.937758236903349],\"xaxis\":\"x\",\"y\":[0.024535727649417652,0.0252825719257423,0.02603631967829675,0.02679630063438556,0.027561822463667427,0.028332172919774613,0.029106622176525702,0.02988442535448794,0.030664825232079276,0.03144705513380212,0.03223034198658368,0.03301390953357503,0.033796981693150326,0.0345787860492631,0.0353585574577744,0.03613554175188668,0.03690899952841051,0.037678209995279384,0.03844247485952365,0.03920112223383504,0.03995351053891409,0.0406990323780066,0.04143711835941417,0.0421672408423248,0.0428889175810514,0.04360171524271306,0.04430525277353525,0.04499920458930138,0.04568330356604933,0.046357343807882444,0.047021183169747675,0.047674745514223335,0.04831802268274815,0.048951076163303735,0.04957403843832533,0.05018711399854694,0.05079058001057202,0.051384786628187316,0.051970156939781846,0.05254718654668173,0.053116442769739904,0.05367856348410886,0.054234255584749924,0.05478429308787313,0.05532951487613062,0.05587082209798601,0.05640917523422065,0.05694559084699921,0.05748113802927625,0.05801693457455869,0.058554142889129454,0.0590939656707647,0.05963764137972051,0.0601864395293131,0.06074165582475312,0.06130460718000525,0.06187662664332687,0.062459058262773474,0.0630532519233536,0.06366055818765608,0.06428232317166635,0.06491988348713058,0.06557456128122692,0.0662476594034644,0.06694045672866106,0.06765420366356466,0.06839011786318613,0.06914938018122539,0.06993313087710698,0.0707424661001139,0.07157843466894477,0.0724420351627245,0.07333421333710961,0.074255859876651,0.07520780849204227,0.07619083436830675,0.07720565296737643,0.07825291918592996,0.07933322686678092,0.08044710865958284,0.08159503622415068,0.0827774207673116,0.08399461390191117,0.0852469088144219,0.08653454172555601,0.08785769362637649,0.08921649227064775,0.09061101440257747,0.09204128819768599,0.0935072958933014,0.09500897658413536,0.09654622915752684,0.09811891534228805,0.09972686284460805,0.10136986854420568,0.10304770172383891,0.10476010730539366,0.1065068090660784,0.10828751280873453,0.11010190946093353,0.11194967807837086,0.11383048872904997,0.11574400523591202,0.1176898877568469,0.11966779518245428,0.12167738733346502,0.12371832694139923,0.1257902813977882,0.12789292425913368,0.13002593649669855,0.13218900748219659,0.1343818357024794,0.1366041291983729,0.13885560572490283,0.141135992632229,0.14344502646869173,0.14578245230943393,0.14814802281608827,0.1505414970349971,0.15296263894335915,0.15541121575453762,0.1578869959955389,0.1603897473713314,0.16291923443224704,0.165475216062147,0.168057442806358,0.17066565405956896,0.17329957513492175,0.17595891423642243,0.17864335935752768,0.18135257512934685,0.18408619964230244,0.1868438412653285,0.18962507548677188,0.19242944180104432,0.19525644066482656,0.1981055305461738,0.20097612508929194,0.2038675904169911,0.2067792425919174,0.20971034525662882,0.2126601074713788,0.2156276817671789,0.2186121624302823,0.22161258403270606,0.22462792022180042,0.2276570827801795,0.2306989209655869,0.23375222113846011,0.23681570668314542,0.23988803822685834,0.24296781415865137,0.2460535714488125,0.2491437867673232,0.2522368778982466,0.25533120544521437,0.25842507482155597,0.2615167385170672,0.26460439863195256,0.2676862096671396,0.2707602815589058,0.27382468294465284,0.27687744464565034,0.2799165633517017,0.28294000549195264,0.285945711275429,0.2889315988844222,0.29189556880347933,0.2948355082665106,0.29774929580442544,0.3006348058756763,0.3034899135622131,0.3063124993135166,0.3091004537216713,0.31185168231077176,0.3145641103243825,0.31723568749522674,0.3198643927817951,0.32244823905708997,0.3249852777352956,0.32747360332271513,0.32991135787989173,0.332296735382387,0.3346279859682309,0.3369034200605791,0.33912141235459364,0.34128040565804163,0.34337891457550285,0.3454155290264851,0.3473889175880825,0.34929783065313347,0.35114110339511795,0.3529176585312866,0.35462650887575187,0.3562667596744915,0.35783761071442816,0.359338358198952,0.36076839638249725,0.3621272189570008,0.3634144201833701,0.36462969576137483,0.36577284343175226,0.3668437633047319,0.36784245790965636,0.3687690319609448,0.36962369183627825,0.3704067447635985,0.37111859771433536,0.3717597560011669,0.3723308215796162,0.3728324910538752,0.3732655533884091,0.3736308873281574,0.3739294585314878,0.3741623164214437,0.3743305907623096,0.3744354879700173,0.3744782871664618,0.3744603359893783,0.3743830461709834,0.3742478889001777,0.3740563899846148,0.3738101248304665,0.37351071325912555,0.37315981418145955,0.37275912015147783,0.3723103518224307,0.3718152523293723,0.37127558162310653,0.37069311078114037,0.37006961632183893,0.36940687454833415,0.3687066559489403,0.3679707196807996,0.36720080816329737,0.36639864180735787,0.36556591390612864,0.3647042857117489,0.36381538172188843,0.3629007851985454,0.36196203394022664,0.36100061632705444,0.360017967656678,0.3590154667869819,0.35799443309962664,0.3569561237963514,0.35590173153780136,0.35483238243236565,0.35374913438022026,0.35265297577541455,0.35154482456648933,0.3504255276737645,0.3492958607591251,0.34815652834185346,0.3470081642518713,0.3458513324096405,0.344686527919962,0.3435141784650451,0.3423346459804665,0.34114822859605065,0.33995516282228144,0.3387556259615947,0.33754973872284066,0.33633756801631975,0.3351191299061119,0.3338943926959426,0.33266328012451674,0.33142567464619394,0.33018142077295815,0.32893032845394327,0.32767217646926045,0.3264067158155316,0.32513367306136076,0.3238527536519644,0.32256364514333086,0.3212660203475282,0.3199595403721873,0.31864385753869073,0.3173186181651677,0.3159834652020901,0.314638040709968,0.3132819881704388,0.31191495462381646,0.3105365926280084,0.30914656203548946,0.30774453158682413,0.3063301803209741,0.3049031988043202,0.3034632901819809,0.302010171056541,0.30054357220078626,0.29906323911240085,0.2975689324198107,0.29606042814950606,0.2945375178661498,0.29300000869763254,0.2914477232579435,0.2898804994812769,0.2882981903812001,0.2867006637489447,0.2850878018049811,0.2834595008179591,0.28181567070488445,0.2801562346260217,0.2784811285875031,0.2767903010639654,0.2750837126527491,0.27336133577028576,0.2716231544002804,0.2698691639021681,0.26809937088711394,0.26631379316754256,0.26451245978481996,0.2626954111183248,0.2608626990777088,0.25901438737869414,0.2571505519013082,0.25527128112801883,0.25337667665782554,0.2514668537909921,0.24954194217781986,0.24760208652361426,0.24564744734087277,0.24367820173868154,0.24169454423838194,0.23969668760377383,0.23768486367346192,0.23565932418242683,0.23362034155953673,0.23156820968749958,0.22950324461170285,0.22742578518449313,0.22533619363171467,0.22323485602875667,0.2211221826739414,0.21899860834782098,0.21686459244783637,0.21472061898880718,0.2125671964608685,0.21040485753772822,0.20823415862949587,0.20605567927577192,0.20387002137622637,0.20167780825748347,0.1994796835767554,0.19727631006432533,0.1950683681086481,0.1928565541894853,0.1906415791661193,0.18842416642928472,0.18620504992695291,0.18398497207557787,0.1817646815697379,0.1795449311043618,0.17732647502484375,0.17511006692133832,0.17289645718436744,0.17068639053955237,0.16848060357981895,0.16627982231376254,0.16408475974905193,0.16189611352975067,0.15971456364626122,0.1575407702362474,0.15537537149436575,0.15321898170794598,0.15107218943489403,0.1489355558390818,0.1468096131973296,0.14469486359077266,0.14259177779199625,0.14050079435777163,0.1384223189355976,0.13635672379053637,0.13430434755703288,0.1322654952185865,0.13024043831625873,0.12822941538511687,0.12623263261582415,0.12425026473671057,0.12228245610982251,0.12032932203265595,0.11839095023556255,0.11646740256316336,0.11455871682657226,0.11266490881178601,0.11078597442828676,0.10892189198072172,0.10707262454548717,0.10523812243315517,0.10341832571696873,0.10161316680705088,0.09982257304960636,0.09804646933016384,0.09628478065987077,0.09453743472398674,0.09280436437203068,0.09108551002949818,0.08938082201173647,0.08769026272132686,0.08601380871131291,0.08435145259768047,0.08270320480574127,0.08106909513641102,0.0794491741398466,0.07784351428544607,0.07625221091888176,0.07467538299852212,0.07311317360538866,0.07156575022257985,0.07003330478193752,0.06851605347756097,0.06701423634761353,0.06552811662766508,0.06405797988060029,0.06260413290982468,0.06116690246417512,0.05974663374449918,0.05834368872336143,0.0569584442907138,0.055591290239629394,0.054242627107346446,0.052912863887880496,0.051602415633331594,0.0503117009617456,0.04904113948996543,0.04779114921033612,0.04656214383040012,0.045354530094837295,0.04416870510887424,0.043005053682196495,0.041863945712073844,0.0407457336239265,0.03965074988696052,0.038579304621754545,0.0375316833158285,0.03650814466225381,0.03550891853529493,0.03453420411591379,0.03358416817873085,0.03265894355073074,0.031758627750641984,0.030883281816519333,0.030032929327626856,0.02920755562527204,0.02840710723578985,0.027631491497430334,0.026880576391482693,0.026154190576567704,0.025452123623685367,0.024774126448298156,0.02411991193449243,0.023489155745087437,0.022881497310467114,0.022296540987896418,0.021733857382164098,0.021192984817555105,0.02067343095043416,0.020174674511075175,0.01969616716284583,0.019237335466419654,0.018797582936358033,0.01837629217717012,0.01797282708582705,0.017586535107659364,0.017216749532625513,0.01686279181906563,0.01652397393227892,0.016199600685552616,0.015888972071634335,0.015591385573066748,0.015306138440288612,0.015032529926938808,0.014769863472384608,0.01451744882210758,0.014274604077233256,0.01404065766516181,0.013814950223950491,0.013596836393802283,0.01338568650972892,0.013180888190167715,0.012981847817045844,0.012787991903485993,0.012598768346041655,0.012413647559026037,0.012232123489157469,0.01205371450938192,0.011877964191347843,0.011704441956597245,0.011532743607099393,0.011362491736288595,0.011193336022272198,0.011024953405352348,0.010857048152450541,0.010689351811442453,0.010521623058795922,0.010353647444265035,0.010185237036720229,0.0100162299754962,0.009846489931911092],\"yaxis\":\"y\"},{\"legendgroup\":\"Group 1\",\"marker\":{\"color\":\"rgb(31, 119, 180)\",\"symbol\":\"line-ns-open\"},\"mode\":\"markers\",\"name\":\"Group 1\",\"showlegend\":false,\"type\":\"scatter\",\"x\":[-3.7005393046151185,-2.884257845519595,-0.9599695479121082,-1.3808591588412387,-0.3446903931523577,-0.31451765157734024,-2.1507974869163036,-1.2330733255447006,-2.5088988716967817,-2.0563408724943866,-1.7375413191773528,-1.6896333885527923,-1.3144293687058446,-2.8395188215769016,-2.523689225105827,-2.8742527958454884,-2.585239172768243,-1.4851110386981574,-2.4682244655503456,-0.7312065455346011,-1.1451315911157978,-3.886132384073062,-2.8138636885843122,-2.8554752369390495,-2.1997139223267044,-3.632691404667421,-2.6835914897014934,-1.567690625868994,-1.9251603163145636,-1.5711083519991582,-2.6083389952840736,-3.0854364206099163,-2.2990147814818744,-1.8413553131616847,-0.9592338826891325,-3.419988255625091,-1.259934496906165,-1.122575192074485,-2.1323971677822167,-2.281296601886792,-1.5996456536658463,-1.3744912127144837,-2.313780371495427,-1.5318594911726295,-2.41417188977731,-2.0134961972266114,-0.6472380913716445,-2.829045589154746,-2.3271594548042907,-3.4156459611059846,-1.7443957935579182,-0.6705614398019837,-1.6779211145788122,-0.4942952757042294,-2.3652964138179997,-0.9348324232515315,-0.757144847849514,-2.5768454060115067,-2.7789181365153945,-1.6340673994165225,-3.184538649306878,-0.9705710079154186,-2.6379948261211243,-2.2241717442719007,-2.804512894688768,-2.3151575647508107,-0.1466996177294917,-2.456109028256521,-3.4789656806061027,-1.3203196642798698,-3.2139633125600557,0.3448973769364754,-2.391170232093977,-2.2792997967306188,-1.4330433652315133,-1.7338829390768735,-0.5334312504691678,-3.5621680232013344,-2.6499149510171462,-2.149333136734406,-3.2321260197286197,-1.806834350709561,-0.309874340200438,-3.103231483196587,-2.841193117455279,-1.6571048961470143,-3.384668059770317,-2.1695770073182223,-2.7580402788688585,-1.008419381023919,-0.9065760213833967,-1.6467833191586028,-1.4560735030040535,-3.278272210054624,-1.1158556794618675,-2.91614399480646,-0.7282622895144162,-2.066352128329438,-1.526920983892519,-0.5725589563883458,-0.8989236041100055,-1.5646534118053035,-1.564806239542522,-1.567915754953551,-1.219231197160354,-2.343307346650017,-1.4448083036709627,-0.4539694674889163,-1.3740882743955964,-3.2800796591186394,-1.094090406985269,-2.0425547760396885,-1.5024552467432248,-1.7950022333581892,-1.2507504696921612,-1.1780170068604097,-2.7616465623468573,-0.9843688108445015,-1.830496297545209,-2.174373484843804,0.10244513915154574,-2.003609535301797,-1.4098879988822968,-2.0116891987627423,-0.9694452281258521,-1.1067419698642267,-1.7220024640294518,-1.8554066984581001,-1.8980861815404588,-0.7044216168448438,-2.7940218956615377,-1.609016649895495,-0.40623621728727977,-1.3558045716564955,0.7581833141858034,-3.335092174285548,-2.451259880656694,-1.1616403892396483,-1.3323918841572673,-2.1858812678926047,-1.3525099056030168,-1.6910136110167677,-2.3085384007188736,-1.7406139295760932,0.5705201523409631,-1.3640916714472993,-2.3252085372074944,-2.9219005055242366,-1.4109721738237861,-1.0579017136321813,-3.090214164900646,-1.5197541068797005,-0.5788549404270762,-2.2479074136412613,-3.3317900839565016,-1.9788697054423807,0.3643093013158172,-1.4769965692084148,-3.226597477017471,-2.561754620183745,-0.9036486570193887,-3.752069953748375,-2.437848968753104,-1.0401807972374928,-2.355503590525709,-1.9990963778783566,-2.7731068073945617,-1.82286746846102,-0.7176878014039039,0.336122098955387,-0.9101524454155459,-1.2212343124155152,-1.2675229611513381,-1.1493755432844996,-2.0842840094132127,-2.3043567885855696,-1.668939295557847,-3.1423106269377614,-1.936134210350582,-2.6762356046411133,-2.6236560944090526,-3.329229970169305,-2.3998912800443333,-3.8260624479726166,-3.180828926267923,-0.7958321966568711,-1.1254727899421613,-1.422941778671029,-0.5005896806675925,-3.876607867721321,-0.7255683478760588,-1.1100021547968082,-1.2789098120134823,-2.3278226134716586,0.3567468886574412,-3.3268875311412036,0.31366247118098833,-1.1521476435548594,-1.38935059056845,-1.2383577463482895],\"xaxis\":\"x\",\"y\":[\"Group 1\",\"Group 1\",\"Group 1\",\"Group 1\",\"Group 1\",\"Group 1\",\"Group 1\",\"Group 1\",\"Group 1\",\"Group 1\",\"Group 1\",\"Group 1\",\"Group 1\",\"Group 1\",\"Group 1\",\"Group 1\",\"Group 1\",\"Group 1\",\"Group 1\",\"Group 1\",\"Group 1\",\"Group 1\",\"Group 1\",\"Group 1\",\"Group 1\",\"Group 1\",\"Group 1\",\"Group 1\",\"Group 1\",\"Group 1\",\"Group 1\",\"Group 1\",\"Group 1\",\"Group 1\",\"Group 1\",\"Group 1\",\"Group 1\",\"Group 1\",\"Group 1\",\"Group 1\",\"Group 1\",\"Group 1\",\"Group 1\",\"Group 1\",\"Group 1\",\"Group 1\",\"Group 1\",\"Group 1\",\"Group 1\",\"Group 1\",\"Group 1\",\"Group 1\",\"Group 1\",\"Group 1\",\"Group 1\",\"Group 1\",\"Group 1\",\"Group 1\",\"Group 1\",\"Group 1\",\"Group 1\",\"Group 1\",\"Group 1\",\"Group 1\",\"Group 1\",\"Group 1\",\"Group 1\",\"Group 1\",\"Group 1\",\"Group 1\",\"Group 1\",\"Group 1\",\"Group 1\",\"Group 1\",\"Group 1\",\"Group 1\",\"Group 1\",\"Group 1\",\"Group 1\",\"Group 1\",\"Group 1\",\"Group 1\",\"Group 1\",\"Group 1\",\"Group 1\",\"Group 1\",\"Group 1\",\"Group 1\",\"Group 1\",\"Group 1\",\"Group 1\",\"Group 1\",\"Group 1\",\"Group 1\",\"Group 1\",\"Group 1\",\"Group 1\",\"Group 1\",\"Group 1\",\"Group 1\",\"Group 1\",\"Group 1\",\"Group 1\",\"Group 1\",\"Group 1\",\"Group 1\",\"Group 1\",\"Group 1\",\"Group 1\",\"Group 1\",\"Group 1\",\"Group 1\",\"Group 1\",\"Group 1\",\"Group 1\",\"Group 1\",\"Group 1\",\"Group 1\",\"Group 1\",\"Group 1\",\"Group 1\",\"Group 1\",\"Group 1\",\"Group 1\",\"Group 1\",\"Group 1\",\"Group 1\",\"Group 1\",\"Group 1\",\"Group 1\",\"Group 1\",\"Group 1\",\"Group 1\",\"Group 1\",\"Group 1\",\"Group 1\",\"Group 1\",\"Group 1\",\"Group 1\",\"Group 1\",\"Group 1\",\"Group 1\",\"Group 1\",\"Group 1\",\"Group 1\",\"Group 1\",\"Group 1\",\"Group 1\",\"Group 1\",\"Group 1\",\"Group 1\",\"Group 1\",\"Group 1\",\"Group 1\",\"Group 1\",\"Group 1\",\"Group 1\",\"Group 1\",\"Group 1\",\"Group 1\",\"Group 1\",\"Group 1\",\"Group 1\",\"Group 1\",\"Group 1\",\"Group 1\",\"Group 1\",\"Group 1\",\"Group 1\",\"Group 1\",\"Group 1\",\"Group 1\",\"Group 1\",\"Group 1\",\"Group 1\",\"Group 1\",\"Group 1\",\"Group 1\",\"Group 1\",\"Group 1\",\"Group 1\",\"Group 1\",\"Group 1\",\"Group 1\",\"Group 1\",\"Group 1\",\"Group 1\",\"Group 1\",\"Group 1\",\"Group 1\",\"Group 1\",\"Group 1\",\"Group 1\",\"Group 1\",\"Group 1\",\"Group 1\",\"Group 1\",\"Group 1\",\"Group 1\",\"Group 1\"],\"yaxis\":\"y2\"},{\"legendgroup\":\"Group 2\",\"marker\":{\"color\":\"rgb(255, 127, 14)\",\"symbol\":\"line-ns-open\"},\"mode\":\"markers\",\"name\":\"Group 2\",\"showlegend\":false,\"type\":\"scatter\",\"x\":[1.0855326875444873,-0.11120725304294847,1.2234269346276407,0.3890034183916825,1.1635614746786338,-0.7889687876517495,0.4356190731344477,0.3044729185748049,0.2730034883109125,1.422879045985715,0.7464426996131105,0.5194827697876634,-0.6354012530417713,0.023844035146629854,0.693117018473219,0.7772254336310346,-0.7628597578243967,-1.9469966635063511,0.11315814778673702,-1.1505035562498211,0.2505756059001677,1.4203672358030164,-0.2264469477371469,-1.7312419009435747,1.1286185733703618,1.3624898542236359,-0.7919013392547467,-2.121743003130195,0.8560851145829049,0.3380513555911928,-0.7676732802851804,0.6614710890433936,0.9100543140275427,-1.0243268631168734,1.0051156826522194,-3.7303665771621306,1.4493146342099597,-0.19816767857479814,-2.207535967956536,0.06514290498205598,1.1002417194763647,0.07808419207146317,0.21552140279481918,-0.20705788278896634,-0.39455041218736114,-0.4039978016875397,1.4454010904182308,0.8017529441843418,1.4436880369125697,-0.09065796881766712,-2.199049335558523,0.5386631867485068,0.3998433218726392,0.6518434034404246,-1.2994261105526554,0.3767507216857218,-0.1732911592903868,1.927685267012713,-0.9386553741843895,0.5849696805620179,-0.9242954385502689,-1.008812751749948,2.1792310616986943,-0.409329848797892,-0.43124390688957254,0.19949921722468905,1.119344139654987,0.4011865310196791,-2.706039210700946,-1.383577551298375,-0.09634225670538682,1.724365786276272,-1.411437064742321,0.3931026152968499,1.1121317455865694,-1.0790436593300838,-0.17328991082495304,-0.9702622703980469,0.9049077637595134,1.4638458951378848,-1.5283877055435549,0.7701230872719592,-1.1247728835628414,-0.37030979713210294,-1.472041477883499,0.27800779407577253,2.2112339246646306,0.8026984297182737,0.42795201802029137,0.7062694547468024,-0.4889877961343596,-0.5736006643789838,2.262928902700256,1.2226702663330604,-1.233651106574083,0.16362822710997937,0.5678558300843481,1.1847719143458315,0.04736124033045382,0.5313855273636022,0.3248827032185342,-0.174907972705985,0.5932738782670216,-1.235528373282235,-0.6099494888349074,-0.1556592065912914,-1.2449502490835163,-0.3597695716888569,-0.11001006348199592,-1.368381500726703,-0.09107253048140697,-1.356124506070312,-0.974755497953089,-0.11042313253041905,0.26995367345027854,-0.685273767740136,-0.6829607118285204,0.9712553563437166,1.134914739471294,-1.0273885599582862,-0.024551024839281784,-1.2866479321714623,-0.28494133587388426,-1.2685711289061548,-0.28745341714316575,1.1931565028643742,0.08200766499892145,-0.04544962545237027,0.9304798693579148,-0.12370730633003665,0.35463582006852284,0.5285624861988166,-0.24234238381283343,2.0934091405107895,-0.3547621191661709,-0.7407790092870133,0.047295241957222796,0.5655649311841293,-0.4594285208941864,-0.7102731788815356,-0.1338743333563953,-1.4764437490676177,1.1633676862343574,-0.18785593701534095,-0.41080702142996,-1.1837478882868944,0.46046348096384937,-0.3019734601391418,-0.45966174667833476,1.6600982548843803,0.11528385198959624,-2.153083437810777,0.8921922833992181,-0.6055759510776483,0.93307556020463,0.48701143251018897,0.8809207494418091,-0.06977376072204088,-1.3789711421769306,1.677128707176256,0.7726368676102237,1.4627341507961318,0.32163513957254036,-0.9115102789856349,-0.41842009528318863,0.018121025067881866,-0.4044624179276639,0.6155532442452586,-1.0971171971731422,0.6548537288362414,-0.9729340341912107,0.5983173796080998,-1.3879642047744507,-0.23712115602478215,0.3163045568470063,0.45971323501077543,-1.51102564886931,-1.08594507731873,0.7824867161864087,1.3607461701351662,-1.4946150367931208,-0.5959452081699518,-0.18037302995677917,1.3316636115702276,0.9017224347297302,2.3583992621557406,0.8127393135682499,-0.1515144797515831,-0.7930944321316766,-1.3241230006548121,1.2968807082979439,-0.26620602631744955,1.0841551694298686,0.35187883005292314,0.23676401332575234,0.4163080583175975,0.10875308894768246,0.10538866336657488,1.134046235065703,-0.30485970339631246],\"xaxis\":\"x\",\"y\":[\"Group 2\",\"Group 2\",\"Group 2\",\"Group 2\",\"Group 2\",\"Group 2\",\"Group 2\",\"Group 2\",\"Group 2\",\"Group 2\",\"Group 2\",\"Group 2\",\"Group 2\",\"Group 2\",\"Group 2\",\"Group 2\",\"Group 2\",\"Group 2\",\"Group 2\",\"Group 2\",\"Group 2\",\"Group 2\",\"Group 2\",\"Group 2\",\"Group 2\",\"Group 2\",\"Group 2\",\"Group 2\",\"Group 2\",\"Group 2\",\"Group 2\",\"Group 2\",\"Group 2\",\"Group 2\",\"Group 2\",\"Group 2\",\"Group 2\",\"Group 2\",\"Group 2\",\"Group 2\",\"Group 2\",\"Group 2\",\"Group 2\",\"Group 2\",\"Group 2\",\"Group 2\",\"Group 2\",\"Group 2\",\"Group 2\",\"Group 2\",\"Group 2\",\"Group 2\",\"Group 2\",\"Group 2\",\"Group 2\",\"Group 2\",\"Group 2\",\"Group 2\",\"Group 2\",\"Group 2\",\"Group 2\",\"Group 2\",\"Group 2\",\"Group 2\",\"Group 2\",\"Group 2\",\"Group 2\",\"Group 2\",\"Group 2\",\"Group 2\",\"Group 2\",\"Group 2\",\"Group 2\",\"Group 2\",\"Group 2\",\"Group 2\",\"Group 2\",\"Group 2\",\"Group 2\",\"Group 2\",\"Group 2\",\"Group 2\",\"Group 2\",\"Group 2\",\"Group 2\",\"Group 2\",\"Group 2\",\"Group 2\",\"Group 2\",\"Group 2\",\"Group 2\",\"Group 2\",\"Group 2\",\"Group 2\",\"Group 2\",\"Group 2\",\"Group 2\",\"Group 2\",\"Group 2\",\"Group 2\",\"Group 2\",\"Group 2\",\"Group 2\",\"Group 2\",\"Group 2\",\"Group 2\",\"Group 2\",\"Group 2\",\"Group 2\",\"Group 2\",\"Group 2\",\"Group 2\",\"Group 2\",\"Group 2\",\"Group 2\",\"Group 2\",\"Group 2\",\"Group 2\",\"Group 2\",\"Group 2\",\"Group 2\",\"Group 2\",\"Group 2\",\"Group 2\",\"Group 2\",\"Group 2\",\"Group 2\",\"Group 2\",\"Group 2\",\"Group 2\",\"Group 2\",\"Group 2\",\"Group 2\",\"Group 2\",\"Group 2\",\"Group 2\",\"Group 2\",\"Group 2\",\"Group 2\",\"Group 2\",\"Group 2\",\"Group 2\",\"Group 2\",\"Group 2\",\"Group 2\",\"Group 2\",\"Group 2\",\"Group 2\",\"Group 2\",\"Group 2\",\"Group 2\",\"Group 2\",\"Group 2\",\"Group 2\",\"Group 2\",\"Group 2\",\"Group 2\",\"Group 2\",\"Group 2\",\"Group 2\",\"Group 2\",\"Group 2\",\"Group 2\",\"Group 2\",\"Group 2\",\"Group 2\",\"Group 2\",\"Group 2\",\"Group 2\",\"Group 2\",\"Group 2\",\"Group 2\",\"Group 2\",\"Group 2\",\"Group 2\",\"Group 2\",\"Group 2\",\"Group 2\",\"Group 2\",\"Group 2\",\"Group 2\",\"Group 2\",\"Group 2\",\"Group 2\",\"Group 2\",\"Group 2\",\"Group 2\",\"Group 2\",\"Group 2\",\"Group 2\",\"Group 2\",\"Group 2\",\"Group 2\",\"Group 2\",\"Group 2\",\"Group 2\",\"Group 2\",\"Group 2\",\"Group 2\",\"Group 2\"],\"yaxis\":\"y2\"},{\"legendgroup\":\"Group 3\",\"marker\":{\"color\":\"rgb(44, 160, 44)\",\"symbol\":\"line-ns-open\"},\"mode\":\"markers\",\"name\":\"Group 3\",\"showlegend\":false,\"type\":\"scatter\",\"x\":[1.0842458387915135,4.077422411850478,2.2492081842224287,0.7010291771388764,1.6543126998045756,2.8079785237060797,1.9418804509603087,2.455370878816968,2.5866752463292215,1.1592412984655351,1.4879363652079887,1.6090607987958079,0.39776382196625915,2.3003143831825,2.620782700588381,0.8195170821967157,3.3967877683207695,1.1428490353475866,1.4159103800096373,1.5381956837523494,0.7517385254296791,1.5846577448473336,1.5086258508512929,1.2758687738194119,0.9231932089901884,2.0222247274504666,2.072711696599648,1.7980950684839176,1.2989534801055513,1.9327854737071,2.1982123088906103,3.813909198497738,1.6922071671848697,2.3602320799729237,3.645657201983224,1.5454804488404839,1.26309290225554,1.963690670199676,2.504361148991763,3.6411713150868725,1.3884294242808528,2.5251366802647977,2.02687615883381,1.9376042297370868,0.565199580297969,2.01333677072189,2.923680395108257,1.2166476630672403,0.7187938395383922,0.4635290792868263,2.8849140043011126,3.1821182689784315,2.7967987426082455,2.683367148116229,1.3596112745212854,1.2590282836418814,2.5642613127711646,2.6050913145002283,3.0101617616440226,2.626330045301367,1.4897784850623736,3.0110149814112903,1.8235161358706804,1.4689278477911887,-0.8706864672372112,1.949010468786401,1.5185238587051155,3.6407134433868347,3.3194874029773387,2.4075589251230927,1.3291503092352037,2.049537172243997,2.032509178551114,2.128197563484746,2.212885375324347,-0.7083479163966322,2.108251495472508,4.693986616770875,2.1105215018638543,3.4598579886816108,0.935551764205379,2.7947130516904526,1.7541987517383686,1.886329446420562,2.266356662394979,1.143147462733224,4.236578459581175,0.8374694132244132,-0.33433522059504384,0.985828233404902,2.9657064035025127,3.0415549182977113,1.6490815047157787,1.5125967974643428,2.647452311555684,0.9411911513862656,1.649558550537863,-0.4442176824652484,1.3956753555659134,2.370382096309335,2.408644778292317,1.9447590090224331,2.4722898415971106,1.485124691013941,0.8258244255323708,1.2851639323072508,2.121566334043989,3.226954417490654,1.720364727932616,1.9903890233746826,3.5697582249836346,1.8268884390478284,2.452934871670107,2.059700077774349,1.4746185849797144,0.9869972212230658,2.9044483964527292,3.193897184272675,2.2142996744877466,0.88639192434164,1.941252353915244,1.895943652927695,1.6037687106218408,0.569029566170512,1.5408421882844492,2.8670451066596665,2.399741309466424,2.279667578431661,2.2534226109328603,1.022784751109627,1.4944487126751897,2.685451548381867,1.4373326281400667,3.147418521381696,1.9142593434931288,3.713519176462823,1.5582726513825393,3.266596627252336,1.127883650516454,1.6564133431247368,1.6020744203867605,1.573780617485474,0.6285069282549656,1.7747388180735642,0.5858784412335898,2.7017695398810595,1.9200596485279424,3.5767757997269314,1.2148198215101886,2.0526508139815665,2.557191637047624,2.3617975551671035,3.03014959240133,2.6498531097077134,1.963882208017562,2.564538341759699,1.8288100164984948,2.295414921240865,2.090377937231279,2.044783436861392,2.0367312358017644,2.1310932944661896,1.5844582351981633,2.3989987159899915,2.056137197935243,1.1915090482554145,1.314904596856619,2.2086450118910324,2.3196137198670086,1.636494748960096,0.5303273312123549,2.5626053692612922,1.0243271779233427,2.035062716231314,1.7816412376906223,2.5964088348015206,1.8579020455963489,0.9149737681346357,1.2667218009594006,0.8377060104188787,0.6332842337366853,3.0105014129540297,1.4121672878025313,1.1951565289852686,0.9936280110388893,2.3704501002273006,3.87798680102196,1.4604089181012714,1.6507336706848121,2.324586157011019,1.3068050846653518,1.8031967807005456,2.6133621365504722,2.8649095004461698,0.26910870189491587,0.45314707275308375,2.1549895062170683,3.420222138728755,2.659041149790811,2.454336687462909],\"xaxis\":\"x\",\"y\":[\"Group 3\",\"Group 3\",\"Group 3\",\"Group 3\",\"Group 3\",\"Group 3\",\"Group 3\",\"Group 3\",\"Group 3\",\"Group 3\",\"Group 3\",\"Group 3\",\"Group 3\",\"Group 3\",\"Group 3\",\"Group 3\",\"Group 3\",\"Group 3\",\"Group 3\",\"Group 3\",\"Group 3\",\"Group 3\",\"Group 3\",\"Group 3\",\"Group 3\",\"Group 3\",\"Group 3\",\"Group 3\",\"Group 3\",\"Group 3\",\"Group 3\",\"Group 3\",\"Group 3\",\"Group 3\",\"Group 3\",\"Group 3\",\"Group 3\",\"Group 3\",\"Group 3\",\"Group 3\",\"Group 3\",\"Group 3\",\"Group 3\",\"Group 3\",\"Group 3\",\"Group 3\",\"Group 3\",\"Group 3\",\"Group 3\",\"Group 3\",\"Group 3\",\"Group 3\",\"Group 3\",\"Group 3\",\"Group 3\",\"Group 3\",\"Group 3\",\"Group 3\",\"Group 3\",\"Group 3\",\"Group 3\",\"Group 3\",\"Group 3\",\"Group 3\",\"Group 3\",\"Group 3\",\"Group 3\",\"Group 3\",\"Group 3\",\"Group 3\",\"Group 3\",\"Group 3\",\"Group 3\",\"Group 3\",\"Group 3\",\"Group 3\",\"Group 3\",\"Group 3\",\"Group 3\",\"Group 3\",\"Group 3\",\"Group 3\",\"Group 3\",\"Group 3\",\"Group 3\",\"Group 3\",\"Group 3\",\"Group 3\",\"Group 3\",\"Group 3\",\"Group 3\",\"Group 3\",\"Group 3\",\"Group 3\",\"Group 3\",\"Group 3\",\"Group 3\",\"Group 3\",\"Group 3\",\"Group 3\",\"Group 3\",\"Group 3\",\"Group 3\",\"Group 3\",\"Group 3\",\"Group 3\",\"Group 3\",\"Group 3\",\"Group 3\",\"Group 3\",\"Group 3\",\"Group 3\",\"Group 3\",\"Group 3\",\"Group 3\",\"Group 3\",\"Group 3\",\"Group 3\",\"Group 3\",\"Group 3\",\"Group 3\",\"Group 3\",\"Group 3\",\"Group 3\",\"Group 3\",\"Group 3\",\"Group 3\",\"Group 3\",\"Group 3\",\"Group 3\",\"Group 3\",\"Group 3\",\"Group 3\",\"Group 3\",\"Group 3\",\"Group 3\",\"Group 3\",\"Group 3\",\"Group 3\",\"Group 3\",\"Group 3\",\"Group 3\",\"Group 3\",\"Group 3\",\"Group 3\",\"Group 3\",\"Group 3\",\"Group 3\",\"Group 3\",\"Group 3\",\"Group 3\",\"Group 3\",\"Group 3\",\"Group 3\",\"Group 3\",\"Group 3\",\"Group 3\",\"Group 3\",\"Group 3\",\"Group 3\",\"Group 3\",\"Group 3\",\"Group 3\",\"Group 3\",\"Group 3\",\"Group 3\",\"Group 3\",\"Group 3\",\"Group 3\",\"Group 3\",\"Group 3\",\"Group 3\",\"Group 3\",\"Group 3\",\"Group 3\",\"Group 3\",\"Group 3\",\"Group 3\",\"Group 3\",\"Group 3\",\"Group 3\",\"Group 3\",\"Group 3\",\"Group 3\",\"Group 3\",\"Group 3\",\"Group 3\",\"Group 3\",\"Group 3\",\"Group 3\",\"Group 3\",\"Group 3\",\"Group 3\",\"Group 3\",\"Group 3\",\"Group 3\",\"Group 3\",\"Group 3\",\"Group 3\",\"Group 3\"],\"yaxis\":\"y2\"},{\"legendgroup\":\"Group 4\",\"marker\":{\"color\":\"rgb(214, 39, 40)\",\"symbol\":\"line-ns-open\"},\"mode\":\"markers\",\"name\":\"Group 4\",\"showlegend\":false,\"type\":\"scatter\",\"x\":[4.980415527313378,4.455843022120531,3.363490985865533,4.072308732607631,2.8352996031710807,3.1938491031422434,3.4020950809427215,3.641606807543277,5.175473967544721,4.431832684546362,5.00926707021034,4.239450670418295,3.9043607678932832,4.08321558499837,5.014580466479609,2.974914779651149,4.536632894006226,1.2255048501357577,4.294158789386461,4.681499015581354,3.623149202328546,3.5426442594364,4.1635592312859195,3.6451229355855395,3.831183340867583,4.716202477639374,5.041733197695073,3.6453478924033935,5.969430169590758,4.220708946305935,4.081779341985014,6.590038397648209,3.83494314534988,4.354124781222369,5.523200922652749,3.1365118467769735,3.474817716955487,5.119108028099136,2.05582778458907,2.286032288734846,5.632483548152676,3.4133510979016233,3.6395390046880283,3.1710613403203327,4.45616482181006,5.0355290425889345,4.445736046555575,3.249056277412032,3.81287880489416,3.2260055932118816,4.668308391636673,5.483750340885639,3.424655368339832,6.949205638480038,4.296292143814823,4.703272936241272,3.1210899935987877,3.9595997030804067,3.1174467584167114,3.6013873156199603,3.3569178986832755,3.8206144137778417,4.153096000557089,3.8941534463058347,4.635567044572856,4.721859611552941,5.594277341642103,4.663034332433281,2.831241484565821,4.55728787510138,3.443395046942973,2.5035126380487798,3.6398190209360353,5.1779392926148855,3.5434783999595574,2.923284835753534,4.307465742706928,2.7089070134973534,2.1241095890525528,4.680141363500729,5.187801071083232,3.042055787858136,2.6575250248020765,5.123142032045907,3.108648138799638,2.78568051012096,4.317753173395928,4.383356649418797,3.6291146016740186,2.478301697685467,6.10419321171712,1.6323491293439338,4.860851223852722,3.7990022455937473,3.387770520968181,3.4413998286350465,3.198500787035122,3.4584998213787665,4.500915890535068,5.748136511018381,4.7588159568581725,2.9927885288299794,4.006300204178298,3.2988245539565098,3.5879872285420658,4.5671968496135555,2.5389006702419543,1.7259158880965426,3.65508506082946,4.842475790207648,3.8727977353392053,5.21662733458732,2.316931814802199,4.755724297725935,4.875973419354743,5.310695076901515,4.321437041264017,2.888467893890648,1.8192699832422035,2.7892335903094523,3.7906621708348354,3.9743989241796274,3.268981999158659,3.6596423713884856,5.951996141987851,3.1279357563070254,3.9992493545557752,4.994065468254969,3.7001507210961067,2.3086502002009524,5.140128209118464,3.6405186735481148,1.4964819776788132,4.000207994523335,3.700983038130027,1.6778833119276793,2.700272283296539,4.337045423634611,4.320870903887482,5.456568678621833,4.7158421992562545,5.494038968884824,4.070814778211051,3.8433269314037433,3.914975731107783,5.035968851964083,4.032576203014553,4.782056403471591,3.758556182931618,2.5709697559469658,3.3621005666229182,3.7167776335268075,4.106499446187534,4.633926159469051,4.379444116505669,5.814024268449463,2.7094898362097655,4.893704585172705,4.172575304467395,3.0689674929772655,3.654266262323529,2.9785822698830318,3.365014264848436,3.258185741590277,2.3479797376638434,3.741341375938774,4.440075037032122,3.434323382220059,3.7710606307842967,3.4551980320179467,3.7925268717966216,5.242023009820357,3.2777474185658075,4.5066157452460205,5.283972926945219,4.234156083637238,4.1623468012249925,2.927524220894954,1.7772840018066605,5.409881894537892,4.975710109701019,3.4073804108849997,2.53476678374951,3.2190866514505068,3.910718951819539,4.87855426716986,3.662877422214927,4.187541891234963,5.836508745628281,5.778487629622055,4.0865822261073745,4.117322025315157,1.596361095136548,2.6401223881681135,2.978893074977426,4.486095373615649,3.2375154316766475,5.3226130250824895,4.542219530305689,3.3021773084692785],\"xaxis\":\"x\",\"y\":[\"Group 4\",\"Group 4\",\"Group 4\",\"Group 4\",\"Group 4\",\"Group 4\",\"Group 4\",\"Group 4\",\"Group 4\",\"Group 4\",\"Group 4\",\"Group 4\",\"Group 4\",\"Group 4\",\"Group 4\",\"Group 4\",\"Group 4\",\"Group 4\",\"Group 4\",\"Group 4\",\"Group 4\",\"Group 4\",\"Group 4\",\"Group 4\",\"Group 4\",\"Group 4\",\"Group 4\",\"Group 4\",\"Group 4\",\"Group 4\",\"Group 4\",\"Group 4\",\"Group 4\",\"Group 4\",\"Group 4\",\"Group 4\",\"Group 4\",\"Group 4\",\"Group 4\",\"Group 4\",\"Group 4\",\"Group 4\",\"Group 4\",\"Group 4\",\"Group 4\",\"Group 4\",\"Group 4\",\"Group 4\",\"Group 4\",\"Group 4\",\"Group 4\",\"Group 4\",\"Group 4\",\"Group 4\",\"Group 4\",\"Group 4\",\"Group 4\",\"Group 4\",\"Group 4\",\"Group 4\",\"Group 4\",\"Group 4\",\"Group 4\",\"Group 4\",\"Group 4\",\"Group 4\",\"Group 4\",\"Group 4\",\"Group 4\",\"Group 4\",\"Group 4\",\"Group 4\",\"Group 4\",\"Group 4\",\"Group 4\",\"Group 4\",\"Group 4\",\"Group 4\",\"Group 4\",\"Group 4\",\"Group 4\",\"Group 4\",\"Group 4\",\"Group 4\",\"Group 4\",\"Group 4\",\"Group 4\",\"Group 4\",\"Group 4\",\"Group 4\",\"Group 4\",\"Group 4\",\"Group 4\",\"Group 4\",\"Group 4\",\"Group 4\",\"Group 4\",\"Group 4\",\"Group 4\",\"Group 4\",\"Group 4\",\"Group 4\",\"Group 4\",\"Group 4\",\"Group 4\",\"Group 4\",\"Group 4\",\"Group 4\",\"Group 4\",\"Group 4\",\"Group 4\",\"Group 4\",\"Group 4\",\"Group 4\",\"Group 4\",\"Group 4\",\"Group 4\",\"Group 4\",\"Group 4\",\"Group 4\",\"Group 4\",\"Group 4\",\"Group 4\",\"Group 4\",\"Group 4\",\"Group 4\",\"Group 4\",\"Group 4\",\"Group 4\",\"Group 4\",\"Group 4\",\"Group 4\",\"Group 4\",\"Group 4\",\"Group 4\",\"Group 4\",\"Group 4\",\"Group 4\",\"Group 4\",\"Group 4\",\"Group 4\",\"Group 4\",\"Group 4\",\"Group 4\",\"Group 4\",\"Group 4\",\"Group 4\",\"Group 4\",\"Group 4\",\"Group 4\",\"Group 4\",\"Group 4\",\"Group 4\",\"Group 4\",\"Group 4\",\"Group 4\",\"Group 4\",\"Group 4\",\"Group 4\",\"Group 4\",\"Group 4\",\"Group 4\",\"Group 4\",\"Group 4\",\"Group 4\",\"Group 4\",\"Group 4\",\"Group 4\",\"Group 4\",\"Group 4\",\"Group 4\",\"Group 4\",\"Group 4\",\"Group 4\",\"Group 4\",\"Group 4\",\"Group 4\",\"Group 4\",\"Group 4\",\"Group 4\",\"Group 4\",\"Group 4\",\"Group 4\",\"Group 4\",\"Group 4\",\"Group 4\",\"Group 4\",\"Group 4\",\"Group 4\",\"Group 4\",\"Group 4\",\"Group 4\",\"Group 4\",\"Group 4\",\"Group 4\",\"Group 4\",\"Group 4\",\"Group 4\",\"Group 4\",\"Group 4\"],\"yaxis\":\"y2\"}],                        {\"barmode\":\"overlay\",\"hovermode\":\"closest\",\"legend\":{\"traceorder\":\"reversed\"},\"template\":{\"data\":{\"bar\":[{\"error_x\":{\"color\":\"#2a3f5f\"},\"error_y\":{\"color\":\"#2a3f5f\"},\"marker\":{\"line\":{\"color\":\"#E5ECF6\",\"width\":0.5},\"pattern\":{\"fillmode\":\"overlay\",\"size\":10,\"solidity\":0.2}},\"type\":\"bar\"}],\"barpolar\":[{\"marker\":{\"line\":{\"color\":\"#E5ECF6\",\"width\":0.5},\"pattern\":{\"fillmode\":\"overlay\",\"size\":10,\"solidity\":0.2}},\"type\":\"barpolar\"}],\"carpet\":[{\"aaxis\":{\"endlinecolor\":\"#2a3f5f\",\"gridcolor\":\"white\",\"linecolor\":\"white\",\"minorgridcolor\":\"white\",\"startlinecolor\":\"#2a3f5f\"},\"baxis\":{\"endlinecolor\":\"#2a3f5f\",\"gridcolor\":\"white\",\"linecolor\":\"white\",\"minorgridcolor\":\"white\",\"startlinecolor\":\"#2a3f5f\"},\"type\":\"carpet\"}],\"choropleth\":[{\"colorbar\":{\"outlinewidth\":0,\"ticks\":\"\"},\"type\":\"choropleth\"}],\"contour\":[{\"colorbar\":{\"outlinewidth\":0,\"ticks\":\"\"},\"colorscale\":[[0.0,\"#0d0887\"],[0.1111111111111111,\"#46039f\"],[0.2222222222222222,\"#7201a8\"],[0.3333333333333333,\"#9c179e\"],[0.4444444444444444,\"#bd3786\"],[0.5555555555555556,\"#d8576b\"],[0.6666666666666666,\"#ed7953\"],[0.7777777777777778,\"#fb9f3a\"],[0.8888888888888888,\"#fdca26\"],[1.0,\"#f0f921\"]],\"type\":\"contour\"}],\"contourcarpet\":[{\"colorbar\":{\"outlinewidth\":0,\"ticks\":\"\"},\"type\":\"contourcarpet\"}],\"heatmap\":[{\"colorbar\":{\"outlinewidth\":0,\"ticks\":\"\"},\"colorscale\":[[0.0,\"#0d0887\"],[0.1111111111111111,\"#46039f\"],[0.2222222222222222,\"#7201a8\"],[0.3333333333333333,\"#9c179e\"],[0.4444444444444444,\"#bd3786\"],[0.5555555555555556,\"#d8576b\"],[0.6666666666666666,\"#ed7953\"],[0.7777777777777778,\"#fb9f3a\"],[0.8888888888888888,\"#fdca26\"],[1.0,\"#f0f921\"]],\"type\":\"heatmap\"}],\"heatmapgl\":[{\"colorbar\":{\"outlinewidth\":0,\"ticks\":\"\"},\"colorscale\":[[0.0,\"#0d0887\"],[0.1111111111111111,\"#46039f\"],[0.2222222222222222,\"#7201a8\"],[0.3333333333333333,\"#9c179e\"],[0.4444444444444444,\"#bd3786\"],[0.5555555555555556,\"#d8576b\"],[0.6666666666666666,\"#ed7953\"],[0.7777777777777778,\"#fb9f3a\"],[0.8888888888888888,\"#fdca26\"],[1.0,\"#f0f921\"]],\"type\":\"heatmapgl\"}],\"histogram\":[{\"marker\":{\"pattern\":{\"fillmode\":\"overlay\",\"size\":10,\"solidity\":0.2}},\"type\":\"histogram\"}],\"histogram2d\":[{\"colorbar\":{\"outlinewidth\":0,\"ticks\":\"\"},\"colorscale\":[[0.0,\"#0d0887\"],[0.1111111111111111,\"#46039f\"],[0.2222222222222222,\"#7201a8\"],[0.3333333333333333,\"#9c179e\"],[0.4444444444444444,\"#bd3786\"],[0.5555555555555556,\"#d8576b\"],[0.6666666666666666,\"#ed7953\"],[0.7777777777777778,\"#fb9f3a\"],[0.8888888888888888,\"#fdca26\"],[1.0,\"#f0f921\"]],\"type\":\"histogram2d\"}],\"histogram2dcontour\":[{\"colorbar\":{\"outlinewidth\":0,\"ticks\":\"\"},\"colorscale\":[[0.0,\"#0d0887\"],[0.1111111111111111,\"#46039f\"],[0.2222222222222222,\"#7201a8\"],[0.3333333333333333,\"#9c179e\"],[0.4444444444444444,\"#bd3786\"],[0.5555555555555556,\"#d8576b\"],[0.6666666666666666,\"#ed7953\"],[0.7777777777777778,\"#fb9f3a\"],[0.8888888888888888,\"#fdca26\"],[1.0,\"#f0f921\"]],\"type\":\"histogram2dcontour\"}],\"mesh3d\":[{\"colorbar\":{\"outlinewidth\":0,\"ticks\":\"\"},\"type\":\"mesh3d\"}],\"parcoords\":[{\"line\":{\"colorbar\":{\"outlinewidth\":0,\"ticks\":\"\"}},\"type\":\"parcoords\"}],\"pie\":[{\"automargin\":true,\"type\":\"pie\"}],\"scatter\":[{\"marker\":{\"colorbar\":{\"outlinewidth\":0,\"ticks\":\"\"}},\"type\":\"scatter\"}],\"scatter3d\":[{\"line\":{\"colorbar\":{\"outlinewidth\":0,\"ticks\":\"\"}},\"marker\":{\"colorbar\":{\"outlinewidth\":0,\"ticks\":\"\"}},\"type\":\"scatter3d\"}],\"scattercarpet\":[{\"marker\":{\"colorbar\":{\"outlinewidth\":0,\"ticks\":\"\"}},\"type\":\"scattercarpet\"}],\"scattergeo\":[{\"marker\":{\"colorbar\":{\"outlinewidth\":0,\"ticks\":\"\"}},\"type\":\"scattergeo\"}],\"scattergl\":[{\"marker\":{\"colorbar\":{\"outlinewidth\":0,\"ticks\":\"\"}},\"type\":\"scattergl\"}],\"scattermapbox\":[{\"marker\":{\"colorbar\":{\"outlinewidth\":0,\"ticks\":\"\"}},\"type\":\"scattermapbox\"}],\"scatterpolar\":[{\"marker\":{\"colorbar\":{\"outlinewidth\":0,\"ticks\":\"\"}},\"type\":\"scatterpolar\"}],\"scatterpolargl\":[{\"marker\":{\"colorbar\":{\"outlinewidth\":0,\"ticks\":\"\"}},\"type\":\"scatterpolargl\"}],\"scatterternary\":[{\"marker\":{\"colorbar\":{\"outlinewidth\":0,\"ticks\":\"\"}},\"type\":\"scatterternary\"}],\"surface\":[{\"colorbar\":{\"outlinewidth\":0,\"ticks\":\"\"},\"colorscale\":[[0.0,\"#0d0887\"],[0.1111111111111111,\"#46039f\"],[0.2222222222222222,\"#7201a8\"],[0.3333333333333333,\"#9c179e\"],[0.4444444444444444,\"#bd3786\"],[0.5555555555555556,\"#d8576b\"],[0.6666666666666666,\"#ed7953\"],[0.7777777777777778,\"#fb9f3a\"],[0.8888888888888888,\"#fdca26\"],[1.0,\"#f0f921\"]],\"type\":\"surface\"}],\"table\":[{\"cells\":{\"fill\":{\"color\":\"#EBF0F8\"},\"line\":{\"color\":\"white\"}},\"header\":{\"fill\":{\"color\":\"#C8D4E3\"},\"line\":{\"color\":\"white\"}},\"type\":\"table\"}]},\"layout\":{\"annotationdefaults\":{\"arrowcolor\":\"#2a3f5f\",\"arrowhead\":0,\"arrowwidth\":1},\"autotypenumbers\":\"strict\",\"coloraxis\":{\"colorbar\":{\"outlinewidth\":0,\"ticks\":\"\"}},\"colorscale\":{\"diverging\":[[0,\"#8e0152\"],[0.1,\"#c51b7d\"],[0.2,\"#de77ae\"],[0.3,\"#f1b6da\"],[0.4,\"#fde0ef\"],[0.5,\"#f7f7f7\"],[0.6,\"#e6f5d0\"],[0.7,\"#b8e186\"],[0.8,\"#7fbc41\"],[0.9,\"#4d9221\"],[1,\"#276419\"]],\"sequential\":[[0.0,\"#0d0887\"],[0.1111111111111111,\"#46039f\"],[0.2222222222222222,\"#7201a8\"],[0.3333333333333333,\"#9c179e\"],[0.4444444444444444,\"#bd3786\"],[0.5555555555555556,\"#d8576b\"],[0.6666666666666666,\"#ed7953\"],[0.7777777777777778,\"#fb9f3a\"],[0.8888888888888888,\"#fdca26\"],[1.0,\"#f0f921\"]],\"sequentialminus\":[[0.0,\"#0d0887\"],[0.1111111111111111,\"#46039f\"],[0.2222222222222222,\"#7201a8\"],[0.3333333333333333,\"#9c179e\"],[0.4444444444444444,\"#bd3786\"],[0.5555555555555556,\"#d8576b\"],[0.6666666666666666,\"#ed7953\"],[0.7777777777777778,\"#fb9f3a\"],[0.8888888888888888,\"#fdca26\"],[1.0,\"#f0f921\"]]},\"colorway\":[\"#636efa\",\"#EF553B\",\"#00cc96\",\"#ab63fa\",\"#FFA15A\",\"#19d3f3\",\"#FF6692\",\"#B6E880\",\"#FF97FF\",\"#FECB52\"],\"font\":{\"color\":\"#2a3f5f\"},\"geo\":{\"bgcolor\":\"white\",\"lakecolor\":\"white\",\"landcolor\":\"#E5ECF6\",\"showlakes\":true,\"showland\":true,\"subunitcolor\":\"white\"},\"hoverlabel\":{\"align\":\"left\"},\"hovermode\":\"closest\",\"mapbox\":{\"style\":\"light\"},\"paper_bgcolor\":\"white\",\"plot_bgcolor\":\"#E5ECF6\",\"polar\":{\"angularaxis\":{\"gridcolor\":\"white\",\"linecolor\":\"white\",\"ticks\":\"\"},\"bgcolor\":\"#E5ECF6\",\"radialaxis\":{\"gridcolor\":\"white\",\"linecolor\":\"white\",\"ticks\":\"\"}},\"scene\":{\"xaxis\":{\"backgroundcolor\":\"#E5ECF6\",\"gridcolor\":\"white\",\"gridwidth\":2,\"linecolor\":\"white\",\"showbackground\":true,\"ticks\":\"\",\"zerolinecolor\":\"white\"},\"yaxis\":{\"backgroundcolor\":\"#E5ECF6\",\"gridcolor\":\"white\",\"gridwidth\":2,\"linecolor\":\"white\",\"showbackground\":true,\"ticks\":\"\",\"zerolinecolor\":\"white\"},\"zaxis\":{\"backgroundcolor\":\"#E5ECF6\",\"gridcolor\":\"white\",\"gridwidth\":2,\"linecolor\":\"white\",\"showbackground\":true,\"ticks\":\"\",\"zerolinecolor\":\"white\"}},\"shapedefaults\":{\"line\":{\"color\":\"#2a3f5f\"}},\"ternary\":{\"aaxis\":{\"gridcolor\":\"white\",\"linecolor\":\"white\",\"ticks\":\"\"},\"baxis\":{\"gridcolor\":\"white\",\"linecolor\":\"white\",\"ticks\":\"\"},\"bgcolor\":\"#E5ECF6\",\"caxis\":{\"gridcolor\":\"white\",\"linecolor\":\"white\",\"ticks\":\"\"}},\"title\":{\"x\":0.05},\"xaxis\":{\"automargin\":true,\"gridcolor\":\"white\",\"linecolor\":\"white\",\"ticks\":\"\",\"title\":{\"standoff\":15},\"zerolinecolor\":\"white\",\"zerolinewidth\":2},\"yaxis\":{\"automargin\":true,\"gridcolor\":\"white\",\"linecolor\":\"white\",\"ticks\":\"\",\"title\":{\"standoff\":15},\"zerolinecolor\":\"white\",\"zerolinewidth\":2}}},\"xaxis\":{\"anchor\":\"y2\",\"domain\":[0.0,1.0],\"zeroline\":false},\"yaxis\":{\"anchor\":\"free\",\"domain\":[0.35,1],\"position\":0.0},\"yaxis2\":{\"anchor\":\"x\",\"domain\":[0,0.25],\"dtick\":1,\"showticklabels\":false}},                        {\"responsive\": true}                    ).then(function(){\n",
       "                            \n",
       "var gd = document.getElementById('098d34c8-8f7a-4517-b01e-dba667ffa58d');\n",
       "var x = new MutationObserver(function (mutations, observer) {{\n",
       "        var display = window.getComputedStyle(gd).display;\n",
       "        if (!display || display === 'none') {{\n",
       "            console.log([gd, 'removed!']);\n",
       "            Plotly.purge(gd);\n",
       "            observer.disconnect();\n",
       "        }}\n",
       "}});\n",
       "\n",
       "// Listen for the removal of the full notebook cells\n",
       "var notebookContainer = gd.closest('#notebook-container');\n",
       "if (notebookContainer) {{\n",
       "    x.observe(notebookContainer, {childList: true});\n",
       "}}\n",
       "\n",
       "// Listen for the clearing of the current output cell\n",
       "var outputEl = gd.closest('.output');\n",
       "if (outputEl) {{\n",
       "    x.observe(outputEl, {childList: true});\n",
       "}}\n",
       "\n",
       "                        })                };                });            </script>        </div>"
      ]
     },
     "metadata": {},
     "output_type": "display_data"
    }
   ],
   "source": [
    "import plotly.figure_factory as ff\n",
    "import numpy as np\n",
    "\n",
    "# Add histogram data\n",
    "x1 = np.random.randn(200)-2\n",
    "x2 = np.random.randn(200)\n",
    "x3 = np.random.randn(200)+2\n",
    "x4 = np.random.randn(200)+4\n",
    "\n",
    "# Group data together\n",
    "hist_data = [x1, x2, x3, x4]\n",
    "\n",
    "group_labels = ['Group 1', 'Group 2', 'Group 3', 'Group 4']\n",
    "\n",
    "# Create distplot with custom bin_size\n",
    "fig = ff.create_distplot(hist_data, group_labels, bin_size=[.1, .25, .5, 1])\n",
    "fig.show()"
   ]
  },
  {
   "cell_type": "code",
   "execution_count": 49,
   "metadata": {},
   "outputs": [
    {
     "data": {
      "text/html": [
       "<div>\n",
       "<style scoped>\n",
       "    .dataframe tbody tr th:only-of-type {\n",
       "        vertical-align: middle;\n",
       "    }\n",
       "\n",
       "    .dataframe tbody tr th {\n",
       "        vertical-align: top;\n",
       "    }\n",
       "\n",
       "    .dataframe thead th {\n",
       "        text-align: right;\n",
       "    }\n",
       "</style>\n",
       "<table border=\"1\" class=\"dataframe\">\n",
       "  <thead>\n",
       "    <tr style=\"text-align: right;\">\n",
       "      <th>idx</th>\n",
       "      <th>IID</th>\n",
       "      <th>1KG_22_19435270.GType</th>\n",
       "      <th>1KG_22_19766749.GType</th>\n",
       "      <th>1KG_22_24530438.GType</th>\n",
       "      <th>1KG_22_24909316.GType</th>\n",
       "      <th>1KG_22_26286764.GType</th>\n",
       "      <th>1KG_22_26298671.GType</th>\n",
       "      <th>1KG_22_30857665.GType</th>\n",
       "      <th>1KG_22_36681998.GType</th>\n",
       "      <th>1KG_22_38494134.GType</th>\n",
       "      <th>...</th>\n",
       "      <th>Variant61228.R</th>\n",
       "      <th>Variant61231.R</th>\n",
       "      <th>Variant61234.R</th>\n",
       "      <th>Variant61237.R</th>\n",
       "      <th>Variant61242.R</th>\n",
       "      <th>Variant61244.R</th>\n",
       "      <th>Variant61245.R</th>\n",
       "      <th>Variant61246.R</th>\n",
       "      <th>Variant61252.R</th>\n",
       "      <th>Variant61253.R</th>\n",
       "    </tr>\n",
       "  </thead>\n",
       "  <tbody>\n",
       "    <tr>\n",
       "      <th>0</th>\n",
       "      <td>FS04821313_FO0000275_FUS_R495*_A01_17_A01</td>\n",
       "      <td>BB</td>\n",
       "      <td>BB</td>\n",
       "      <td>BB</td>\n",
       "      <td>BB</td>\n",
       "      <td>AA</td>\n",
       "      <td>AA</td>\n",
       "      <td>AA</td>\n",
       "      <td>AA</td>\n",
       "      <td>AA</td>\n",
       "      <td>...</td>\n",
       "      <td>0.430500</td>\n",
       "      <td>0.361874</td>\n",
       "      <td>0.540405</td>\n",
       "      <td>0.626420</td>\n",
       "      <td>0.957749</td>\n",
       "      <td>0.733668</td>\n",
       "      <td>0.795464</td>\n",
       "      <td>0.701761</td>\n",
       "      <td>0.470309</td>\n",
       "      <td>0.569939</td>\n",
       "    </tr>\n",
       "    <tr>\n",
       "      <th>1</th>\n",
       "      <td>FS04821314_FO0000152_MAPT_R317W_A08_17_B01</td>\n",
       "      <td>BB</td>\n",
       "      <td>BB</td>\n",
       "      <td>BB</td>\n",
       "      <td>BB</td>\n",
       "      <td>AA</td>\n",
       "      <td>AA</td>\n",
       "      <td>AA</td>\n",
       "      <td>AA</td>\n",
       "      <td>AA</td>\n",
       "      <td>...</td>\n",
       "      <td>0.415114</td>\n",
       "      <td>0.329952</td>\n",
       "      <td>0.549609</td>\n",
       "      <td>0.571324</td>\n",
       "      <td>0.932040</td>\n",
       "      <td>0.671134</td>\n",
       "      <td>0.730768</td>\n",
       "      <td>0.735666</td>\n",
       "      <td>0.476564</td>\n",
       "      <td>0.603078</td>\n",
       "    </tr>\n",
       "    <tr>\n",
       "      <th>2</th>\n",
       "      <td>FS04821315_FO0000163_MAPT_R317W_G09_17_B12</td>\n",
       "      <td>BB</td>\n",
       "      <td>BB</td>\n",
       "      <td>BB</td>\n",
       "      <td>BB</td>\n",
       "      <td>AA</td>\n",
       "      <td>AA</td>\n",
       "      <td>AA</td>\n",
       "      <td>AA</td>\n",
       "      <td>AA</td>\n",
       "      <td>...</td>\n",
       "      <td>0.379468</td>\n",
       "      <td>0.420835</td>\n",
       "      <td>0.541583</td>\n",
       "      <td>0.608452</td>\n",
       "      <td>0.976639</td>\n",
       "      <td>0.641460</td>\n",
       "      <td>0.726527</td>\n",
       "      <td>0.748987</td>\n",
       "      <td>0.439781</td>\n",
       "      <td>0.518233</td>\n",
       "    </tr>\n",
       "    <tr>\n",
       "      <th>3</th>\n",
       "      <td>FS04821316_FO0000176_ANG_K41I_A04_17_D01</td>\n",
       "      <td>BB</td>\n",
       "      <td>BB</td>\n",
       "      <td>BB</td>\n",
       "      <td>BB</td>\n",
       "      <td>AA</td>\n",
       "      <td>AA</td>\n",
       "      <td>AA</td>\n",
       "      <td>AA</td>\n",
       "      <td>AA</td>\n",
       "      <td>...</td>\n",
       "      <td>0.462127</td>\n",
       "      <td>0.387539</td>\n",
       "      <td>0.521502</td>\n",
       "      <td>0.639255</td>\n",
       "      <td>0.965216</td>\n",
       "      <td>0.699769</td>\n",
       "      <td>0.735392</td>\n",
       "      <td>0.791597</td>\n",
       "      <td>0.410290</td>\n",
       "      <td>0.626747</td>\n",
       "    </tr>\n",
       "    <tr>\n",
       "      <th>4</th>\n",
       "      <td>FS04821317_FO0000188_SNCB_P123H_B08_17_E01</td>\n",
       "      <td>BB</td>\n",
       "      <td>BB</td>\n",
       "      <td>BB</td>\n",
       "      <td>BB</td>\n",
       "      <td>AA</td>\n",
       "      <td>AA</td>\n",
       "      <td>AA</td>\n",
       "      <td>AA</td>\n",
       "      <td>AA</td>\n",
       "      <td>...</td>\n",
       "      <td>0.469232</td>\n",
       "      <td>0.366763</td>\n",
       "      <td>0.586054</td>\n",
       "      <td>0.579106</td>\n",
       "      <td>1.041958</td>\n",
       "      <td>0.677856</td>\n",
       "      <td>0.758849</td>\n",
       "      <td>0.712157</td>\n",
       "      <td>0.468440</td>\n",
       "      <td>0.582567</td>\n",
       "    </tr>\n",
       "    <tr>\n",
       "      <th>...</th>\n",
       "      <td>...</td>\n",
       "      <td>...</td>\n",
       "      <td>...</td>\n",
       "      <td>...</td>\n",
       "      <td>...</td>\n",
       "      <td>...</td>\n",
       "      <td>...</td>\n",
       "      <td>...</td>\n",
       "      <td>...</td>\n",
       "      <td>...</td>\n",
       "      <td>...</td>\n",
       "      <td>...</td>\n",
       "      <td>...</td>\n",
       "      <td>...</td>\n",
       "      <td>...</td>\n",
       "      <td>...</td>\n",
       "      <td>...</td>\n",
       "      <td>...</td>\n",
       "      <td>...</td>\n",
       "      <td>...</td>\n",
       "      <td>...</td>\n",
       "    </tr>\n",
       "    <tr>\n",
       "      <th>91</th>\n",
       "      <td>FS04821404_FO0000171_APP_A673T_D09_17_C08</td>\n",
       "      <td>BB</td>\n",
       "      <td>BB</td>\n",
       "      <td>BB</td>\n",
       "      <td>BB</td>\n",
       "      <td>AA</td>\n",
       "      <td>AA</td>\n",
       "      <td>AA</td>\n",
       "      <td>AA</td>\n",
       "      <td>AA</td>\n",
       "      <td>...</td>\n",
       "      <td>0.359078</td>\n",
       "      <td>0.360436</td>\n",
       "      <td>0.449827</td>\n",
       "      <td>0.581284</td>\n",
       "      <td>1.042775</td>\n",
       "      <td>0.702279</td>\n",
       "      <td>0.757134</td>\n",
       "      <td>0.718126</td>\n",
       "      <td>0.447970</td>\n",
       "      <td>0.575152</td>\n",
       "    </tr>\n",
       "    <tr>\n",
       "      <th>92</th>\n",
       "      <td>FS04821405_FO0000172_APP_A673T_D12_17_C09</td>\n",
       "      <td>BB</td>\n",
       "      <td>BB</td>\n",
       "      <td>BB</td>\n",
       "      <td>BB</td>\n",
       "      <td>AA</td>\n",
       "      <td>AA</td>\n",
       "      <td>AA</td>\n",
       "      <td>AA</td>\n",
       "      <td>AA</td>\n",
       "      <td>...</td>\n",
       "      <td>0.365155</td>\n",
       "      <td>0.359822</td>\n",
       "      <td>0.513683</td>\n",
       "      <td>0.557322</td>\n",
       "      <td>0.872211</td>\n",
       "      <td>0.649222</td>\n",
       "      <td>0.692903</td>\n",
       "      <td>0.726661</td>\n",
       "      <td>0.427236</td>\n",
       "      <td>0.530507</td>\n",
       "    </tr>\n",
       "    <tr>\n",
       "      <th>93</th>\n",
       "      <td>FS04821406_FO0000173_APP_A673T_F06_17_C10</td>\n",
       "      <td>BB</td>\n",
       "      <td>BB</td>\n",
       "      <td>BB</td>\n",
       "      <td>BB</td>\n",
       "      <td>AA</td>\n",
       "      <td>AA</td>\n",
       "      <td>AA</td>\n",
       "      <td>AA</td>\n",
       "      <td>AA</td>\n",
       "      <td>...</td>\n",
       "      <td>0.329993</td>\n",
       "      <td>0.388541</td>\n",
       "      <td>0.518266</td>\n",
       "      <td>0.577355</td>\n",
       "      <td>0.891683</td>\n",
       "      <td>0.711396</td>\n",
       "      <td>0.780114</td>\n",
       "      <td>0.710056</td>\n",
       "      <td>0.407510</td>\n",
       "      <td>0.513913</td>\n",
       "    </tr>\n",
       "    <tr>\n",
       "      <th>94</th>\n",
       "      <td>FS04821407_FO0000174_APP_A673T_H08_17_C11</td>\n",
       "      <td>BB</td>\n",
       "      <td>BB</td>\n",
       "      <td>BB</td>\n",
       "      <td>BB</td>\n",
       "      <td>AA</td>\n",
       "      <td>AA</td>\n",
       "      <td>AA</td>\n",
       "      <td>AA</td>\n",
       "      <td>AA</td>\n",
       "      <td>...</td>\n",
       "      <td>0.354541</td>\n",
       "      <td>0.322347</td>\n",
       "      <td>0.421428</td>\n",
       "      <td>0.515936</td>\n",
       "      <td>0.894079</td>\n",
       "      <td>0.712438</td>\n",
       "      <td>0.747326</td>\n",
       "      <td>0.663459</td>\n",
       "      <td>0.403457</td>\n",
       "      <td>0.479983</td>\n",
       "    </tr>\n",
       "    <tr>\n",
       "      <th>95</th>\n",
       "      <td>PositiveControl_1_NA_NA</td>\n",
       "      <td>BB</td>\n",
       "      <td>BB</td>\n",
       "      <td>BB</td>\n",
       "      <td>BB</td>\n",
       "      <td>AA</td>\n",
       "      <td>AA</td>\n",
       "      <td>AA</td>\n",
       "      <td>AA</td>\n",
       "      <td>AA</td>\n",
       "      <td>...</td>\n",
       "      <td>0.182542</td>\n",
       "      <td>0.116625</td>\n",
       "      <td>0.200661</td>\n",
       "      <td>0.187479</td>\n",
       "      <td>0.391974</td>\n",
       "      <td>0.271091</td>\n",
       "      <td>0.502401</td>\n",
       "      <td>0.301212</td>\n",
       "      <td>0.207442</td>\n",
       "      <td>0.140064</td>\n",
       "    </tr>\n",
       "  </tbody>\n",
       "</table>\n",
       "<p>96 rows × 77986 columns</p>\n",
       "</div>"
      ],
      "text/plain": [
       "idx                                         IID 1KG_22_19435270.GType  \\\n",
       "0     FS04821313_FO0000275_FUS_R495*_A01_17_A01                    BB   \n",
       "1    FS04821314_FO0000152_MAPT_R317W_A08_17_B01                    BB   \n",
       "2    FS04821315_FO0000163_MAPT_R317W_G09_17_B12                    BB   \n",
       "3      FS04821316_FO0000176_ANG_K41I_A04_17_D01                    BB   \n",
       "4    FS04821317_FO0000188_SNCB_P123H_B08_17_E01                    BB   \n",
       "..                                          ...                   ...   \n",
       "91    FS04821404_FO0000171_APP_A673T_D09_17_C08                    BB   \n",
       "92    FS04821405_FO0000172_APP_A673T_D12_17_C09                    BB   \n",
       "93    FS04821406_FO0000173_APP_A673T_F06_17_C10                    BB   \n",
       "94    FS04821407_FO0000174_APP_A673T_H08_17_C11                    BB   \n",
       "95                      PositiveControl_1_NA_NA                    BB   \n",
       "\n",
       "idx 1KG_22_19766749.GType 1KG_22_24530438.GType 1KG_22_24909316.GType  \\\n",
       "0                      BB                    BB                    BB   \n",
       "1                      BB                    BB                    BB   \n",
       "2                      BB                    BB                    BB   \n",
       "3                      BB                    BB                    BB   \n",
       "4                      BB                    BB                    BB   \n",
       "..                    ...                   ...                   ...   \n",
       "91                     BB                    BB                    BB   \n",
       "92                     BB                    BB                    BB   \n",
       "93                     BB                    BB                    BB   \n",
       "94                     BB                    BB                    BB   \n",
       "95                     BB                    BB                    BB   \n",
       "\n",
       "idx 1KG_22_26286764.GType 1KG_22_26298671.GType 1KG_22_30857665.GType  \\\n",
       "0                      AA                    AA                    AA   \n",
       "1                      AA                    AA                    AA   \n",
       "2                      AA                    AA                    AA   \n",
       "3                      AA                    AA                    AA   \n",
       "4                      AA                    AA                    AA   \n",
       "..                    ...                   ...                   ...   \n",
       "91                     AA                    AA                    AA   \n",
       "92                     AA                    AA                    AA   \n",
       "93                     AA                    AA                    AA   \n",
       "94                     AA                    AA                    AA   \n",
       "95                     AA                    AA                    AA   \n",
       "\n",
       "idx 1KG_22_36681998.GType 1KG_22_38494134.GType  ... Variant61228.R  \\\n",
       "0                      AA                    AA  ...       0.430500   \n",
       "1                      AA                    AA  ...       0.415114   \n",
       "2                      AA                    AA  ...       0.379468   \n",
       "3                      AA                    AA  ...       0.462127   \n",
       "4                      AA                    AA  ...       0.469232   \n",
       "..                    ...                   ...  ...            ...   \n",
       "91                     AA                    AA  ...       0.359078   \n",
       "92                     AA                    AA  ...       0.365155   \n",
       "93                     AA                    AA  ...       0.329993   \n",
       "94                     AA                    AA  ...       0.354541   \n",
       "95                     AA                    AA  ...       0.182542   \n",
       "\n",
       "idx Variant61231.R Variant61234.R Variant61237.R Variant61242.R  \\\n",
       "0         0.361874       0.540405       0.626420       0.957749   \n",
       "1         0.329952       0.549609       0.571324       0.932040   \n",
       "2         0.420835       0.541583       0.608452       0.976639   \n",
       "3         0.387539       0.521502       0.639255       0.965216   \n",
       "4         0.366763       0.586054       0.579106       1.041958   \n",
       "..             ...            ...            ...            ...   \n",
       "91        0.360436       0.449827       0.581284       1.042775   \n",
       "92        0.359822       0.513683       0.557322       0.872211   \n",
       "93        0.388541       0.518266       0.577355       0.891683   \n",
       "94        0.322347       0.421428       0.515936       0.894079   \n",
       "95        0.116625       0.200661       0.187479       0.391974   \n",
       "\n",
       "idx Variant61244.R Variant61245.R Variant61246.R Variant61252.R Variant61253.R  \n",
       "0         0.733668       0.795464       0.701761       0.470309       0.569939  \n",
       "1         0.671134       0.730768       0.735666       0.476564       0.603078  \n",
       "2         0.641460       0.726527       0.748987       0.439781       0.518233  \n",
       "3         0.699769       0.735392       0.791597       0.410290       0.626747  \n",
       "4         0.677856       0.758849       0.712157       0.468440       0.582567  \n",
       "..             ...            ...            ...            ...            ...  \n",
       "91        0.702279       0.757134       0.718126       0.447970       0.575152  \n",
       "92        0.649222       0.692903       0.726661       0.427236       0.530507  \n",
       "93        0.711396       0.780114       0.710056       0.407510       0.513913  \n",
       "94        0.712438       0.747326       0.663459       0.403457       0.479983  \n",
       "95        0.271091       0.502401       0.301212       0.207442       0.140064  \n",
       "\n",
       "[96 rows x 77986 columns]"
      ]
     },
     "execution_count": 49,
     "metadata": {},
     "output_type": "execute_result"
    }
   ],
   "source": [
    "cb_df"
   ]
  },
  {
   "cell_type": "code",
   "execution_count": null,
   "metadata": {},
   "outputs": [],
   "source": []
  },
  {
   "cell_type": "code",
   "execution_count": null,
   "metadata": {},
   "outputs": [],
   "source": []
  },
  {
   "cell_type": "code",
   "execution_count": null,
   "metadata": {},
   "outputs": [],
   "source": [
    "from sklearn.model_selection import train_test_split\n",
    "from sklearn.mixture import GaussianMixture\n",
    "\n",
    "gtypes_map = {\n",
    "    'AA':'0',\n",
    "    'AB':'1',\n",
    "    'BA':'1',\n",
    "    'BB':'2',\n",
    "    }\n",
    "\n",
    "gtypes_map_rev = {\n",
    "    '0':'AA',\n",
    "    '1':'AB',\n",
    "    '2':'BB'\n",
    "}\n",
    "\n",
    "# samples to train and test on\n",
    "to_gmm_samples = snp_for_gmm_df.loc[snp_for_gmm_df[geno_col]!='NC']\n",
    "# to_gmm_samples.loc[:,'gtype'] = np.where(to_gmm_samples.loc[:, geno_col]=='BA', 'AB', to_gmm_samples.loc[:, geno_col])\n",
    "\n",
    "# samples to predict\n",
    "to_pred_samples = snp_for_gmm_df.loc[snp_for_gmm_df[geno_col]=='NC']\n",
    "\n",
    "X = to_gmm_samples.loc[:,[theta_col, r_col]]\n",
    "y = np.where(to_gmm_samples.loc[:, geno_col]=='BA', 'AB', to_gmm_samples.loc[:, geno_col])\n",
    "y = to_gmm_samples.loc[:,geno_col].replace(gtypes_map)\n",
    "\n",
    "x_pred = to_pred_samples.loc[:,[theta_col, r_col]]\n",
    "# n_classes = len(np.unique(y))\n",
    "classes = np.unique(y)\n",
    "\n",
    "gmm = GaussianMixture(\n",
    "        n_components=n_components,\n",
    "        covariance_type=\"diag\",\n",
    "        random_state = 10).fit(X)\n",
    "\n",
    "gmm.means_ = np.array([X[y == i].mean(axis=0) for i in classes])\n",
    "\n",
    "gmm.fit(X)\n",
    "y_pred = gmm.predict(x_pred)\n",
    "y_pred"
   ]
  },
  {
   "cell_type": "code",
   "execution_count": 36,
   "metadata": {},
   "outputs": [
    {
     "data": {
      "text/plain": [
       "0.896737899999998"
      ]
     },
     "execution_count": 36,
     "metadata": {},
     "output_type": "execute_result"
    }
   ],
   "source": [
    "# import math\n",
    "# position = gmm.means_\n",
    "# covariances = gmm.covariances_\n",
    "# w = gmm.weights_\n",
    "\n",
    "# position[0][0]\n",
    "\n",
    "# def ellipse(x_center=0, y_center=0, ax1 = [1, 0],  ax2 = [0,1], a=1, b =1,  N=100):\n",
    "#    # x_center, y_center the coordinates of ellipse center\n",
    "#    # ax1 ax2 two orthonormal vectors representing the ellipse axis directions\n",
    "#    # a, b the ellipse parameters\n",
    "#    if np.linalg.norm(ax1) != 1 or np.linalg.norm(ax2) != 1:\n",
    "#        raise ValueError('ax1, ax2 must be unit vectors')\n",
    "#    if  abs(np.dot(ax1, ax2)) > 1e-06:\n",
    "#        raise ValueError('ax1, ax2 must be orthogonal vectors')\n",
    "#    #rotation matrix   \n",
    "#    R = np.array([ax1, ax2]).T\n",
    "#    if np.linalg.det(R) <0: \n",
    "#        raise ValueError(\"the det(R) must be positive to get a  positively oriented ellipse reference frame\")\n",
    "#    t = np.linspace(0, 2*math.pi, N)\n",
    "#    #ellipse parameterization with respect to a system of axes of directions a1, a2\n",
    "#    xs = a * math.cos(t)\n",
    "#    ys = b * math.sin(t)\n",
    "   \n",
    "#    # coordinate of the  ellipse points with respect to the system of axes [1, 0], [0,1] with origin (0,0)\n",
    "#    xp, yp = np.dot(R, [xs, ys])\n",
    "#    x = xp + x_center \n",
    "#    y = yp + y_center\n",
    "#    return x, y\n",
    "\n",
    "\n",
    "# ellipse(x_center=position[0], y_center=position[1])"
   ]
  },
  {
   "cell_type": "code",
   "execution_count": 11,
   "metadata": {},
   "outputs": [
    {
     "name": "stdout",
     "output_type": "stream",
     "text": [
      "39\n"
     ]
    }
   ],
   "source": [
    "# snp_list = gtype_df.idx\n",
    "# snps_of_interest = list()\n",
    "# count=0\n",
    "# for snp in snp_list:\n",
    "#     if set(['NC','AA','BB']).issubset(list(GType_transposed_df[snp].unique())):\n",
    "#         vc = GType_transposed_df[snp].value_counts()\n",
    "#         # print(vc)\n",
    "#         snps_of_interest.append(snp)\n",
    "#         count+=1\n",
    "       \n",
    "# print(count)"
   ]
  },
  {
   "cell_type": "code",
   "execution_count": 13,
   "metadata": {},
   "outputs": [],
   "source": [
    "# # flag_df[(flag_df.maf>0.03) & (flag_df.maf<0.5)\n",
    "# snps_of_interest_df = pd.DataFrame({'snp':snps_of_interest})\n",
    "# snps_of_interest_df.loc[:,'snp'] = snps_of_interest_df.loc[:,'snp'].str.replace('.GType','',regex=False) \n",
    "# snps_of_interest_df.to_csv('../data/testing_snps_of_interest.csv', index=False)"
   ]
  },
  {
   "cell_type": "code",
   "execution_count": null,
   "metadata": {},
   "outputs": [],
   "source": []
  },
  {
   "cell_type": "code",
   "execution_count": 26,
   "metadata": {},
   "outputs": [],
   "source": [
    "# Chop out to GType, Score and Theta dataframes.\n",
    "flag_maf=0.01\n",
    "flag_gentrain=0.5\n",
    "report = report_in.copy()\n",
    "Name_df = report[['Name']].copy()\n",
    "GType_df = report.loc[:, report.columns.str.endswith(\".GType\")]\n",
    "Theta_df = report.loc[:, report.columns.str.endswith(\".Theta\")]\n",
    "R_df = report.loc[:, report.columns.str.endswith(\".R\")]\n",
    "\n",
    "Name_df['Name.GType'] = Name_df.loc[:,'Name'] + \".GType\"\n",
    "Name_df['Name.Theta'] = Name_df.loc[:,'Name'] + \".Theta\"\n",
    "Name_df['Name.R'] = Name_df.loc[:,'Name'] + \".R\"\n",
    "\n",
    "# Merge names plus data types.\n",
    "Name_GType_df = pd.concat([Name_df, GType_df], axis=1).rename(columns={\"Name.GType\":\"idx\"}).drop(columns=['Name', 'Name.Theta', 'Name.R'])\n",
    "Name_GType_df.columns = Name_GType_df.columns.str.replace(\".GType\", \"\", regex=False)\n",
    "Name_GType_df_final = Name_GType_df.set_index('idx')\n",
    "\n",
    "Name_Theta_df = pd.concat([Name_df, Theta_df], axis=1).rename(columns={\"Name.Theta\": \"idx\"}).set_index('idx').drop(columns=['Name', 'Name.GType', 'Name.R'])\n",
    "Name_Theta_df.columns = Name_Theta_df.columns.str.replace(\".Theta\", \"\", regex=False)\n",
    "\n",
    "Name_R_df = pd.concat([Name_df, R_df], axis=1).rename(columns={\"Name.R\":\"idx\"}).set_index('idx').drop(columns=['Name', 'Name.Theta', 'Name.GType'])\n",
    "Name_R_df.columns = Name_R_df.columns.str.replace(\".R\", \"\", regex=False)\n",
    "\n",
    "#  Transpose the data frames and make the names of the variants plus the suffixes the columns.\n",
    "GType_transposed_df = Name_GType_df_final.transpose()\n",
    "Theta_transposed_df = Name_Theta_df.transpose()\n",
    "R_transposed_df = Name_R_df.transpose()\n",
    "\n",
    "# Smash everything together and get ready for plotting.\n",
    "temp_df = GType_transposed_df.merge(Theta_transposed_df, left_index=True, right_index=True)\n",
    "clusterbuster_df = temp_df.merge(R_transposed_df, left_index=True, right_index=True)\n",
    "clusterbuster_out = clusterbuster_df.reset_index().rename(columns={'index':'IID'})\n",
    "\n",
    "# get gentrain scores\n",
    "\n",
    "gtrain_scores_df = report_in.loc[:,['Name', 'Chr', 'Position','GenTrain Score','Frac A', 'Frac C', 'Frac G', 'Frac T']]\n",
    "gtrain_scores_df.columns = ['snpid','Chr','Position','gentrain_score','Frac_A','Frac_C','Frac_G','Frac_T']\n",
    "# calculate maf\n",
    "gtype_df = Name_GType_df.copy()\n",
    "gtype_df.loc[:,'snpid'] = gtype_df.loc[:,'idx'].str.replace(\".GType\", \"\", regex=False)\n",
    "gtype_to_maf = gtype_df.drop(columns=['idx'])\n",
    "maf_scores_df = calculate_maf(gtype_to_maf)\n",
    "flag_df = maf_scores_df.merge(gtrain_scores_df, how='inner', on='snpid')\n",
    "flag_df.loc[:,'maf_flag'] = np.where(flag_df.maf<flag_maf, True, False)\n",
    "flag_df.loc[:,'gentrain_flag'] = np.where(flag_df.gentrain_score<flag_gentrain, True, False)\n",
    "\n",
    "missing_df = pd.DataFrame()\n",
    "\n",
    "\n",
    "out_dict = {\n",
    "    'clusterbuster_df': clusterbuster_out,\n",
    "    'flagged_snps': flag_df, \n",
    "}"
   ]
  },
  {
   "cell_type": "code",
   "execution_count": 36,
   "metadata": {},
   "outputs": [
    {
     "data": {
      "text/html": [
       "<div>\n",
       "<style scoped>\n",
       "    .dataframe tbody tr th:only-of-type {\n",
       "        vertical-align: middle;\n",
       "    }\n",
       "\n",
       "    .dataframe tbody tr th {\n",
       "        vertical-align: top;\n",
       "    }\n",
       "\n",
       "    .dataframe thead th {\n",
       "        text-align: right;\n",
       "    }\n",
       "</style>\n",
       "<table border=\"1\" class=\"dataframe\">\n",
       "  <thead>\n",
       "    <tr style=\"text-align: right;\">\n",
       "      <th></th>\n",
       "      <th>FS04821313_FO0000275_FUS_R495*_A01_17_A01</th>\n",
       "      <th>FS04821314_FO0000152_MAPT_R317W_A08_17_B01</th>\n",
       "      <th>FS04821315_FO0000163_MAPT_R317W_G09_17_B12</th>\n",
       "      <th>FS04821316_FO0000176_ANG_K41I_A04_17_D01</th>\n",
       "      <th>FS04821317_FO0000188_SNCB_P123H_B08_17_E01</th>\n",
       "      <th>FS04821318_FO0000200_PFN1_C71G_A01_17_F01</th>\n",
       "      <th>FS04821319_FO0000212_HNRNPA1_D262N_A01_17_G01</th>\n",
       "      <th>FS04821320_FO0000224_CSF1R_E633K_A01_17_H01</th>\n",
       "      <th>FS04821321_FO0000276_FUS_R495*_A04_17_A02</th>\n",
       "      <th>FS04821322_FO0000153_MAPT_R317W_A10_17_B02</th>\n",
       "      <th>...</th>\n",
       "      <th>FS04821399_FO0000166_APP_A673T_A10_17_C03</th>\n",
       "      <th>FS04821400_FO0000167_APP_A673T_B02_17_C04</th>\n",
       "      <th>FS04821401_FO0000168_APP_A673T_B11_17_C05</th>\n",
       "      <th>FS04821402_FO0000169_APP_A673T_C03_17_C06</th>\n",
       "      <th>FS04821403_FO0000170_APP_A673T_C04_17_C07</th>\n",
       "      <th>FS04821404_FO0000171_APP_A673T_D09_17_C08</th>\n",
       "      <th>FS04821405_FO0000172_APP_A673T_D12_17_C09</th>\n",
       "      <th>FS04821406_FO0000173_APP_A673T_F06_17_C10</th>\n",
       "      <th>FS04821407_FO0000174_APP_A673T_H08_17_C11</th>\n",
       "      <th>PositiveControl_1_NA_NA</th>\n",
       "    </tr>\n",
       "    <tr>\n",
       "      <th>idx</th>\n",
       "      <th></th>\n",
       "      <th></th>\n",
       "      <th></th>\n",
       "      <th></th>\n",
       "      <th></th>\n",
       "      <th></th>\n",
       "      <th></th>\n",
       "      <th></th>\n",
       "      <th></th>\n",
       "      <th></th>\n",
       "      <th></th>\n",
       "      <th></th>\n",
       "      <th></th>\n",
       "      <th></th>\n",
       "      <th></th>\n",
       "      <th></th>\n",
       "      <th></th>\n",
       "      <th></th>\n",
       "      <th></th>\n",
       "      <th></th>\n",
       "      <th></th>\n",
       "    </tr>\n",
       "  </thead>\n",
       "  <tbody>\n",
       "    <tr>\n",
       "      <th>22:19263188-TC.Theta</th>\n",
       "      <td>0.016549</td>\n",
       "      <td>0.016549</td>\n",
       "      <td>0.034746</td>\n",
       "      <td>0.005748</td>\n",
       "      <td>0.013034</td>\n",
       "      <td>0.028882</td>\n",
       "      <td>0.036758</td>\n",
       "      <td>0.009955</td>\n",
       "      <td>0.027756</td>\n",
       "      <td>0.026663</td>\n",
       "      <td>...</td>\n",
       "      <td>0.017424</td>\n",
       "      <td>0.030915</td>\n",
       "      <td>0.026956</td>\n",
       "      <td>0.011431</td>\n",
       "      <td>0.021527</td>\n",
       "      <td>0.011655</td>\n",
       "      <td>0.035450</td>\n",
       "      <td>0.039059</td>\n",
       "      <td>0.029760</td>\n",
       "      <td>0.050559</td>\n",
       "    </tr>\n",
       "    <tr>\n",
       "      <th>22:21354461-GA.Theta</th>\n",
       "      <td>0.958369</td>\n",
       "      <td>0.881275</td>\n",
       "      <td>0.842105</td>\n",
       "      <td>NaN</td>\n",
       "      <td>0.900391</td>\n",
       "      <td>0.901443</td>\n",
       "      <td>0.901834</td>\n",
       "      <td>0.950166</td>\n",
       "      <td>0.885677</td>\n",
       "      <td>0.955232</td>\n",
       "      <td>...</td>\n",
       "      <td>0.856874</td>\n",
       "      <td>0.896709</td>\n",
       "      <td>0.903836</td>\n",
       "      <td>0.946666</td>\n",
       "      <td>0.937902</td>\n",
       "      <td>0.927664</td>\n",
       "      <td>0.946430</td>\n",
       "      <td>0.931566</td>\n",
       "      <td>0.867493</td>\n",
       "      <td>0.524616</td>\n",
       "    </tr>\n",
       "    <tr>\n",
       "      <th>22:21384250-AG.Theta</th>\n",
       "      <td>0.040352</td>\n",
       "      <td>0.093047</td>\n",
       "      <td>0.065083</td>\n",
       "      <td>0.079220</td>\n",
       "      <td>0.063334</td>\n",
       "      <td>0.056559</td>\n",
       "      <td>0.088066</td>\n",
       "      <td>0.097245</td>\n",
       "      <td>0.146142</td>\n",
       "      <td>0.121591</td>\n",
       "      <td>...</td>\n",
       "      <td>0.101050</td>\n",
       "      <td>0.109888</td>\n",
       "      <td>0.090588</td>\n",
       "      <td>0.062786</td>\n",
       "      <td>0.094529</td>\n",
       "      <td>0.121504</td>\n",
       "      <td>0.117310</td>\n",
       "      <td>0.072148</td>\n",
       "      <td>0.136329</td>\n",
       "      <td>0.434891</td>\n",
       "    </tr>\n",
       "    <tr>\n",
       "      <th>22:21984279-CA.Theta</th>\n",
       "      <td>0.936341</td>\n",
       "      <td>0.912554</td>\n",
       "      <td>0.924742</td>\n",
       "      <td>0.921270</td>\n",
       "      <td>0.957253</td>\n",
       "      <td>0.954720</td>\n",
       "      <td>0.900188</td>\n",
       "      <td>0.946820</td>\n",
       "      <td>0.911227</td>\n",
       "      <td>0.937269</td>\n",
       "      <td>...</td>\n",
       "      <td>0.880905</td>\n",
       "      <td>0.919169</td>\n",
       "      <td>0.942667</td>\n",
       "      <td>0.971814</td>\n",
       "      <td>0.899858</td>\n",
       "      <td>0.977350</td>\n",
       "      <td>0.914369</td>\n",
       "      <td>0.905627</td>\n",
       "      <td>0.905158</td>\n",
       "      <td>0.607808</td>\n",
       "    </tr>\n",
       "    <tr>\n",
       "      <th>22:24481101-AG.Theta</th>\n",
       "      <td>0.027583</td>\n",
       "      <td>0.029278</td>\n",
       "      <td>0.020352</td>\n",
       "      <td>0.033576</td>\n",
       "      <td>0.017459</td>\n",
       "      <td>0.029715</td>\n",
       "      <td>0.028005</td>\n",
       "      <td>0.025697</td>\n",
       "      <td>0.014463</td>\n",
       "      <td>0.022326</td>\n",
       "      <td>...</td>\n",
       "      <td>0.030915</td>\n",
       "      <td>0.023189</td>\n",
       "      <td>0.010187</td>\n",
       "      <td>0.016286</td>\n",
       "      <td>0.017335</td>\n",
       "      <td>0.018646</td>\n",
       "      <td>0.020970</td>\n",
       "      <td>0.031749</td>\n",
       "      <td>0.016931</td>\n",
       "      <td>0.029535</td>\n",
       "    </tr>\n",
       "    <tr>\n",
       "      <th>...</th>\n",
       "      <td>...</td>\n",
       "      <td>...</td>\n",
       "      <td>...</td>\n",
       "      <td>...</td>\n",
       "      <td>...</td>\n",
       "      <td>...</td>\n",
       "      <td>...</td>\n",
       "      <td>...</td>\n",
       "      <td>...</td>\n",
       "      <td>...</td>\n",
       "      <td>...</td>\n",
       "      <td>...</td>\n",
       "      <td>...</td>\n",
       "      <td>...</td>\n",
       "      <td>...</td>\n",
       "      <td>...</td>\n",
       "      <td>...</td>\n",
       "      <td>...</td>\n",
       "      <td>...</td>\n",
       "      <td>...</td>\n",
       "      <td>...</td>\n",
       "    </tr>\n",
       "    <tr>\n",
       "      <th>rs9625374.Theta</th>\n",
       "      <td>0.578136</td>\n",
       "      <td>0.577489</td>\n",
       "      <td>0.562329</td>\n",
       "      <td>0.567274</td>\n",
       "      <td>0.587530</td>\n",
       "      <td>0.578070</td>\n",
       "      <td>0.591982</td>\n",
       "      <td>0.696036</td>\n",
       "      <td>0.603432</td>\n",
       "      <td>0.613582</td>\n",
       "      <td>...</td>\n",
       "      <td>0.618050</td>\n",
       "      <td>0.568534</td>\n",
       "      <td>0.558752</td>\n",
       "      <td>0.603907</td>\n",
       "      <td>0.591012</td>\n",
       "      <td>0.579917</td>\n",
       "      <td>0.589297</td>\n",
       "      <td>0.626615</td>\n",
       "      <td>0.603600</td>\n",
       "      <td>0.019538</td>\n",
       "    </tr>\n",
       "    <tr>\n",
       "      <th>rs9626059.Theta</th>\n",
       "      <td>0.959312</td>\n",
       "      <td>0.956198</td>\n",
       "      <td>0.945253</td>\n",
       "      <td>0.927606</td>\n",
       "      <td>0.948385</td>\n",
       "      <td>0.953619</td>\n",
       "      <td>0.958424</td>\n",
       "      <td>0.931868</td>\n",
       "      <td>0.926692</td>\n",
       "      <td>0.931908</td>\n",
       "      <td>...</td>\n",
       "      <td>0.911472</td>\n",
       "      <td>0.917925</td>\n",
       "      <td>0.952390</td>\n",
       "      <td>0.973589</td>\n",
       "      <td>0.954016</td>\n",
       "      <td>0.950417</td>\n",
       "      <td>0.937735</td>\n",
       "      <td>0.960297</td>\n",
       "      <td>0.951617</td>\n",
       "      <td>0.920231</td>\n",
       "    </tr>\n",
       "    <tr>\n",
       "      <th>rs9628047.Theta</th>\n",
       "      <td>0.515638</td>\n",
       "      <td>0.536284</td>\n",
       "      <td>0.560650</td>\n",
       "      <td>0.539354</td>\n",
       "      <td>0.543270</td>\n",
       "      <td>0.538346</td>\n",
       "      <td>0.570527</td>\n",
       "      <td>0.482153</td>\n",
       "      <td>0.550294</td>\n",
       "      <td>0.578773</td>\n",
       "      <td>...</td>\n",
       "      <td>0.520268</td>\n",
       "      <td>0.537218</td>\n",
       "      <td>0.557735</td>\n",
       "      <td>0.506185</td>\n",
       "      <td>0.537496</td>\n",
       "      <td>0.575556</td>\n",
       "      <td>0.550700</td>\n",
       "      <td>0.554986</td>\n",
       "      <td>0.564009</td>\n",
       "      <td>0.518252</td>\n",
       "    </tr>\n",
       "    <tr>\n",
       "      <th>rs999458.Theta</th>\n",
       "      <td>0.563739</td>\n",
       "      <td>0.589696</td>\n",
       "      <td>0.563988</td>\n",
       "      <td>0.602818</td>\n",
       "      <td>0.587157</td>\n",
       "      <td>0.574342</td>\n",
       "      <td>0.544992</td>\n",
       "      <td>0.506885</td>\n",
       "      <td>0.604721</td>\n",
       "      <td>0.573953</td>\n",
       "      <td>...</td>\n",
       "      <td>0.554496</td>\n",
       "      <td>0.539772</td>\n",
       "      <td>0.603856</td>\n",
       "      <td>0.628461</td>\n",
       "      <td>0.593603</td>\n",
       "      <td>0.595947</td>\n",
       "      <td>0.583897</td>\n",
       "      <td>0.585212</td>\n",
       "      <td>0.561027</td>\n",
       "      <td>0.527736</td>\n",
       "    </tr>\n",
       "    <tr>\n",
       "      <th>variant.71844.Theta</th>\n",
       "      <td>0.956982</td>\n",
       "      <td>0.946473</td>\n",
       "      <td>0.967700</td>\n",
       "      <td>0.958387</td>\n",
       "      <td>0.960848</td>\n",
       "      <td>0.932864</td>\n",
       "      <td>0.920081</td>\n",
       "      <td>0.959149</td>\n",
       "      <td>0.921769</td>\n",
       "      <td>0.949190</td>\n",
       "      <td>...</td>\n",
       "      <td>0.941767</td>\n",
       "      <td>0.971319</td>\n",
       "      <td>0.953378</td>\n",
       "      <td>0.967243</td>\n",
       "      <td>0.944638</td>\n",
       "      <td>0.946361</td>\n",
       "      <td>0.959746</td>\n",
       "      <td>0.949609</td>\n",
       "      <td>0.956597</td>\n",
       "      <td>0.927436</td>\n",
       "    </tr>\n",
       "  </tbody>\n",
       "</table>\n",
       "<p>336 rows × 96 columns</p>\n",
       "</div>"
      ],
      "text/plain": [
       "                      FS04821313_FO0000275_FUS_R495*_A01_17_A01  \\\n",
       "idx                                                               \n",
       "22:19263188-TC.Theta                                   0.016549   \n",
       "22:21354461-GA.Theta                                   0.958369   \n",
       "22:21384250-AG.Theta                                   0.040352   \n",
       "22:21984279-CA.Theta                                   0.936341   \n",
       "22:24481101-AG.Theta                                   0.027583   \n",
       "...                                                         ...   \n",
       "rs9625374.Theta                                        0.578136   \n",
       "rs9626059.Theta                                        0.959312   \n",
       "rs9628047.Theta                                        0.515638   \n",
       "rs999458.Theta                                         0.563739   \n",
       "variant.71844.Theta                                    0.956982   \n",
       "\n",
       "                      FS04821314_FO0000152_MAPT_R317W_A08_17_B01  \\\n",
       "idx                                                                \n",
       "22:19263188-TC.Theta                                    0.016549   \n",
       "22:21354461-GA.Theta                                    0.881275   \n",
       "22:21384250-AG.Theta                                    0.093047   \n",
       "22:21984279-CA.Theta                                    0.912554   \n",
       "22:24481101-AG.Theta                                    0.029278   \n",
       "...                                                          ...   \n",
       "rs9625374.Theta                                         0.577489   \n",
       "rs9626059.Theta                                         0.956198   \n",
       "rs9628047.Theta                                         0.536284   \n",
       "rs999458.Theta                                          0.589696   \n",
       "variant.71844.Theta                                     0.946473   \n",
       "\n",
       "                      FS04821315_FO0000163_MAPT_R317W_G09_17_B12  \\\n",
       "idx                                                                \n",
       "22:19263188-TC.Theta                                    0.034746   \n",
       "22:21354461-GA.Theta                                    0.842105   \n",
       "22:21384250-AG.Theta                                    0.065083   \n",
       "22:21984279-CA.Theta                                    0.924742   \n",
       "22:24481101-AG.Theta                                    0.020352   \n",
       "...                                                          ...   \n",
       "rs9625374.Theta                                         0.562329   \n",
       "rs9626059.Theta                                         0.945253   \n",
       "rs9628047.Theta                                         0.560650   \n",
       "rs999458.Theta                                          0.563988   \n",
       "variant.71844.Theta                                     0.967700   \n",
       "\n",
       "                      FS04821316_FO0000176_ANG_K41I_A04_17_D01  \\\n",
       "idx                                                              \n",
       "22:19263188-TC.Theta                                  0.005748   \n",
       "22:21354461-GA.Theta                                       NaN   \n",
       "22:21384250-AG.Theta                                  0.079220   \n",
       "22:21984279-CA.Theta                                  0.921270   \n",
       "22:24481101-AG.Theta                                  0.033576   \n",
       "...                                                        ...   \n",
       "rs9625374.Theta                                       0.567274   \n",
       "rs9626059.Theta                                       0.927606   \n",
       "rs9628047.Theta                                       0.539354   \n",
       "rs999458.Theta                                        0.602818   \n",
       "variant.71844.Theta                                   0.958387   \n",
       "\n",
       "                      FS04821317_FO0000188_SNCB_P123H_B08_17_E01  \\\n",
       "idx                                                                \n",
       "22:19263188-TC.Theta                                    0.013034   \n",
       "22:21354461-GA.Theta                                    0.900391   \n",
       "22:21384250-AG.Theta                                    0.063334   \n",
       "22:21984279-CA.Theta                                    0.957253   \n",
       "22:24481101-AG.Theta                                    0.017459   \n",
       "...                                                          ...   \n",
       "rs9625374.Theta                                         0.587530   \n",
       "rs9626059.Theta                                         0.948385   \n",
       "rs9628047.Theta                                         0.543270   \n",
       "rs999458.Theta                                          0.587157   \n",
       "variant.71844.Theta                                     0.960848   \n",
       "\n",
       "                      FS04821318_FO0000200_PFN1_C71G_A01_17_F01  \\\n",
       "idx                                                               \n",
       "22:19263188-TC.Theta                                   0.028882   \n",
       "22:21354461-GA.Theta                                   0.901443   \n",
       "22:21384250-AG.Theta                                   0.056559   \n",
       "22:21984279-CA.Theta                                   0.954720   \n",
       "22:24481101-AG.Theta                                   0.029715   \n",
       "...                                                         ...   \n",
       "rs9625374.Theta                                        0.578070   \n",
       "rs9626059.Theta                                        0.953619   \n",
       "rs9628047.Theta                                        0.538346   \n",
       "rs999458.Theta                                         0.574342   \n",
       "variant.71844.Theta                                    0.932864   \n",
       "\n",
       "                      FS04821319_FO0000212_HNRNPA1_D262N_A01_17_G01  \\\n",
       "idx                                                                   \n",
       "22:19263188-TC.Theta                                       0.036758   \n",
       "22:21354461-GA.Theta                                       0.901834   \n",
       "22:21384250-AG.Theta                                       0.088066   \n",
       "22:21984279-CA.Theta                                       0.900188   \n",
       "22:24481101-AG.Theta                                       0.028005   \n",
       "...                                                             ...   \n",
       "rs9625374.Theta                                            0.591982   \n",
       "rs9626059.Theta                                            0.958424   \n",
       "rs9628047.Theta                                            0.570527   \n",
       "rs999458.Theta                                             0.544992   \n",
       "variant.71844.Theta                                        0.920081   \n",
       "\n",
       "                      FS04821320_FO0000224_CSF1R_E633K_A01_17_H01  \\\n",
       "idx                                                                 \n",
       "22:19263188-TC.Theta                                     0.009955   \n",
       "22:21354461-GA.Theta                                     0.950166   \n",
       "22:21384250-AG.Theta                                     0.097245   \n",
       "22:21984279-CA.Theta                                     0.946820   \n",
       "22:24481101-AG.Theta                                     0.025697   \n",
       "...                                                           ...   \n",
       "rs9625374.Theta                                          0.696036   \n",
       "rs9626059.Theta                                          0.931868   \n",
       "rs9628047.Theta                                          0.482153   \n",
       "rs999458.Theta                                           0.506885   \n",
       "variant.71844.Theta                                      0.959149   \n",
       "\n",
       "                      FS04821321_FO0000276_FUS_R495*_A04_17_A02  \\\n",
       "idx                                                               \n",
       "22:19263188-TC.Theta                                   0.027756   \n",
       "22:21354461-GA.Theta                                   0.885677   \n",
       "22:21384250-AG.Theta                                   0.146142   \n",
       "22:21984279-CA.Theta                                   0.911227   \n",
       "22:24481101-AG.Theta                                   0.014463   \n",
       "...                                                         ...   \n",
       "rs9625374.Theta                                        0.603432   \n",
       "rs9626059.Theta                                        0.926692   \n",
       "rs9628047.Theta                                        0.550294   \n",
       "rs999458.Theta                                         0.604721   \n",
       "variant.71844.Theta                                    0.921769   \n",
       "\n",
       "                      FS04821322_FO0000153_MAPT_R317W_A10_17_B02  ...  \\\n",
       "idx                                                               ...   \n",
       "22:19263188-TC.Theta                                    0.026663  ...   \n",
       "22:21354461-GA.Theta                                    0.955232  ...   \n",
       "22:21384250-AG.Theta                                    0.121591  ...   \n",
       "22:21984279-CA.Theta                                    0.937269  ...   \n",
       "22:24481101-AG.Theta                                    0.022326  ...   \n",
       "...                                                          ...  ...   \n",
       "rs9625374.Theta                                         0.613582  ...   \n",
       "rs9626059.Theta                                         0.931908  ...   \n",
       "rs9628047.Theta                                         0.578773  ...   \n",
       "rs999458.Theta                                          0.573953  ...   \n",
       "variant.71844.Theta                                     0.949190  ...   \n",
       "\n",
       "                      FS04821399_FO0000166_APP_A673T_A10_17_C03  \\\n",
       "idx                                                               \n",
       "22:19263188-TC.Theta                                   0.017424   \n",
       "22:21354461-GA.Theta                                   0.856874   \n",
       "22:21384250-AG.Theta                                   0.101050   \n",
       "22:21984279-CA.Theta                                   0.880905   \n",
       "22:24481101-AG.Theta                                   0.030915   \n",
       "...                                                         ...   \n",
       "rs9625374.Theta                                        0.618050   \n",
       "rs9626059.Theta                                        0.911472   \n",
       "rs9628047.Theta                                        0.520268   \n",
       "rs999458.Theta                                         0.554496   \n",
       "variant.71844.Theta                                    0.941767   \n",
       "\n",
       "                      FS04821400_FO0000167_APP_A673T_B02_17_C04  \\\n",
       "idx                                                               \n",
       "22:19263188-TC.Theta                                   0.030915   \n",
       "22:21354461-GA.Theta                                   0.896709   \n",
       "22:21384250-AG.Theta                                   0.109888   \n",
       "22:21984279-CA.Theta                                   0.919169   \n",
       "22:24481101-AG.Theta                                   0.023189   \n",
       "...                                                         ...   \n",
       "rs9625374.Theta                                        0.568534   \n",
       "rs9626059.Theta                                        0.917925   \n",
       "rs9628047.Theta                                        0.537218   \n",
       "rs999458.Theta                                         0.539772   \n",
       "variant.71844.Theta                                    0.971319   \n",
       "\n",
       "                      FS04821401_FO0000168_APP_A673T_B11_17_C05  \\\n",
       "idx                                                               \n",
       "22:19263188-TC.Theta                                   0.026956   \n",
       "22:21354461-GA.Theta                                   0.903836   \n",
       "22:21384250-AG.Theta                                   0.090588   \n",
       "22:21984279-CA.Theta                                   0.942667   \n",
       "22:24481101-AG.Theta                                   0.010187   \n",
       "...                                                         ...   \n",
       "rs9625374.Theta                                        0.558752   \n",
       "rs9626059.Theta                                        0.952390   \n",
       "rs9628047.Theta                                        0.557735   \n",
       "rs999458.Theta                                         0.603856   \n",
       "variant.71844.Theta                                    0.953378   \n",
       "\n",
       "                      FS04821402_FO0000169_APP_A673T_C03_17_C06  \\\n",
       "idx                                                               \n",
       "22:19263188-TC.Theta                                   0.011431   \n",
       "22:21354461-GA.Theta                                   0.946666   \n",
       "22:21384250-AG.Theta                                   0.062786   \n",
       "22:21984279-CA.Theta                                   0.971814   \n",
       "22:24481101-AG.Theta                                   0.016286   \n",
       "...                                                         ...   \n",
       "rs9625374.Theta                                        0.603907   \n",
       "rs9626059.Theta                                        0.973589   \n",
       "rs9628047.Theta                                        0.506185   \n",
       "rs999458.Theta                                         0.628461   \n",
       "variant.71844.Theta                                    0.967243   \n",
       "\n",
       "                      FS04821403_FO0000170_APP_A673T_C04_17_C07  \\\n",
       "idx                                                               \n",
       "22:19263188-TC.Theta                                   0.021527   \n",
       "22:21354461-GA.Theta                                   0.937902   \n",
       "22:21384250-AG.Theta                                   0.094529   \n",
       "22:21984279-CA.Theta                                   0.899858   \n",
       "22:24481101-AG.Theta                                   0.017335   \n",
       "...                                                         ...   \n",
       "rs9625374.Theta                                        0.591012   \n",
       "rs9626059.Theta                                        0.954016   \n",
       "rs9628047.Theta                                        0.537496   \n",
       "rs999458.Theta                                         0.593603   \n",
       "variant.71844.Theta                                    0.944638   \n",
       "\n",
       "                      FS04821404_FO0000171_APP_A673T_D09_17_C08  \\\n",
       "idx                                                               \n",
       "22:19263188-TC.Theta                                   0.011655   \n",
       "22:21354461-GA.Theta                                   0.927664   \n",
       "22:21384250-AG.Theta                                   0.121504   \n",
       "22:21984279-CA.Theta                                   0.977350   \n",
       "22:24481101-AG.Theta                                   0.018646   \n",
       "...                                                         ...   \n",
       "rs9625374.Theta                                        0.579917   \n",
       "rs9626059.Theta                                        0.950417   \n",
       "rs9628047.Theta                                        0.575556   \n",
       "rs999458.Theta                                         0.595947   \n",
       "variant.71844.Theta                                    0.946361   \n",
       "\n",
       "                      FS04821405_FO0000172_APP_A673T_D12_17_C09  \\\n",
       "idx                                                               \n",
       "22:19263188-TC.Theta                                   0.035450   \n",
       "22:21354461-GA.Theta                                   0.946430   \n",
       "22:21384250-AG.Theta                                   0.117310   \n",
       "22:21984279-CA.Theta                                   0.914369   \n",
       "22:24481101-AG.Theta                                   0.020970   \n",
       "...                                                         ...   \n",
       "rs9625374.Theta                                        0.589297   \n",
       "rs9626059.Theta                                        0.937735   \n",
       "rs9628047.Theta                                        0.550700   \n",
       "rs999458.Theta                                         0.583897   \n",
       "variant.71844.Theta                                    0.959746   \n",
       "\n",
       "                      FS04821406_FO0000173_APP_A673T_F06_17_C10  \\\n",
       "idx                                                               \n",
       "22:19263188-TC.Theta                                   0.039059   \n",
       "22:21354461-GA.Theta                                   0.931566   \n",
       "22:21384250-AG.Theta                                   0.072148   \n",
       "22:21984279-CA.Theta                                   0.905627   \n",
       "22:24481101-AG.Theta                                   0.031749   \n",
       "...                                                         ...   \n",
       "rs9625374.Theta                                        0.626615   \n",
       "rs9626059.Theta                                        0.960297   \n",
       "rs9628047.Theta                                        0.554986   \n",
       "rs999458.Theta                                         0.585212   \n",
       "variant.71844.Theta                                    0.949609   \n",
       "\n",
       "                      FS04821407_FO0000174_APP_A673T_H08_17_C11  \\\n",
       "idx                                                               \n",
       "22:19263188-TC.Theta                                   0.029760   \n",
       "22:21354461-GA.Theta                                   0.867493   \n",
       "22:21384250-AG.Theta                                   0.136329   \n",
       "22:21984279-CA.Theta                                   0.905158   \n",
       "22:24481101-AG.Theta                                   0.016931   \n",
       "...                                                         ...   \n",
       "rs9625374.Theta                                        0.603600   \n",
       "rs9626059.Theta                                        0.951617   \n",
       "rs9628047.Theta                                        0.564009   \n",
       "rs999458.Theta                                         0.561027   \n",
       "variant.71844.Theta                                    0.956597   \n",
       "\n",
       "                      PositiveControl_1_NA_NA  \n",
       "idx                                            \n",
       "22:19263188-TC.Theta                 0.050559  \n",
       "22:21354461-GA.Theta                 0.524616  \n",
       "22:21384250-AG.Theta                 0.434891  \n",
       "22:21984279-CA.Theta                 0.607808  \n",
       "22:24481101-AG.Theta                 0.029535  \n",
       "...                                       ...  \n",
       "rs9625374.Theta                      0.019538  \n",
       "rs9626059.Theta                      0.920231  \n",
       "rs9628047.Theta                      0.518252  \n",
       "rs999458.Theta                       0.527736  \n",
       "variant.71844.Theta                  0.927436  \n",
       "\n",
       "[336 rows x 96 columns]"
      ]
     },
     "execution_count": 36,
     "metadata": {},
     "output_type": "execute_result"
    }
   ],
   "source": [
    "# Name_Theta_df[Name_Theta_df.isna(axis=1)]\n",
    "\n",
    "Name_Theta_df[Name_Theta_df.isnull().any(axis=1)]"
   ]
  },
  {
   "cell_type": "code",
   "execution_count": 17,
   "metadata": {},
   "outputs": [
    {
     "ename": "NameError",
     "evalue": "name 'snps_list' is not defined",
     "output_type": "error",
     "traceback": [
      "\u001b[0;31m---------------------------------------------------------------------------\u001b[0m",
      "\u001b[0;31mNameError\u001b[0m                                 Traceback (most recent call last)",
      "\u001b[0;32m/tmp/ipykernel_5611/2237056008.py\u001b[0m in \u001b[0;36m<module>\u001b[0;34m\u001b[0m\n\u001b[1;32m      1\u001b[0m \u001b[0;31m# Generate output report\u001b[0m\u001b[0;34m\u001b[0m\u001b[0;34m\u001b[0m\u001b[0;34m\u001b[0m\u001b[0m\n\u001b[0;32m----> 2\u001b[0;31m \u001b[0;32mfor\u001b[0m \u001b[0msnp\u001b[0m \u001b[0;32min\u001b[0m \u001b[0msnps_list\u001b[0m\u001b[0;34m:\u001b[0m\u001b[0;34m\u001b[0m\u001b[0;34m\u001b[0m\u001b[0m\n\u001b[0m\u001b[1;32m      3\u001b[0m     \u001b[0mgeno_col\u001b[0m \u001b[0;34m=\u001b[0m \u001b[0msnp\u001b[0m \u001b[0;34m+\u001b[0m \u001b[0;34m\".GType\"\u001b[0m\u001b[0;34m\u001b[0m\u001b[0;34m\u001b[0m\u001b[0m\n\u001b[1;32m      4\u001b[0m     \u001b[0mtheta_col\u001b[0m \u001b[0;34m=\u001b[0m \u001b[0msnp\u001b[0m \u001b[0;34m+\u001b[0m \u001b[0;34m\".Theta\"\u001b[0m\u001b[0;34m\u001b[0m\u001b[0;34m\u001b[0m\u001b[0m\n\u001b[1;32m      5\u001b[0m     \u001b[0mr_col\u001b[0m \u001b[0;34m=\u001b[0m \u001b[0msnp\u001b[0m \u001b[0;34m+\u001b[0m \u001b[0;34m\".R\"\u001b[0m\u001b[0;34m\u001b[0m\u001b[0;34m\u001b[0m\u001b[0m\n",
      "\u001b[0;31mNameError\u001b[0m: name 'snps_list' is not defined"
     ]
    }
   ],
   "source": [
    "# Generate output report\n",
    "for snp in snps_list:\n",
    "    geno_col = snp + \".GType\"\n",
    "    theta_col = snp + \".Theta\"\n",
    "    r_col = snp + \".R\"    \n",
    "\n",
    "    gtypes = list(cb_df[geno_col].unique())\n",
    "\n",
    "    snp_for_plot_df = cb_df[['IID', theta_col, r_col, geno_col]].copy()\n",
    "    snp_for_plot_df.columns = snp_for_plot_df.columns.str.replace(f'{snp}.', '', regex=False)"
   ]
  },
  {
   "cell_type": "code",
   "execution_count": 35,
   "metadata": {},
   "outputs": [
    {
     "data": {
      "text/html": [
       "<div>\n",
       "<style scoped>\n",
       "    .dataframe tbody tr th:only-of-type {\n",
       "        vertical-align: middle;\n",
       "    }\n",
       "\n",
       "    .dataframe tbody tr th {\n",
       "        vertical-align: top;\n",
       "    }\n",
       "\n",
       "    .dataframe thead th {\n",
       "        text-align: right;\n",
       "    }\n",
       "</style>\n",
       "<table border=\"1\" class=\"dataframe\">\n",
       "  <thead>\n",
       "    <tr style=\"text-align: right;\">\n",
       "      <th>idx</th>\n",
       "      <th>IID</th>\n",
       "      <th>1KG_22_19435270.GType</th>\n",
       "      <th>1KG_22_19766749.GType</th>\n",
       "      <th>1KG_22_24530438.GType</th>\n",
       "      <th>1KG_22_24909316.GType</th>\n",
       "      <th>1KG_22_26286764.GType</th>\n",
       "      <th>1KG_22_26298671.GType</th>\n",
       "      <th>1KG_22_30857665.GType</th>\n",
       "      <th>1KG_22_36681998.GType</th>\n",
       "      <th>1KG_22_38494134.GType</th>\n",
       "      <th>...</th>\n",
       "      <th>Variant61228.R</th>\n",
       "      <th>Variant61231.R</th>\n",
       "      <th>Variant61234.R</th>\n",
       "      <th>Variant61237.R</th>\n",
       "      <th>Variant61242.R</th>\n",
       "      <th>Variant61244.R</th>\n",
       "      <th>Variant61245.R</th>\n",
       "      <th>Variant61246.R</th>\n",
       "      <th>Variant61252.R</th>\n",
       "      <th>Variant61253.R</th>\n",
       "    </tr>\n",
       "  </thead>\n",
       "  <tbody>\n",
       "    <tr>\n",
       "      <th>0</th>\n",
       "      <td>FS04821313_FO0000275_FUS_R495*_A01_17_A01</td>\n",
       "      <td>BB</td>\n",
       "      <td>BB</td>\n",
       "      <td>BB</td>\n",
       "      <td>BB</td>\n",
       "      <td>AA</td>\n",
       "      <td>AA</td>\n",
       "      <td>AA</td>\n",
       "      <td>AA</td>\n",
       "      <td>AA</td>\n",
       "      <td>...</td>\n",
       "      <td>0.430500</td>\n",
       "      <td>0.361874</td>\n",
       "      <td>0.540405</td>\n",
       "      <td>0.626420</td>\n",
       "      <td>0.957749</td>\n",
       "      <td>0.733668</td>\n",
       "      <td>0.795464</td>\n",
       "      <td>0.701761</td>\n",
       "      <td>0.470309</td>\n",
       "      <td>0.569939</td>\n",
       "    </tr>\n",
       "    <tr>\n",
       "      <th>1</th>\n",
       "      <td>FS04821314_FO0000152_MAPT_R317W_A08_17_B01</td>\n",
       "      <td>BB</td>\n",
       "      <td>BB</td>\n",
       "      <td>BB</td>\n",
       "      <td>BB</td>\n",
       "      <td>AA</td>\n",
       "      <td>AA</td>\n",
       "      <td>AA</td>\n",
       "      <td>AA</td>\n",
       "      <td>AA</td>\n",
       "      <td>...</td>\n",
       "      <td>0.415114</td>\n",
       "      <td>0.329952</td>\n",
       "      <td>0.549609</td>\n",
       "      <td>0.571324</td>\n",
       "      <td>0.932040</td>\n",
       "      <td>0.671134</td>\n",
       "      <td>0.730768</td>\n",
       "      <td>0.735666</td>\n",
       "      <td>0.476564</td>\n",
       "      <td>0.603078</td>\n",
       "    </tr>\n",
       "    <tr>\n",
       "      <th>2</th>\n",
       "      <td>FS04821315_FO0000163_MAPT_R317W_G09_17_B12</td>\n",
       "      <td>BB</td>\n",
       "      <td>BB</td>\n",
       "      <td>BB</td>\n",
       "      <td>BB</td>\n",
       "      <td>AA</td>\n",
       "      <td>AA</td>\n",
       "      <td>AA</td>\n",
       "      <td>AA</td>\n",
       "      <td>AA</td>\n",
       "      <td>...</td>\n",
       "      <td>0.379468</td>\n",
       "      <td>0.420835</td>\n",
       "      <td>0.541583</td>\n",
       "      <td>0.608452</td>\n",
       "      <td>0.976639</td>\n",
       "      <td>0.641460</td>\n",
       "      <td>0.726527</td>\n",
       "      <td>0.748987</td>\n",
       "      <td>0.439781</td>\n",
       "      <td>0.518233</td>\n",
       "    </tr>\n",
       "    <tr>\n",
       "      <th>3</th>\n",
       "      <td>FS04821316_FO0000176_ANG_K41I_A04_17_D01</td>\n",
       "      <td>BB</td>\n",
       "      <td>BB</td>\n",
       "      <td>BB</td>\n",
       "      <td>BB</td>\n",
       "      <td>AA</td>\n",
       "      <td>AA</td>\n",
       "      <td>AA</td>\n",
       "      <td>AA</td>\n",
       "      <td>AA</td>\n",
       "      <td>...</td>\n",
       "      <td>0.462127</td>\n",
       "      <td>0.387539</td>\n",
       "      <td>0.521502</td>\n",
       "      <td>0.639255</td>\n",
       "      <td>0.965216</td>\n",
       "      <td>0.699769</td>\n",
       "      <td>0.735392</td>\n",
       "      <td>0.791597</td>\n",
       "      <td>0.410290</td>\n",
       "      <td>0.626747</td>\n",
       "    </tr>\n",
       "    <tr>\n",
       "      <th>4</th>\n",
       "      <td>FS04821317_FO0000188_SNCB_P123H_B08_17_E01</td>\n",
       "      <td>BB</td>\n",
       "      <td>BB</td>\n",
       "      <td>BB</td>\n",
       "      <td>BB</td>\n",
       "      <td>AA</td>\n",
       "      <td>AA</td>\n",
       "      <td>AA</td>\n",
       "      <td>AA</td>\n",
       "      <td>AA</td>\n",
       "      <td>...</td>\n",
       "      <td>0.469232</td>\n",
       "      <td>0.366763</td>\n",
       "      <td>0.586054</td>\n",
       "      <td>0.579106</td>\n",
       "      <td>1.041958</td>\n",
       "      <td>0.677856</td>\n",
       "      <td>0.758849</td>\n",
       "      <td>0.712157</td>\n",
       "      <td>0.468440</td>\n",
       "      <td>0.582567</td>\n",
       "    </tr>\n",
       "    <tr>\n",
       "      <th>...</th>\n",
       "      <td>...</td>\n",
       "      <td>...</td>\n",
       "      <td>...</td>\n",
       "      <td>...</td>\n",
       "      <td>...</td>\n",
       "      <td>...</td>\n",
       "      <td>...</td>\n",
       "      <td>...</td>\n",
       "      <td>...</td>\n",
       "      <td>...</td>\n",
       "      <td>...</td>\n",
       "      <td>...</td>\n",
       "      <td>...</td>\n",
       "      <td>...</td>\n",
       "      <td>...</td>\n",
       "      <td>...</td>\n",
       "      <td>...</td>\n",
       "      <td>...</td>\n",
       "      <td>...</td>\n",
       "      <td>...</td>\n",
       "      <td>...</td>\n",
       "    </tr>\n",
       "    <tr>\n",
       "      <th>91</th>\n",
       "      <td>FS04821404_FO0000171_APP_A673T_D09_17_C08</td>\n",
       "      <td>BB</td>\n",
       "      <td>BB</td>\n",
       "      <td>BB</td>\n",
       "      <td>BB</td>\n",
       "      <td>AA</td>\n",
       "      <td>AA</td>\n",
       "      <td>AA</td>\n",
       "      <td>AA</td>\n",
       "      <td>AA</td>\n",
       "      <td>...</td>\n",
       "      <td>0.359078</td>\n",
       "      <td>0.360436</td>\n",
       "      <td>0.449827</td>\n",
       "      <td>0.581284</td>\n",
       "      <td>1.042775</td>\n",
       "      <td>0.702279</td>\n",
       "      <td>0.757134</td>\n",
       "      <td>0.718126</td>\n",
       "      <td>0.447970</td>\n",
       "      <td>0.575152</td>\n",
       "    </tr>\n",
       "    <tr>\n",
       "      <th>92</th>\n",
       "      <td>FS04821405_FO0000172_APP_A673T_D12_17_C09</td>\n",
       "      <td>BB</td>\n",
       "      <td>BB</td>\n",
       "      <td>BB</td>\n",
       "      <td>BB</td>\n",
       "      <td>AA</td>\n",
       "      <td>AA</td>\n",
       "      <td>AA</td>\n",
       "      <td>AA</td>\n",
       "      <td>AA</td>\n",
       "      <td>...</td>\n",
       "      <td>0.365155</td>\n",
       "      <td>0.359822</td>\n",
       "      <td>0.513683</td>\n",
       "      <td>0.557322</td>\n",
       "      <td>0.872211</td>\n",
       "      <td>0.649222</td>\n",
       "      <td>0.692903</td>\n",
       "      <td>0.726661</td>\n",
       "      <td>0.427236</td>\n",
       "      <td>0.530507</td>\n",
       "    </tr>\n",
       "    <tr>\n",
       "      <th>93</th>\n",
       "      <td>FS04821406_FO0000173_APP_A673T_F06_17_C10</td>\n",
       "      <td>BB</td>\n",
       "      <td>BB</td>\n",
       "      <td>BB</td>\n",
       "      <td>BB</td>\n",
       "      <td>AA</td>\n",
       "      <td>AA</td>\n",
       "      <td>AA</td>\n",
       "      <td>AA</td>\n",
       "      <td>AA</td>\n",
       "      <td>...</td>\n",
       "      <td>0.329993</td>\n",
       "      <td>0.388541</td>\n",
       "      <td>0.518266</td>\n",
       "      <td>0.577355</td>\n",
       "      <td>0.891683</td>\n",
       "      <td>0.711396</td>\n",
       "      <td>0.780114</td>\n",
       "      <td>0.710056</td>\n",
       "      <td>0.407510</td>\n",
       "      <td>0.513913</td>\n",
       "    </tr>\n",
       "    <tr>\n",
       "      <th>94</th>\n",
       "      <td>FS04821407_FO0000174_APP_A673T_H08_17_C11</td>\n",
       "      <td>BB</td>\n",
       "      <td>BB</td>\n",
       "      <td>BB</td>\n",
       "      <td>BB</td>\n",
       "      <td>AA</td>\n",
       "      <td>AA</td>\n",
       "      <td>AA</td>\n",
       "      <td>AA</td>\n",
       "      <td>AA</td>\n",
       "      <td>...</td>\n",
       "      <td>0.354541</td>\n",
       "      <td>0.322347</td>\n",
       "      <td>0.421428</td>\n",
       "      <td>0.515936</td>\n",
       "      <td>0.894079</td>\n",
       "      <td>0.712438</td>\n",
       "      <td>0.747326</td>\n",
       "      <td>0.663459</td>\n",
       "      <td>0.403457</td>\n",
       "      <td>0.479983</td>\n",
       "    </tr>\n",
       "    <tr>\n",
       "      <th>95</th>\n",
       "      <td>PositiveControl_1_NA_NA</td>\n",
       "      <td>BB</td>\n",
       "      <td>BB</td>\n",
       "      <td>BB</td>\n",
       "      <td>BB</td>\n",
       "      <td>AA</td>\n",
       "      <td>AA</td>\n",
       "      <td>AA</td>\n",
       "      <td>AA</td>\n",
       "      <td>AA</td>\n",
       "      <td>...</td>\n",
       "      <td>0.182542</td>\n",
       "      <td>0.116625</td>\n",
       "      <td>0.200661</td>\n",
       "      <td>0.187479</td>\n",
       "      <td>0.391974</td>\n",
       "      <td>0.271091</td>\n",
       "      <td>0.502401</td>\n",
       "      <td>0.301212</td>\n",
       "      <td>0.207442</td>\n",
       "      <td>0.140064</td>\n",
       "    </tr>\n",
       "  </tbody>\n",
       "</table>\n",
       "<p>96 rows × 77986 columns</p>\n",
       "</div>"
      ],
      "text/plain": [
       "idx                                         IID 1KG_22_19435270.GType  \\\n",
       "0     FS04821313_FO0000275_FUS_R495*_A01_17_A01                    BB   \n",
       "1    FS04821314_FO0000152_MAPT_R317W_A08_17_B01                    BB   \n",
       "2    FS04821315_FO0000163_MAPT_R317W_G09_17_B12                    BB   \n",
       "3      FS04821316_FO0000176_ANG_K41I_A04_17_D01                    BB   \n",
       "4    FS04821317_FO0000188_SNCB_P123H_B08_17_E01                    BB   \n",
       "..                                          ...                   ...   \n",
       "91    FS04821404_FO0000171_APP_A673T_D09_17_C08                    BB   \n",
       "92    FS04821405_FO0000172_APP_A673T_D12_17_C09                    BB   \n",
       "93    FS04821406_FO0000173_APP_A673T_F06_17_C10                    BB   \n",
       "94    FS04821407_FO0000174_APP_A673T_H08_17_C11                    BB   \n",
       "95                      PositiveControl_1_NA_NA                    BB   \n",
       "\n",
       "idx 1KG_22_19766749.GType 1KG_22_24530438.GType 1KG_22_24909316.GType  \\\n",
       "0                      BB                    BB                    BB   \n",
       "1                      BB                    BB                    BB   \n",
       "2                      BB                    BB                    BB   \n",
       "3                      BB                    BB                    BB   \n",
       "4                      BB                    BB                    BB   \n",
       "..                    ...                   ...                   ...   \n",
       "91                     BB                    BB                    BB   \n",
       "92                     BB                    BB                    BB   \n",
       "93                     BB                    BB                    BB   \n",
       "94                     BB                    BB                    BB   \n",
       "95                     BB                    BB                    BB   \n",
       "\n",
       "idx 1KG_22_26286764.GType 1KG_22_26298671.GType 1KG_22_30857665.GType  \\\n",
       "0                      AA                    AA                    AA   \n",
       "1                      AA                    AA                    AA   \n",
       "2                      AA                    AA                    AA   \n",
       "3                      AA                    AA                    AA   \n",
       "4                      AA                    AA                    AA   \n",
       "..                    ...                   ...                   ...   \n",
       "91                     AA                    AA                    AA   \n",
       "92                     AA                    AA                    AA   \n",
       "93                     AA                    AA                    AA   \n",
       "94                     AA                    AA                    AA   \n",
       "95                     AA                    AA                    AA   \n",
       "\n",
       "idx 1KG_22_36681998.GType 1KG_22_38494134.GType  ... Variant61228.R  \\\n",
       "0                      AA                    AA  ...       0.430500   \n",
       "1                      AA                    AA  ...       0.415114   \n",
       "2                      AA                    AA  ...       0.379468   \n",
       "3                      AA                    AA  ...       0.462127   \n",
       "4                      AA                    AA  ...       0.469232   \n",
       "..                    ...                   ...  ...            ...   \n",
       "91                     AA                    AA  ...       0.359078   \n",
       "92                     AA                    AA  ...       0.365155   \n",
       "93                     AA                    AA  ...       0.329993   \n",
       "94                     AA                    AA  ...       0.354541   \n",
       "95                     AA                    AA  ...       0.182542   \n",
       "\n",
       "idx Variant61231.R Variant61234.R Variant61237.R Variant61242.R  \\\n",
       "0         0.361874       0.540405       0.626420       0.957749   \n",
       "1         0.329952       0.549609       0.571324       0.932040   \n",
       "2         0.420835       0.541583       0.608452       0.976639   \n",
       "3         0.387539       0.521502       0.639255       0.965216   \n",
       "4         0.366763       0.586054       0.579106       1.041958   \n",
       "..             ...            ...            ...            ...   \n",
       "91        0.360436       0.449827       0.581284       1.042775   \n",
       "92        0.359822       0.513683       0.557322       0.872211   \n",
       "93        0.388541       0.518266       0.577355       0.891683   \n",
       "94        0.322347       0.421428       0.515936       0.894079   \n",
       "95        0.116625       0.200661       0.187479       0.391974   \n",
       "\n",
       "idx Variant61244.R Variant61245.R Variant61246.R Variant61252.R Variant61253.R  \n",
       "0         0.733668       0.795464       0.701761       0.470309       0.569939  \n",
       "1         0.671134       0.730768       0.735666       0.476564       0.603078  \n",
       "2         0.641460       0.726527       0.748987       0.439781       0.518233  \n",
       "3         0.699769       0.735392       0.791597       0.410290       0.626747  \n",
       "4         0.677856       0.758849       0.712157       0.468440       0.582567  \n",
       "..             ...            ...            ...            ...            ...  \n",
       "91        0.702279       0.757134       0.718126       0.447970       0.575152  \n",
       "92        0.649222       0.692903       0.726661       0.427236       0.530507  \n",
       "93        0.711396       0.780114       0.710056       0.407510       0.513913  \n",
       "94        0.712438       0.747326       0.663459       0.403457       0.479983  \n",
       "95        0.271091       0.502401       0.301212       0.207442       0.140064  \n",
       "\n",
       "[96 rows x 77986 columns]"
      ]
     },
     "execution_count": 35,
     "metadata": {},
     "output_type": "execute_result"
    }
   ],
   "source": [
    "clusterbuster_out"
   ]
  },
  {
   "cell_type": "code",
   "execution_count": null,
   "metadata": {},
   "outputs": [],
   "source": []
  }
 ],
 "metadata": {
  "interpreter": {
   "hash": "916dbcbb3f70747c44a77c7bcd40155683ae19c65e1c03b4aa3499c5328201f1"
  },
  "kernelspec": {
   "display_name": "Python 3.8.5 64-bit",
   "language": "python",
   "name": "python3"
  },
  "language_info": {
   "codemirror_mode": {
    "name": "ipython",
    "version": 3
   },
   "file_extension": ".py",
   "mimetype": "text/x-python",
   "name": "python",
   "nbconvert_exporter": "python",
   "pygments_lexer": "ipython3",
   "version": "3.8.5"
  },
  "orig_nbformat": 4
 },
 "nbformat": 4,
 "nbformat_minor": 2
}
